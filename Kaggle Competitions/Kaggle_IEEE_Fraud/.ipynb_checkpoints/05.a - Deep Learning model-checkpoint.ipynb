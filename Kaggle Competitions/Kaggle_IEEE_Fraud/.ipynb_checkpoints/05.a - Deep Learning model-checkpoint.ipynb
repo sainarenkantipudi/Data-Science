{
 "cells": [
  {
   "cell_type": "code",
   "execution_count": 1,
   "metadata": {},
   "outputs": [],
   "source": [
    "import numpy as np\n",
    "import pandas as pd\n",
    "from utils.fraud_modeller import *\n",
    "from sklearn.metrics import roc_auc_score\n",
    "\n",
    "pd.set_option('display.max_rows', 500)\n",
    "pd.set_option('display.max_columns', 500)\n",
    "pd.set_option('display.width', 1000)"
   ]
  },
  {
   "cell_type": "markdown",
   "metadata": {},
   "source": [
    "# Load data"
   ]
  },
  {
   "cell_type": "code",
   "execution_count": 2,
   "metadata": {},
   "outputs": [],
   "source": [
    "from pickleObjects import *"
   ]
  },
  {
   "cell_type": "code",
   "execution_count": 3,
   "metadata": {},
   "outputs": [
    {
     "name": "stdout",
     "output_type": "stream",
     "text": [
      "Object loaded!\n",
      "Object loaded!\n",
      "Object loaded!\n",
      "Object loaded!\n"
     ]
    }
   ],
   "source": [
    "path = './Data/'\n",
    "\n",
    "X_train, X_test, y_train, y_test = loadObjects(path+'X_train'),loadObjects(path+'X_test'),loadObjects(path+'y_train'),loadObjects(path+'y_test')"
   ]
  },
  {
   "cell_type": "markdown",
   "metadata": {},
   "source": [
    "# Scale Data"
   ]
  },
  {
   "cell_type": "code",
   "execution_count": 4,
   "metadata": {},
   "outputs": [],
   "source": [
    "from sklearn.preprocessing import StandardScaler\n",
    "scaler = StandardScaler().fit(X_train)"
   ]
  },
  {
   "cell_type": "code",
   "execution_count": 5,
   "metadata": {},
   "outputs": [],
   "source": [
    "X_train_scaled=scaler.transform(X_train)\n",
    "X_test_scaled=scaler.transform(X_test)"
   ]
  },
  {
   "cell_type": "markdown",
   "metadata": {},
   "source": [
    "# Machine learning models"
   ]
  },
  {
   "cell_type": "markdown",
   "metadata": {},
   "source": [
    "## 1. Deep Neural Net"
   ]
  },
  {
   "cell_type": "code",
   "execution_count": 6,
   "metadata": {},
   "outputs": [],
   "source": [
    "from sklearn.metrics import roc_auc_score"
   ]
  },
  {
   "cell_type": "code",
   "execution_count": 7,
   "metadata": {},
   "outputs": [
    {
     "name": "stderr",
     "output_type": "stream",
     "text": [
      "Using TensorFlow backend.\n"
     ]
    }
   ],
   "source": [
    "import keras\n",
    "from keras.models import Sequential\n",
    "from keras.layers import Dense, Dropout, Activation, Flatten\n",
    "from keras.utils import np_utils\n",
    "from keras.utils import to_categorical\n",
    "from keras.callbacks import EarlyStopping, ModelCheckpoint"
   ]
  },
  {
   "cell_type": "code",
   "execution_count": 8,
   "metadata": {},
   "outputs": [
    {
     "data": {
      "text/plain": [
       "306"
      ]
     },
     "execution_count": 8,
     "metadata": {},
     "output_type": "execute_result"
    }
   ],
   "source": [
    "X_train_scaled.shape[1]"
   ]
  },
  {
   "cell_type": "code",
   "execution_count": 63,
   "metadata": {},
   "outputs": [],
   "source": [
    "model = Sequential()\n",
    "\n",
    "model.add(Dense(units=150, activation='relu', input_dim=X_train_scaled.shape[1]))\n",
    "model.add(Dropout(0.1))\n",
    "model.add(Dense(units=74, activation='relu'))\n",
    "model.add(Dropout(0.1))\n",
    "model.add(Dense(units=36, activation='relu'))\n",
    "model.add(Dropout(0.1))\n",
    "model.add(Dense(1, activation='sigmoid'))\n",
    "#model.add(Dense(units=2, activation='softmax'))"
   ]
  },
  {
   "cell_type": "code",
   "execution_count": 64,
   "metadata": {},
   "outputs": [],
   "source": [
    "model.compile(loss=keras.losses.binary_crossentropy,\n",
    "              optimizer=keras.optimizers.Adam(learning_rate=0.001))"
   ]
  },
  {
   "cell_type": "code",
   "execution_count": 65,
   "metadata": {},
   "outputs": [
    {
     "name": "stdout",
     "output_type": "stream",
     "text": [
      "Train on 472432 samples, validate on 118108 samples\n",
      "Epoch 1/100\n",
      "472432/472432 [==============================] - 15s 31us/step - loss: 0.1284 - val_loss: 0.1167\n",
      "Epoch 2/100\n",
      "472432/472432 [==============================] - 15s 31us/step - loss: 0.1175 - val_loss: 0.1141\n",
      "Epoch 3/100\n",
      "472432/472432 [==============================] - 15s 32us/step - loss: 0.1131 - val_loss: 0.1098\n",
      "Epoch 4/100\n",
      "472432/472432 [==============================] - 15s 31us/step - loss: 0.1106 - val_loss: 0.1075\n",
      "Epoch 5/100\n",
      "472432/472432 [==============================] - 14s 30us/step - loss: 0.1082 - val_loss: 0.1063\n",
      "Epoch 6/100\n",
      "472432/472432 [==============================] - 15s 31us/step - loss: 0.1065 - val_loss: 0.1049\n",
      "Epoch 7/100\n",
      "472432/472432 [==============================] - 14s 30us/step - loss: 0.1050 - val_loss: 0.1027\n",
      "Epoch 8/100\n",
      "472432/472432 [==============================] - 15s 32us/step - loss: 0.1040 - val_loss: 0.1021\n",
      "Epoch 9/100\n",
      "472432/472432 [==============================] - 14s 30us/step - loss: 0.1032 - val_loss: 0.1016\n",
      "Epoch 10/100\n",
      "472432/472432 [==============================] - 15s 33us/step - loss: 0.1020 - val_loss: 0.1007\n",
      "Epoch 11/100\n",
      "472432/472432 [==============================] - 14s 30us/step - loss: 0.1014 - val_loss: 0.1017\n",
      "Epoch 12/100\n",
      "472432/472432 [==============================] - 19s 41us/step - loss: 0.1008 - val_loss: 0.1012\n"
     ]
    }
   ],
   "source": [
    "# Set callback functions to early stop training and save the best model so far\n",
    "callbacks = [EarlyStopping(monitor='val_loss', patience=2),\n",
    "             ModelCheckpoint(filepath='best_model.h5', \n",
    "                             monitor='val_loss', save_best_only=True)]\n",
    "\n",
    "# Train neural network\n",
    "history = model.fit(X_train_scaled, # Features\n",
    "                      y_train, # Target vector\n",
    "                      epochs=100, # Number of epochs\n",
    "                      callbacks=callbacks, # Early stopping\n",
    "                      verbose=1, # Print description after each epoch\n",
    "                      batch_size=128, # Number of observations per batch\n",
    "                      validation_data=(X_test_scaled, y_test)) # Data for evaluation"
   ]
  },
  {
   "cell_type": "code",
   "execution_count": 66,
   "metadata": {},
   "outputs": [],
   "source": [
    "classes = history.model.predict(X_test_scaled, batch_size=128)"
   ]
  },
  {
   "cell_type": "code",
   "execution_count": 67,
   "metadata": {},
   "outputs": [
    {
     "data": {
      "text/plain": [
       "0.8771390379340748"
      ]
     },
     "execution_count": 67,
     "metadata": {},
     "output_type": "execute_result"
    }
   ],
   "source": [
    "roc_auc_score(y_test,classes)"
   ]
  },
  {
   "cell_type": "code",
   "execution_count": null,
   "metadata": {},
   "outputs": [],
   "source": []
  }
 ],
 "metadata": {
  "kernelspec": {
   "display_name": "Python 3",
   "language": "python",
   "name": "python3"
  },
  "language_info": {
   "codemirror_mode": {
    "name": "ipython",
    "version": 3
   },
   "file_extension": ".py",
   "mimetype": "text/x-python",
   "name": "python",
   "nbconvert_exporter": "python",
   "pygments_lexer": "ipython3",
   "version": "3.7.4"
  }
 },
 "nbformat": 4,
 "nbformat_minor": 2
}
