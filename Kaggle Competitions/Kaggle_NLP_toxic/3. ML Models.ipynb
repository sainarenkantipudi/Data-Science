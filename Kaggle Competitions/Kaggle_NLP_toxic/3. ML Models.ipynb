{
 "cells": [
  {
   "cell_type": "code",
   "execution_count": 1,
   "metadata": {},
   "outputs": [],
   "source": [
    "# miscellaneous\n",
    "from time import time\n",
    "from collections import defaultdict\n",
    "import warnings\n",
    "warnings.simplefilter('ignore')\n",
    "\n",
    "# dataframes and arrays\n",
    "import pandas as pd\n",
    "import numpy as np\n",
    "\n",
    "# sklearn models\n",
    "from sklearn.linear_model import LogisticRegression\n",
    "from sklearn.svm import LinearSVC, SVC\n",
    "from sklearn.naive_bayes import MultinomialNB\n",
    "from sklearn.dummy import DummyClassifier\n",
    "\n",
    "# sklearn metrics\n",
    "from sklearn.metrics import accuracy_score, log_loss, hamming_loss, label_ranking_loss\n",
    "from sklearn.metrics import multilabel_confusion_matrix, roc_auc_score, f1_score\n",
    "from sklearn.metrics import make_scorer\n",
    "\n",
    "# sklearn tools\n",
    "from sklearn.base import BaseEstimator, ClassifierMixin\n",
    "from sklearn.utils.validation import check_X_y, check_is_fitted, check_array\n",
    "from sklearn.model_selection import train_test_split, GridSearchCV, cross_validate\n",
    "from sklearn.pipeline import Pipeline\n",
    "from sklearn.multiclass import OneVsRestClassifier # also implements multilabel clf just like MultiOutputClassifier (BR)\n",
    "from sklearn.multioutput import MultiOutputClassifier \n",
    "from sklearn.decomposition import TruncatedSVD\n",
    "from sklearn.preprocessing import StandardScaler, Binarizer\n",
    "from sklearn.utils.extmath import safe_sparse_dot\n",
    "\n",
    "from scipy import sparse\n",
    "\n",
    "# utilities\n",
    "from utilities.constants import CLASSES\n",
    "from utilities.functions import *\n",
    "\n",
    "# directories\n",
    "DATA_DIR = './data/'\n"
   ]
  },
  {
   "cell_type": "code",
   "execution_count": 2,
   "metadata": {},
   "outputs": [],
   "source": [
    "X_train_tfv = load_objects(DATA_DIR + 'X_train_tfv')\n",
    "y = load_objects(DATA_DIR + 'y')"
   ]
  },
  {
   "cell_type": "code",
   "execution_count": 3,
   "metadata": {},
   "outputs": [
    {
     "data": {
      "text/plain": [
       "((159571, 30000), (159571, 6))"
      ]
     },
     "execution_count": 3,
     "metadata": {},
     "output_type": "execute_result"
    }
   ],
   "source": [
    "X_train_tfv.shape, y.shape"
   ]
  },
  {
   "cell_type": "code",
   "execution_count": 4,
   "metadata": {},
   "outputs": [],
   "source": [
    "X_train, X_val, y_train, y_val = train_test_split(X_train_tfv, y, random_state=42, test_size=0.20, shuffle=True)"
   ]
  },
  {
   "cell_type": "code",
   "execution_count": 5,
   "metadata": {},
   "outputs": [
    {
     "name": "stdout",
     "output_type": "stream",
     "text": [
      "X_train (127656, 30000)\n",
      "X_val (31915, 30000)\n",
      "y_train (127656, 6)\n",
      "y_val (31915, 6)\n"
     ]
    }
   ],
   "source": [
    "for name, data in zip(['X_train', 'X_val', 'y_train', 'y_val'],[X_train, X_val, y_train, y_val]):\n",
    "    print(name, data.shape)"
   ]
  },
  {
   "cell_type": "markdown",
   "metadata": {},
   "source": [
    "### Scorers"
   ]
  },
  {
   "cell_type": "code",
   "execution_count": 6,
   "metadata": {},
   "outputs": [],
   "source": [
    "mean_log_loss_scorer = make_scorer(mean_log_loss, greater_is_better=False, needs_proba=True)\n",
    "mean_roc_auc_scorer = make_scorer(mean_roc_auc, needs_proba=True)"
   ]
  },
  {
   "cell_type": "markdown",
   "metadata": {},
   "source": [
    "# 0. Dummy Classifier"
   ]
  },
  {
   "cell_type": "code",
   "execution_count": 7,
   "metadata": {},
   "outputs": [
    {
     "name": "stdout",
     "output_type": "stream",
     "text": [
      "Loss 1.275927224490043\n",
      "AUC 0.5\n"
     ]
    }
   ],
   "source": [
    "dummy_clf = MultiOutputClassifier(DummyClassifier(strategy='most_frequent'))\n",
    "dummy_clf.fit(X_train, y_train)\n",
    "y_pred_probas = dummy_clf.predict_proba(X_val)\n",
    "y_preds = dummy_clf.predict(X_val)\n",
    "print('Loss {}'.format(mean_log_loss(y_val, y_pred_probas)))\n",
    "print('AUC {}'.format(roc_auc_score(y_val, y_preds)))\n"
   ]
  },
  {
   "cell_type": "markdown",
   "metadata": {},
   "source": [
    "# 1. Multinomial Naive Bayes"
   ]
  },
  {
   "cell_type": "code",
   "execution_count": 8,
   "metadata": {},
   "outputs": [],
   "source": [
    "nb_params = [\n",
    "    {\n",
    "        'estimator__alpha': [0.001, 0.01, 0.1, 1.0]\n",
    "    }]"
   ]
  },
  {
   "cell_type": "code",
   "execution_count": 9,
   "metadata": {
    "scrolled": false
   },
   "outputs": [],
   "source": [
    "# NOTE: must set refit=False when fitting with multiple scorers\n",
    "\n",
    "nb_br = GridSearchCV(MultiOutputClassifier(MultinomialNB()), nb_params, \n",
    "                     scoring={\"loss\": mean_log_loss_scorer,\n",
    "                              \"roc_auc\": mean_roc_auc_scorer},\n",
    "                     n_jobs=-1, cv=5, refit=False)\n",
    "nb_br.fit(X_train_tfv, y);\n"
   ]
  },
  {
   "cell_type": "code",
   "execution_count": 10,
   "metadata": {
    "scrolled": true
   },
   "outputs": [
    {
     "data": {
      "text/html": [
       "<div>\n",
       "<style scoped>\n",
       "    .dataframe tbody tr th:only-of-type {\n",
       "        vertical-align: middle;\n",
       "    }\n",
       "\n",
       "    .dataframe tbody tr th {\n",
       "        vertical-align: top;\n",
       "    }\n",
       "\n",
       "    .dataframe thead th {\n",
       "        text-align: right;\n",
       "    }\n",
       "</style>\n",
       "<table border=\"1\" class=\"dataframe\">\n",
       "  <thead>\n",
       "    <tr style=\"text-align: right;\">\n",
       "      <th></th>\n",
       "      <th>param_estimator__alpha</th>\n",
       "      <th>mean_test_loss</th>\n",
       "      <th>mean_test_roc_auc</th>\n",
       "    </tr>\n",
       "  </thead>\n",
       "  <tbody>\n",
       "    <tr>\n",
       "      <td>2</td>\n",
       "      <td>0.1</td>\n",
       "      <td>-0.064448</td>\n",
       "      <td>0.959666</td>\n",
       "    </tr>\n",
       "    <tr>\n",
       "      <td>1</td>\n",
       "      <td>0.01</td>\n",
       "      <td>-0.072950</td>\n",
       "      <td>0.950096</td>\n",
       "    </tr>\n",
       "    <tr>\n",
       "      <td>0</td>\n",
       "      <td>0.001</td>\n",
       "      <td>-0.085522</td>\n",
       "      <td>0.932809</td>\n",
       "    </tr>\n",
       "    <tr>\n",
       "      <td>3</td>\n",
       "      <td>1</td>\n",
       "      <td>-0.071302</td>\n",
       "      <td>0.930884</td>\n",
       "    </tr>\n",
       "  </tbody>\n",
       "</table>\n",
       "</div>"
      ],
      "text/plain": [
       "  param_estimator__alpha  mean_test_loss  mean_test_roc_auc\n",
       "2                    0.1       -0.064448           0.959666\n",
       "1                   0.01       -0.072950           0.950096\n",
       "0                  0.001       -0.085522           0.932809\n",
       "3                      1       -0.071302           0.930884"
      ]
     },
     "execution_count": 10,
     "metadata": {},
     "output_type": "execute_result"
    }
   ],
   "source": [
    "pd.DataFrame(nb_br.cv_results_)\\\n",
    ".loc[:,['param_estimator__alpha', 'mean_test_loss', 'mean_test_roc_auc']]\\\n",
    ".sort_values(by=['mean_test_roc_auc'], ascending=False)"
   ]
  },
  {
   "cell_type": "markdown",
   "metadata": {},
   "source": [
    "### Best scores of NB:\n",
    "- Loss: 0.064448\n",
    "- ROC-AUC: 0.959666\n",
    "\n",
    "### Best NB parameter:\n",
    "- alpha = 0.1"
   ]
  },
  {
   "cell_type": "markdown",
   "metadata": {},
   "source": [
    "# 2. Logistic Regression "
   ]
  },
  {
   "cell_type": "code",
   "execution_count": 11,
   "metadata": {},
   "outputs": [],
   "source": [
    "lr_pipe = Pipeline([('svd', TruncatedSVD(n_components=50)),\n",
    "                    ('scaler', StandardScaler()),\n",
    "                    ('lr', MultiOutputClassifier(LogisticRegression()))\n",
    "                   ])"
   ]
  },
  {
   "cell_type": "code",
   "execution_count": 12,
   "metadata": {},
   "outputs": [],
   "source": [
    "lr_params = [\n",
    "    {\n",
    "        'svd__n_components': [50, 100, 150],\n",
    "        'lr__estimator__C': [10**n for n in range(-3,1) ],\n",
    "        'lr__estimator__penalty': ['l1', 'l2']\n",
    "    }\n",
    "]"
   ]
  },
  {
   "cell_type": "code",
   "execution_count": 13,
   "metadata": {},
   "outputs": [],
   "source": [
    "start_time = time()\n",
    "lr_br = GridSearchCV(lr_pipe, lr_params, \n",
    "                     scoring={\"loss\": mean_log_loss_scorer,\n",
    "                              \"roc_auc\": mean_roc_auc_scorer}, \n",
    "                     n_jobs=-1, cv=3, refit=False)\n",
    "lr_br.fit(X_train_tfv, y)\n",
    "end_time = time()"
   ]
  },
  {
   "cell_type": "code",
   "execution_count": 14,
   "metadata": {},
   "outputs": [
    {
     "name": "stdout",
     "output_type": "stream",
     "text": [
      "LogReg train time: 11.802258\n"
     ]
    }
   ],
   "source": [
    "print(\"LogReg train time: {:2f}\".format((end_time-start_time)/60))"
   ]
  },
  {
   "cell_type": "code",
   "execution_count": 15,
   "metadata": {},
   "outputs": [],
   "source": [
    "select_cols = ['param_lr__estimator__C','param_lr__estimator__penalty', \n",
    "               'param_svd__n_components', 'mean_test_loss', 'mean_test_roc_auc']"
   ]
  },
  {
   "cell_type": "code",
   "execution_count": 16,
   "metadata": {},
   "outputs": [
    {
     "data": {
      "text/html": [
       "<div>\n",
       "<style scoped>\n",
       "    .dataframe tbody tr th:only-of-type {\n",
       "        vertical-align: middle;\n",
       "    }\n",
       "\n",
       "    .dataframe tbody tr th {\n",
       "        vertical-align: top;\n",
       "    }\n",
       "\n",
       "    .dataframe thead th {\n",
       "        text-align: right;\n",
       "    }\n",
       "</style>\n",
       "<table border=\"1\" class=\"dataframe\">\n",
       "  <thead>\n",
       "    <tr style=\"text-align: right;\">\n",
       "      <th></th>\n",
       "      <th>C</th>\n",
       "      <th>penalty</th>\n",
       "      <th>svd__n_components</th>\n",
       "      <th>mean_test_loss</th>\n",
       "      <th>mean_test_roc_auc</th>\n",
       "    </tr>\n",
       "  </thead>\n",
       "  <tbody>\n",
       "    <tr>\n",
       "      <td>5</td>\n",
       "      <td>0.001</td>\n",
       "      <td>l2</td>\n",
       "      <td>150</td>\n",
       "      <td>-0.093568</td>\n",
       "      <td>0.948473</td>\n",
       "    </tr>\n",
       "    <tr>\n",
       "      <td>11</td>\n",
       "      <td>0.01</td>\n",
       "      <td>l2</td>\n",
       "      <td>150</td>\n",
       "      <td>-0.072674</td>\n",
       "      <td>0.947513</td>\n",
       "    </tr>\n",
       "    <tr>\n",
       "      <td>17</td>\n",
       "      <td>0.1</td>\n",
       "      <td>l2</td>\n",
       "      <td>150</td>\n",
       "      <td>-0.070597</td>\n",
       "      <td>0.947198</td>\n",
       "    </tr>\n",
       "    <tr>\n",
       "      <td>14</td>\n",
       "      <td>0.1</td>\n",
       "      <td>l1</td>\n",
       "      <td>150</td>\n",
       "      <td>-0.070458</td>\n",
       "      <td>0.946103</td>\n",
       "    </tr>\n",
       "    <tr>\n",
       "      <td>23</td>\n",
       "      <td>1</td>\n",
       "      <td>l2</td>\n",
       "      <td>150</td>\n",
       "      <td>-0.070449</td>\n",
       "      <td>0.945154</td>\n",
       "    </tr>\n",
       "    <tr>\n",
       "      <td>20</td>\n",
       "      <td>1</td>\n",
       "      <td>l1</td>\n",
       "      <td>150</td>\n",
       "      <td>-0.070370</td>\n",
       "      <td>0.944824</td>\n",
       "    </tr>\n",
       "    <tr>\n",
       "      <td>8</td>\n",
       "      <td>0.01</td>\n",
       "      <td>l1</td>\n",
       "      <td>150</td>\n",
       "      <td>-0.072919</td>\n",
       "      <td>0.940309</td>\n",
       "    </tr>\n",
       "    <tr>\n",
       "      <td>16</td>\n",
       "      <td>0.1</td>\n",
       "      <td>l2</td>\n",
       "      <td>100</td>\n",
       "      <td>-0.073475</td>\n",
       "      <td>0.939986</td>\n",
       "    </tr>\n",
       "    <tr>\n",
       "      <td>13</td>\n",
       "      <td>0.1</td>\n",
       "      <td>l1</td>\n",
       "      <td>100</td>\n",
       "      <td>-0.073609</td>\n",
       "      <td>0.939736</td>\n",
       "    </tr>\n",
       "    <tr>\n",
       "      <td>10</td>\n",
       "      <td>0.01</td>\n",
       "      <td>l2</td>\n",
       "      <td>100</td>\n",
       "      <td>-0.076267</td>\n",
       "      <td>0.939549</td>\n",
       "    </tr>\n",
       "    <tr>\n",
       "      <td>4</td>\n",
       "      <td>0.001</td>\n",
       "      <td>l2</td>\n",
       "      <td>100</td>\n",
       "      <td>-0.097188</td>\n",
       "      <td>0.939020</td>\n",
       "    </tr>\n",
       "    <tr>\n",
       "      <td>22</td>\n",
       "      <td>1</td>\n",
       "      <td>l2</td>\n",
       "      <td>100</td>\n",
       "      <td>-0.073916</td>\n",
       "      <td>0.937951</td>\n",
       "    </tr>\n",
       "    <tr>\n",
       "      <td>19</td>\n",
       "      <td>1</td>\n",
       "      <td>l1</td>\n",
       "      <td>100</td>\n",
       "      <td>-0.073651</td>\n",
       "      <td>0.937540</td>\n",
       "    </tr>\n",
       "    <tr>\n",
       "      <td>7</td>\n",
       "      <td>0.01</td>\n",
       "      <td>l1</td>\n",
       "      <td>100</td>\n",
       "      <td>-0.076230</td>\n",
       "      <td>0.932747</td>\n",
       "    </tr>\n",
       "    <tr>\n",
       "      <td>9</td>\n",
       "      <td>0.01</td>\n",
       "      <td>l2</td>\n",
       "      <td>50</td>\n",
       "      <td>-0.081206</td>\n",
       "      <td>0.931226</td>\n",
       "    </tr>\n",
       "    <tr>\n",
       "      <td>3</td>\n",
       "      <td>0.001</td>\n",
       "      <td>l2</td>\n",
       "      <td>50</td>\n",
       "      <td>-0.103268</td>\n",
       "      <td>0.930997</td>\n",
       "    </tr>\n",
       "    <tr>\n",
       "      <td>15</td>\n",
       "      <td>0.1</td>\n",
       "      <td>l2</td>\n",
       "      <td>50</td>\n",
       "      <td>-0.078186</td>\n",
       "      <td>0.930019</td>\n",
       "    </tr>\n",
       "    <tr>\n",
       "      <td>21</td>\n",
       "      <td>1</td>\n",
       "      <td>l2</td>\n",
       "      <td>50</td>\n",
       "      <td>-0.078129</td>\n",
       "      <td>0.927786</td>\n",
       "    </tr>\n",
       "    <tr>\n",
       "      <td>12</td>\n",
       "      <td>0.1</td>\n",
       "      <td>l1</td>\n",
       "      <td>50</td>\n",
       "      <td>-0.078399</td>\n",
       "      <td>0.927321</td>\n",
       "    </tr>\n",
       "    <tr>\n",
       "      <td>18</td>\n",
       "      <td>1</td>\n",
       "      <td>l1</td>\n",
       "      <td>50</td>\n",
       "      <td>-0.078414</td>\n",
       "      <td>0.926652</td>\n",
       "    </tr>\n",
       "    <tr>\n",
       "      <td>6</td>\n",
       "      <td>0.01</td>\n",
       "      <td>l1</td>\n",
       "      <td>50</td>\n",
       "      <td>-0.080355</td>\n",
       "      <td>0.923669</td>\n",
       "    </tr>\n",
       "    <tr>\n",
       "      <td>2</td>\n",
       "      <td>0.001</td>\n",
       "      <td>l1</td>\n",
       "      <td>150</td>\n",
       "      <td>-0.095298</td>\n",
       "      <td>0.839083</td>\n",
       "    </tr>\n",
       "    <tr>\n",
       "      <td>1</td>\n",
       "      <td>0.001</td>\n",
       "      <td>l1</td>\n",
       "      <td>100</td>\n",
       "      <td>-0.096729</td>\n",
       "      <td>0.837260</td>\n",
       "    </tr>\n",
       "    <tr>\n",
       "      <td>0</td>\n",
       "      <td>0.001</td>\n",
       "      <td>l1</td>\n",
       "      <td>50</td>\n",
       "      <td>-0.098986</td>\n",
       "      <td>0.835476</td>\n",
       "    </tr>\n",
       "  </tbody>\n",
       "</table>\n",
       "</div>"
      ],
      "text/plain": [
       "        C penalty svd__n_components  mean_test_loss  mean_test_roc_auc\n",
       "5   0.001      l2               150       -0.093568           0.948473\n",
       "11   0.01      l2               150       -0.072674           0.947513\n",
       "17    0.1      l2               150       -0.070597           0.947198\n",
       "14    0.1      l1               150       -0.070458           0.946103\n",
       "23      1      l2               150       -0.070449           0.945154\n",
       "20      1      l1               150       -0.070370           0.944824\n",
       "8    0.01      l1               150       -0.072919           0.940309\n",
       "16    0.1      l2               100       -0.073475           0.939986\n",
       "13    0.1      l1               100       -0.073609           0.939736\n",
       "10   0.01      l2               100       -0.076267           0.939549\n",
       "4   0.001      l2               100       -0.097188           0.939020\n",
       "22      1      l2               100       -0.073916           0.937951\n",
       "19      1      l1               100       -0.073651           0.937540\n",
       "7    0.01      l1               100       -0.076230           0.932747\n",
       "9    0.01      l2                50       -0.081206           0.931226\n",
       "3   0.001      l2                50       -0.103268           0.930997\n",
       "15    0.1      l2                50       -0.078186           0.930019\n",
       "21      1      l2                50       -0.078129           0.927786\n",
       "12    0.1      l1                50       -0.078399           0.927321\n",
       "18      1      l1                50       -0.078414           0.926652\n",
       "6    0.01      l1                50       -0.080355           0.923669\n",
       "2   0.001      l1               150       -0.095298           0.839083\n",
       "1   0.001      l1               100       -0.096729           0.837260\n",
       "0   0.001      l1                50       -0.098986           0.835476"
      ]
     },
     "execution_count": 16,
     "metadata": {},
     "output_type": "execute_result"
    }
   ],
   "source": [
    "df_lr_cv = pd.DataFrame(lr_br.cv_results_)\\\n",
    "            .loc[:,select_cols]\\\n",
    "            .sort_values(by=['mean_test_roc_auc'], ascending=False)\n",
    "df_lr_cv.columns = ['C','penalty','svd__n_components', 'mean_test_loss', 'mean_test_roc_auc']\n",
    "df_lr_cv"
   ]
  },
  {
   "cell_type": "markdown",
   "metadata": {},
   "source": [
    "### Best scores of LogReg:\n",
    "1. Min Loss: 0.069918 (roc-auc: 0.946209)\n",
    "2. Max ROC-AUC: 0.948924 (loss: 0.093462)\n",
    "\n",
    "### Best LogReg parameters:\n",
    "1. Min Loss: C=1, penalty=l1, n_components=150 \n",
    "2. Max ROC-AUC: C=0.001, penalty=l2, n_components=150 "
   ]
  },
  {
   "cell_type": "markdown",
   "metadata": {},
   "source": [
    "# 3. SVM"
   ]
  },
  {
   "cell_type": "code",
   "execution_count": 17,
   "metadata": {},
   "outputs": [],
   "source": [
    "svm_pipe = Pipeline([('svd', TruncatedSVD(n_components=100)),\n",
    "                    ('scaler', StandardScaler()),\n",
    "                    ('svm', MultiOutputClassifier(SVC(kernel='linear', probability=True, random_state=12)))\n",
    "                   ])"
   ]
  },
  {
   "cell_type": "code",
   "execution_count": 18,
   "metadata": {},
   "outputs": [],
   "source": [
    "svm_params = [\n",
    "    {\n",
    "        'svd__n_components': [100, 150],\n",
    "        'svm__estimator__C': [10**n for n in range(-3,1)],\n",
    "        'svm__estimator__tol': [10**n for n in range(-5,-2)]\n",
    "    }\n",
    "]"
   ]
  },
  {
   "cell_type": "code",
   "execution_count": null,
   "metadata": {},
   "outputs": [],
   "source": [
    "svm_pipe.fit(X_train,y_train)"
   ]
  },
  {
   "cell_type": "code",
   "execution_count": null,
   "metadata": {},
   "outputs": [],
   "source": [
    "start_time = time()\n",
    "svm_br = GridSearchCV(svm_pipe, svm_params, \n",
    "                      scoring={\"loss\": mean_log_loss_scorer,\n",
    "                              \"roc_auc\": mean_roc_auc_scorer},\n",
    "                      n_jobs=-1, cv=3, refit=False)\n",
    "svm_br.fit(X_train_tfv, y)\n",
    "end_time = time()"
   ]
  },
  {
   "cell_type": "code",
   "execution_count": null,
   "metadata": {},
   "outputs": [],
   "source": [
    "print(\"SVM train time: {:2f}\".format((end_time-start_time)/60))"
   ]
  },
  {
   "cell_type": "markdown",
   "metadata": {},
   "source": [
    "# 4. NB-SVM"
   ]
  },
  {
   "cell_type": "markdown",
   "metadata": {},
   "source": [
    "Note:\n",
    "1. a Multinomial Naive Bayes classifier is a **linear (binary) classifier** ([proof](https://svivek.com/teaching/lectures/slides/naive-bayes/naive-bayes-linear.pdf)):\n",
    "\n",
    "\\begin{align}\n",
    "y^{(i)} &= \\text{sign}\\left(\\textbf{w}^T \\textbf{x}^{(i)}+b\\right)\\\\\n",
    "\\textbf{w} &= \\log \\left(\\frac{\\textbf{p}/||\\textbf{p}||_1}{\\textbf{q}/||\\textbf{q}||_1}\\right),\\quad  &&b= \\log\\left(\\frac{\\sum_i \\mathcal{I}\\left\\{ y^{(i)}=1 \\right\\} }{\\sum_i \\mathcal{I}\\left\\{ y^{(i)}=-1 \\right\\}}\\right)\\\\\n",
    "\\textbf{p} &= \\alpha + \\sum_{i} \\textbf{x}^{(i)}\\cdot \\mathcal{I}\\left\\{ y^{(i)}=1 \\right\\} ,\\quad &&\\textbf{q} = \\alpha + \\sum_{i} \\textbf{x}^{(i)} \\cdot \\mathcal{I}\\left\\{ y^{(i)}=-1 \\right\\}\n",
    "\\end{align}\n",
    "\n",
    "2. SVM with NB features ([NBSVM](https://nlp.stanford.edu/pubs/sidaw12_simple_sentiment.pdf)):\n",
    "\\begin{align}\n",
    "y^{(i)} &= \\text{sign}\\left({\\textbf{w}^\\prime}^T {\\textbf{x}^\\prime}^{(i)}+b\\right)\\\\\n",
    "{\\textbf{x}^\\prime}^{(i)} & = \\textbf{r} \\circ \\textbf{x}^{(i)} \\quad \\text{with} \\quad \\textbf{r} = \\log \\left(\\frac{\\textbf{p}/||\\textbf{p}||_1}{\\textbf{q}/||\\textbf{q}||_1}\\right)\\\\\n",
    "\\textbf{w}^\\prime & = (1-\\beta) \\,\\bar{w} + \\beta \\,\\textbf{w}\n",
    "\\end{align}\n",
    "\n",
    "Advanced Tips:\n",
    "1. **Binarization:**\n",
    " - Binarize features such that:  $\\qquad\\hat{\\textbf{x}}^{(i)} = \\mathcal{I}\\left\\{ \\textbf{x}^{(i)}>0\\right\\}$. \n",
    " - Calculate $\\textbf{p}, \\textbf{q}, \\textbf{r}$ using $\\hat{\\textbf{x}}^{(i)}$.\n",
    "\n",
    "\n",
    "2. **The Interpolation Parameter ($\\beta$):**\n",
    " - Best to set $\\beta$ in the range of $\\left[1/4, 1/2\\right]$. \n",
    " - To avoid further hyperparameter tuning, set $\\beta = 1$ s.t. $\\textbf{w}^\\prime = \\textbf{w}$.\n",
    "\n",
    "\n"
   ]
  },
  {
   "cell_type": "code",
   "execution_count": 7,
   "metadata": {},
   "outputs": [],
   "source": [
    "class NbSvmClassifier(BaseEstimator, ClassifierMixin):\n",
    "    \n",
    "    def __init__(self, C=1.0, alpha=1.0, beta=1.0, dual=False, n_jobs=1):\n",
    "        self.C = C\n",
    "        self.alpha = alpha\n",
    "        self.beta = beta\n",
    "        self.dual = dual\n",
    "        self.n_jobs = n_jobs\n",
    "\n",
    "\n",
    "    def _pr(self, X, y_i, y):\n",
    "        \n",
    "        p = X[y==y_i].sum(axis=0)\n",
    "        \n",
    "        return (self.alpha + p) / (self.alpha + (y==y_i).sum())\n",
    "    \n",
    "    def _predict_proba_lr(self, X):\n",
    "\n",
    "        prob = self.decision_function(X)\n",
    "        expit(prob, out=prob)\n",
    "        if prob.ndim == 1:\n",
    "            return np.vstack([1 - prob, prob]).T\n",
    "        else:\n",
    "            # OvR normalization, like LibLinear's predict_probability\n",
    "            prob /= prob.sum(axis=1).reshape((prob.shape[0], -1))\n",
    "            return prob\n",
    "\n",
    "    def fit(self, X, y):\n",
    "        \n",
    "        # Check that X and y have correct shape\n",
    "        X, y = check_X_y(X, y, accept_sparse=True)\n",
    "\n",
    "        # Create NB features \n",
    "        self._r = sparse.csr_matrix(np.log(self._pr(X, 1, y) / self._pr(X, 0, y)))\n",
    "        X_nb = X.multiply(self._r)\n",
    "        \n",
    "        # Train a Logistic Regression\n",
    "        self._clf = LogisticRegression(C=self.C, dual=self.dual, n_jobs=self.n_jobs).fit(X_nb, y)\n",
    "        \n",
    "        # Define the scaled/shifted weight coefficients, intercept, classes\n",
    "        self.coef_ = (1 - self.beta) * np.mean(self._clf.coef_) + self.beta * self._clf.coef_\n",
    "        self.intercept_ = self._clf.intercept_\n",
    "        self.classes_ = self._clf.classes_\n",
    "        \n",
    "        return self\n",
    "    \n",
    "    def decision_function(self, X):\n",
    "\n",
    "        X = check_array(X, accept_sparse='csr')\n",
    "        \n",
    "        n_features = self.coef_.shape[1]\n",
    "        if X.shape[1] != n_features:\n",
    "            raise ValueError(\"X has %d features per sample; expecting %d\"\n",
    "                             % (X.shape[1], n_features))\n",
    "\n",
    "        scores = safe_sparse_dot(X, self.coef_.T,\n",
    "                                 dense_output=True) + self.intercept_\n",
    "        return scores.ravel() if scores.shape[1] == 1 else scores\n",
    "    \n",
    "    \n",
    "    def predict(self, X):\n",
    "        \n",
    "        X_nb = X.multiply(self._r)\n",
    "        \n",
    "        scores = self.decision_function(X_nb)\n",
    "        \n",
    "        if len(scores.shape) == 1:\n",
    "            indices = (scores > 0).astype(np.int)\n",
    "        else:\n",
    "            indices = scores.argmax(axis=1)\n",
    "            \n",
    "        return self.classes_[indices]\n",
    "    \n",
    "    def predict_proba(self, X):\n",
    "        \n",
    "        return self._clf.predict_proba(X.multiply(self._r))\n",
    "        "
   ]
  },
  {
   "cell_type": "markdown",
   "metadata": {},
   "source": [
    "## 4.1 With Binarization"
   ]
  },
  {
   "cell_type": "code",
   "execution_count": 8,
   "metadata": {},
   "outputs": [],
   "source": [
    "X_train_tfv_bin = Binarizer().fit_transform(X_train_tfv)"
   ]
  },
  {
   "cell_type": "code",
   "execution_count": 9,
   "metadata": {},
   "outputs": [],
   "source": [
    "scores = defaultdict(list)\n",
    "\n",
    "for beta in [0.25, 0.5, 0.75, 1]:\n",
    "    for C in [0.01, 0.05, 0.1, 0.5, 1]:\n",
    "        nbsvm_clf = MultiOutputClassifier(NbSvmClassifier(C=C, beta=beta, dual=True, n_jobs=-1))\n",
    "        cv_results = cross_validate(nbsvm_clf, \n",
    "                                    X_train_tfv_bin, y, \n",
    "                                    scoring={\"loss\": mean_log_loss_scorer,\n",
    "                                             \"roc_auc\": mean_roc_auc_scorer}\n",
    "                                   )\n",
    "        mean_test_loss = np.mean(cv_results['test_loss'])\n",
    "        mean_test_roc_auc = np.mean(cv_results['test_roc_auc'])\n",
    "        scores['beta'].append(beta)\n",
    "        scores['C'].append(C)\n",
    "        scores['loss'].append(mean_test_loss)\n",
    "        scores['roc_auc'].append(mean_test_roc_auc)"
   ]
  },
  {
   "cell_type": "code",
   "execution_count": 10,
   "metadata": {},
   "outputs": [
    {
     "data": {
      "text/html": [
       "<div>\n",
       "<style scoped>\n",
       "    .dataframe tbody tr th:only-of-type {\n",
       "        vertical-align: middle;\n",
       "    }\n",
       "\n",
       "    .dataframe tbody tr th {\n",
       "        vertical-align: top;\n",
       "    }\n",
       "\n",
       "    .dataframe thead th {\n",
       "        text-align: right;\n",
       "    }\n",
       "</style>\n",
       "<table border=\"1\" class=\"dataframe\">\n",
       "  <thead>\n",
       "    <tr style=\"text-align: right;\">\n",
       "      <th></th>\n",
       "      <th>beta</th>\n",
       "      <th>C</th>\n",
       "      <th>loss</th>\n",
       "      <th>roc_auc</th>\n",
       "    </tr>\n",
       "  </thead>\n",
       "  <tbody>\n",
       "    <tr>\n",
       "      <td>16</td>\n",
       "      <td>1.00</td>\n",
       "      <td>0.05</td>\n",
       "      <td>-0.058419</td>\n",
       "      <td>0.969499</td>\n",
       "    </tr>\n",
       "    <tr>\n",
       "      <td>1</td>\n",
       "      <td>0.25</td>\n",
       "      <td>0.05</td>\n",
       "      <td>-0.058419</td>\n",
       "      <td>0.969499</td>\n",
       "    </tr>\n",
       "    <tr>\n",
       "      <td>11</td>\n",
       "      <td>0.75</td>\n",
       "      <td>0.05</td>\n",
       "      <td>-0.058419</td>\n",
       "      <td>0.969499</td>\n",
       "    </tr>\n",
       "    <tr>\n",
       "      <td>6</td>\n",
       "      <td>0.50</td>\n",
       "      <td>0.05</td>\n",
       "      <td>-0.058419</td>\n",
       "      <td>0.969499</td>\n",
       "    </tr>\n",
       "    <tr>\n",
       "      <td>2</td>\n",
       "      <td>0.25</td>\n",
       "      <td>0.10</td>\n",
       "      <td>-0.057928</td>\n",
       "      <td>0.968727</td>\n",
       "    </tr>\n",
       "    <tr>\n",
       "      <td>7</td>\n",
       "      <td>0.50</td>\n",
       "      <td>0.10</td>\n",
       "      <td>-0.057928</td>\n",
       "      <td>0.968727</td>\n",
       "    </tr>\n",
       "    <tr>\n",
       "      <td>12</td>\n",
       "      <td>0.75</td>\n",
       "      <td>0.10</td>\n",
       "      <td>-0.057928</td>\n",
       "      <td>0.968727</td>\n",
       "    </tr>\n",
       "    <tr>\n",
       "      <td>17</td>\n",
       "      <td>1.00</td>\n",
       "      <td>0.10</td>\n",
       "      <td>-0.057928</td>\n",
       "      <td>0.968727</td>\n",
       "    </tr>\n",
       "    <tr>\n",
       "      <td>5</td>\n",
       "      <td>0.50</td>\n",
       "      <td>0.01</td>\n",
       "      <td>-0.064277</td>\n",
       "      <td>0.966037</td>\n",
       "    </tr>\n",
       "    <tr>\n",
       "      <td>10</td>\n",
       "      <td>0.75</td>\n",
       "      <td>0.01</td>\n",
       "      <td>-0.064277</td>\n",
       "      <td>0.966037</td>\n",
       "    </tr>\n",
       "    <tr>\n",
       "      <td>0</td>\n",
       "      <td>0.25</td>\n",
       "      <td>0.01</td>\n",
       "      <td>-0.064277</td>\n",
       "      <td>0.966037</td>\n",
       "    </tr>\n",
       "    <tr>\n",
       "      <td>15</td>\n",
       "      <td>1.00</td>\n",
       "      <td>0.01</td>\n",
       "      <td>-0.064277</td>\n",
       "      <td>0.966037</td>\n",
       "    </tr>\n",
       "    <tr>\n",
       "      <td>18</td>\n",
       "      <td>1.00</td>\n",
       "      <td>0.50</td>\n",
       "      <td>-0.061396</td>\n",
       "      <td>0.961991</td>\n",
       "    </tr>\n",
       "    <tr>\n",
       "      <td>3</td>\n",
       "      <td>0.25</td>\n",
       "      <td>0.50</td>\n",
       "      <td>-0.061395</td>\n",
       "      <td>0.961990</td>\n",
       "    </tr>\n",
       "    <tr>\n",
       "      <td>8</td>\n",
       "      <td>0.50</td>\n",
       "      <td>0.50</td>\n",
       "      <td>-0.061396</td>\n",
       "      <td>0.961989</td>\n",
       "    </tr>\n",
       "    <tr>\n",
       "      <td>13</td>\n",
       "      <td>0.75</td>\n",
       "      <td>0.50</td>\n",
       "      <td>-0.061395</td>\n",
       "      <td>0.961988</td>\n",
       "    </tr>\n",
       "    <tr>\n",
       "      <td>19</td>\n",
       "      <td>1.00</td>\n",
       "      <td>1.00</td>\n",
       "      <td>-0.065201</td>\n",
       "      <td>0.957277</td>\n",
       "    </tr>\n",
       "    <tr>\n",
       "      <td>4</td>\n",
       "      <td>0.25</td>\n",
       "      <td>1.00</td>\n",
       "      <td>-0.065204</td>\n",
       "      <td>0.957274</td>\n",
       "    </tr>\n",
       "    <tr>\n",
       "      <td>14</td>\n",
       "      <td>0.75</td>\n",
       "      <td>1.00</td>\n",
       "      <td>-0.065202</td>\n",
       "      <td>0.957268</td>\n",
       "    </tr>\n",
       "    <tr>\n",
       "      <td>9</td>\n",
       "      <td>0.50</td>\n",
       "      <td>1.00</td>\n",
       "      <td>-0.065204</td>\n",
       "      <td>0.957267</td>\n",
       "    </tr>\n",
       "  </tbody>\n",
       "</table>\n",
       "</div>"
      ],
      "text/plain": [
       "    beta     C      loss   roc_auc\n",
       "16  1.00  0.05 -0.058419  0.969499\n",
       "1   0.25  0.05 -0.058419  0.969499\n",
       "11  0.75  0.05 -0.058419  0.969499\n",
       "6   0.50  0.05 -0.058419  0.969499\n",
       "2   0.25  0.10 -0.057928  0.968727\n",
       "7   0.50  0.10 -0.057928  0.968727\n",
       "12  0.75  0.10 -0.057928  0.968727\n",
       "17  1.00  0.10 -0.057928  0.968727\n",
       "5   0.50  0.01 -0.064277  0.966037\n",
       "10  0.75  0.01 -0.064277  0.966037\n",
       "0   0.25  0.01 -0.064277  0.966037\n",
       "15  1.00  0.01 -0.064277  0.966037\n",
       "18  1.00  0.50 -0.061396  0.961991\n",
       "3   0.25  0.50 -0.061395  0.961990\n",
       "8   0.50  0.50 -0.061396  0.961989\n",
       "13  0.75  0.50 -0.061395  0.961988\n",
       "19  1.00  1.00 -0.065201  0.957277\n",
       "4   0.25  1.00 -0.065204  0.957274\n",
       "14  0.75  1.00 -0.065202  0.957268\n",
       "9   0.50  1.00 -0.065204  0.957267"
      ]
     },
     "execution_count": 10,
     "metadata": {},
     "output_type": "execute_result"
    }
   ],
   "source": [
    "df_nbsvm_bin = pd.DataFrame(scores).sort_values(by='roc_auc', ascending=False)\n",
    "df_nbsvm_bin"
   ]
  },
  {
   "cell_type": "markdown",
   "metadata": {},
   "source": [
    "# Comment:\n",
    "The value of the interpolation parameter ```beta``` seems to be irrelevant."
   ]
  },
  {
   "cell_type": "markdown",
   "metadata": {},
   "source": [
    "### Best scores of NB-SVM with Binarization:"
   ]
  },
  {
   "cell_type": "code",
   "execution_count": 11,
   "metadata": {},
   "outputs": [
    {
     "name": "stdout",
     "output_type": "stream",
     "text": [
      "Min LogLoss: 0.057928 (roc-auc: 0.968727)\n",
      "Max ROC-AUC: 0.969499 (logloss: 0.058419)\n"
     ]
    }
   ],
   "source": [
    "find_best_scores(df_nbsvm_bin)"
   ]
  },
  {
   "cell_type": "markdown",
   "metadata": {},
   "source": [
    "### Best parameters :\n",
    "beta >= 0.25"
   ]
  },
  {
   "cell_type": "code",
   "execution_count": 12,
   "metadata": {
    "scrolled": true
   },
   "outputs": [
    {
     "name": "stdout",
     "output_type": "stream",
     "text": [
      "Best Min Loss Parametes\n",
      "C = 0.01\n",
      "Best Max ROC_AUC Parametes\n",
      "C = 0.01\n"
     ]
    }
   ],
   "source": [
    "find_best_params(df_nbsvm_bin, ['C'])"
   ]
  },
  {
   "cell_type": "markdown",
   "metadata": {},
   "source": [
    "## 4.2 Without Binarization"
   ]
  },
  {
   "cell_type": "code",
   "execution_count": 13,
   "metadata": {},
   "outputs": [],
   "source": [
    "scores = defaultdict(list)\n",
    "\n",
    "for C in [0.01, 0.05, 0.1, 0.5, 1]:\n",
    "    nbsvm_clf = MultiOutputClassifier(NbSvmClassifier(C=C, dual=True, n_jobs=-1))\n",
    "    cv_results = cross_validate(nbsvm_clf, \n",
    "                                X_train_tfv, y, \n",
    "                                scoring={\"loss\": mean_log_loss_scorer,\n",
    "                                         \"roc_auc\": mean_roc_auc_scorer}\n",
    "                               )\n",
    "    mean_test_loss = np.mean(cv_results['test_loss'])\n",
    "    mean_test_roc_auc = np.mean(cv_results['test_roc_auc'])\n",
    "    scores['C'].append(C)\n",
    "    scores['loss'].append(mean_test_loss)\n",
    "    scores['roc_auc'].append(mean_test_roc_auc)"
   ]
  },
  {
   "cell_type": "code",
   "execution_count": 14,
   "metadata": {},
   "outputs": [
    {
     "data": {
      "text/html": [
       "<div>\n",
       "<style scoped>\n",
       "    .dataframe tbody tr th:only-of-type {\n",
       "        vertical-align: middle;\n",
       "    }\n",
       "\n",
       "    .dataframe tbody tr th {\n",
       "        vertical-align: top;\n",
       "    }\n",
       "\n",
       "    .dataframe thead th {\n",
       "        text-align: right;\n",
       "    }\n",
       "</style>\n",
       "<table border=\"1\" class=\"dataframe\">\n",
       "  <thead>\n",
       "    <tr style=\"text-align: right;\">\n",
       "      <th></th>\n",
       "      <th>C</th>\n",
       "      <th>loss</th>\n",
       "      <th>roc_auc</th>\n",
       "    </tr>\n",
       "  </thead>\n",
       "  <tbody>\n",
       "    <tr>\n",
       "      <td>3</td>\n",
       "      <td>0.50</td>\n",
       "      <td>-0.053391</td>\n",
       "      <td>0.978606</td>\n",
       "    </tr>\n",
       "    <tr>\n",
       "      <td>2</td>\n",
       "      <td>0.10</td>\n",
       "      <td>-0.060159</td>\n",
       "      <td>0.978248</td>\n",
       "    </tr>\n",
       "    <tr>\n",
       "      <td>4</td>\n",
       "      <td>1.00</td>\n",
       "      <td>-0.052714</td>\n",
       "      <td>0.977277</td>\n",
       "    </tr>\n",
       "    <tr>\n",
       "      <td>1</td>\n",
       "      <td>0.05</td>\n",
       "      <td>-0.065606</td>\n",
       "      <td>0.977228</td>\n",
       "    </tr>\n",
       "    <tr>\n",
       "      <td>0</td>\n",
       "      <td>0.01</td>\n",
       "      <td>-0.084353</td>\n",
       "      <td>0.974731</td>\n",
       "    </tr>\n",
       "  </tbody>\n",
       "</table>\n",
       "</div>"
      ],
      "text/plain": [
       "      C      loss   roc_auc\n",
       "3  0.50 -0.053391  0.978606\n",
       "2  0.10 -0.060159  0.978248\n",
       "4  1.00 -0.052714  0.977277\n",
       "1  0.05 -0.065606  0.977228\n",
       "0  0.01 -0.084353  0.974731"
      ]
     },
     "execution_count": 14,
     "metadata": {},
     "output_type": "execute_result"
    }
   ],
   "source": [
    "df_nbsvm = pd.DataFrame(scores).sort_values(by='roc_auc', ascending=False)\n",
    "df_nbsvm"
   ]
  },
  {
   "cell_type": "markdown",
   "metadata": {},
   "source": [
    "### Best scores of NB-SVM without Binarization:"
   ]
  },
  {
   "cell_type": "code",
   "execution_count": 15,
   "metadata": {},
   "outputs": [
    {
     "name": "stdout",
     "output_type": "stream",
     "text": [
      "Min LogLoss: 0.052714 (roc-auc: 0.977277)\n",
      "Max ROC-AUC: 0.978606 (logloss: 0.053391)\n"
     ]
    }
   ],
   "source": [
    "find_best_scores(df_nbsvm)"
   ]
  },
  {
   "cell_type": "markdown",
   "metadata": {},
   "source": [
    "### Best parameters :\n",
    "beta >= 0.25"
   ]
  },
  {
   "cell_type": "code",
   "execution_count": 16,
   "metadata": {
    "scrolled": true
   },
   "outputs": [
    {
     "name": "stdout",
     "output_type": "stream",
     "text": [
      "Best Min Loss Parametes\n",
      "C = 0.1\n",
      "Best Max ROC_AUC Parametes\n",
      "C = 0.01\n"
     ]
    }
   ],
   "source": [
    "find_best_params(df_nbsvm, ['C'])"
   ]
  },
  {
   "cell_type": "code",
   "execution_count": null,
   "metadata": {},
   "outputs": [],
   "source": []
  }
 ],
 "metadata": {
  "kernelspec": {
   "display_name": "Python 3",
   "language": "python",
   "name": "python3"
  },
  "language_info": {
   "codemirror_mode": {
    "name": "ipython",
    "version": 3
   },
   "file_extension": ".py",
   "mimetype": "text/x-python",
   "name": "python",
   "nbconvert_exporter": "python",
   "pygments_lexer": "ipython3",
   "version": "3.7.4"
  }
 },
 "nbformat": 4,
 "nbformat_minor": 2
}
