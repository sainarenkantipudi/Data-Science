{
 "cells": [
  {
   "cell_type": "markdown",
   "metadata": {},
   "source": [
    "# Libraries"
   ]
  },
  {
   "cell_type": "code",
   "execution_count": 1,
   "metadata": {},
   "outputs": [],
   "source": [
    "import pandas as pd\n",
    "import numpy as np\n",
    "import matplotlib.pyplot as plt\n",
    "import seaborn as sns\n",
    "import json \n",
    "\n",
    "pd.set_option('display.max_rows', 500)\n",
    "pd.set_option('display.max_columns', 500)\n",
    "pd.set_option('display.width', 1000)"
   ]
  },
  {
   "cell_type": "markdown",
   "metadata": {},
   "source": [
    "# Load Data (a sample)"
   ]
  },
  {
   "cell_type": "code",
   "execution_count": 2,
   "metadata": {},
   "outputs": [],
   "source": [
    "path ='./data_science_bowl_2019/train.csv'"
   ]
  },
  {
   "cell_type": "code",
   "execution_count": 19,
   "metadata": {},
   "outputs": [],
   "source": [
    "sample = pd.read_csv(path, nrows=10000, parse_dates=['timestamp'])"
   ]
  },
  {
   "cell_type": "code",
   "execution_count": 20,
   "metadata": {},
   "outputs": [
    {
     "data": {
      "text/html": [
       "<div>\n",
       "<style scoped>\n",
       "    .dataframe tbody tr th:only-of-type {\n",
       "        vertical-align: middle;\n",
       "    }\n",
       "\n",
       "    .dataframe tbody tr th {\n",
       "        vertical-align: top;\n",
       "    }\n",
       "\n",
       "    .dataframe thead th {\n",
       "        text-align: right;\n",
       "    }\n",
       "</style>\n",
       "<table border=\"1\" class=\"dataframe\">\n",
       "  <thead>\n",
       "    <tr style=\"text-align: right;\">\n",
       "      <th></th>\n",
       "      <th>event_id</th>\n",
       "      <th>game_session</th>\n",
       "      <th>timestamp</th>\n",
       "      <th>event_data</th>\n",
       "      <th>installation_id</th>\n",
       "      <th>event_count</th>\n",
       "      <th>event_code</th>\n",
       "      <th>game_time</th>\n",
       "      <th>title</th>\n",
       "      <th>type</th>\n",
       "      <th>world</th>\n",
       "    </tr>\n",
       "  </thead>\n",
       "  <tbody>\n",
       "    <tr>\n",
       "      <th>0</th>\n",
       "      <td>27253bdc</td>\n",
       "      <td>45bb1e1b6b50c07b</td>\n",
       "      <td>2019-09-06 17:53:46.937</td>\n",
       "      <td>{\"event_code\": 2000, \"event_count\": 1}</td>\n",
       "      <td>0001e90f</td>\n",
       "      <td>1</td>\n",
       "      <td>2000</td>\n",
       "      <td>0</td>\n",
       "      <td>Welcome to Lost Lagoon!</td>\n",
       "      <td>Clip</td>\n",
       "      <td>NONE</td>\n",
       "    </tr>\n",
       "    <tr>\n",
       "      <th>1</th>\n",
       "      <td>27253bdc</td>\n",
       "      <td>17eeb7f223665f53</td>\n",
       "      <td>2019-09-06 17:54:17.519</td>\n",
       "      <td>{\"event_code\": 2000, \"event_count\": 1}</td>\n",
       "      <td>0001e90f</td>\n",
       "      <td>1</td>\n",
       "      <td>2000</td>\n",
       "      <td>0</td>\n",
       "      <td>Magma Peak - Level 1</td>\n",
       "      <td>Clip</td>\n",
       "      <td>MAGMAPEAK</td>\n",
       "    </tr>\n",
       "    <tr>\n",
       "      <th>2</th>\n",
       "      <td>77261ab5</td>\n",
       "      <td>0848ef14a8dc6892</td>\n",
       "      <td>2019-09-06 17:54:56.302</td>\n",
       "      <td>{\"version\":\"1.0\",\"event_count\":1,\"game_time\":0...</td>\n",
       "      <td>0001e90f</td>\n",
       "      <td>1</td>\n",
       "      <td>2000</td>\n",
       "      <td>0</td>\n",
       "      <td>Sandcastle Builder (Activity)</td>\n",
       "      <td>Activity</td>\n",
       "      <td>MAGMAPEAK</td>\n",
       "    </tr>\n",
       "    <tr>\n",
       "      <th>3</th>\n",
       "      <td>b2dba42b</td>\n",
       "      <td>0848ef14a8dc6892</td>\n",
       "      <td>2019-09-06 17:54:56.387</td>\n",
       "      <td>{\"description\":\"Let's build a sandcastle! Firs...</td>\n",
       "      <td>0001e90f</td>\n",
       "      <td>2</td>\n",
       "      <td>3010</td>\n",
       "      <td>53</td>\n",
       "      <td>Sandcastle Builder (Activity)</td>\n",
       "      <td>Activity</td>\n",
       "      <td>MAGMAPEAK</td>\n",
       "    </tr>\n",
       "    <tr>\n",
       "      <th>4</th>\n",
       "      <td>1bb5fbdb</td>\n",
       "      <td>0848ef14a8dc6892</td>\n",
       "      <td>2019-09-06 17:55:03.253</td>\n",
       "      <td>{\"description\":\"Let's build a sandcastle! Firs...</td>\n",
       "      <td>0001e90f</td>\n",
       "      <td>3</td>\n",
       "      <td>3110</td>\n",
       "      <td>6972</td>\n",
       "      <td>Sandcastle Builder (Activity)</td>\n",
       "      <td>Activity</td>\n",
       "      <td>MAGMAPEAK</td>\n",
       "    </tr>\n",
       "  </tbody>\n",
       "</table>\n",
       "</div>"
      ],
      "text/plain": [
       "   event_id      game_session               timestamp                                         event_data installation_id  event_count  event_code  game_time                          title      type      world\n",
       "0  27253bdc  45bb1e1b6b50c07b 2019-09-06 17:53:46.937             {\"event_code\": 2000, \"event_count\": 1}        0001e90f            1        2000          0        Welcome to Lost Lagoon!      Clip       NONE\n",
       "1  27253bdc  17eeb7f223665f53 2019-09-06 17:54:17.519             {\"event_code\": 2000, \"event_count\": 1}        0001e90f            1        2000          0           Magma Peak - Level 1      Clip  MAGMAPEAK\n",
       "2  77261ab5  0848ef14a8dc6892 2019-09-06 17:54:56.302  {\"version\":\"1.0\",\"event_count\":1,\"game_time\":0...        0001e90f            1        2000          0  Sandcastle Builder (Activity)  Activity  MAGMAPEAK\n",
       "3  b2dba42b  0848ef14a8dc6892 2019-09-06 17:54:56.387  {\"description\":\"Let's build a sandcastle! Firs...        0001e90f            2        3010         53  Sandcastle Builder (Activity)  Activity  MAGMAPEAK\n",
       "4  1bb5fbdb  0848ef14a8dc6892 2019-09-06 17:55:03.253  {\"description\":\"Let's build a sandcastle! Firs...        0001e90f            3        3110       6972  Sandcastle Builder (Activity)  Activity  MAGMAPEAK"
      ]
     },
     "execution_count": 20,
     "metadata": {},
     "output_type": "execute_result"
    }
   ],
   "source": [
    "sample.head()"
   ]
  },
  {
   "cell_type": "code",
   "execution_count": 5,
   "metadata": {
    "scrolled": false
   },
   "outputs": [
    {
     "name": "stdout",
     "output_type": "stream",
     "text": [
      "<class 'pandas.core.frame.DataFrame'>\n",
      "RangeIndex: 10000 entries, 0 to 9999\n",
      "Data columns (total 11 columns):\n",
      "event_id           10000 non-null object\n",
      "game_session       10000 non-null object\n",
      "timestamp          10000 non-null object\n",
      "event_data         10000 non-null object\n",
      "installation_id    10000 non-null object\n",
      "event_count        10000 non-null int64\n",
      "event_code         10000 non-null int64\n",
      "game_time          10000 non-null int64\n",
      "title              10000 non-null object\n",
      "type               10000 non-null object\n",
      "world              10000 non-null object\n",
      "dtypes: int64(3), object(8)\n",
      "memory usage: 859.5+ KB\n"
     ]
    }
   ],
   "source": [
    "sample.info()"
   ]
  },
  {
   "cell_type": "markdown",
   "metadata": {},
   "source": [
    "# Explore Column"
   ]
  },
  {
   "cell_type": "code",
   "execution_count": 10,
   "metadata": {},
   "outputs": [
    {
     "data": {
      "text/plain": [
       "['event_id',\n",
       " 'game_session',\n",
       " 'timestamp',\n",
       " 'event_data',\n",
       " 'installation_id',\n",
       " 'event_count',\n",
       " 'event_code',\n",
       " 'game_time',\n",
       " 'title',\n",
       " 'type',\n",
       " 'world']"
      ]
     },
     "execution_count": 10,
     "metadata": {},
     "output_type": "execute_result"
    }
   ],
   "source": [
    "all_cols = sample.columns.tolist()\n",
    "all_cols"
   ]
  },
  {
   "cell_type": "code",
   "execution_count": 7,
   "metadata": {},
   "outputs": [
    {
     "data": {
      "text/plain": [
       "{'event_code': 2000, 'event_count': 1}"
      ]
     },
     "execution_count": 7,
     "metadata": {},
     "output_type": "execute_result"
    }
   ],
   "source": [
    "json.loads(sample.event_data[0])"
   ]
  },
  {
   "cell_type": "markdown",
   "metadata": {},
   "source": [
    "## 0. event_id"
   ]
  },
  {
   "cell_type": "code",
   "execution_count": 8,
   "metadata": {},
   "outputs": [
    {
     "data": {
      "text/plain": [
       "cf82af56    438\n",
       "5e812b27    428\n",
       "1325467d    405\n",
       "b2dba42b    327\n",
       "1bb5fbdb    326\n",
       "56bcd38d    284\n",
       "0a08139c    269\n",
       "71fe8f75    268\n",
       "76babcde    223\n",
       "9ee1c98c    219\n",
       "Name: event_id, dtype: int64"
      ]
     },
     "execution_count": 8,
     "metadata": {},
     "output_type": "execute_result"
    }
   ],
   "source": [
    "sample.event_id.value_counts()[:10]"
   ]
  },
  {
   "cell_type": "markdown",
   "metadata": {},
   "source": [
    "Comments: \n",
    "- values = strings \n",
    "- Randomly generated unique identifier for the event type. Maps to event_id column in specs table."
   ]
  },
  {
   "cell_type": "markdown",
   "metadata": {},
   "source": [
    "## 1. game_session"
   ]
  },
  {
   "cell_type": "code",
   "execution_count": 15,
   "metadata": {},
   "outputs": [
    {
     "data": {
      "text/plain": [
       "f11eb823348bfa23    741\n",
       "bd0036e83bb48f02    291\n",
       "0848ef14a8dc6892    267\n",
       "b6df5bbfc96a77fe    254\n",
       "6e123d4e3fab4871    250\n",
       "ff48f8654fa01dae    243\n",
       "1c691f67ef07d047    221\n",
       "585ea3c14d101571    215\n",
       "28b2cfc5461686e6    212\n",
       "2ecc82dcd2847233    204\n",
       "Name: game_session, dtype: int64"
      ]
     },
     "execution_count": 15,
     "metadata": {},
     "output_type": "execute_result"
    }
   ],
   "source": [
    "sample.game_session.value_counts()[:10]"
   ]
  },
  {
   "cell_type": "markdown",
   "metadata": {},
   "source": [
    "Comments: \n",
    "- values = strings \n",
    "- Randomly generated unique identifier grouping events within a single game or video play session."
   ]
  },
  {
   "cell_type": "markdown",
   "metadata": {},
   "source": [
    "## 2. timestamp"
   ]
  },
  {
   "cell_type": "code",
   "execution_count": 23,
   "metadata": {},
   "outputs": [
    {
     "data": {
      "text/plain": [
       "0   2019-09-06 17:53:46.937\n",
       "1   2019-09-06 17:54:17.519\n",
       "2   2019-09-06 17:54:56.302\n",
       "3   2019-09-06 17:54:56.387\n",
       "4   2019-09-06 17:55:03.253\n",
       "5   2019-09-06 17:55:06.279\n",
       "6   2019-09-06 17:55:06.913\n",
       "7   2019-09-06 17:55:07.546\n",
       "8   2019-09-06 17:55:07.979\n",
       "9   2019-09-06 17:55:08.566\n",
       "Name: timestamp, dtype: datetime64[ns]"
      ]
     },
     "execution_count": 23,
     "metadata": {},
     "output_type": "execute_result"
    }
   ],
   "source": [
    "sample.timestamp[:10]"
   ]
  },
  {
   "cell_type": "markdown",
   "metadata": {},
   "source": [
    "Comments: \n",
    "- values = timestamps \n",
    "- Client-generated datetime"
   ]
  },
  {
   "cell_type": "markdown",
   "metadata": {},
   "source": [
    "## 3. event_data"
   ]
  },
  {
   "cell_type": "code",
   "execution_count": 31,
   "metadata": {
    "scrolled": true
   },
   "outputs": [
    {
     "data": {
      "text/plain": [
       "0               {'event_code': 2000, 'event_count': 1}\n",
       "1               {'event_code': 2000, 'event_count': 1}\n",
       "2    {'version': '1.0', 'event_count': 1, 'game_tim...\n",
       "3    {'description': 'Let's build a sandcastle! Fir...\n",
       "4    {'description': 'Let's build a sandcastle! Fir...\n",
       "5    {'coordinates': {'x': 583, 'y': 605, 'stage_wi...\n",
       "6    {'coordinates': {'x': 601, 'y': 570, 'stage_wi...\n",
       "7    {'coordinates': {'x': 250, 'y': 665, 'stage_wi...\n",
       "8    {'coordinates': {'x': 279, 'y': 629, 'stage_wi...\n",
       "9    {'coordinates': {'x': 839, 'y': 654, 'stage_wi...\n",
       "Name: event_data, dtype: object"
      ]
     },
     "execution_count": 31,
     "metadata": {},
     "output_type": "execute_result"
    }
   ],
   "source": [
    "sample.event_data.apply(json.loads)[0:10]"
   ]
  },
  {
   "cell_type": "markdown",
   "metadata": {},
   "source": [
    "Comments: \n",
    "- values = strings representint dicts\n",
    "- apply ```json.loads``` to convert values to dicts\n",
    "- Semi-structured JSON formatted string containing the events parameters. Default fields are: event_count, event_code, and game_time; otherwise fields are determined by the event type.\n"
   ]
  },
  {
   "cell_type": "markdown",
   "metadata": {},
   "source": [
    "## 4. installation_id"
   ]
  },
  {
   "cell_type": "code",
   "execution_count": 35,
   "metadata": {},
   "outputs": [
    {
     "data": {
      "text/plain": [
       "0006a69f    3801\n",
       "0006c192    2224\n",
       "0001e90f    1357\n",
       "0016b7cc     947\n",
       "00129856     830\n",
       "0009a5a9     412\n",
       "00195df7     185\n",
       "000447c4     181\n",
       "0011edc8      63\n",
       "Name: installation_id, dtype: int64"
      ]
     },
     "execution_count": 35,
     "metadata": {},
     "output_type": "execute_result"
    }
   ],
   "source": [
    "sample.installation_id.value_counts()"
   ]
  },
  {
   "cell_type": "markdown",
   "metadata": {},
   "source": [
    "Comments: \n",
    "- values = strings \n",
    "- Randomly generated unique identifier grouping game sessions within a single installed application instance.\n"
   ]
  },
  {
   "cell_type": "markdown",
   "metadata": {},
   "source": [
    "## 5. event_count"
   ]
  },
  {
   "cell_type": "code",
   "execution_count": 39,
   "metadata": {},
   "outputs": [
    {
     "data": {
      "text/plain": [
       "1     201\n",
       "3      85\n",
       "2      85\n",
       "4      83\n",
       "5      82\n",
       "6      82\n",
       "10     81\n",
       "15     81\n",
       "7      81\n",
       "9      81\n",
       "Name: event_count, dtype: int64"
      ]
     },
     "execution_count": 39,
     "metadata": {},
     "output_type": "execute_result"
    }
   ],
   "source": [
    "sample.event_count.value_counts()[:10]"
   ]
  },
  {
   "cell_type": "markdown",
   "metadata": {},
   "source": [
    "Comments: \n",
    "- values = int\n",
    "- Incremental counter of events within a game session (offset at 1). Extracted from event_data.\n",
    "- can help us track start & end of a session???"
   ]
  },
  {
   "cell_type": "markdown",
   "metadata": {},
   "source": [
    "## 6. event_code"
   ]
  },
  {
   "cell_type": "code",
   "execution_count": 45,
   "metadata": {},
   "outputs": [
    {
     "data": {
      "text/plain": [
       "0    2000\n",
       "1    2000\n",
       "2    2000\n",
       "3    3010\n",
       "4    3110\n",
       "5    4070\n",
       "6    4070\n",
       "7    4070\n",
       "8    4070\n",
       "9    4070\n",
       "Name: event_code, dtype: int64"
      ]
     },
     "execution_count": 45,
     "metadata": {},
     "output_type": "execute_result"
    }
   ],
   "source": [
    "sample.event_code[:10]"
   ]
  },
  {
   "cell_type": "markdown",
   "metadata": {},
   "source": [
    "Comments: \n",
    "- values = int\n",
    "- Identifier of the event 'class'. Unique per game, but may be duplicated across games. E.g. event code '2000' always identifies the 'Start Game' event for all games. Extracted from event_data."
   ]
  },
  {
   "cell_type": "markdown",
   "metadata": {},
   "source": [
    "## 7. game_time"
   ]
  },
  {
   "cell_type": "code",
   "execution_count": 48,
   "metadata": {},
   "outputs": [
    {
     "data": {
      "text/plain": [
       "0        0\n",
       "1        0\n",
       "2        0\n",
       "3       53\n",
       "4     6972\n",
       "5     9991\n",
       "6    10622\n",
       "7    11255\n",
       "8    11689\n",
       "9    12272\n",
       "Name: game_time, dtype: int64"
      ]
     },
     "execution_count": 48,
     "metadata": {},
     "output_type": "execute_result"
    }
   ],
   "source": [
    "sample.game_time[:10]"
   ]
  },
  {
   "cell_type": "markdown",
   "metadata": {},
   "source": [
    "Comments: \n",
    "- values = int\n",
    "- Time in milliseconds since the start of the game session. Extracted from event_data."
   ]
  },
  {
   "cell_type": "markdown",
   "metadata": {},
   "source": [
    "## 8. title"
   ]
  },
  {
   "cell_type": "code",
   "execution_count": 53,
   "metadata": {},
   "outputs": [
    {
     "data": {
      "text/plain": [
       "['Welcome to Lost Lagoon!',\n",
       " 'Magma Peak - Level 1',\n",
       " 'Sandcastle Builder (Activity)',\n",
       " 'Scrub-A-Dub',\n",
       " 'Magma Peak - Level 2',\n",
       " 'Dino Drink',\n",
       " 'Tree Top City - Level 1',\n",
       " 'Ordering Spheres',\n",
       " 'Watering Hole (Activity)',\n",
       " 'Slop Problem']"
      ]
     },
     "execution_count": 53,
     "metadata": {},
     "output_type": "execute_result"
    }
   ],
   "source": [
    "sample.title.unique().tolist()[:10]"
   ]
  },
  {
   "cell_type": "markdown",
   "metadata": {},
   "source": [
    "Comments: \n",
    "- values = strings\n",
    "- Title of the game or video."
   ]
  },
  {
   "cell_type": "markdown",
   "metadata": {},
   "source": [
    "## 9. type"
   ]
  },
  {
   "cell_type": "code",
   "execution_count": 59,
   "metadata": {},
   "outputs": [
    {
     "data": {
      "text/plain": [
       "Activity      5332\n",
       "Game          3906\n",
       "Assessment     647\n",
       "Clip           115\n",
       "Name: type, dtype: int64"
      ]
     },
     "execution_count": 59,
     "metadata": {},
     "output_type": "execute_result"
    }
   ],
   "source": [
    "sample.type.value_counts()"
   ]
  },
  {
   "cell_type": "markdown",
   "metadata": {},
   "source": [
    "Comments: \n",
    "- values = strings\n",
    "- Media type of the game or video. Possible values are: 'Game', 'Assessment', 'Activity', 'Clip'."
   ]
  },
  {
   "cell_type": "markdown",
   "metadata": {},
   "source": [
    "## 10. world"
   ]
  },
  {
   "cell_type": "code",
   "execution_count": 62,
   "metadata": {},
   "outputs": [
    {
     "data": {
      "text/plain": [
       "MAGMAPEAK       5847\n",
       "TREETOPCITY     2876\n",
       "CRYSTALCAVES    1260\n",
       "NONE              17\n",
       "Name: world, dtype: int64"
      ]
     },
     "execution_count": 62,
     "metadata": {},
     "output_type": "execute_result"
    }
   ],
   "source": [
    "sample.world.value_counts()"
   ]
  },
  {
   "cell_type": "markdown",
   "metadata": {},
   "source": [
    "Comments: \n",
    "- values = strings\n",
    "- The section of the application the game or video belongs to. Helpful to identify the educational curriculum goals of the media. Possible values are: 'NONE' (at the app's start screen), TREETOPCITY' (Length/Height), 'MAGMAPEAK' (Capacity/Displacement), 'CRYSTALCAVES' (Weight)."
   ]
  },
  {
   "cell_type": "code",
   "execution_count": null,
   "metadata": {},
   "outputs": [],
   "source": []
  }
 ],
 "metadata": {
  "kernelspec": {
   "display_name": "Python 3",
   "language": "python",
   "name": "python3"
  },
  "language_info": {
   "codemirror_mode": {
    "name": "ipython",
    "version": 3
   },
   "file_extension": ".py",
   "mimetype": "text/x-python",
   "name": "python",
   "nbconvert_exporter": "python",
   "pygments_lexer": "ipython3",
   "version": "3.6.5"
  }
 },
 "nbformat": 4,
 "nbformat_minor": 2
}
