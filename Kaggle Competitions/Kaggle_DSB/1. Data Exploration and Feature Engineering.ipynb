{
 "cells": [
  {
   "cell_type": "markdown",
   "metadata": {},
   "source": [
    "# Libraries"
   ]
  },
  {
   "cell_type": "code",
   "execution_count": 1,
   "metadata": {},
   "outputs": [],
   "source": [
    "import pandas as pd\n",
    "import numpy as np\n",
    "import matplotlib.pyplot as plt\n",
    "import seaborn as sns\n",
    "import json \n",
    "import os\n",
    "from pprint import pprint\n",
    "sns.set_style(\"whitegrid\")\n",
    "my_pal = sns.color_palette(n_colors=10)\n",
    "\n",
    "pd.set_option('display.max_rows', 500)\n",
    "pd.set_option('display.max_columns', 500)\n",
    "pd.set_option('display.width', 1000)"
   ]
  },
  {
   "cell_type": "markdown",
   "metadata": {},
   "source": [
    "# A. Load Data (a sample)"
   ]
  },
  {
   "cell_type": "code",
   "execution_count": 2,
   "metadata": {},
   "outputs": [],
   "source": [
    "def load_and_process_data(path, nrows=1000000, timestamp=False):\n",
    "    \n",
    "    # load data\n",
    "    if timestamp:\n",
    "        df = pd.read_csv(path, nrows=nrows, parse_dates=['timestamp'])\n",
    "    else:\n",
    "        df = pd.read_csv(path, nrows=nrows)\n",
    "    \n",
    "    # convert utf-16-like ids to integers\n",
    "    try:\n",
    "        df['installation_id'] = df['installation_id'].apply(lambda x: int(x,16))\n",
    "    except:\n",
    "        pass\n",
    "\n",
    "    # convert milliseconds to mins\n",
    "    try:\n",
    "        df['game_time'] = df['game_time'].apply(lambda x: round(x/(1000*60),2))\n",
    "    except:\n",
    "        pass\n",
    "    \n",
    "    # convert string dict representation to dict\n",
    "    try:\n",
    "        df['event_data'] = df['event_data'].apply(json.loads)\n",
    "    except:\n",
    "        pass\n",
    "    \n",
    "    df = df.set_index(['installation_id','game_session'])\n",
    "    \n",
    "    return df"
   ]
  },
  {
   "cell_type": "markdown",
   "metadata": {},
   "source": [
    "### A.1 Train"
   ]
  },
  {
   "cell_type": "code",
   "execution_count": 3,
   "metadata": {
    "scrolled": false
   },
   "outputs": [
    {
     "data": {
      "text/html": [
       "<div>\n",
       "<style scoped>\n",
       "    .dataframe tbody tr th:only-of-type {\n",
       "        vertical-align: middle;\n",
       "    }\n",
       "\n",
       "    .dataframe tbody tr th {\n",
       "        vertical-align: top;\n",
       "    }\n",
       "\n",
       "    .dataframe thead th {\n",
       "        text-align: right;\n",
       "    }\n",
       "</style>\n",
       "<table border=\"1\" class=\"dataframe\">\n",
       "  <thead>\n",
       "    <tr style=\"text-align: right;\">\n",
       "      <th></th>\n",
       "      <th></th>\n",
       "      <th>event_id</th>\n",
       "      <th>timestamp</th>\n",
       "      <th>event_data</th>\n",
       "      <th>event_count</th>\n",
       "      <th>event_code</th>\n",
       "      <th>game_time</th>\n",
       "      <th>title</th>\n",
       "      <th>type</th>\n",
       "      <th>world</th>\n",
       "    </tr>\n",
       "    <tr>\n",
       "      <th>installation_id</th>\n",
       "      <th>game_session</th>\n",
       "      <th></th>\n",
       "      <th></th>\n",
       "      <th></th>\n",
       "      <th></th>\n",
       "      <th></th>\n",
       "      <th></th>\n",
       "      <th></th>\n",
       "      <th></th>\n",
       "      <th></th>\n",
       "    </tr>\n",
       "  </thead>\n",
       "  <tbody>\n",
       "    <tr>\n",
       "      <td rowspan=\"5\" valign=\"top\">125199</td>\n",
       "      <td>45bb1e1b6b50c07b</td>\n",
       "      <td>27253bdc</td>\n",
       "      <td>2019-09-06 17:53:46.937000+00:00</td>\n",
       "      <td>{'event_code': 2000, 'event_count': 1}</td>\n",
       "      <td>1</td>\n",
       "      <td>2000</td>\n",
       "      <td>0.00</td>\n",
       "      <td>Welcome to Lost Lagoon!</td>\n",
       "      <td>Clip</td>\n",
       "      <td>NONE</td>\n",
       "    </tr>\n",
       "    <tr>\n",
       "      <td>17eeb7f223665f53</td>\n",
       "      <td>27253bdc</td>\n",
       "      <td>2019-09-06 17:54:17.519000+00:00</td>\n",
       "      <td>{'event_code': 2000, 'event_count': 1}</td>\n",
       "      <td>1</td>\n",
       "      <td>2000</td>\n",
       "      <td>0.00</td>\n",
       "      <td>Magma Peak - Level 1</td>\n",
       "      <td>Clip</td>\n",
       "      <td>MAGMAPEAK</td>\n",
       "    </tr>\n",
       "    <tr>\n",
       "      <td>0848ef14a8dc6892</td>\n",
       "      <td>77261ab5</td>\n",
       "      <td>2019-09-06 17:54:56.302000+00:00</td>\n",
       "      <td>{'version': '1.0', 'event_count': 1, 'game_tim...</td>\n",
       "      <td>1</td>\n",
       "      <td>2000</td>\n",
       "      <td>0.00</td>\n",
       "      <td>Sandcastle Builder (Activity)</td>\n",
       "      <td>Activity</td>\n",
       "      <td>MAGMAPEAK</td>\n",
       "    </tr>\n",
       "    <tr>\n",
       "      <td>0848ef14a8dc6892</td>\n",
       "      <td>b2dba42b</td>\n",
       "      <td>2019-09-06 17:54:56.387000+00:00</td>\n",
       "      <td>{'description': 'Let's build a sandcastle! Fir...</td>\n",
       "      <td>2</td>\n",
       "      <td>3010</td>\n",
       "      <td>0.00</td>\n",
       "      <td>Sandcastle Builder (Activity)</td>\n",
       "      <td>Activity</td>\n",
       "      <td>MAGMAPEAK</td>\n",
       "    </tr>\n",
       "    <tr>\n",
       "      <td>0848ef14a8dc6892</td>\n",
       "      <td>1bb5fbdb</td>\n",
       "      <td>2019-09-06 17:55:03.253000+00:00</td>\n",
       "      <td>{'description': 'Let's build a sandcastle! Fir...</td>\n",
       "      <td>3</td>\n",
       "      <td>3110</td>\n",
       "      <td>0.12</td>\n",
       "      <td>Sandcastle Builder (Activity)</td>\n",
       "      <td>Activity</td>\n",
       "      <td>MAGMAPEAK</td>\n",
       "    </tr>\n",
       "  </tbody>\n",
       "</table>\n",
       "</div>"
      ],
      "text/plain": [
       "                                  event_id                        timestamp                                         event_data  event_count  event_code  game_time                          title      type      world\n",
       "installation_id game_session                                                                                                                                                                                          \n",
       "125199          45bb1e1b6b50c07b  27253bdc 2019-09-06 17:53:46.937000+00:00             {'event_code': 2000, 'event_count': 1}            1        2000       0.00        Welcome to Lost Lagoon!      Clip       NONE\n",
       "                17eeb7f223665f53  27253bdc 2019-09-06 17:54:17.519000+00:00             {'event_code': 2000, 'event_count': 1}            1        2000       0.00           Magma Peak - Level 1      Clip  MAGMAPEAK\n",
       "                0848ef14a8dc6892  77261ab5 2019-09-06 17:54:56.302000+00:00  {'version': '1.0', 'event_count': 1, 'game_tim...            1        2000       0.00  Sandcastle Builder (Activity)  Activity  MAGMAPEAK\n",
       "                0848ef14a8dc6892  b2dba42b 2019-09-06 17:54:56.387000+00:00  {'description': 'Let's build a sandcastle! Fir...            2        3010       0.00  Sandcastle Builder (Activity)  Activity  MAGMAPEAK\n",
       "                0848ef14a8dc6892  1bb5fbdb 2019-09-06 17:55:03.253000+00:00  {'description': 'Let's build a sandcastle! Fir...            3        3110       0.12  Sandcastle Builder (Activity)  Activity  MAGMAPEAK"
      ]
     },
     "execution_count": 3,
     "metadata": {},
     "output_type": "execute_result"
    }
   ],
   "source": [
    "train = load_and_process_data('./data/train.csv', nrows=1000000, timestamp=True)\n",
    "train.head()"
   ]
  },
  {
   "cell_type": "markdown",
   "metadata": {},
   "source": [
    "### Remove Noisy Data"
   ]
  },
  {
   "cell_type": "markdown",
   "metadata": {},
   "source": [
    "Noise: game_time =0  and incorrect "
   ]
  },
  {
   "cell_type": "markdown",
   "metadata": {},
   "source": [
    "### A.2 Labels"
   ]
  },
  {
   "cell_type": "code",
   "execution_count": 4,
   "metadata": {},
   "outputs": [
    {
     "data": {
      "text/html": [
       "<div>\n",
       "<style scoped>\n",
       "    .dataframe tbody tr th:only-of-type {\n",
       "        vertical-align: middle;\n",
       "    }\n",
       "\n",
       "    .dataframe tbody tr th {\n",
       "        vertical-align: top;\n",
       "    }\n",
       "\n",
       "    .dataframe thead th {\n",
       "        text-align: right;\n",
       "    }\n",
       "</style>\n",
       "<table border=\"1\" class=\"dataframe\">\n",
       "  <thead>\n",
       "    <tr style=\"text-align: right;\">\n",
       "      <th></th>\n",
       "      <th></th>\n",
       "      <th>title</th>\n",
       "      <th>num_correct</th>\n",
       "      <th>num_incorrect</th>\n",
       "      <th>accuracy</th>\n",
       "      <th>accuracy_group</th>\n",
       "    </tr>\n",
       "    <tr>\n",
       "      <th>installation_id</th>\n",
       "      <th>game_session</th>\n",
       "      <th></th>\n",
       "      <th></th>\n",
       "      <th></th>\n",
       "      <th></th>\n",
       "      <th></th>\n",
       "    </tr>\n",
       "  </thead>\n",
       "  <tbody>\n",
       "    <tr>\n",
       "      <td rowspan=\"5\" valign=\"top\">435871</td>\n",
       "      <td>6bdf9623adc94d89</td>\n",
       "      <td>Mushroom Sorter (Assessment)</td>\n",
       "      <td>1</td>\n",
       "      <td>0</td>\n",
       "      <td>1.0</td>\n",
       "      <td>3</td>\n",
       "    </tr>\n",
       "    <tr>\n",
       "      <td>77b8ee947eb84b4e</td>\n",
       "      <td>Bird Measurer (Assessment)</td>\n",
       "      <td>0</td>\n",
       "      <td>11</td>\n",
       "      <td>0.0</td>\n",
       "      <td>0</td>\n",
       "    </tr>\n",
       "    <tr>\n",
       "      <td>901acc108f55a5a1</td>\n",
       "      <td>Mushroom Sorter (Assessment)</td>\n",
       "      <td>1</td>\n",
       "      <td>0</td>\n",
       "      <td>1.0</td>\n",
       "      <td>3</td>\n",
       "    </tr>\n",
       "    <tr>\n",
       "      <td>9501794defd84e4d</td>\n",
       "      <td>Mushroom Sorter (Assessment)</td>\n",
       "      <td>1</td>\n",
       "      <td>1</td>\n",
       "      <td>0.5</td>\n",
       "      <td>2</td>\n",
       "    </tr>\n",
       "    <tr>\n",
       "      <td>a9ef3ecb3d1acc6a</td>\n",
       "      <td>Bird Measurer (Assessment)</td>\n",
       "      <td>1</td>\n",
       "      <td>0</td>\n",
       "      <td>1.0</td>\n",
       "      <td>3</td>\n",
       "    </tr>\n",
       "  </tbody>\n",
       "</table>\n",
       "</div>"
      ],
      "text/plain": [
       "                                                         title  num_correct  num_incorrect  accuracy  accuracy_group\n",
       "installation_id game_session                                                                                        \n",
       "435871          6bdf9623adc94d89  Mushroom Sorter (Assessment)            1              0       1.0               3\n",
       "                77b8ee947eb84b4e    Bird Measurer (Assessment)            0             11       0.0               0\n",
       "                901acc108f55a5a1  Mushroom Sorter (Assessment)            1              0       1.0               3\n",
       "                9501794defd84e4d  Mushroom Sorter (Assessment)            1              1       0.5               2\n",
       "                a9ef3ecb3d1acc6a    Bird Measurer (Assessment)            1              0       1.0               3"
      ]
     },
     "execution_count": 4,
     "metadata": {},
     "output_type": "execute_result"
    }
   ],
   "source": [
    "train_labels = load_and_process_data('./data/train_labels.csv', nrows=1000000)\n",
    "train_labels.head()"
   ]
  },
  {
   "cell_type": "markdown",
   "metadata": {},
   "source": [
    "### A3. Merge all Assessment train data"
   ]
  },
  {
   "cell_type": "code",
   "execution_count": 5,
   "metadata": {},
   "outputs": [],
   "source": [
    "assessments = pd.merge(train[train.type == 'Assessment'], train_labels, \n",
    "                       left_index=True, right_index=True, how='inner')\n",
    "\n",
    "# clean df\n",
    "assessments = assessments.drop(['title_y','type'],axis=1)\\\n",
    "                         .rename({'title_x':'title'},axis=1)"
   ]
  },
  {
   "cell_type": "code",
   "execution_count": 6,
   "metadata": {},
   "outputs": [
    {
     "data": {
      "text/html": [
       "<div>\n",
       "<style scoped>\n",
       "    .dataframe tbody tr th:only-of-type {\n",
       "        vertical-align: middle;\n",
       "    }\n",
       "\n",
       "    .dataframe tbody tr th {\n",
       "        vertical-align: top;\n",
       "    }\n",
       "\n",
       "    .dataframe thead th {\n",
       "        text-align: right;\n",
       "    }\n",
       "</style>\n",
       "<table border=\"1\" class=\"dataframe\">\n",
       "  <thead>\n",
       "    <tr style=\"text-align: right;\">\n",
       "      <th></th>\n",
       "      <th></th>\n",
       "      <th>event_id</th>\n",
       "      <th>timestamp</th>\n",
       "      <th>event_data</th>\n",
       "      <th>event_count</th>\n",
       "      <th>event_code</th>\n",
       "      <th>game_time</th>\n",
       "      <th>title</th>\n",
       "      <th>world</th>\n",
       "      <th>num_correct</th>\n",
       "      <th>num_incorrect</th>\n",
       "      <th>accuracy</th>\n",
       "      <th>accuracy_group</th>\n",
       "    </tr>\n",
       "    <tr>\n",
       "      <th>installation_id</th>\n",
       "      <th>game_session</th>\n",
       "      <th></th>\n",
       "      <th></th>\n",
       "      <th></th>\n",
       "      <th></th>\n",
       "      <th></th>\n",
       "      <th></th>\n",
       "      <th></th>\n",
       "      <th></th>\n",
       "      <th></th>\n",
       "      <th></th>\n",
       "      <th></th>\n",
       "      <th></th>\n",
       "    </tr>\n",
       "  </thead>\n",
       "  <tbody>\n",
       "    <tr>\n",
       "      <td rowspan=\"5\" valign=\"top\">435871</td>\n",
       "      <td>6bdf9623adc94d89</td>\n",
       "      <td>3bfd1a65</td>\n",
       "      <td>2019-08-06 05:37:50.020000+00:00</td>\n",
       "      <td>{'version': '1.0', 'event_count': 1, 'game_tim...</td>\n",
       "      <td>1</td>\n",
       "      <td>2000</td>\n",
       "      <td>0.00</td>\n",
       "      <td>Mushroom Sorter (Assessment)</td>\n",
       "      <td>TREETOPCITY</td>\n",
       "      <td>1</td>\n",
       "      <td>0</td>\n",
       "      <td>1.0</td>\n",
       "      <td>3</td>\n",
       "    </tr>\n",
       "    <tr>\n",
       "      <td>6bdf9623adc94d89</td>\n",
       "      <td>db02c830</td>\n",
       "      <td>2019-08-06 05:37:50.078000+00:00</td>\n",
       "      <td>{'event_count': 2, 'game_time': 77, 'event_cod...</td>\n",
       "      <td>2</td>\n",
       "      <td>2025</td>\n",
       "      <td>0.00</td>\n",
       "      <td>Mushroom Sorter (Assessment)</td>\n",
       "      <td>TREETOPCITY</td>\n",
       "      <td>1</td>\n",
       "      <td>0</td>\n",
       "      <td>1.0</td>\n",
       "      <td>3</td>\n",
       "    </tr>\n",
       "    <tr>\n",
       "      <td>6bdf9623adc94d89</td>\n",
       "      <td>a1e4395d</td>\n",
       "      <td>2019-08-06 05:37:50.082000+00:00</td>\n",
       "      <td>{'description': 'Pull three mushrooms out of t...</td>\n",
       "      <td>3</td>\n",
       "      <td>3010</td>\n",
       "      <td>0.00</td>\n",
       "      <td>Mushroom Sorter (Assessment)</td>\n",
       "      <td>TREETOPCITY</td>\n",
       "      <td>1</td>\n",
       "      <td>0</td>\n",
       "      <td>1.0</td>\n",
       "      <td>3</td>\n",
       "    </tr>\n",
       "    <tr>\n",
       "      <td>6bdf9623adc94d89</td>\n",
       "      <td>7da34a02</td>\n",
       "      <td>2019-08-06 05:37:52.799000+00:00</td>\n",
       "      <td>{'coordinates': {'x': 199, 'y': 484, 'stage_wi...</td>\n",
       "      <td>4</td>\n",
       "      <td>4070</td>\n",
       "      <td>0.05</td>\n",
       "      <td>Mushroom Sorter (Assessment)</td>\n",
       "      <td>TREETOPCITY</td>\n",
       "      <td>1</td>\n",
       "      <td>0</td>\n",
       "      <td>1.0</td>\n",
       "      <td>3</td>\n",
       "    </tr>\n",
       "    <tr>\n",
       "      <td>6bdf9623adc94d89</td>\n",
       "      <td>28ed704e</td>\n",
       "      <td>2019-08-06 05:37:53.631000+00:00</td>\n",
       "      <td>{'height': 1, 'coordinates': {'x': 171, 'y': 5...</td>\n",
       "      <td>5</td>\n",
       "      <td>4025</td>\n",
       "      <td>0.06</td>\n",
       "      <td>Mushroom Sorter (Assessment)</td>\n",
       "      <td>TREETOPCITY</td>\n",
       "      <td>1</td>\n",
       "      <td>0</td>\n",
       "      <td>1.0</td>\n",
       "      <td>3</td>\n",
       "    </tr>\n",
       "  </tbody>\n",
       "</table>\n",
       "</div>"
      ],
      "text/plain": [
       "                                  event_id                        timestamp                                         event_data  event_count  event_code  game_time                         title        world  num_correct  num_incorrect  accuracy  accuracy_group\n",
       "installation_id game_session                                                                                                                                                                                                                                       \n",
       "435871          6bdf9623adc94d89  3bfd1a65 2019-08-06 05:37:50.020000+00:00  {'version': '1.0', 'event_count': 1, 'game_tim...            1        2000       0.00  Mushroom Sorter (Assessment)  TREETOPCITY            1              0       1.0               3\n",
       "                6bdf9623adc94d89  db02c830 2019-08-06 05:37:50.078000+00:00  {'event_count': 2, 'game_time': 77, 'event_cod...            2        2025       0.00  Mushroom Sorter (Assessment)  TREETOPCITY            1              0       1.0               3\n",
       "                6bdf9623adc94d89  a1e4395d 2019-08-06 05:37:50.082000+00:00  {'description': 'Pull three mushrooms out of t...            3        3010       0.00  Mushroom Sorter (Assessment)  TREETOPCITY            1              0       1.0               3\n",
       "                6bdf9623adc94d89  7da34a02 2019-08-06 05:37:52.799000+00:00  {'coordinates': {'x': 199, 'y': 484, 'stage_wi...            4        4070       0.05  Mushroom Sorter (Assessment)  TREETOPCITY            1              0       1.0               3\n",
       "                6bdf9623adc94d89  28ed704e 2019-08-06 05:37:53.631000+00:00  {'height': 1, 'coordinates': {'x': 171, 'y': 5...            5        4025       0.06  Mushroom Sorter (Assessment)  TREETOPCITY            1              0       1.0               3"
      ]
     },
     "execution_count": 6,
     "metadata": {},
     "output_type": "execute_result"
    }
   ],
   "source": [
    "assessments.head()"
   ]
  },
  {
   "cell_type": "markdown",
   "metadata": {},
   "source": [
    "# B. Data Exploration/Visualization"
   ]
  },
  {
   "cell_type": "markdown",
   "metadata": {},
   "source": [
    "## B1. Bad data"
   ]
  },
  {
   "cell_type": "markdown",
   "metadata": {},
   "source": [
    "Observe that the accuracy (or equivalently the num_correct) is the same for all events generated in the same assessmnet session:"
   ]
  },
  {
   "cell_type": "code",
   "execution_count": 7,
   "metadata": {},
   "outputs": [
    {
     "data": {
      "text/html": [
       "<div>\n",
       "<style scoped>\n",
       "    .dataframe tbody tr th:only-of-type {\n",
       "        vertical-align: middle;\n",
       "    }\n",
       "\n",
       "    .dataframe tbody tr th {\n",
       "        vertical-align: top;\n",
       "    }\n",
       "\n",
       "    .dataframe thead th {\n",
       "        text-align: right;\n",
       "    }\n",
       "</style>\n",
       "<table border=\"1\" class=\"dataframe\">\n",
       "  <thead>\n",
       "    <tr style=\"text-align: right;\">\n",
       "      <th></th>\n",
       "      <th></th>\n",
       "      <th>event_count</th>\n",
       "      <th>accuracy</th>\n",
       "    </tr>\n",
       "    <tr>\n",
       "      <th>installation_id</th>\n",
       "      <th>game_session</th>\n",
       "      <th></th>\n",
       "      <th></th>\n",
       "    </tr>\n",
       "  </thead>\n",
       "  <tbody>\n",
       "    <tr>\n",
       "      <td rowspan=\"5\" valign=\"top\">435871</td>\n",
       "      <td>6bdf9623adc94d89</td>\n",
       "      <td>35</td>\n",
       "      <td>35.0</td>\n",
       "    </tr>\n",
       "    <tr>\n",
       "      <td>77b8ee947eb84b4e</td>\n",
       "      <td>87</td>\n",
       "      <td>0.0</td>\n",
       "    </tr>\n",
       "    <tr>\n",
       "      <td>901acc108f55a5a1</td>\n",
       "      <td>48</td>\n",
       "      <td>48.0</td>\n",
       "    </tr>\n",
       "    <tr>\n",
       "      <td>9501794defd84e4d</td>\n",
       "      <td>42</td>\n",
       "      <td>21.0</td>\n",
       "    </tr>\n",
       "    <tr>\n",
       "      <td>a9ef3ecb3d1acc6a</td>\n",
       "      <td>32</td>\n",
       "      <td>32.0</td>\n",
       "    </tr>\n",
       "  </tbody>\n",
       "</table>\n",
       "</div>"
      ],
      "text/plain": [
       "                                  event_count  accuracy\n",
       "installation_id game_session                           \n",
       "435871          6bdf9623adc94d89           35      35.0\n",
       "                77b8ee947eb84b4e           87       0.0\n",
       "                901acc108f55a5a1           48      48.0\n",
       "                9501794defd84e4d           42      21.0\n",
       "                a9ef3ecb3d1acc6a           32      32.0"
      ]
     },
     "execution_count": 7,
     "metadata": {},
     "output_type": "execute_result"
    }
   ],
   "source": [
    "temp_df = assessments.groupby(['installation_id','game_session'])[['event_count','accuracy']]\\\n",
    "                     .agg({'event_count':'count', 'accuracy':'sum'})\n",
    "temp_df.head()\n"
   ]
  },
  {
   "cell_type": "markdown",
   "metadata": {},
   "source": [
    "Observe that there are no assessment sessions with event_count=1:"
   ]
  },
  {
   "cell_type": "code",
   "execution_count": 8,
   "metadata": {},
   "outputs": [
    {
     "data": {
      "text/plain": [
       "0"
      ]
     },
     "execution_count": 8,
     "metadata": {},
     "output_type": "execute_result"
    }
   ],
   "source": [
    "np.sum(temp_df.event_count[temp_df.event_count==1])"
   ]
  },
  {
   "cell_type": "markdown",
   "metadata": {},
   "source": [
    "On the other hand, the whole ```train``` dataset has a lot of sessions with event_count=1:"
   ]
  },
  {
   "cell_type": "code",
   "execution_count": 9,
   "metadata": {},
   "outputs": [
    {
     "name": "stdout",
     "output_type": "stream",
     "text": [
      "Fraction of single-event sessions in train: 28338/1000000 = 2.83%\n"
     ]
    }
   ],
   "source": [
    "print('Fraction of single-event sessions in train: {0}/{1} = {2}%'\\\n",
    "      .format(\n",
    "              np.sum(train.event_count[train.event_count==1]),\n",
    "              len(train),\n",
    "              round(np.sum(train.event_count[train.event_count==1])/len(train)*100,2)\n",
    "             )\n",
    "     )"
   ]
  },
  {
   "cell_type": "code",
   "execution_count": 10,
   "metadata": {},
   "outputs": [],
   "source": [
    "del temp_df"
   ]
  },
  {
   "cell_type": "markdown",
   "metadata": {},
   "source": [
    "Note: game sessions with a single event have an event_code = 2000 which represents the start of the session."
   ]
  },
  {
   "cell_type": "markdown",
   "metadata": {},
   "source": [
    "## <font color='green'> IGNORE: game sessions with a single event</font> "
   ]
  },
  {
   "cell_type": "code",
   "execution_count": 11,
   "metadata": {},
   "outputs": [],
   "source": [
    "def filter_out_bad_sess(df):\n",
    "    \"\"\"Method to select only game sessions with more than one event.\"\"\"\n",
    "    \n",
    "    temp_df = df.groupby(['installation_id','game_session'])[['event_count']].count()\n",
    "\n",
    "    return df.loc[temp_df[temp_df.event_count>1].index,:]"
   ]
  },
  {
   "cell_type": "code",
   "execution_count": 12,
   "metadata": {},
   "outputs": [],
   "source": [
    "train = filter_out_bad_sess(train)"
   ]
  },
  {
   "cell_type": "markdown",
   "metadata": {},
   "source": [
    "## B2. Visualize cols and accuracies"
   ]
  },
  {
   "cell_type": "markdown",
   "metadata": {},
   "source": [
    "There are 10 columns:"
   ]
  },
  {
   "cell_type": "code",
   "execution_count": 13,
   "metadata": {},
   "outputs": [
    {
     "data": {
      "text/plain": [
       "['event_id',\n",
       " 'timestamp',\n",
       " 'event_data',\n",
       " 'event_count',\n",
       " 'event_code',\n",
       " 'game_time',\n",
       " 'title',\n",
       " 'type',\n",
       " 'world',\n",
       " 'game_session']"
      ]
     },
     "execution_count": 13,
     "metadata": {},
     "output_type": "execute_result"
    }
   ],
   "source": [
    "train.columns.tolist() + ['game_session']"
   ]
  },
  {
   "cell_type": "markdown",
   "metadata": {},
   "source": [
    "Let's start our data exploration with the categorical data."
   ]
  },
  {
   "cell_type": "markdown",
   "metadata": {},
   "source": [
    "## <font color='blue'>Categorical Data<font>"
   ]
  },
  {
   "cell_type": "markdown",
   "metadata": {},
   "source": [
    "### 1) Title"
   ]
  },
  {
   "cell_type": "code",
   "execution_count": 14,
   "metadata": {},
   "outputs": [
    {
     "data": {
      "image/png": "[encoded data removed]",
      "text/plain": [
       "<Figure size 1440x720 with 1 Axes>"
      ]
     },
     "metadata": {
      "needs_background": "light"
     },
     "output_type": "display_data"
    }
   ],
   "source": [
    "title_val_counts = train['title'].value_counts().sort_values()\n",
    "_ = title_val_counts.plot(kind='barh',figsize=(20,10))\n",
    "_ = plt.gcf().suptitle(\"Title Frequencies\", size = 18)"
   ]
  },
  {
   "cell_type": "code",
   "execution_count": 15,
   "metadata": {},
   "outputs": [],
   "source": [
    "pct_corrects = lambda g: round(g.sum()/g.count(),3)\n",
    "assess_title = assessments.groupby(['title'])[['num_correct']]\\\n",
    "                          .agg(['count','sum', pct_corrects])"
   ]
  },
  {
   "cell_type": "code",
   "execution_count": 16,
   "metadata": {},
   "outputs": [],
   "source": [
    "# Clean df\n",
    "assess_title.columns = ['num_assessments', 'num_correct', 'pct_correct']\n",
    "assess_title['pct_incorrect'] =  1 - assess_title.pct_correct\n",
    "assess_title.index = [title.split('(')[0].strip() for title in assess_title.index]"
   ]
  },
  {
   "cell_type": "code",
   "execution_count": 17,
   "metadata": {
    "scrolled": false
   },
   "outputs": [
    {
     "data": {
      "image/png": "[encoded data removed]",
      "text/plain": [
       "<Figure size 720x432 with 1 Axes>"
      ]
     },
     "metadata": {
      "needs_background": "light"
     },
     "output_type": "display_data"
    }
   ],
   "source": [
    "assess_title.loc[:,['pct_correct','pct_incorrect']]\\\n",
    "            .plot.barh(stacked=True,figsize=(10, 6), title='Correct Assessment (by title)')\n",
    "plt.gca().legend(frameon=True,loc=(1.05,0.9))\n",
    "plt.gca().axvline(x=0.5, ymin=0, ymax=1, color='black')\n",
    "\n",
    "del assess_title"
   ]
  },
  {
   "cell_type": "markdown",
   "metadata": {},
   "source": [
    "## <font color='green'> Good cols: ```'title'```</font> "
   ]
  },
  {
   "cell_type": "markdown",
   "metadata": {},
   "source": [
    "QUESTION: What pct of activities get completed and reach the assessment phase?"
   ]
  },
  {
   "cell_type": "markdown",
   "metadata": {},
   "source": [
    "### 2) World"
   ]
  },
  {
   "cell_type": "code",
   "execution_count": 18,
   "metadata": {},
   "outputs": [
    {
     "data": {
      "image/png": "[encoded data removed]",
      "text/plain": [
       "<Figure size 576x360 with 1 Axes>"
      ]
     },
     "metadata": {
      "needs_background": "light"
     },
     "output_type": "display_data"
    }
   ],
   "source": [
    "world_val_counts = train['world'].value_counts().sort_values()\n",
    "_ = world_val_counts.plot(kind='bar',figsize=(8,5), color=my_pal[0])\n",
    "_ = plt.gcf().suptitle(\"World Frequencies\", size = 18)\n",
    "ax = plt.gca()\n",
    "_ = ax.set_xticklabels(ax.get_xticklabels(),rotation=0)"
   ]
  },
  {
   "cell_type": "code",
   "execution_count": 19,
   "metadata": {},
   "outputs": [
    {
     "data": {
      "image/png": "[encoded data removed]",
      "text/plain": [
       "<Figure size 720x432 with 1 Axes>"
      ]
     },
     "metadata": {
      "needs_background": "light"
     },
     "output_type": "display_data"
    }
   ],
   "source": [
    "assess_world = assessments.groupby(['world'])[['num_correct']]\\\n",
    "                          .agg(['count','sum', pct_corrects])\n",
    "\n",
    "# Clean df\n",
    "assess_world.columns = ['num_assessments', 'num_correct', 'pct_correct']\n",
    "assess_world['pct_incorrect'] =  1 - assess_world.pct_correct\n",
    "assess_world.index = [title.split('(')[0].strip() for title in assess_world.index]\n",
    "\n",
    "assess_world.loc[:,['pct_correct','pct_incorrect']]\\\n",
    "            .plot.barh(stacked=True,figsize=(10, 6), title='Correct Assessment (by title)')\n",
    "plt.gca().legend(frameon=True,loc=(1.05,0.9))\n",
    "plt.gca().axvline(x=0.5, ymin=0, ymax=1, color='black')\n",
    "\n",
    "del assess_world"
   ]
  },
  {
   "cell_type": "markdown",
   "metadata": {},
   "source": [
    "## <font color='green'> Good cols: ```'world'```  </font> "
   ]
  },
  {
   "cell_type": "markdown",
   "metadata": {},
   "source": [
    "### 3) Timestamps"
   ]
  },
  {
   "cell_type": "code",
   "execution_count": 20,
   "metadata": {},
   "outputs": [],
   "source": [
    "def plot_assess_vs_timestamps(df, use_col):\n",
    "    df = df.groupby(use_col)[['num_correct']]\\\n",
    "           .agg(['count','sum', pct_corrects])\n",
    "\n",
    "    # Clean df\n",
    "    df.columns = ['num_assessments', 'num_correct', 'pct_correct']\n",
    "    df['pct_incorrect'] =  1 - df.pct_correct\n",
    "    \n",
    "    # Plot accuracies\n",
    "    df.loc[:,['pct_correct','pct_incorrect']]\\\n",
    "                .plot.barh(stacked=True,figsize=(10, 6), title=f'Correct Assessment (by {use_col})')\n",
    "    plt.gca().legend(frameon=True,loc=(1.05,0.9))\n",
    "    plt.gca().axvline(x=0.5, ymin=0, ymax=1, color='black')\n",
    "    \n",
    "    \n",
    "    return \"STD of pct_correct for \" + use_col + \": {:.2f}\".format(df['pct_correct'].std())"
   ]
  },
  {
   "cell_type": "code",
   "execution_count": 21,
   "metadata": {},
   "outputs": [],
   "source": [
    "assessments['hour'] = assessments['timestamp'].dt.hour\n",
    "assessments['day'] = assessments['timestamp'].dt.day\n",
    "assessments['weekday'] = assessments['timestamp'].dt.weekday\n",
    "assessments['month'] = assessments['timestamp'].dt.month"
   ]
  },
  {
   "cell_type": "code",
   "execution_count": 22,
   "metadata": {
    "scrolled": false
   },
   "outputs": [
    {
     "data": {
      "text/plain": [
       "'STD of pct_correct for day: 0.09'"
      ]
     },
     "execution_count": 22,
     "metadata": {},
     "output_type": "execute_result"
    },
    {
     "data": {
      "image/png": "[encoded data removed]",
      "text/plain": [
       "<Figure size 720x432 with 1 Axes>"
      ]
     },
     "metadata": {
      "needs_background": "light"
     },
     "output_type": "display_data"
    }
   ],
   "source": [
    "plot_assess_vs_timestamps(assessments, use_col='day')"
   ]
  },
  {
   "cell_type": "markdown",
   "metadata": {},
   "source": [
    "The feature 'hour' has the highest STD (0.14) among: 'day' (0.09), 'weekday' (0.03), 'month' (0.03)"
   ]
  },
  {
   "cell_type": "markdown",
   "metadata": {},
   "source": [
    "## <font color='green'> Good cols: ```'hour'``` and perhaps ```'day'``` </font> \n",
    "### <font color='green'> ADD New cols!</font> "
   ]
  },
  {
   "cell_type": "code",
   "execution_count": 23,
   "metadata": {
    "scrolled": true
   },
   "outputs": [],
   "source": [
    "train['hour'] = train.timestamp.dt.hour\n",
    "train['day'] = train.timestamp.dt.day"
   ]
  },
  {
   "cell_type": "markdown",
   "metadata": {},
   "source": [
    "## 4) Type"
   ]
  },
  {
   "cell_type": "code",
   "execution_count": 24,
   "metadata": {
    "scrolled": false
   },
   "outputs": [
    {
     "name": "stdout",
     "output_type": "stream",
     "text": [
      "Activity\n",
      "['Bottle Filler (Activity)',\n",
      " 'Flower Waterer (Activity)',\n",
      " 'Watering Hole (Activity)',\n",
      " 'Egg Dropper (Activity)',\n",
      " 'Fireworks (Activity)',\n",
      " 'Bug Measurer (Activity)',\n",
      " 'Sandcastle Builder (Activity)',\n",
      " 'Chicken Balancer (Activity)']\n",
      "Assessment\n",
      "['Cart Balancer (Assessment)',\n",
      " 'Bird Measurer (Assessment)',\n",
      " 'Mushroom Sorter (Assessment)',\n",
      " 'Chest Sorter (Assessment)',\n",
      " 'Cauldron Filler (Assessment)']\n",
      "Game\n",
      "['Pan Balance',\n",
      " 'All Star Sorting',\n",
      " 'Scrub-A-Dub',\n",
      " 'Bubble Bath',\n",
      " 'Chow Time',\n",
      " 'Happy Camel',\n",
      " 'Dino Dive',\n",
      " 'Air Show',\n",
      " 'Leaf Leader',\n",
      " 'Crystals Rule',\n",
      " 'Dino Drink']\n"
     ]
    }
   ],
   "source": [
    "for game_type in set(train.type):\n",
    "    print(game_type)\n",
    "    pprint(list(set(train[train.type==game_type].title)))"
   ]
  },
  {
   "cell_type": "markdown",
   "metadata": {},
   "source": [
    "## <font color='red'>No new information in ```type```! <font>"
   ]
  },
  {
   "cell_type": "markdown",
   "metadata": {},
   "source": [
    "## 5) Event_code "
   ]
  },
  {
   "cell_type": "code",
   "execution_count": 25,
   "metadata": {},
   "outputs": [
    {
     "name": "stdout",
     "output_type": "stream",
     "text": [
      "Fraction of unique event codes: 20/42\n"
     ]
    }
   ],
   "source": [
    "print(\"Fraction of unique event codes: {0}/{1}\"\\\n",
    "      .format(len(set(train.event_code)-set(assessments.event_code)),\n",
    "              len(set(train.event_code)))\n",
    "     )"
   ]
  },
  {
   "cell_type": "code",
   "execution_count": 26,
   "metadata": {
    "scrolled": true
   },
   "outputs": [
    {
     "data": {
      "image/png": "[encoded data removed]",
      "text/plain": [
       "<Figure size 720x432 with 1 Axes>"
      ]
     },
     "metadata": {
      "needs_background": "light"
     },
     "output_type": "display_data"
    }
   ],
   "source": [
    "assess_ec = assessments.groupby(['event_code'])[['num_correct']]\\\n",
    "                          .agg(['count','sum', pct_corrects])\n",
    "\n",
    "# Clean df\n",
    "assess_ec.columns = ['num_assessments', 'num_correct', 'pct_correct']\n",
    "assess_ec['pct_incorrect'] =  1 - assess_ec.pct_correct\n",
    "\n",
    "assess_ec.loc[:,['pct_correct','pct_incorrect']]\\\n",
    "            .plot.barh(stacked=True,figsize=(10, 6), title='Correct Assessment (by event_code)')\n",
    "plt.gca().legend(frameon=True,loc=(1.05,0.9))\n",
    "plt.gca().axvline(x=0.5, ymin=0, ymax=1, color='black')\n",
    "\n",
    "del assess_ec"
   ]
  },
  {
   "cell_type": "markdown",
   "metadata": {},
   "source": [
    "## <font color='green'> Good cols: ```'event_code'``` - values in assessments!!! </font> "
   ]
  },
  {
   "cell_type": "markdown",
   "metadata": {},
   "source": [
    "## 6) Event_id"
   ]
  },
  {
   "cell_type": "code",
   "execution_count": 27,
   "metadata": {},
   "outputs": [
    {
     "name": "stdout",
     "output_type": "stream",
     "text": [
      "Fraction of unique Event IDs: 273/366\n"
     ]
    }
   ],
   "source": [
    "print(\"Fraction of unique Event IDs: {0}/{1}\"\\\n",
    "      .format(len(set(train.event_id)-set(assessments.event_id)),\n",
    "              len(set(train.event_id)))\n",
    "     )"
   ]
  },
  {
   "cell_type": "code",
   "execution_count": 28,
   "metadata": {},
   "outputs": [
    {
     "data": {
      "image/png": "[encoded data removed]",
      "text/plain": [
       "<Figure size 1080x432 with 1 Axes>"
      ]
     },
     "metadata": {
      "needs_background": "light"
     },
     "output_type": "display_data"
    }
   ],
   "source": [
    "assess_ed = assessments.groupby('event_id')[['num_correct']]\\\n",
    "                       .agg(['count','sum', pct_corrects])\n",
    "\n",
    "# Clean df\n",
    "assess_ed.columns = ['num_assessments', 'num_correct', 'pct_correct']\n",
    "assess_ed['pct_incorrect'] =  1 - assess_ed.pct_correct\n",
    "assess_ed.index = [title.split('(')[0].strip() for title in assess_ed.index]\n",
    "\n",
    "assess_ed.loc[:,['pct_correct']]\\\n",
    "         .plot(kind='hist' ,bins=30,edgecolor='white',\n",
    "               figsize=(15,6),color=my_pal[1])\n",
    "\n",
    "plt.gca().axvline(x=0.5, ymin=0, ymax=1, color='black')\n",
    "plt.gcf().suptitle('Distribution of Event IDs vs % accuracy',fontsize = 18)\n",
    "\n",
    "\n",
    "del assess_ed"
   ]
  },
  {
   "cell_type": "markdown",
   "metadata": {},
   "source": [
    "## <font color='blue'>Continuous Data<font>"
   ]
  },
  {
   "cell_type": "markdown",
   "metadata": {},
   "source": [
    "## 7) Game_session "
   ]
  },
  {
   "cell_type": "code",
   "execution_count": 29,
   "metadata": {},
   "outputs": [],
   "source": [
    "def no_unique_sessions(df, cut_off=1):\n",
    "    \n",
    "    return len(df[df.event_count>cut_off].reset_index()['game_session'].unique())\n",
    "    "
   ]
  },
  {
   "cell_type": "code",
   "execution_count": 30,
   "metadata": {},
   "outputs": [
    {
     "name": "stdout",
     "output_type": "stream",
     "text": [
      "Fraction of unique assessment sessions vs train(cut_off): 1798/10994 = 16.35%\n"
     ]
    }
   ],
   "source": [
    "cut_off = 1\n",
    "uniq_sess_assess = no_unique_sessions(assessments)\n",
    "uniq_sess_train = no_unique_sessions(train, cut_off=cut_off)\n",
    "pct_fraction = round(uniq_sess_assess/uniq_sess_train*100,2)\n",
    "\n",
    "print(f\"\"\"Fraction of unique assessment sessions vs train(cut_off): {uniq_sess_assess}/{uniq_sess_train} = {pct_fraction}%\"\"\")\n"
   ]
  },
  {
   "cell_type": "markdown",
   "metadata": {},
   "source": [
    "## 8) Game_time"
   ]
  },
  {
   "cell_type": "code",
   "execution_count": 31,
   "metadata": {},
   "outputs": [
    {
     "data": {
      "text/html": [
       "<div>\n",
       "<style scoped>\n",
       "    .dataframe tbody tr th:only-of-type {\n",
       "        vertical-align: middle;\n",
       "    }\n",
       "\n",
       "    .dataframe tbody tr th {\n",
       "        vertical-align: top;\n",
       "    }\n",
       "\n",
       "    .dataframe thead tr th {\n",
       "        text-align: left;\n",
       "    }\n",
       "\n",
       "    .dataframe thead tr:last-of-type th {\n",
       "        text-align: right;\n",
       "    }\n",
       "</style>\n",
       "<table border=\"1\" class=\"dataframe\">\n",
       "  <thead>\n",
       "    <tr>\n",
       "      <th></th>\n",
       "      <th colspan=\"5\" halign=\"left\">game_time</th>\n",
       "    </tr>\n",
       "    <tr>\n",
       "      <th>title</th>\n",
       "      <th>Bird Measurer (Assessment)</th>\n",
       "      <th>Cart Balancer (Assessment)</th>\n",
       "      <th>Cauldron Filler (Assessment)</th>\n",
       "      <th>Chest Sorter (Assessment)</th>\n",
       "      <th>Mushroom Sorter (Assessment)</th>\n",
       "    </tr>\n",
       "    <tr>\n",
       "      <th>installation_id</th>\n",
       "      <th></th>\n",
       "      <th></th>\n",
       "      <th></th>\n",
       "      <th></th>\n",
       "      <th></th>\n",
       "    </tr>\n",
       "  </thead>\n",
       "  <tbody>\n",
       "    <tr>\n",
       "      <td>435871</td>\n",
       "      <td>78.52</td>\n",
       "      <td>NaN</td>\n",
       "      <td>NaN</td>\n",
       "      <td>NaN</td>\n",
       "      <td>28.77</td>\n",
       "    </tr>\n",
       "    <tr>\n",
       "      <td>442770</td>\n",
       "      <td>366.12</td>\n",
       "      <td>NaN</td>\n",
       "      <td>3.10</td>\n",
       "      <td>NaN</td>\n",
       "      <td>82.30</td>\n",
       "    </tr>\n",
       "    <tr>\n",
       "      <td>1218646</td>\n",
       "      <td>13.40</td>\n",
       "      <td>NaN</td>\n",
       "      <td>NaN</td>\n",
       "      <td>NaN</td>\n",
       "      <td>NaN</td>\n",
       "    </tr>\n",
       "    <tr>\n",
       "      <td>1904336</td>\n",
       "      <td>25.14</td>\n",
       "      <td>2.09</td>\n",
       "      <td>NaN</td>\n",
       "      <td>8.53</td>\n",
       "      <td>31.48</td>\n",
       "    </tr>\n",
       "    <tr>\n",
       "      <td>2252647</td>\n",
       "      <td>8.40</td>\n",
       "      <td>NaN</td>\n",
       "      <td>NaN</td>\n",
       "      <td>NaN</td>\n",
       "      <td>NaN</td>\n",
       "    </tr>\n",
       "    <tr>\n",
       "      <td>2595525</td>\n",
       "      <td>NaN</td>\n",
       "      <td>NaN</td>\n",
       "      <td>NaN</td>\n",
       "      <td>199.90</td>\n",
       "      <td>NaN</td>\n",
       "    </tr>\n",
       "    <tr>\n",
       "      <td>2996195</td>\n",
       "      <td>143.47</td>\n",
       "      <td>11.62</td>\n",
       "      <td>7.70</td>\n",
       "      <td>62.32</td>\n",
       "      <td>24.65</td>\n",
       "    </tr>\n",
       "    <tr>\n",
       "      <td>3371696</td>\n",
       "      <td>16.20</td>\n",
       "      <td>14.04</td>\n",
       "      <td>10.81</td>\n",
       "      <td>32.10</td>\n",
       "      <td>8.95</td>\n",
       "    </tr>\n",
       "    <tr>\n",
       "      <td>4989073</td>\n",
       "      <td>5.23</td>\n",
       "      <td>NaN</td>\n",
       "      <td>13.38</td>\n",
       "      <td>NaN</td>\n",
       "      <td>NaN</td>\n",
       "    </tr>\n",
       "    <tr>\n",
       "      <td>6505523</td>\n",
       "      <td>NaN</td>\n",
       "      <td>6.76</td>\n",
       "      <td>33.82</td>\n",
       "      <td>49.94</td>\n",
       "      <td>NaN</td>\n",
       "    </tr>\n",
       "  </tbody>\n",
       "</table>\n",
       "</div>"
      ],
      "text/plain": [
       "                                 game_time                                                                                                               \n",
       "title           Bird Measurer (Assessment) Cart Balancer (Assessment) Cauldron Filler (Assessment) Chest Sorter (Assessment) Mushroom Sorter (Assessment)\n",
       "installation_id                                                                                                                                          \n",
       "435871                               78.52                        NaN                          NaN                       NaN                        28.77\n",
       "442770                              366.12                        NaN                         3.10                       NaN                        82.30\n",
       "1218646                              13.40                        NaN                          NaN                       NaN                          NaN\n",
       "1904336                              25.14                       2.09                          NaN                      8.53                        31.48\n",
       "2252647                               8.40                        NaN                          NaN                       NaN                          NaN\n",
       "2595525                                NaN                        NaN                          NaN                    199.90                          NaN\n",
       "2996195                             143.47                      11.62                         7.70                     62.32                        24.65\n",
       "3371696                              16.20                      14.04                        10.81                     32.10                         8.95\n",
       "4989073                               5.23                        NaN                        13.38                       NaN                          NaN\n",
       "6505523                                NaN                       6.76                        33.82                     49.94                          NaN"
      ]
     },
     "execution_count": 31,
     "metadata": {},
     "output_type": "execute_result"
    }
   ],
   "source": [
    "assessments.groupby(['installation_id','title'])[['game_time']].sum().unstack()[:10]"
   ]
  },
  {
   "cell_type": "markdown",
   "metadata": {},
   "source": [
    "## 9) Event_count"
   ]
  },
  {
   "cell_type": "code",
   "execution_count": 32,
   "metadata": {},
   "outputs": [
    {
     "data": {
      "image/png": "[encoded data removed]",
      "text/plain": [
       "<Figure size 1080x432 with 1 Axes>"
      ]
     },
     "metadata": {
      "needs_background": "light"
     },
     "output_type": "display_data"
    }
   ],
   "source": [
    "assess_ec = assessments.groupby('event_count')[['num_correct']]\\\n",
    "                       .agg(['count','sum', pct_corrects])\n",
    "\n",
    "# Clean df\n",
    "assess_ec.columns = ['num_assessments', 'num_correct', 'pct_correct']\n",
    "assess_ec['pct_incorrect'] =  1 - assess_ec.pct_correct\n",
    "\n",
    "assess_ec.loc[:,['pct_correct']]\\\n",
    "         .plot(kind='hist' ,bins=50,edgecolor='white',\n",
    "               figsize=(15,6),color=my_pal[1])\n",
    "\n",
    "plt.gca().axvline(x=0.5, ymin=0, ymax=1, color='black')\n",
    "plt.gcf().suptitle('Distribution of Event Counts vs % accuracy',fontsize = 18)\n",
    "\n",
    "\n",
    "del assess_ec"
   ]
  },
  {
   "cell_type": "markdown",
   "metadata": {},
   "source": [
    "## <font color='blue'>Meta-Data<font>"
   ]
  },
  {
   "cell_type": "markdown",
   "metadata": {},
   "source": [
    "## 10) Event_data"
   ]
  },
  {
   "cell_type": "code",
   "execution_count": 33,
   "metadata": {},
   "outputs": [
    {
     "name": "stdout",
     "output_type": "stream",
     "text": [
      "{'version': '1.0', 'event_count': 1, 'game_time': 0, 'event_code': 2000}\n",
      "{'event_count': 2, 'game_time': 77, 'event_code': 2025}\n",
      "{'description': 'Pull three mushrooms out of the ground and order them from shortest to tallest!', 'identifier': 'Dot_PullMushrooms', 'media_type': 'audio', 'total_duration': 3000, 'event_count': 3, 'game_time': 77, 'event_code': 3010}\n",
      "{'coordinates': {'x': 199, 'y': 484, 'stage_width': 1015, 'stage_height': 762}, 'event_count': 4, 'game_time': 2784, 'event_code': 4070}\n",
      "{'height': 1, 'coordinates': {'x': 171, 'y': 519, 'stage_width': 1015, 'stage_height': 762}, 'event_count': 5, 'game_time': 3625, 'event_code': 4025}\n",
      "{'description': 'Pull three mushrooms out of the ground and order them from shortest to tallest!', 'identifier': 'Dot_PullMushrooms', 'media_type': 'audio', 'duration': 3548, 'event_count': 6, 'game_time': 3625, 'event_code': 3110}\n",
      "{'description': \"That's one!\", 'identifier': 'Dot_ThatsOne', 'media_type': 'audio', 'total_duration': 600, 'event_count': 7, 'game_time': 3625, 'event_code': 3021}\n",
      "{'description': \"That's one!\", 'identifier': 'Dot_ThatsOne', 'media_type': 'audio', 'duration': 625, 'event_count': 8, 'game_time': 4250, 'event_code': 3121}\n",
      "{'height': 2, 'coordinates': {'x': 496, 'y': 502, 'stage_width': 1015, 'stage_height': 762}, 'event_count': 9, 'game_time': 4925, 'event_code': 4025}\n",
      "{'description': 'two...', 'identifier': 'Dot_Two', 'media_type': 'audio', 'total_duration': 510, 'event_count': 10, 'game_time': 4925, 'event_code': 3021}\n"
     ]
    }
   ],
   "source": [
    "for d in assessments.event_data.values[:10]:\n",
    "    print(d)"
   ]
  },
  {
   "cell_type": "markdown",
   "metadata": {},
   "source": [
    "# C. Feature Engineering\n",
    "\n",
    "Let's first try to construct \"domain-like\" features which might correlate to user performance. Intuitively, I'll seek for features that somehow describe:\n",
    "\n",
    "1. Level of game difficulty\n",
    "2. User Expertise\n",
    "3. User Focus \n",
    "4. Clarity of Game Instructions\n",
    "5. Other\n",
    "\n",
    "In particular, I'll use the continuous cols to construct aggregated feats."
   ]
  },
  {
   "cell_type": "markdown",
   "metadata": {},
   "source": [
    "## QUESTION: What pct of activities get completed and reach the assessment phase?"
   ]
  },
  {
   "cell_type": "markdown",
   "metadata": {},
   "source": [
    "## C1. Game_time Aggregations\n",
    "How much time do the app users spend:<br>\n",
    "a) playing in general <br>\n",
    "b) playing in a certain level (title) <br>\n",
    "c) playing in a certain world <br>\n",
    "d) on average per game session <br>\n",
    "e) to complete a particular task <br>"
   ]
  },
  {
   "cell_type": "markdown",
   "metadata": {},
   "source": [
    "### a) Net Game Time"
   ]
  },
  {
   "cell_type": "code",
   "execution_count": 34,
   "metadata": {},
   "outputs": [],
   "source": [
    "def net_time(df):\n",
    "    \n",
    "    return df.groupby('installation_id')[['game_time']]\\\n",
    "             .sum()\\\n",
    "             .rename({'game_time': 'net_time'}, axis=1)"
   ]
  },
  {
   "cell_type": "code",
   "execution_count": 35,
   "metadata": {},
   "outputs": [],
   "source": [
    "net_times = net_time(train)"
   ]
  },
  {
   "cell_type": "code",
   "execution_count": 36,
   "metadata": {
    "scrolled": true
   },
   "outputs": [
    {
     "data": {
      "text/html": [
       "<div>\n",
       "<style scoped>\n",
       "    .dataframe tbody tr th:only-of-type {\n",
       "        vertical-align: middle;\n",
       "    }\n",
       "\n",
       "    .dataframe tbody tr th {\n",
       "        vertical-align: top;\n",
       "    }\n",
       "\n",
       "    .dataframe thead th {\n",
       "        text-align: right;\n",
       "    }\n",
       "</style>\n",
       "<table border=\"1\" class=\"dataframe\">\n",
       "  <thead>\n",
       "    <tr style=\"text-align: right;\">\n",
       "      <th></th>\n",
       "      <th>net_time</th>\n",
       "    </tr>\n",
       "    <tr>\n",
       "      <th>installation_id</th>\n",
       "      <th></th>\n",
       "    </tr>\n",
       "  </thead>\n",
       "  <tbody>\n",
       "    <tr>\n",
       "      <td>125199</td>\n",
       "      <td>4563.90</td>\n",
       "    </tr>\n",
       "    <tr>\n",
       "      <td>280516</td>\n",
       "      <td>244.44</td>\n",
       "    </tr>\n",
       "    <tr>\n",
       "      <td>435871</td>\n",
       "      <td>5225.76</td>\n",
       "    </tr>\n",
       "    <tr>\n",
       "      <td>442770</td>\n",
       "      <td>3350.47</td>\n",
       "    </tr>\n",
       "    <tr>\n",
       "      <td>632233</td>\n",
       "      <td>2736.90</td>\n",
       "    </tr>\n",
       "  </tbody>\n",
       "</table>\n",
       "</div>"
      ],
      "text/plain": [
       "                 net_time\n",
       "installation_id          \n",
       "125199            4563.90\n",
       "280516             244.44\n",
       "435871            5225.76\n",
       "442770            3350.47\n",
       "632233            2736.90"
      ]
     },
     "execution_count": 36,
     "metadata": {},
     "output_type": "execute_result"
    }
   ],
   "source": [
    "net_times.head()"
   ]
  },
  {
   "cell_type": "code",
   "execution_count": 37,
   "metadata": {},
   "outputs": [
    {
     "name": "stdout",
     "output_type": "stream",
     "text": [
      "Number of ids with ZERO net_time : 2/1119\n"
     ]
    }
   ],
   "source": [
    "print('Number of ids with ZERO net_time : {0}/{1}'\n",
    "      .format(np.sum(net_times['net_time']==0), \n",
    "              len(net_times))\n",
    "     )\n",
    "     "
   ]
  },
  {
   "cell_type": "code",
   "execution_count": 38,
   "metadata": {
    "scrolled": false
   },
   "outputs": [
    {
     "name": "stdout",
     "output_type": "stream",
     "text": [
      "Number of ids with net_time less than 1 min: 22/1119\n"
     ]
    }
   ],
   "source": [
    "less_than = 1\n",
    "print('Number of ids with net_time less than {0} min: {1}/{2}'\n",
    "      .format(less_than, \n",
    "              np.sum(net_times['net_time']<less_than), \n",
    "              len(net_times))\n",
    "     )"
   ]
  },
  {
   "cell_type": "code",
   "execution_count": 39,
   "metadata": {},
   "outputs": [],
   "source": [
    "def plot_log_distribution(df, cut_off=1, title=\"Distribution of Log(net_time) with cut-off=\"):\n",
    "   \n",
    "    # filter out ids with net_time less than threshold (min)\n",
    "    df = df[df.net_time > cut_off]\n",
    "    df.apply(np.log)\\\n",
    "      .plot(kind='hist' ,bins=50,edgecolor='white',\n",
    "            figsize=(15,6),color=my_pal[1])\n",
    "    plt.gcf().suptitle(title+str(cut_off),fontsize = 18)\n",
    "    plt.ylabel('num_ids', fontsize=18)\n",
    "    \n",
    "    return df.describe()\n",
    "    "
   ]
  },
  {
   "cell_type": "code",
   "execution_count": 40,
   "metadata": {},
   "outputs": [
    {
     "data": {
      "text/html": [
       "<div>\n",
       "<style scoped>\n",
       "    .dataframe tbody tr th:only-of-type {\n",
       "        vertical-align: middle;\n",
       "    }\n",
       "\n",
       "    .dataframe tbody tr th {\n",
       "        vertical-align: top;\n",
       "    }\n",
       "\n",
       "    .dataframe thead th {\n",
       "        text-align: right;\n",
       "    }\n",
       "</style>\n",
       "<table border=\"1\" class=\"dataframe\">\n",
       "  <thead>\n",
       "    <tr style=\"text-align: right;\">\n",
       "      <th></th>\n",
       "      <th>net_time</th>\n",
       "    </tr>\n",
       "  </thead>\n",
       "  <tbody>\n",
       "    <tr>\n",
       "      <td>count</td>\n",
       "      <td>1096.000000</td>\n",
       "    </tr>\n",
       "    <tr>\n",
       "      <td>mean</td>\n",
       "      <td>2456.108823</td>\n",
       "    </tr>\n",
       "    <tr>\n",
       "      <td>std</td>\n",
       "      <td>7321.960625</td>\n",
       "    </tr>\n",
       "    <tr>\n",
       "      <td>min</td>\n",
       "      <td>1.030000</td>\n",
       "    </tr>\n",
       "    <tr>\n",
       "      <td>25%</td>\n",
       "      <td>106.110000</td>\n",
       "    </tr>\n",
       "    <tr>\n",
       "      <td>50%</td>\n",
       "      <td>475.130000</td>\n",
       "    </tr>\n",
       "    <tr>\n",
       "      <td>75%</td>\n",
       "      <td>1748.597500</td>\n",
       "    </tr>\n",
       "    <tr>\n",
       "      <td>max</td>\n",
       "      <td>107002.490000</td>\n",
       "    </tr>\n",
       "  </tbody>\n",
       "</table>\n",
       "</div>"
      ],
      "text/plain": [
       "            net_time\n",
       "count    1096.000000\n",
       "mean     2456.108823\n",
       "std      7321.960625\n",
       "min         1.030000\n",
       "25%       106.110000\n",
       "50%       475.130000\n",
       "75%      1748.597500\n",
       "max    107002.490000"
      ]
     },
     "execution_count": 40,
     "metadata": {},
     "output_type": "execute_result"
    },
    {
     "data": {
      "image/png": "[encoded data removed]",
      "text/plain": [
       "<Figure size 1080x432 with 1 Axes>"
      ]
     },
     "metadata": {
      "needs_background": "light"
     },
     "output_type": "display_data"
    }
   ],
   "source": [
    "plot_log_distribution(net_times)"
   ]
  },
  {
   "cell_type": "markdown",
   "metadata": {},
   "source": [
    "## <font color='green'> Good Features: ```net_time``` </font> \n",
    "\n",
    "Comments: \n",
    "- perhaps use log of net_time \n",
    "- treat differently ids with zero to less than a cut_off-value of game time\n"
   ]
  },
  {
   "cell_type": "markdown",
   "metadata": {},
   "source": [
    "### b) Game Times Per Title"
   ]
  },
  {
   "cell_type": "code",
   "execution_count": 41,
   "metadata": {},
   "outputs": [],
   "source": [
    "def plot_barh_chart(df ,col):\n",
    "    \n",
    "    df = df.groupby(col)['game_time']\\\n",
    "           .sum()\\\n",
    "           .sort_values()\n",
    "    \n",
    "    df.plot(kind='barh',figsize=(10,6))\n",
    "    plt.gcf().suptitle(\"Net Game Time Per \" + col.title(), size = 18)\n",
    "    plt.gca().set_ylabel(plt.gca().get_ylabel(), visible=False) #remove ylabel\n",
    "    \n",
    "    return df.describe()"
   ]
  },
  {
   "cell_type": "code",
   "execution_count": 42,
   "metadata": {},
   "outputs": [
    {
     "data": {
      "text/plain": [
       "count        24.000000\n",
       "mean     112162.643750\n",
       "std      109094.089271\n",
       "min        7983.320000\n",
       "25%       49515.712500\n",
       "50%       77829.115000\n",
       "75%      139781.872500\n",
       "max      435304.750000\n",
       "Name: game_time, dtype: float64"
      ]
     },
     "execution_count": 42,
     "metadata": {},
     "output_type": "execute_result"
    },
    {
     "data": {
      "image/png": "[encoded data removed]",
      "text/plain": [
       "<Figure size 720x432 with 1 Axes>"
      ]
     },
     "metadata": {
      "needs_background": "light"
     },
     "output_type": "display_data"
    }
   ],
   "source": [
    "plot_barh_chart(train, col='title')"
   ]
  },
  {
   "cell_type": "code",
   "execution_count": 43,
   "metadata": {},
   "outputs": [],
   "source": [
    "def net_times_per_col(df, col):\n",
    "    \n",
    "    return train.groupby(['installation_id', col])[['game_time']]\\\n",
    "                .sum()\\\n",
    "                .rename({'game_time': 'net_time_per_' + col}, axis=1)\\\n",
    "                .unstack()\\\n",
    "                .fillna(0)"
   ]
  },
  {
   "cell_type": "code",
   "execution_count": 44,
   "metadata": {},
   "outputs": [
    {
     "data": {
      "text/html": [
       "<div>\n",
       "<style scoped>\n",
       "    .dataframe tbody tr th:only-of-type {\n",
       "        vertical-align: middle;\n",
       "    }\n",
       "\n",
       "    .dataframe tbody tr th {\n",
       "        vertical-align: top;\n",
       "    }\n",
       "\n",
       "    .dataframe thead tr th {\n",
       "        text-align: left;\n",
       "    }\n",
       "\n",
       "    .dataframe thead tr:last-of-type th {\n",
       "        text-align: right;\n",
       "    }\n",
       "</style>\n",
       "<table border=\"1\" class=\"dataframe\">\n",
       "  <thead>\n",
       "    <tr>\n",
       "      <th></th>\n",
       "      <th colspan=\"24\" halign=\"left\">net_time_per_title</th>\n",
       "    </tr>\n",
       "    <tr>\n",
       "      <th>title</th>\n",
       "      <th>Air Show</th>\n",
       "      <th>All Star Sorting</th>\n",
       "      <th>Bird Measurer (Assessment)</th>\n",
       "      <th>Bottle Filler (Activity)</th>\n",
       "      <th>Bubble Bath</th>\n",
       "      <th>Bug Measurer (Activity)</th>\n",
       "      <th>Cart Balancer (Assessment)</th>\n",
       "      <th>Cauldron Filler (Assessment)</th>\n",
       "      <th>Chest Sorter (Assessment)</th>\n",
       "      <th>Chicken Balancer (Activity)</th>\n",
       "      <th>Chow Time</th>\n",
       "      <th>Crystals Rule</th>\n",
       "      <th>Dino Dive</th>\n",
       "      <th>Dino Drink</th>\n",
       "      <th>Egg Dropper (Activity)</th>\n",
       "      <th>Fireworks (Activity)</th>\n",
       "      <th>Flower Waterer (Activity)</th>\n",
       "      <th>Happy Camel</th>\n",
       "      <th>Leaf Leader</th>\n",
       "      <th>Mushroom Sorter (Assessment)</th>\n",
       "      <th>Pan Balance</th>\n",
       "      <th>Sandcastle Builder (Activity)</th>\n",
       "      <th>Scrub-A-Dub</th>\n",
       "      <th>Watering Hole (Activity)</th>\n",
       "    </tr>\n",
       "    <tr>\n",
       "      <th>installation_id</th>\n",
       "      <th></th>\n",
       "      <th></th>\n",
       "      <th></th>\n",
       "      <th></th>\n",
       "      <th></th>\n",
       "      <th></th>\n",
       "      <th></th>\n",
       "      <th></th>\n",
       "      <th></th>\n",
       "      <th></th>\n",
       "      <th></th>\n",
       "      <th></th>\n",
       "      <th></th>\n",
       "      <th></th>\n",
       "      <th></th>\n",
       "      <th></th>\n",
       "      <th></th>\n",
       "      <th></th>\n",
       "      <th></th>\n",
       "      <th></th>\n",
       "      <th></th>\n",
       "      <th></th>\n",
       "      <th></th>\n",
       "      <th></th>\n",
       "    </tr>\n",
       "  </thead>\n",
       "  <tbody>\n",
       "    <tr>\n",
       "      <td>125199</td>\n",
       "      <td>0.00</td>\n",
       "      <td>0.0</td>\n",
       "      <td>0.00</td>\n",
       "      <td>0.00</td>\n",
       "      <td>0.00</td>\n",
       "      <td>0.00</td>\n",
       "      <td>0.0</td>\n",
       "      <td>0.00</td>\n",
       "      <td>0.0</td>\n",
       "      <td>0.00</td>\n",
       "      <td>0.00</td>\n",
       "      <td>0.00</td>\n",
       "      <td>0.00</td>\n",
       "      <td>304.14</td>\n",
       "      <td>0.0</td>\n",
       "      <td>0.00</td>\n",
       "      <td>0.00</td>\n",
       "      <td>0.0</td>\n",
       "      <td>0.0</td>\n",
       "      <td>0.00</td>\n",
       "      <td>0.00</td>\n",
       "      <td>495.39</td>\n",
       "      <td>3764.37</td>\n",
       "      <td>0.00</td>\n",
       "    </tr>\n",
       "    <tr>\n",
       "      <td>280516</td>\n",
       "      <td>0.00</td>\n",
       "      <td>0.0</td>\n",
       "      <td>0.00</td>\n",
       "      <td>0.00</td>\n",
       "      <td>0.00</td>\n",
       "      <td>0.00</td>\n",
       "      <td>0.0</td>\n",
       "      <td>0.00</td>\n",
       "      <td>0.0</td>\n",
       "      <td>0.00</td>\n",
       "      <td>0.00</td>\n",
       "      <td>0.00</td>\n",
       "      <td>0.00</td>\n",
       "      <td>193.02</td>\n",
       "      <td>0.0</td>\n",
       "      <td>0.00</td>\n",
       "      <td>0.00</td>\n",
       "      <td>0.0</td>\n",
       "      <td>0.0</td>\n",
       "      <td>0.00</td>\n",
       "      <td>0.00</td>\n",
       "      <td>0.00</td>\n",
       "      <td>0.00</td>\n",
       "      <td>51.42</td>\n",
       "    </tr>\n",
       "    <tr>\n",
       "      <td>435871</td>\n",
       "      <td>479.98</td>\n",
       "      <td>124.6</td>\n",
       "      <td>78.52</td>\n",
       "      <td>622.83</td>\n",
       "      <td>340.05</td>\n",
       "      <td>270.66</td>\n",
       "      <td>0.0</td>\n",
       "      <td>0.00</td>\n",
       "      <td>0.0</td>\n",
       "      <td>0.00</td>\n",
       "      <td>0.00</td>\n",
       "      <td>381.35</td>\n",
       "      <td>20.70</td>\n",
       "      <td>301.65</td>\n",
       "      <td>0.0</td>\n",
       "      <td>1495.52</td>\n",
       "      <td>339.12</td>\n",
       "      <td>0.0</td>\n",
       "      <td>0.0</td>\n",
       "      <td>29.74</td>\n",
       "      <td>0.00</td>\n",
       "      <td>261.13</td>\n",
       "      <td>378.24</td>\n",
       "      <td>101.67</td>\n",
       "    </tr>\n",
       "    <tr>\n",
       "      <td>442770</td>\n",
       "      <td>0.00</td>\n",
       "      <td>0.0</td>\n",
       "      <td>366.12</td>\n",
       "      <td>843.68</td>\n",
       "      <td>137.03</td>\n",
       "      <td>104.85</td>\n",
       "      <td>0.0</td>\n",
       "      <td>3.12</td>\n",
       "      <td>0.0</td>\n",
       "      <td>103.87</td>\n",
       "      <td>51.25</td>\n",
       "      <td>0.77</td>\n",
       "      <td>238.11</td>\n",
       "      <td>0.00</td>\n",
       "      <td>0.0</td>\n",
       "      <td>0.00</td>\n",
       "      <td>452.06</td>\n",
       "      <td>0.0</td>\n",
       "      <td>0.0</td>\n",
       "      <td>82.30</td>\n",
       "      <td>1.23</td>\n",
       "      <td>586.18</td>\n",
       "      <td>371.76</td>\n",
       "      <td>8.14</td>\n",
       "    </tr>\n",
       "    <tr>\n",
       "      <td>632233</td>\n",
       "      <td>0.00</td>\n",
       "      <td>0.0</td>\n",
       "      <td>0.00</td>\n",
       "      <td>0.00</td>\n",
       "      <td>0.00</td>\n",
       "      <td>0.00</td>\n",
       "      <td>0.0</td>\n",
       "      <td>0.00</td>\n",
       "      <td>0.0</td>\n",
       "      <td>0.00</td>\n",
       "      <td>0.00</td>\n",
       "      <td>0.00</td>\n",
       "      <td>2571.03</td>\n",
       "      <td>0.00</td>\n",
       "      <td>0.0</td>\n",
       "      <td>0.00</td>\n",
       "      <td>0.00</td>\n",
       "      <td>0.0</td>\n",
       "      <td>0.0</td>\n",
       "      <td>0.00</td>\n",
       "      <td>0.00</td>\n",
       "      <td>115.61</td>\n",
       "      <td>0.00</td>\n",
       "      <td>50.26</td>\n",
       "    </tr>\n",
       "  </tbody>\n",
       "</table>\n",
       "</div>"
      ],
      "text/plain": [
       "                net_time_per_title                                                                                                                                                                                                                                                                                                                                                                                                                                                                              \n",
       "title                     Air Show All Star Sorting Bird Measurer (Assessment) Bottle Filler (Activity) Bubble Bath Bug Measurer (Activity) Cart Balancer (Assessment) Cauldron Filler (Assessment) Chest Sorter (Assessment) Chicken Balancer (Activity) Chow Time Crystals Rule Dino Dive Dino Drink Egg Dropper (Activity) Fireworks (Activity) Flower Waterer (Activity) Happy Camel Leaf Leader Mushroom Sorter (Assessment) Pan Balance Sandcastle Builder (Activity) Scrub-A-Dub Watering Hole (Activity)\n",
       "installation_id                                                                                                                                                                                                                                                                                                                                                                                                                                                                                                 \n",
       "125199                        0.00              0.0                       0.00                     0.00        0.00                    0.00                        0.0                         0.00                       0.0                        0.00      0.00          0.00      0.00     304.14                    0.0                 0.00                      0.00         0.0         0.0                         0.00        0.00                        495.39     3764.37                     0.00\n",
       "280516                        0.00              0.0                       0.00                     0.00        0.00                    0.00                        0.0                         0.00                       0.0                        0.00      0.00          0.00      0.00     193.02                    0.0                 0.00                      0.00         0.0         0.0                         0.00        0.00                          0.00        0.00                    51.42\n",
       "435871                      479.98            124.6                      78.52                   622.83      340.05                  270.66                        0.0                         0.00                       0.0                        0.00      0.00        381.35     20.70     301.65                    0.0              1495.52                    339.12         0.0         0.0                        29.74        0.00                        261.13      378.24                   101.67\n",
       "442770                        0.00              0.0                     366.12                   843.68      137.03                  104.85                        0.0                         3.12                       0.0                      103.87     51.25          0.77    238.11       0.00                    0.0                 0.00                    452.06         0.0         0.0                        82.30        1.23                        586.18      371.76                     8.14\n",
       "632233                        0.00              0.0                       0.00                     0.00        0.00                    0.00                        0.0                         0.00                       0.0                        0.00      0.00          0.00   2571.03       0.00                    0.0                 0.00                      0.00         0.0         0.0                         0.00        0.00                        115.61        0.00                    50.26"
      ]
     },
     "execution_count": 44,
     "metadata": {},
     "output_type": "execute_result"
    }
   ],
   "source": [
    "net_times_per_col(train, col='title').head()"
   ]
  },
  {
   "cell_type": "markdown",
   "metadata": {},
   "source": [
    "## <font color='green'>  Good Features:  ```net_time_per_title```<font>"
   ]
  },
  {
   "cell_type": "markdown",
   "metadata": {},
   "source": [
    "### c) Game Time per World"
   ]
  },
  {
   "cell_type": "code",
   "execution_count": 45,
   "metadata": {
    "scrolled": false
   },
   "outputs": [
    {
     "data": {
      "text/plain": [
       "count    3.000000e+00\n",
       "mean     8.973012e+05\n",
       "std      4.259774e+05\n",
       "min      5.787693e+05\n",
       "25%      6.553723e+05\n",
       "50%      7.319752e+05\n",
       "75%      1.056567e+06\n",
       "max      1.381159e+06\n",
       "Name: game_time, dtype: float64"
      ]
     },
     "execution_count": 45,
     "metadata": {},
     "output_type": "execute_result"
    },
    {
     "data": {
      "image/png": "[encoded data removed]",
      "text/plain": [
       "<Figure size 720x432 with 1 Axes>"
      ]
     },
     "metadata": {
      "needs_background": "light"
     },
     "output_type": "display_data"
    }
   ],
   "source": [
    "plot_barh_chart(train, col='world')"
   ]
  },
  {
   "cell_type": "code",
   "execution_count": 46,
   "metadata": {},
   "outputs": [
    {
     "data": {
      "text/html": [
       "<div>\n",
       "<style scoped>\n",
       "    .dataframe tbody tr th:only-of-type {\n",
       "        vertical-align: middle;\n",
       "    }\n",
       "\n",
       "    .dataframe tbody tr th {\n",
       "        vertical-align: top;\n",
       "    }\n",
       "\n",
       "    .dataframe thead tr th {\n",
       "        text-align: left;\n",
       "    }\n",
       "\n",
       "    .dataframe thead tr:last-of-type th {\n",
       "        text-align: right;\n",
       "    }\n",
       "</style>\n",
       "<table border=\"1\" class=\"dataframe\">\n",
       "  <thead>\n",
       "    <tr>\n",
       "      <th></th>\n",
       "      <th colspan=\"3\" halign=\"left\">net_time_per_world</th>\n",
       "    </tr>\n",
       "    <tr>\n",
       "      <th>world</th>\n",
       "      <th>CRYSTALCAVES</th>\n",
       "      <th>MAGMAPEAK</th>\n",
       "      <th>TREETOPCITY</th>\n",
       "    </tr>\n",
       "    <tr>\n",
       "      <th>installation_id</th>\n",
       "      <th></th>\n",
       "      <th></th>\n",
       "      <th></th>\n",
       "    </tr>\n",
       "  </thead>\n",
       "  <tbody>\n",
       "    <tr>\n",
       "      <td>125199</td>\n",
       "      <td>0.00</td>\n",
       "      <td>4563.90</td>\n",
       "      <td>0.00</td>\n",
       "    </tr>\n",
       "    <tr>\n",
       "      <td>280516</td>\n",
       "      <td>0.00</td>\n",
       "      <td>244.44</td>\n",
       "      <td>0.00</td>\n",
       "    </tr>\n",
       "    <tr>\n",
       "      <td>435871</td>\n",
       "      <td>0.00</td>\n",
       "      <td>2026.27</td>\n",
       "      <td>3199.49</td>\n",
       "    </tr>\n",
       "    <tr>\n",
       "      <td>442770</td>\n",
       "      <td>156.35</td>\n",
       "      <td>2188.02</td>\n",
       "      <td>1006.10</td>\n",
       "    </tr>\n",
       "    <tr>\n",
       "      <td>632233</td>\n",
       "      <td>0.00</td>\n",
       "      <td>2736.90</td>\n",
       "      <td>0.00</td>\n",
       "    </tr>\n",
       "  </tbody>\n",
       "</table>\n",
       "</div>"
      ],
      "text/plain": [
       "                net_time_per_world                      \n",
       "world                 CRYSTALCAVES MAGMAPEAK TREETOPCITY\n",
       "installation_id                                         \n",
       "125199                        0.00   4563.90        0.00\n",
       "280516                        0.00    244.44        0.00\n",
       "435871                        0.00   2026.27     3199.49\n",
       "442770                      156.35   2188.02     1006.10\n",
       "632233                        0.00   2736.90        0.00"
      ]
     },
     "execution_count": 46,
     "metadata": {},
     "output_type": "execute_result"
    }
   ],
   "source": [
    "net_times_per_col(train, col='world').head()"
   ]
  },
  {
   "cell_type": "markdown",
   "metadata": {},
   "source": [
    "## <font color='green'>  Good Features:  ```net_time_per_world```<font>"
   ]
  },
  {
   "cell_type": "markdown",
   "metadata": {},
   "source": [
    "COMMENT: Can also compute aggregates for event_counts, game_sessions, etc per title/world"
   ]
  },
  {
   "cell_type": "markdown",
   "metadata": {},
   "source": [
    "### d) Avg Time Per Session"
   ]
  },
  {
   "cell_type": "code",
   "execution_count": 47,
   "metadata": {},
   "outputs": [],
   "source": [
    "def avg_time_per_sess(df):\n",
    "    \n",
    "    df = df.reset_index()\\\n",
    "           .groupby(['installation_id'])[['game_time','game_session']]\\\n",
    "           .agg({'game_time': 'sum',\n",
    "                 'game_session': 'nunique'})\n",
    "    \n",
    "    df['avg_time_per_sess'] = df['game_time'] / df['game_session']\n",
    "    \n",
    "    return df[['avg_time_per_sess']].astype('int')\n",
    "\n",
    "             "
   ]
  },
  {
   "cell_type": "code",
   "execution_count": 48,
   "metadata": {},
   "outputs": [
    {
     "data": {
      "text/html": [
       "<div>\n",
       "<style scoped>\n",
       "    .dataframe tbody tr th:only-of-type {\n",
       "        vertical-align: middle;\n",
       "    }\n",
       "\n",
       "    .dataframe tbody tr th {\n",
       "        vertical-align: top;\n",
       "    }\n",
       "\n",
       "    .dataframe thead th {\n",
       "        text-align: right;\n",
       "    }\n",
       "</style>\n",
       "<table border=\"1\" class=\"dataframe\">\n",
       "  <thead>\n",
       "    <tr style=\"text-align: right;\">\n",
       "      <th></th>\n",
       "      <th>avg_time_per_sess</th>\n",
       "    </tr>\n",
       "    <tr>\n",
       "      <th>installation_id</th>\n",
       "      <th></th>\n",
       "    </tr>\n",
       "  </thead>\n",
       "  <tbody>\n",
       "    <tr>\n",
       "      <td>125199</td>\n",
       "      <td>912</td>\n",
       "    </tr>\n",
       "    <tr>\n",
       "      <td>280516</td>\n",
       "      <td>122</td>\n",
       "    </tr>\n",
       "    <tr>\n",
       "      <td>435871</td>\n",
       "      <td>124</td>\n",
       "    </tr>\n",
       "    <tr>\n",
       "      <td>442770</td>\n",
       "      <td>186</td>\n",
       "    </tr>\n",
       "    <tr>\n",
       "      <td>632233</td>\n",
       "      <td>912</td>\n",
       "    </tr>\n",
       "  </tbody>\n",
       "</table>\n",
       "</div>"
      ],
      "text/plain": [
       "                 avg_time_per_sess\n",
       "installation_id                   \n",
       "125199                         912\n",
       "280516                         122\n",
       "435871                         124\n",
       "442770                         186\n",
       "632233                         912"
      ]
     },
     "execution_count": 48,
     "metadata": {},
     "output_type": "execute_result"
    }
   ],
   "source": [
    "avg_time_per_sess(train).head()"
   ]
  },
  {
   "cell_type": "markdown",
   "metadata": {},
   "source": [
    "### e)  Time per task (Activity)"
   ]
  },
  {
   "cell_type": "code",
   "execution_count": 49,
   "metadata": {},
   "outputs": [
    {
     "data": {
      "text/html": [
       "<div>\n",
       "<style scoped>\n",
       "    .dataframe tbody tr th:only-of-type {\n",
       "        vertical-align: middle;\n",
       "    }\n",
       "\n",
       "    .dataframe tbody tr th {\n",
       "        vertical-align: top;\n",
       "    }\n",
       "\n",
       "    .dataframe thead th {\n",
       "        text-align: right;\n",
       "    }\n",
       "</style>\n",
       "<table border=\"1\" class=\"dataframe\">\n",
       "  <thead>\n",
       "    <tr style=\"text-align: right;\">\n",
       "      <th></th>\n",
       "      <th></th>\n",
       "      <th>event_id</th>\n",
       "      <th>timestamp</th>\n",
       "      <th>event_data</th>\n",
       "      <th>event_count</th>\n",
       "      <th>event_code</th>\n",
       "      <th>game_time</th>\n",
       "      <th>title</th>\n",
       "      <th>type</th>\n",
       "      <th>world</th>\n",
       "      <th>hour</th>\n",
       "      <th>day</th>\n",
       "    </tr>\n",
       "    <tr>\n",
       "      <th>installation_id</th>\n",
       "      <th>game_session</th>\n",
       "      <th></th>\n",
       "      <th></th>\n",
       "      <th></th>\n",
       "      <th></th>\n",
       "      <th></th>\n",
       "      <th></th>\n",
       "      <th></th>\n",
       "      <th></th>\n",
       "      <th></th>\n",
       "      <th></th>\n",
       "      <th></th>\n",
       "    </tr>\n",
       "  </thead>\n",
       "  <tbody>\n",
       "    <tr>\n",
       "      <td rowspan=\"5\" valign=\"top\">125199</td>\n",
       "      <td>0848ef14a8dc6892</td>\n",
       "      <td>77261ab5</td>\n",
       "      <td>2019-09-06 17:54:56.302000+00:00</td>\n",
       "      <td>{'version': '1.0', 'event_count': 1, 'game_tim...</td>\n",
       "      <td>1</td>\n",
       "      <td>2000</td>\n",
       "      <td>0.00</td>\n",
       "      <td>Sandcastle Builder (Activity)</td>\n",
       "      <td>Activity</td>\n",
       "      <td>MAGMAPEAK</td>\n",
       "      <td>17</td>\n",
       "      <td>6</td>\n",
       "    </tr>\n",
       "    <tr>\n",
       "      <td>0848ef14a8dc6892</td>\n",
       "      <td>b2dba42b</td>\n",
       "      <td>2019-09-06 17:54:56.387000+00:00</td>\n",
       "      <td>{'description': 'Let's build a sandcastle! Fir...</td>\n",
       "      <td>2</td>\n",
       "      <td>3010</td>\n",
       "      <td>0.00</td>\n",
       "      <td>Sandcastle Builder (Activity)</td>\n",
       "      <td>Activity</td>\n",
       "      <td>MAGMAPEAK</td>\n",
       "      <td>17</td>\n",
       "      <td>6</td>\n",
       "    </tr>\n",
       "    <tr>\n",
       "      <td>0848ef14a8dc6892</td>\n",
       "      <td>1bb5fbdb</td>\n",
       "      <td>2019-09-06 17:55:03.253000+00:00</td>\n",
       "      <td>{'description': 'Let's build a sandcastle! Fir...</td>\n",
       "      <td>3</td>\n",
       "      <td>3110</td>\n",
       "      <td>0.12</td>\n",
       "      <td>Sandcastle Builder (Activity)</td>\n",
       "      <td>Activity</td>\n",
       "      <td>MAGMAPEAK</td>\n",
       "      <td>17</td>\n",
       "      <td>6</td>\n",
       "    </tr>\n",
       "    <tr>\n",
       "      <td>0848ef14a8dc6892</td>\n",
       "      <td>1325467d</td>\n",
       "      <td>2019-09-06 17:55:06.279000+00:00</td>\n",
       "      <td>{'coordinates': {'x': 583, 'y': 605, 'stage_wi...</td>\n",
       "      <td>4</td>\n",
       "      <td>4070</td>\n",
       "      <td>0.17</td>\n",
       "      <td>Sandcastle Builder (Activity)</td>\n",
       "      <td>Activity</td>\n",
       "      <td>MAGMAPEAK</td>\n",
       "      <td>17</td>\n",
       "      <td>6</td>\n",
       "    </tr>\n",
       "    <tr>\n",
       "      <td>0848ef14a8dc6892</td>\n",
       "      <td>1325467d</td>\n",
       "      <td>2019-09-06 17:55:06.913000+00:00</td>\n",
       "      <td>{'coordinates': {'x': 601, 'y': 570, 'stage_wi...</td>\n",
       "      <td>5</td>\n",
       "      <td>4070</td>\n",
       "      <td>0.18</td>\n",
       "      <td>Sandcastle Builder (Activity)</td>\n",
       "      <td>Activity</td>\n",
       "      <td>MAGMAPEAK</td>\n",
       "      <td>17</td>\n",
       "      <td>6</td>\n",
       "    </tr>\n",
       "  </tbody>\n",
       "</table>\n",
       "</div>"
      ],
      "text/plain": [
       "                                  event_id                        timestamp                                         event_data  event_count  event_code  game_time                          title      type      world  hour  day\n",
       "installation_id game_session                                                                                                                                                                                                     \n",
       "125199          0848ef14a8dc6892  77261ab5 2019-09-06 17:54:56.302000+00:00  {'version': '1.0', 'event_count': 1, 'game_tim...            1        2000       0.00  Sandcastle Builder (Activity)  Activity  MAGMAPEAK    17    6\n",
       "                0848ef14a8dc6892  b2dba42b 2019-09-06 17:54:56.387000+00:00  {'description': 'Let's build a sandcastle! Fir...            2        3010       0.00  Sandcastle Builder (Activity)  Activity  MAGMAPEAK    17    6\n",
       "                0848ef14a8dc6892  1bb5fbdb 2019-09-06 17:55:03.253000+00:00  {'description': 'Let's build a sandcastle! Fir...            3        3110       0.12  Sandcastle Builder (Activity)  Activity  MAGMAPEAK    17    6\n",
       "                0848ef14a8dc6892  1325467d 2019-09-06 17:55:06.279000+00:00  {'coordinates': {'x': 583, 'y': 605, 'stage_wi...            4        4070       0.17  Sandcastle Builder (Activity)  Activity  MAGMAPEAK    17    6\n",
       "                0848ef14a8dc6892  1325467d 2019-09-06 17:55:06.913000+00:00  {'coordinates': {'x': 601, 'y': 570, 'stage_wi...            5        4070       0.18  Sandcastle Builder (Activity)  Activity  MAGMAPEAK    17    6"
      ]
     },
     "execution_count": 49,
     "metadata": {},
     "output_type": "execute_result"
    }
   ],
   "source": [
    "train[train.type==\"Activity\"].head()"
   ]
  },
  {
   "cell_type": "markdown",
   "metadata": {},
   "source": [
    "## C2. Game_session Aggregations"
   ]
  },
  {
   "cell_type": "markdown",
   "metadata": {},
   "source": [
    "### a) Count Sessions Per Col"
   ]
  },
  {
   "cell_type": "code",
   "execution_count": 50,
   "metadata": {},
   "outputs": [],
   "source": [
    "def count_sess_per_col(df, col):\n",
    "    \n",
    "    return df.reset_index()\\\n",
    "             .groupby(['installation_id', col])[['game_session']]\\\n",
    "             .nunique()\\\n",
    "             .rename({'game_session': 'no_sess_per_' + col}, axis=1)\\\n",
    "             .unstack()\\\n",
    "             .fillna(0)\n",
    "    \n"
   ]
  },
  {
   "cell_type": "code",
   "execution_count": 51,
   "metadata": {},
   "outputs": [
    {
     "data": {
      "text/html": [
       "<div>\n",
       "<style scoped>\n",
       "    .dataframe tbody tr th:only-of-type {\n",
       "        vertical-align: middle;\n",
       "    }\n",
       "\n",
       "    .dataframe tbody tr th {\n",
       "        vertical-align: top;\n",
       "    }\n",
       "\n",
       "    .dataframe thead tr th {\n",
       "        text-align: left;\n",
       "    }\n",
       "\n",
       "    .dataframe thead tr:last-of-type th {\n",
       "        text-align: right;\n",
       "    }\n",
       "</style>\n",
       "<table border=\"1\" class=\"dataframe\">\n",
       "  <thead>\n",
       "    <tr>\n",
       "      <th></th>\n",
       "      <th colspan=\"24\" halign=\"left\">no_sess_per_hour</th>\n",
       "    </tr>\n",
       "    <tr>\n",
       "      <th>hour</th>\n",
       "      <th>0</th>\n",
       "      <th>1</th>\n",
       "      <th>2</th>\n",
       "      <th>3</th>\n",
       "      <th>4</th>\n",
       "      <th>5</th>\n",
       "      <th>6</th>\n",
       "      <th>7</th>\n",
       "      <th>8</th>\n",
       "      <th>9</th>\n",
       "      <th>10</th>\n",
       "      <th>11</th>\n",
       "      <th>12</th>\n",
       "      <th>13</th>\n",
       "      <th>14</th>\n",
       "      <th>15</th>\n",
       "      <th>16</th>\n",
       "      <th>17</th>\n",
       "      <th>18</th>\n",
       "      <th>19</th>\n",
       "      <th>20</th>\n",
       "      <th>21</th>\n",
       "      <th>22</th>\n",
       "      <th>23</th>\n",
       "    </tr>\n",
       "    <tr>\n",
       "      <th>installation_id</th>\n",
       "      <th></th>\n",
       "      <th></th>\n",
       "      <th></th>\n",
       "      <th></th>\n",
       "      <th></th>\n",
       "      <th></th>\n",
       "      <th></th>\n",
       "      <th></th>\n",
       "      <th></th>\n",
       "      <th></th>\n",
       "      <th></th>\n",
       "      <th></th>\n",
       "      <th></th>\n",
       "      <th></th>\n",
       "      <th></th>\n",
       "      <th></th>\n",
       "      <th></th>\n",
       "      <th></th>\n",
       "      <th></th>\n",
       "      <th></th>\n",
       "      <th></th>\n",
       "      <th></th>\n",
       "      <th></th>\n",
       "      <th></th>\n",
       "    </tr>\n",
       "  </thead>\n",
       "  <tbody>\n",
       "    <tr>\n",
       "      <td>125199</td>\n",
       "      <td>0.0</td>\n",
       "      <td>0.0</td>\n",
       "      <td>0.0</td>\n",
       "      <td>0.0</td>\n",
       "      <td>0.0</td>\n",
       "      <td>0.0</td>\n",
       "      <td>0.0</td>\n",
       "      <td>0.0</td>\n",
       "      <td>0.0</td>\n",
       "      <td>0.0</td>\n",
       "      <td>0.0</td>\n",
       "      <td>0.0</td>\n",
       "      <td>0.0</td>\n",
       "      <td>0.0</td>\n",
       "      <td>0.0</td>\n",
       "      <td>0.0</td>\n",
       "      <td>0.0</td>\n",
       "      <td>2.0</td>\n",
       "      <td>3.0</td>\n",
       "      <td>0.0</td>\n",
       "      <td>0.0</td>\n",
       "      <td>0.0</td>\n",
       "      <td>0.0</td>\n",
       "      <td>0.0</td>\n",
       "    </tr>\n",
       "    <tr>\n",
       "      <td>280516</td>\n",
       "      <td>0.0</td>\n",
       "      <td>0.0</td>\n",
       "      <td>0.0</td>\n",
       "      <td>0.0</td>\n",
       "      <td>0.0</td>\n",
       "      <td>0.0</td>\n",
       "      <td>0.0</td>\n",
       "      <td>0.0</td>\n",
       "      <td>0.0</td>\n",
       "      <td>0.0</td>\n",
       "      <td>0.0</td>\n",
       "      <td>0.0</td>\n",
       "      <td>0.0</td>\n",
       "      <td>0.0</td>\n",
       "      <td>1.0</td>\n",
       "      <td>1.0</td>\n",
       "      <td>0.0</td>\n",
       "      <td>0.0</td>\n",
       "      <td>0.0</td>\n",
       "      <td>0.0</td>\n",
       "      <td>0.0</td>\n",
       "      <td>0.0</td>\n",
       "      <td>0.0</td>\n",
       "      <td>0.0</td>\n",
       "    </tr>\n",
       "    <tr>\n",
       "      <td>435871</td>\n",
       "      <td>0.0</td>\n",
       "      <td>0.0</td>\n",
       "      <td>0.0</td>\n",
       "      <td>0.0</td>\n",
       "      <td>1.0</td>\n",
       "      <td>18.0</td>\n",
       "      <td>0.0</td>\n",
       "      <td>0.0</td>\n",
       "      <td>0.0</td>\n",
       "      <td>0.0</td>\n",
       "      <td>0.0</td>\n",
       "      <td>0.0</td>\n",
       "      <td>0.0</td>\n",
       "      <td>0.0</td>\n",
       "      <td>0.0</td>\n",
       "      <td>0.0</td>\n",
       "      <td>8.0</td>\n",
       "      <td>2.0</td>\n",
       "      <td>6.0</td>\n",
       "      <td>0.0</td>\n",
       "      <td>8.0</td>\n",
       "      <td>0.0</td>\n",
       "      <td>0.0</td>\n",
       "      <td>0.0</td>\n",
       "    </tr>\n",
       "    <tr>\n",
       "      <td>442770</td>\n",
       "      <td>6.0</td>\n",
       "      <td>1.0</td>\n",
       "      <td>0.0</td>\n",
       "      <td>0.0</td>\n",
       "      <td>0.0</td>\n",
       "      <td>0.0</td>\n",
       "      <td>0.0</td>\n",
       "      <td>0.0</td>\n",
       "      <td>0.0</td>\n",
       "      <td>0.0</td>\n",
       "      <td>0.0</td>\n",
       "      <td>0.0</td>\n",
       "      <td>0.0</td>\n",
       "      <td>2.0</td>\n",
       "      <td>0.0</td>\n",
       "      <td>10.0</td>\n",
       "      <td>0.0</td>\n",
       "      <td>0.0</td>\n",
       "      <td>0.0</td>\n",
       "      <td>0.0</td>\n",
       "      <td>0.0</td>\n",
       "      <td>0.0</td>\n",
       "      <td>0.0</td>\n",
       "      <td>0.0</td>\n",
       "    </tr>\n",
       "    <tr>\n",
       "      <td>632233</td>\n",
       "      <td>0.0</td>\n",
       "      <td>0.0</td>\n",
       "      <td>0.0</td>\n",
       "      <td>0.0</td>\n",
       "      <td>0.0</td>\n",
       "      <td>0.0</td>\n",
       "      <td>0.0</td>\n",
       "      <td>0.0</td>\n",
       "      <td>0.0</td>\n",
       "      <td>0.0</td>\n",
       "      <td>0.0</td>\n",
       "      <td>0.0</td>\n",
       "      <td>0.0</td>\n",
       "      <td>0.0</td>\n",
       "      <td>0.0</td>\n",
       "      <td>0.0</td>\n",
       "      <td>0.0</td>\n",
       "      <td>0.0</td>\n",
       "      <td>3.0</td>\n",
       "      <td>1.0</td>\n",
       "      <td>0.0</td>\n",
       "      <td>0.0</td>\n",
       "      <td>0.0</td>\n",
       "      <td>0.0</td>\n",
       "    </tr>\n",
       "  </tbody>\n",
       "</table>\n",
       "</div>"
      ],
      "text/plain": [
       "                no_sess_per_hour                                                                                                                     \n",
       "hour                          0    1    2    3    4     5    6    7    8    9    10   11   12   13   14    15   16   17   18   19   20   21   22   23\n",
       "installation_id                                                                                                                                      \n",
       "125199                       0.0  0.0  0.0  0.0  0.0   0.0  0.0  0.0  0.0  0.0  0.0  0.0  0.0  0.0  0.0   0.0  0.0  2.0  3.0  0.0  0.0  0.0  0.0  0.0\n",
       "280516                       0.0  0.0  0.0  0.0  0.0   0.0  0.0  0.0  0.0  0.0  0.0  0.0  0.0  0.0  1.0   1.0  0.0  0.0  0.0  0.0  0.0  0.0  0.0  0.0\n",
       "435871                       0.0  0.0  0.0  0.0  1.0  18.0  0.0  0.0  0.0  0.0  0.0  0.0  0.0  0.0  0.0   0.0  8.0  2.0  6.0  0.0  8.0  0.0  0.0  0.0\n",
       "442770                       6.0  1.0  0.0  0.0  0.0   0.0  0.0  0.0  0.0  0.0  0.0  0.0  0.0  2.0  0.0  10.0  0.0  0.0  0.0  0.0  0.0  0.0  0.0  0.0\n",
       "632233                       0.0  0.0  0.0  0.0  0.0   0.0  0.0  0.0  0.0  0.0  0.0  0.0  0.0  0.0  0.0   0.0  0.0  0.0  3.0  1.0  0.0  0.0  0.0  0.0"
      ]
     },
     "execution_count": 51,
     "metadata": {},
     "output_type": "execute_result"
    }
   ],
   "source": [
    "count_sess_per_col(train, col='hour').head()"
   ]
  },
  {
   "cell_type": "code",
   "execution_count": 52,
   "metadata": {},
   "outputs": [
    {
     "data": {
      "text/html": [
       "<div>\n",
       "<style scoped>\n",
       "    .dataframe tbody tr th:only-of-type {\n",
       "        vertical-align: middle;\n",
       "    }\n",
       "\n",
       "    .dataframe tbody tr th {\n",
       "        vertical-align: top;\n",
       "    }\n",
       "\n",
       "    .dataframe thead tr th {\n",
       "        text-align: left;\n",
       "    }\n",
       "\n",
       "    .dataframe thead tr:last-of-type th {\n",
       "        text-align: right;\n",
       "    }\n",
       "</style>\n",
       "<table border=\"1\" class=\"dataframe\">\n",
       "  <thead>\n",
       "    <tr>\n",
       "      <th></th>\n",
       "      <th colspan=\"31\" halign=\"left\">no_sess_per_day</th>\n",
       "    </tr>\n",
       "    <tr>\n",
       "      <th>day</th>\n",
       "      <th>1</th>\n",
       "      <th>2</th>\n",
       "      <th>3</th>\n",
       "      <th>4</th>\n",
       "      <th>5</th>\n",
       "      <th>6</th>\n",
       "      <th>7</th>\n",
       "      <th>8</th>\n",
       "      <th>9</th>\n",
       "      <th>10</th>\n",
       "      <th>11</th>\n",
       "      <th>12</th>\n",
       "      <th>13</th>\n",
       "      <th>14</th>\n",
       "      <th>15</th>\n",
       "      <th>16</th>\n",
       "      <th>17</th>\n",
       "      <th>18</th>\n",
       "      <th>19</th>\n",
       "      <th>20</th>\n",
       "      <th>21</th>\n",
       "      <th>22</th>\n",
       "      <th>23</th>\n",
       "      <th>24</th>\n",
       "      <th>25</th>\n",
       "      <th>26</th>\n",
       "      <th>27</th>\n",
       "      <th>28</th>\n",
       "      <th>29</th>\n",
       "      <th>30</th>\n",
       "      <th>31</th>\n",
       "    </tr>\n",
       "    <tr>\n",
       "      <th>installation_id</th>\n",
       "      <th></th>\n",
       "      <th></th>\n",
       "      <th></th>\n",
       "      <th></th>\n",
       "      <th></th>\n",
       "      <th></th>\n",
       "      <th></th>\n",
       "      <th></th>\n",
       "      <th></th>\n",
       "      <th></th>\n",
       "      <th></th>\n",
       "      <th></th>\n",
       "      <th></th>\n",
       "      <th></th>\n",
       "      <th></th>\n",
       "      <th></th>\n",
       "      <th></th>\n",
       "      <th></th>\n",
       "      <th></th>\n",
       "      <th></th>\n",
       "      <th></th>\n",
       "      <th></th>\n",
       "      <th></th>\n",
       "      <th></th>\n",
       "      <th></th>\n",
       "      <th></th>\n",
       "      <th></th>\n",
       "      <th></th>\n",
       "      <th></th>\n",
       "      <th></th>\n",
       "      <th></th>\n",
       "    </tr>\n",
       "  </thead>\n",
       "  <tbody>\n",
       "    <tr>\n",
       "      <td>125199</td>\n",
       "      <td>0.0</td>\n",
       "      <td>0.0</td>\n",
       "      <td>0.0</td>\n",
       "      <td>0.0</td>\n",
       "      <td>0.0</td>\n",
       "      <td>5.0</td>\n",
       "      <td>0.0</td>\n",
       "      <td>0.0</td>\n",
       "      <td>0.0</td>\n",
       "      <td>0.0</td>\n",
       "      <td>0.0</td>\n",
       "      <td>0.0</td>\n",
       "      <td>0.0</td>\n",
       "      <td>0.0</td>\n",
       "      <td>0.0</td>\n",
       "      <td>0.0</td>\n",
       "      <td>0.0</td>\n",
       "      <td>0.0</td>\n",
       "      <td>0.0</td>\n",
       "      <td>0.0</td>\n",
       "      <td>0.0</td>\n",
       "      <td>0.0</td>\n",
       "      <td>0.0</td>\n",
       "      <td>0.0</td>\n",
       "      <td>0.0</td>\n",
       "      <td>0.0</td>\n",
       "      <td>0.0</td>\n",
       "      <td>0.0</td>\n",
       "      <td>0.0</td>\n",
       "      <td>0.0</td>\n",
       "      <td>0.0</td>\n",
       "    </tr>\n",
       "    <tr>\n",
       "      <td>280516</td>\n",
       "      <td>0.0</td>\n",
       "      <td>0.0</td>\n",
       "      <td>0.0</td>\n",
       "      <td>0.0</td>\n",
       "      <td>0.0</td>\n",
       "      <td>0.0</td>\n",
       "      <td>0.0</td>\n",
       "      <td>0.0</td>\n",
       "      <td>0.0</td>\n",
       "      <td>0.0</td>\n",
       "      <td>2.0</td>\n",
       "      <td>0.0</td>\n",
       "      <td>0.0</td>\n",
       "      <td>0.0</td>\n",
       "      <td>0.0</td>\n",
       "      <td>0.0</td>\n",
       "      <td>0.0</td>\n",
       "      <td>0.0</td>\n",
       "      <td>0.0</td>\n",
       "      <td>0.0</td>\n",
       "      <td>0.0</td>\n",
       "      <td>0.0</td>\n",
       "      <td>0.0</td>\n",
       "      <td>0.0</td>\n",
       "      <td>0.0</td>\n",
       "      <td>0.0</td>\n",
       "      <td>0.0</td>\n",
       "      <td>0.0</td>\n",
       "      <td>0.0</td>\n",
       "      <td>0.0</td>\n",
       "      <td>0.0</td>\n",
       "    </tr>\n",
       "    <tr>\n",
       "      <td>435871</td>\n",
       "      <td>0.0</td>\n",
       "      <td>0.0</td>\n",
       "      <td>0.0</td>\n",
       "      <td>0.0</td>\n",
       "      <td>0.0</td>\n",
       "      <td>29.0</td>\n",
       "      <td>0.0</td>\n",
       "      <td>0.0</td>\n",
       "      <td>5.0</td>\n",
       "      <td>0.0</td>\n",
       "      <td>0.0</td>\n",
       "      <td>0.0</td>\n",
       "      <td>0.0</td>\n",
       "      <td>0.0</td>\n",
       "      <td>0.0</td>\n",
       "      <td>0.0</td>\n",
       "      <td>0.0</td>\n",
       "      <td>0.0</td>\n",
       "      <td>0.0</td>\n",
       "      <td>0.0</td>\n",
       "      <td>0.0</td>\n",
       "      <td>0.0</td>\n",
       "      <td>0.0</td>\n",
       "      <td>0.0</td>\n",
       "      <td>0.0</td>\n",
       "      <td>0.0</td>\n",
       "      <td>0.0</td>\n",
       "      <td>0.0</td>\n",
       "      <td>8.0</td>\n",
       "      <td>0.0</td>\n",
       "      <td>0.0</td>\n",
       "    </tr>\n",
       "    <tr>\n",
       "      <td>442770</td>\n",
       "      <td>4.0</td>\n",
       "      <td>0.0</td>\n",
       "      <td>0.0</td>\n",
       "      <td>0.0</td>\n",
       "      <td>0.0</td>\n",
       "      <td>0.0</td>\n",
       "      <td>0.0</td>\n",
       "      <td>0.0</td>\n",
       "      <td>0.0</td>\n",
       "      <td>0.0</td>\n",
       "      <td>0.0</td>\n",
       "      <td>0.0</td>\n",
       "      <td>2.0</td>\n",
       "      <td>10.0</td>\n",
       "      <td>0.0</td>\n",
       "      <td>0.0</td>\n",
       "      <td>0.0</td>\n",
       "      <td>0.0</td>\n",
       "      <td>0.0</td>\n",
       "      <td>2.0</td>\n",
       "      <td>0.0</td>\n",
       "      <td>0.0</td>\n",
       "      <td>0.0</td>\n",
       "      <td>0.0</td>\n",
       "      <td>0.0</td>\n",
       "      <td>0.0</td>\n",
       "      <td>0.0</td>\n",
       "      <td>0.0</td>\n",
       "      <td>0.0</td>\n",
       "      <td>0.0</td>\n",
       "      <td>0.0</td>\n",
       "    </tr>\n",
       "    <tr>\n",
       "      <td>632233</td>\n",
       "      <td>0.0</td>\n",
       "      <td>0.0</td>\n",
       "      <td>0.0</td>\n",
       "      <td>0.0</td>\n",
       "      <td>0.0</td>\n",
       "      <td>0.0</td>\n",
       "      <td>0.0</td>\n",
       "      <td>0.0</td>\n",
       "      <td>0.0</td>\n",
       "      <td>0.0</td>\n",
       "      <td>3.0</td>\n",
       "      <td>0.0</td>\n",
       "      <td>0.0</td>\n",
       "      <td>0.0</td>\n",
       "      <td>0.0</td>\n",
       "      <td>0.0</td>\n",
       "      <td>0.0</td>\n",
       "      <td>0.0</td>\n",
       "      <td>0.0</td>\n",
       "      <td>0.0</td>\n",
       "      <td>0.0</td>\n",
       "      <td>0.0</td>\n",
       "      <td>0.0</td>\n",
       "      <td>0.0</td>\n",
       "      <td>0.0</td>\n",
       "      <td>0.0</td>\n",
       "      <td>0.0</td>\n",
       "      <td>0.0</td>\n",
       "      <td>0.0</td>\n",
       "      <td>0.0</td>\n",
       "      <td>0.0</td>\n",
       "    </tr>\n",
       "  </tbody>\n",
       "</table>\n",
       "</div>"
      ],
      "text/plain": [
       "                no_sess_per_day                                                                                                                                                        \n",
       "day                          1    2    3    4    5     6    7    8    9    10   11   12   13    14   15   16   17   18   19   20   21   22   23   24   25   26   27   28   29   30   31\n",
       "installation_id                                                                                                                                                                        \n",
       "125199                      0.0  0.0  0.0  0.0  0.0   5.0  0.0  0.0  0.0  0.0  0.0  0.0  0.0   0.0  0.0  0.0  0.0  0.0  0.0  0.0  0.0  0.0  0.0  0.0  0.0  0.0  0.0  0.0  0.0  0.0  0.0\n",
       "280516                      0.0  0.0  0.0  0.0  0.0   0.0  0.0  0.0  0.0  0.0  2.0  0.0  0.0   0.0  0.0  0.0  0.0  0.0  0.0  0.0  0.0  0.0  0.0  0.0  0.0  0.0  0.0  0.0  0.0  0.0  0.0\n",
       "435871                      0.0  0.0  0.0  0.0  0.0  29.0  0.0  0.0  5.0  0.0  0.0  0.0  0.0   0.0  0.0  0.0  0.0  0.0  0.0  0.0  0.0  0.0  0.0  0.0  0.0  0.0  0.0  0.0  8.0  0.0  0.0\n",
       "442770                      4.0  0.0  0.0  0.0  0.0   0.0  0.0  0.0  0.0  0.0  0.0  0.0  2.0  10.0  0.0  0.0  0.0  0.0  0.0  2.0  0.0  0.0  0.0  0.0  0.0  0.0  0.0  0.0  0.0  0.0  0.0\n",
       "632233                      0.0  0.0  0.0  0.0  0.0   0.0  0.0  0.0  0.0  0.0  3.0  0.0  0.0   0.0  0.0  0.0  0.0  0.0  0.0  0.0  0.0  0.0  0.0  0.0  0.0  0.0  0.0  0.0  0.0  0.0  0.0"
      ]
     },
     "execution_count": 52,
     "metadata": {},
     "output_type": "execute_result"
    }
   ],
   "source": [
    "count_sess_per_col(train, col='day').head()"
   ]
  },
  {
   "cell_type": "code",
   "execution_count": 53,
   "metadata": {},
   "outputs": [
    {
     "data": {
      "text/html": [
       "<div>\n",
       "<style scoped>\n",
       "    .dataframe tbody tr th:only-of-type {\n",
       "        vertical-align: middle;\n",
       "    }\n",
       "\n",
       "    .dataframe tbody tr th {\n",
       "        vertical-align: top;\n",
       "    }\n",
       "\n",
       "    .dataframe thead tr th {\n",
       "        text-align: left;\n",
       "    }\n",
       "\n",
       "    .dataframe thead tr:last-of-type th {\n",
       "        text-align: right;\n",
       "    }\n",
       "</style>\n",
       "<table border=\"1\" class=\"dataframe\">\n",
       "  <thead>\n",
       "    <tr>\n",
       "      <th></th>\n",
       "      <th colspan=\"3\" halign=\"left\">no_sess_per_world</th>\n",
       "    </tr>\n",
       "    <tr>\n",
       "      <th>world</th>\n",
       "      <th>CRYSTALCAVES</th>\n",
       "      <th>MAGMAPEAK</th>\n",
       "      <th>TREETOPCITY</th>\n",
       "    </tr>\n",
       "    <tr>\n",
       "      <th>installation_id</th>\n",
       "      <th></th>\n",
       "      <th></th>\n",
       "      <th></th>\n",
       "    </tr>\n",
       "  </thead>\n",
       "  <tbody>\n",
       "    <tr>\n",
       "      <td>125199</td>\n",
       "      <td>0.0</td>\n",
       "      <td>5.0</td>\n",
       "      <td>0.0</td>\n",
       "    </tr>\n",
       "    <tr>\n",
       "      <td>280516</td>\n",
       "      <td>0.0</td>\n",
       "      <td>2.0</td>\n",
       "      <td>0.0</td>\n",
       "    </tr>\n",
       "    <tr>\n",
       "      <td>435871</td>\n",
       "      <td>0.0</td>\n",
       "      <td>22.0</td>\n",
       "      <td>20.0</td>\n",
       "    </tr>\n",
       "    <tr>\n",
       "      <td>442770</td>\n",
       "      <td>3.0</td>\n",
       "      <td>10.0</td>\n",
       "      <td>5.0</td>\n",
       "    </tr>\n",
       "    <tr>\n",
       "      <td>632233</td>\n",
       "      <td>0.0</td>\n",
       "      <td>3.0</td>\n",
       "      <td>0.0</td>\n",
       "    </tr>\n",
       "  </tbody>\n",
       "</table>\n",
       "</div>"
      ],
      "text/plain": [
       "                no_sess_per_world                      \n",
       "world                CRYSTALCAVES MAGMAPEAK TREETOPCITY\n",
       "installation_id                                        \n",
       "125199                        0.0       5.0         0.0\n",
       "280516                        0.0       2.0         0.0\n",
       "435871                        0.0      22.0        20.0\n",
       "442770                        3.0      10.0         5.0\n",
       "632233                        0.0       3.0         0.0"
      ]
     },
     "execution_count": 53,
     "metadata": {},
     "output_type": "execute_result"
    }
   ],
   "source": [
    "count_sess_per_col(train, col='world').head()"
   ]
  },
  {
   "cell_type": "code",
   "execution_count": 54,
   "metadata": {},
   "outputs": [
    {
     "data": {
      "text/html": [
       "<div>\n",
       "<style scoped>\n",
       "    .dataframe tbody tr th:only-of-type {\n",
       "        vertical-align: middle;\n",
       "    }\n",
       "\n",
       "    .dataframe tbody tr th {\n",
       "        vertical-align: top;\n",
       "    }\n",
       "\n",
       "    .dataframe thead tr th {\n",
       "        text-align: left;\n",
       "    }\n",
       "\n",
       "    .dataframe thead tr:last-of-type th {\n",
       "        text-align: right;\n",
       "    }\n",
       "</style>\n",
       "<table border=\"1\" class=\"dataframe\">\n",
       "  <thead>\n",
       "    <tr>\n",
       "      <th></th>\n",
       "      <th colspan=\"24\" halign=\"left\">no_sess_per_title</th>\n",
       "    </tr>\n",
       "    <tr>\n",
       "      <th>title</th>\n",
       "      <th>Air Show</th>\n",
       "      <th>All Star Sorting</th>\n",
       "      <th>Bird Measurer (Assessment)</th>\n",
       "      <th>Bottle Filler (Activity)</th>\n",
       "      <th>Bubble Bath</th>\n",
       "      <th>Bug Measurer (Activity)</th>\n",
       "      <th>Cart Balancer (Assessment)</th>\n",
       "      <th>Cauldron Filler (Assessment)</th>\n",
       "      <th>Chest Sorter (Assessment)</th>\n",
       "      <th>Chicken Balancer (Activity)</th>\n",
       "      <th>Chow Time</th>\n",
       "      <th>Crystals Rule</th>\n",
       "      <th>Dino Dive</th>\n",
       "      <th>Dino Drink</th>\n",
       "      <th>Egg Dropper (Activity)</th>\n",
       "      <th>Fireworks (Activity)</th>\n",
       "      <th>Flower Waterer (Activity)</th>\n",
       "      <th>Happy Camel</th>\n",
       "      <th>Leaf Leader</th>\n",
       "      <th>Mushroom Sorter (Assessment)</th>\n",
       "      <th>Pan Balance</th>\n",
       "      <th>Sandcastle Builder (Activity)</th>\n",
       "      <th>Scrub-A-Dub</th>\n",
       "      <th>Watering Hole (Activity)</th>\n",
       "    </tr>\n",
       "    <tr>\n",
       "      <th>installation_id</th>\n",
       "      <th></th>\n",
       "      <th></th>\n",
       "      <th></th>\n",
       "      <th></th>\n",
       "      <th></th>\n",
       "      <th></th>\n",
       "      <th></th>\n",
       "      <th></th>\n",
       "      <th></th>\n",
       "      <th></th>\n",
       "      <th></th>\n",
       "      <th></th>\n",
       "      <th></th>\n",
       "      <th></th>\n",
       "      <th></th>\n",
       "      <th></th>\n",
       "      <th></th>\n",
       "      <th></th>\n",
       "      <th></th>\n",
       "      <th></th>\n",
       "      <th></th>\n",
       "      <th></th>\n",
       "      <th></th>\n",
       "      <th></th>\n",
       "    </tr>\n",
       "  </thead>\n",
       "  <tbody>\n",
       "    <tr>\n",
       "      <td>125199</td>\n",
       "      <td>0.0</td>\n",
       "      <td>0.0</td>\n",
       "      <td>0.0</td>\n",
       "      <td>0.0</td>\n",
       "      <td>0.0</td>\n",
       "      <td>0.0</td>\n",
       "      <td>0.0</td>\n",
       "      <td>0.0</td>\n",
       "      <td>0.0</td>\n",
       "      <td>0.0</td>\n",
       "      <td>0.0</td>\n",
       "      <td>0.0</td>\n",
       "      <td>0.0</td>\n",
       "      <td>1.0</td>\n",
       "      <td>0.0</td>\n",
       "      <td>0.0</td>\n",
       "      <td>0.0</td>\n",
       "      <td>0.0</td>\n",
       "      <td>0.0</td>\n",
       "      <td>0.0</td>\n",
       "      <td>0.0</td>\n",
       "      <td>3.0</td>\n",
       "      <td>1.0</td>\n",
       "      <td>0.0</td>\n",
       "    </tr>\n",
       "    <tr>\n",
       "      <td>280516</td>\n",
       "      <td>0.0</td>\n",
       "      <td>0.0</td>\n",
       "      <td>0.0</td>\n",
       "      <td>0.0</td>\n",
       "      <td>0.0</td>\n",
       "      <td>0.0</td>\n",
       "      <td>0.0</td>\n",
       "      <td>0.0</td>\n",
       "      <td>0.0</td>\n",
       "      <td>0.0</td>\n",
       "      <td>0.0</td>\n",
       "      <td>0.0</td>\n",
       "      <td>0.0</td>\n",
       "      <td>1.0</td>\n",
       "      <td>0.0</td>\n",
       "      <td>0.0</td>\n",
       "      <td>0.0</td>\n",
       "      <td>0.0</td>\n",
       "      <td>0.0</td>\n",
       "      <td>0.0</td>\n",
       "      <td>0.0</td>\n",
       "      <td>0.0</td>\n",
       "      <td>0.0</td>\n",
       "      <td>1.0</td>\n",
       "    </tr>\n",
       "    <tr>\n",
       "      <td>435871</td>\n",
       "      <td>2.0</td>\n",
       "      <td>4.0</td>\n",
       "      <td>2.0</td>\n",
       "      <td>2.0</td>\n",
       "      <td>2.0</td>\n",
       "      <td>2.0</td>\n",
       "      <td>0.0</td>\n",
       "      <td>0.0</td>\n",
       "      <td>0.0</td>\n",
       "      <td>0.0</td>\n",
       "      <td>0.0</td>\n",
       "      <td>2.0</td>\n",
       "      <td>2.0</td>\n",
       "      <td>3.0</td>\n",
       "      <td>0.0</td>\n",
       "      <td>2.0</td>\n",
       "      <td>2.0</td>\n",
       "      <td>0.0</td>\n",
       "      <td>0.0</td>\n",
       "      <td>4.0</td>\n",
       "      <td>0.0</td>\n",
       "      <td>6.0</td>\n",
       "      <td>4.0</td>\n",
       "      <td>3.0</td>\n",
       "    </tr>\n",
       "    <tr>\n",
       "      <td>442770</td>\n",
       "      <td>0.0</td>\n",
       "      <td>0.0</td>\n",
       "      <td>1.0</td>\n",
       "      <td>1.0</td>\n",
       "      <td>1.0</td>\n",
       "      <td>1.0</td>\n",
       "      <td>0.0</td>\n",
       "      <td>2.0</td>\n",
       "      <td>0.0</td>\n",
       "      <td>1.0</td>\n",
       "      <td>1.0</td>\n",
       "      <td>1.0</td>\n",
       "      <td>1.0</td>\n",
       "      <td>0.0</td>\n",
       "      <td>0.0</td>\n",
       "      <td>0.0</td>\n",
       "      <td>1.0</td>\n",
       "      <td>0.0</td>\n",
       "      <td>0.0</td>\n",
       "      <td>1.0</td>\n",
       "      <td>1.0</td>\n",
       "      <td>3.0</td>\n",
       "      <td>1.0</td>\n",
       "      <td>1.0</td>\n",
       "    </tr>\n",
       "    <tr>\n",
       "      <td>632233</td>\n",
       "      <td>0.0</td>\n",
       "      <td>0.0</td>\n",
       "      <td>0.0</td>\n",
       "      <td>0.0</td>\n",
       "      <td>0.0</td>\n",
       "      <td>0.0</td>\n",
       "      <td>0.0</td>\n",
       "      <td>0.0</td>\n",
       "      <td>0.0</td>\n",
       "      <td>0.0</td>\n",
       "      <td>0.0</td>\n",
       "      <td>0.0</td>\n",
       "      <td>1.0</td>\n",
       "      <td>0.0</td>\n",
       "      <td>0.0</td>\n",
       "      <td>0.0</td>\n",
       "      <td>0.0</td>\n",
       "      <td>0.0</td>\n",
       "      <td>0.0</td>\n",
       "      <td>0.0</td>\n",
       "      <td>0.0</td>\n",
       "      <td>1.0</td>\n",
       "      <td>0.0</td>\n",
       "      <td>1.0</td>\n",
       "    </tr>\n",
       "  </tbody>\n",
       "</table>\n",
       "</div>"
      ],
      "text/plain": [
       "                no_sess_per_title                                                                                                                                                                                                                                                                                                                                                                                                                                                                              \n",
       "title                    Air Show All Star Sorting Bird Measurer (Assessment) Bottle Filler (Activity) Bubble Bath Bug Measurer (Activity) Cart Balancer (Assessment) Cauldron Filler (Assessment) Chest Sorter (Assessment) Chicken Balancer (Activity) Chow Time Crystals Rule Dino Dive Dino Drink Egg Dropper (Activity) Fireworks (Activity) Flower Waterer (Activity) Happy Camel Leaf Leader Mushroom Sorter (Assessment) Pan Balance Sandcastle Builder (Activity) Scrub-A-Dub Watering Hole (Activity)\n",
       "installation_id                                                                                                                                                                                                                                                                                                                                                                                                                                                                                                \n",
       "125199                        0.0              0.0                        0.0                      0.0         0.0                     0.0                        0.0                          0.0                       0.0                         0.0       0.0           0.0       0.0        1.0                    0.0                  0.0                       0.0         0.0         0.0                          0.0         0.0                           3.0         1.0                      0.0\n",
       "280516                        0.0              0.0                        0.0                      0.0         0.0                     0.0                        0.0                          0.0                       0.0                         0.0       0.0           0.0       0.0        1.0                    0.0                  0.0                       0.0         0.0         0.0                          0.0         0.0                           0.0         0.0                      1.0\n",
       "435871                        2.0              4.0                        2.0                      2.0         2.0                     2.0                        0.0                          0.0                       0.0                         0.0       0.0           2.0       2.0        3.0                    0.0                  2.0                       2.0         0.0         0.0                          4.0         0.0                           6.0         4.0                      3.0\n",
       "442770                        0.0              0.0                        1.0                      1.0         1.0                     1.0                        0.0                          2.0                       0.0                         1.0       1.0           1.0       1.0        0.0                    0.0                  0.0                       1.0         0.0         0.0                          1.0         1.0                           3.0         1.0                      1.0\n",
       "632233                        0.0              0.0                        0.0                      0.0         0.0                     0.0                        0.0                          0.0                       0.0                         0.0       0.0           0.0       1.0        0.0                    0.0                  0.0                       0.0         0.0         0.0                          0.0         0.0                           1.0         0.0                      1.0"
      ]
     },
     "execution_count": 54,
     "metadata": {},
     "output_type": "execute_result"
    }
   ],
   "source": [
    "count_sess_per_col(train, col='title').head()"
   ]
  },
  {
   "cell_type": "markdown",
   "metadata": {},
   "source": [
    "## <font color='green'>  Good Features:  ```no_sess_per_col```<font>\n",
    "```col = ['hour', 'day', 'title', 'world']```"
   ]
  },
  {
   "cell_type": "markdown",
   "metadata": {},
   "source": [
    "### b) "
   ]
  },
  {
   "cell_type": "markdown",
   "metadata": {},
   "source": [
    "## <font color='green'>  Good Features:  ```time_per_sess, events_per_sess, avg_time_per_sess```<font>"
   ]
  },
  {
   "cell_type": "markdown",
   "metadata": {},
   "source": [
    "### c) How often do they sign in AND play? And Why?"
   ]
  },
  {
   "cell_type": "markdown",
   "metadata": {},
   "source": [
    "## C3. Event_code Aggregations"
   ]
  },
  {
   "cell_type": "code",
   "execution_count": 55,
   "metadata": {},
   "outputs": [],
   "source": [
    "def count_codes_per_col(df, col):\n",
    "    \n",
    "    return df.reset_index()\\\n",
    "             .groupby(['installation_id', col])[['event_code']]\\\n",
    "             .nunique()\\\n",
    "             .rename({'event_code': 'no_codes_per_' + col}, axis=1)\\\n",
    "             .unstack()\\\n",
    "             .fillna(0)"
   ]
  },
  {
   "cell_type": "code",
   "execution_count": 56,
   "metadata": {
    "scrolled": true
   },
   "outputs": [
    {
     "data": {
      "text/html": [
       "<div>\n",
       "<style scoped>\n",
       "    .dataframe tbody tr th:only-of-type {\n",
       "        vertical-align: middle;\n",
       "    }\n",
       "\n",
       "    .dataframe tbody tr th {\n",
       "        vertical-align: top;\n",
       "    }\n",
       "\n",
       "    .dataframe thead tr th {\n",
       "        text-align: left;\n",
       "    }\n",
       "\n",
       "    .dataframe thead tr:last-of-type th {\n",
       "        text-align: right;\n",
       "    }\n",
       "</style>\n",
       "<table border=\"1\" class=\"dataframe\">\n",
       "  <thead>\n",
       "    <tr>\n",
       "      <th></th>\n",
       "      <th colspan=\"3\" halign=\"left\">no_codes_per_world</th>\n",
       "    </tr>\n",
       "    <tr>\n",
       "      <th>world</th>\n",
       "      <th>CRYSTALCAVES</th>\n",
       "      <th>MAGMAPEAK</th>\n",
       "      <th>TREETOPCITY</th>\n",
       "    </tr>\n",
       "    <tr>\n",
       "      <th>installation_id</th>\n",
       "      <th></th>\n",
       "      <th></th>\n",
       "      <th></th>\n",
       "    </tr>\n",
       "  </thead>\n",
       "  <tbody>\n",
       "    <tr>\n",
       "      <td>125199</td>\n",
       "      <td>0.0</td>\n",
       "      <td>23.0</td>\n",
       "      <td>0.0</td>\n",
       "    </tr>\n",
       "    <tr>\n",
       "      <td>280516</td>\n",
       "      <td>0.0</td>\n",
       "      <td>19.0</td>\n",
       "      <td>0.0</td>\n",
       "    </tr>\n",
       "    <tr>\n",
       "      <td>435871</td>\n",
       "      <td>0.0</td>\n",
       "      <td>36.0</td>\n",
       "      <td>26.0</td>\n",
       "    </tr>\n",
       "    <tr>\n",
       "      <td>442770</td>\n",
       "      <td>16.0</td>\n",
       "      <td>32.0</td>\n",
       "      <td>22.0</td>\n",
       "    </tr>\n",
       "    <tr>\n",
       "      <td>632233</td>\n",
       "      <td>0.0</td>\n",
       "      <td>21.0</td>\n",
       "      <td>0.0</td>\n",
       "    </tr>\n",
       "  </tbody>\n",
       "</table>\n",
       "</div>"
      ],
      "text/plain": [
       "                no_codes_per_world                      \n",
       "world                 CRYSTALCAVES MAGMAPEAK TREETOPCITY\n",
       "installation_id                                         \n",
       "125199                         0.0      23.0         0.0\n",
       "280516                         0.0      19.0         0.0\n",
       "435871                         0.0      36.0        26.0\n",
       "442770                        16.0      32.0        22.0\n",
       "632233                         0.0      21.0         0.0"
      ]
     },
     "execution_count": 56,
     "metadata": {},
     "output_type": "execute_result"
    }
   ],
   "source": [
    "count_codes_per_col(train, 'world').head()"
   ]
  },
  {
   "cell_type": "code",
   "execution_count": 57,
   "metadata": {},
   "outputs": [
    {
     "data": {
      "text/html": [
       "<div>\n",
       "<style scoped>\n",
       "    .dataframe tbody tr th:only-of-type {\n",
       "        vertical-align: middle;\n",
       "    }\n",
       "\n",
       "    .dataframe tbody tr th {\n",
       "        vertical-align: top;\n",
       "    }\n",
       "\n",
       "    .dataframe thead tr th {\n",
       "        text-align: left;\n",
       "    }\n",
       "\n",
       "    .dataframe thead tr:last-of-type th {\n",
       "        text-align: right;\n",
       "    }\n",
       "</style>\n",
       "<table border=\"1\" class=\"dataframe\">\n",
       "  <thead>\n",
       "    <tr>\n",
       "      <th></th>\n",
       "      <th colspan=\"24\" halign=\"left\">no_codes_per_title</th>\n",
       "    </tr>\n",
       "    <tr>\n",
       "      <th>title</th>\n",
       "      <th>Air Show</th>\n",
       "      <th>All Star Sorting</th>\n",
       "      <th>Bird Measurer (Assessment)</th>\n",
       "      <th>Bottle Filler (Activity)</th>\n",
       "      <th>Bubble Bath</th>\n",
       "      <th>Bug Measurer (Activity)</th>\n",
       "      <th>Cart Balancer (Assessment)</th>\n",
       "      <th>Cauldron Filler (Assessment)</th>\n",
       "      <th>Chest Sorter (Assessment)</th>\n",
       "      <th>Chicken Balancer (Activity)</th>\n",
       "      <th>Chow Time</th>\n",
       "      <th>Crystals Rule</th>\n",
       "      <th>Dino Dive</th>\n",
       "      <th>Dino Drink</th>\n",
       "      <th>Egg Dropper (Activity)</th>\n",
       "      <th>Fireworks (Activity)</th>\n",
       "      <th>Flower Waterer (Activity)</th>\n",
       "      <th>Happy Camel</th>\n",
       "      <th>Leaf Leader</th>\n",
       "      <th>Mushroom Sorter (Assessment)</th>\n",
       "      <th>Pan Balance</th>\n",
       "      <th>Sandcastle Builder (Activity)</th>\n",
       "      <th>Scrub-A-Dub</th>\n",
       "      <th>Watering Hole (Activity)</th>\n",
       "    </tr>\n",
       "    <tr>\n",
       "      <th>installation_id</th>\n",
       "      <th></th>\n",
       "      <th></th>\n",
       "      <th></th>\n",
       "      <th></th>\n",
       "      <th></th>\n",
       "      <th></th>\n",
       "      <th></th>\n",
       "      <th></th>\n",
       "      <th></th>\n",
       "      <th></th>\n",
       "      <th></th>\n",
       "      <th></th>\n",
       "      <th></th>\n",
       "      <th></th>\n",
       "      <th></th>\n",
       "      <th></th>\n",
       "      <th></th>\n",
       "      <th></th>\n",
       "      <th></th>\n",
       "      <th></th>\n",
       "      <th></th>\n",
       "      <th></th>\n",
       "      <th></th>\n",
       "      <th></th>\n",
       "    </tr>\n",
       "  </thead>\n",
       "  <tbody>\n",
       "    <tr>\n",
       "      <td>125199</td>\n",
       "      <td>0.0</td>\n",
       "      <td>0.0</td>\n",
       "      <td>0.0</td>\n",
       "      <td>0.0</td>\n",
       "      <td>0.0</td>\n",
       "      <td>0.0</td>\n",
       "      <td>0.0</td>\n",
       "      <td>0.0</td>\n",
       "      <td>0.0</td>\n",
       "      <td>0.0</td>\n",
       "      <td>0.0</td>\n",
       "      <td>0.0</td>\n",
       "      <td>0.0</td>\n",
       "      <td>16.0</td>\n",
       "      <td>0.0</td>\n",
       "      <td>0.0</td>\n",
       "      <td>0.0</td>\n",
       "      <td>0.0</td>\n",
       "      <td>0.0</td>\n",
       "      <td>0.0</td>\n",
       "      <td>0.0</td>\n",
       "      <td>9.0</td>\n",
       "      <td>16.0</td>\n",
       "      <td>0.0</td>\n",
       "    </tr>\n",
       "    <tr>\n",
       "      <td>280516</td>\n",
       "      <td>0.0</td>\n",
       "      <td>0.0</td>\n",
       "      <td>0.0</td>\n",
       "      <td>0.0</td>\n",
       "      <td>0.0</td>\n",
       "      <td>0.0</td>\n",
       "      <td>0.0</td>\n",
       "      <td>0.0</td>\n",
       "      <td>0.0</td>\n",
       "      <td>0.0</td>\n",
       "      <td>0.0</td>\n",
       "      <td>0.0</td>\n",
       "      <td>0.0</td>\n",
       "      <td>14.0</td>\n",
       "      <td>0.0</td>\n",
       "      <td>0.0</td>\n",
       "      <td>0.0</td>\n",
       "      <td>0.0</td>\n",
       "      <td>0.0</td>\n",
       "      <td>0.0</td>\n",
       "      <td>0.0</td>\n",
       "      <td>0.0</td>\n",
       "      <td>0.0</td>\n",
       "      <td>10.0</td>\n",
       "    </tr>\n",
       "    <tr>\n",
       "      <td>435871</td>\n",
       "      <td>17.0</td>\n",
       "      <td>16.0</td>\n",
       "      <td>16.0</td>\n",
       "      <td>9.0</td>\n",
       "      <td>22.0</td>\n",
       "      <td>7.0</td>\n",
       "      <td>0.0</td>\n",
       "      <td>0.0</td>\n",
       "      <td>0.0</td>\n",
       "      <td>0.0</td>\n",
       "      <td>0.0</td>\n",
       "      <td>12.0</td>\n",
       "      <td>6.0</td>\n",
       "      <td>17.0</td>\n",
       "      <td>0.0</td>\n",
       "      <td>6.0</td>\n",
       "      <td>8.0</td>\n",
       "      <td>0.0</td>\n",
       "      <td>0.0</td>\n",
       "      <td>18.0</td>\n",
       "      <td>0.0</td>\n",
       "      <td>9.0</td>\n",
       "      <td>17.0</td>\n",
       "      <td>9.0</td>\n",
       "    </tr>\n",
       "    <tr>\n",
       "      <td>442770</td>\n",
       "      <td>0.0</td>\n",
       "      <td>0.0</td>\n",
       "      <td>18.0</td>\n",
       "      <td>9.0</td>\n",
       "      <td>20.0</td>\n",
       "      <td>7.0</td>\n",
       "      <td>0.0</td>\n",
       "      <td>11.0</td>\n",
       "      <td>0.0</td>\n",
       "      <td>9.0</td>\n",
       "      <td>14.0</td>\n",
       "      <td>4.0</td>\n",
       "      <td>14.0</td>\n",
       "      <td>0.0</td>\n",
       "      <td>0.0</td>\n",
       "      <td>0.0</td>\n",
       "      <td>8.0</td>\n",
       "      <td>0.0</td>\n",
       "      <td>0.0</td>\n",
       "      <td>16.0</td>\n",
       "      <td>4.0</td>\n",
       "      <td>9.0</td>\n",
       "      <td>17.0</td>\n",
       "      <td>4.0</td>\n",
       "    </tr>\n",
       "    <tr>\n",
       "      <td>632233</td>\n",
       "      <td>0.0</td>\n",
       "      <td>0.0</td>\n",
       "      <td>0.0</td>\n",
       "      <td>0.0</td>\n",
       "      <td>0.0</td>\n",
       "      <td>0.0</td>\n",
       "      <td>0.0</td>\n",
       "      <td>0.0</td>\n",
       "      <td>0.0</td>\n",
       "      <td>0.0</td>\n",
       "      <td>0.0</td>\n",
       "      <td>0.0</td>\n",
       "      <td>15.0</td>\n",
       "      <td>0.0</td>\n",
       "      <td>0.0</td>\n",
       "      <td>0.0</td>\n",
       "      <td>0.0</td>\n",
       "      <td>0.0</td>\n",
       "      <td>0.0</td>\n",
       "      <td>0.0</td>\n",
       "      <td>0.0</td>\n",
       "      <td>8.0</td>\n",
       "      <td>0.0</td>\n",
       "      <td>9.0</td>\n",
       "    </tr>\n",
       "  </tbody>\n",
       "</table>\n",
       "</div>"
      ],
      "text/plain": [
       "                no_codes_per_title                                                                                                                                                                                                                                                                                                                                                                                                                                                                              \n",
       "title                     Air Show All Star Sorting Bird Measurer (Assessment) Bottle Filler (Activity) Bubble Bath Bug Measurer (Activity) Cart Balancer (Assessment) Cauldron Filler (Assessment) Chest Sorter (Assessment) Chicken Balancer (Activity) Chow Time Crystals Rule Dino Dive Dino Drink Egg Dropper (Activity) Fireworks (Activity) Flower Waterer (Activity) Happy Camel Leaf Leader Mushroom Sorter (Assessment) Pan Balance Sandcastle Builder (Activity) Scrub-A-Dub Watering Hole (Activity)\n",
       "installation_id                                                                                                                                                                                                                                                                                                                                                                                                                                                                                                 \n",
       "125199                         0.0              0.0                        0.0                      0.0         0.0                     0.0                        0.0                          0.0                       0.0                         0.0       0.0           0.0       0.0       16.0                    0.0                  0.0                       0.0         0.0         0.0                          0.0         0.0                           9.0        16.0                      0.0\n",
       "280516                         0.0              0.0                        0.0                      0.0         0.0                     0.0                        0.0                          0.0                       0.0                         0.0       0.0           0.0       0.0       14.0                    0.0                  0.0                       0.0         0.0         0.0                          0.0         0.0                           0.0         0.0                     10.0\n",
       "435871                        17.0             16.0                       16.0                      9.0        22.0                     7.0                        0.0                          0.0                       0.0                         0.0       0.0          12.0       6.0       17.0                    0.0                  6.0                       8.0         0.0         0.0                         18.0         0.0                           9.0        17.0                      9.0\n",
       "442770                         0.0              0.0                       18.0                      9.0        20.0                     7.0                        0.0                         11.0                       0.0                         9.0      14.0           4.0      14.0        0.0                    0.0                  0.0                       8.0         0.0         0.0                         16.0         4.0                           9.0        17.0                      4.0\n",
       "632233                         0.0              0.0                        0.0                      0.0         0.0                     0.0                        0.0                          0.0                       0.0                         0.0       0.0           0.0      15.0        0.0                    0.0                  0.0                       0.0         0.0         0.0                          0.0         0.0                           8.0         0.0                      9.0"
      ]
     },
     "execution_count": 57,
     "metadata": {},
     "output_type": "execute_result"
    }
   ],
   "source": [
    "count_codes_per_col(train, 'title').head()"
   ]
  },
  {
   "cell_type": "code",
   "execution_count": 58,
   "metadata": {},
   "outputs": [
    {
     "data": {
      "text/html": [
       "<div>\n",
       "<style scoped>\n",
       "    .dataframe tbody tr th:only-of-type {\n",
       "        vertical-align: middle;\n",
       "    }\n",
       "\n",
       "    .dataframe tbody tr th {\n",
       "        vertical-align: top;\n",
       "    }\n",
       "\n",
       "    .dataframe thead tr th {\n",
       "        text-align: left;\n",
       "    }\n",
       "\n",
       "    .dataframe thead tr:last-of-type th {\n",
       "        text-align: right;\n",
       "    }\n",
       "</style>\n",
       "<table border=\"1\" class=\"dataframe\">\n",
       "  <thead>\n",
       "    <tr>\n",
       "      <th></th>\n",
       "      <th colspan=\"24\" halign=\"left\">no_codes_per_hour</th>\n",
       "    </tr>\n",
       "    <tr>\n",
       "      <th>hour</th>\n",
       "      <th>0</th>\n",
       "      <th>1</th>\n",
       "      <th>2</th>\n",
       "      <th>3</th>\n",
       "      <th>4</th>\n",
       "      <th>5</th>\n",
       "      <th>6</th>\n",
       "      <th>7</th>\n",
       "      <th>8</th>\n",
       "      <th>9</th>\n",
       "      <th>10</th>\n",
       "      <th>11</th>\n",
       "      <th>12</th>\n",
       "      <th>13</th>\n",
       "      <th>14</th>\n",
       "      <th>15</th>\n",
       "      <th>16</th>\n",
       "      <th>17</th>\n",
       "      <th>18</th>\n",
       "      <th>19</th>\n",
       "      <th>20</th>\n",
       "      <th>21</th>\n",
       "      <th>22</th>\n",
       "      <th>23</th>\n",
       "    </tr>\n",
       "    <tr>\n",
       "      <th>installation_id</th>\n",
       "      <th></th>\n",
       "      <th></th>\n",
       "      <th></th>\n",
       "      <th></th>\n",
       "      <th></th>\n",
       "      <th></th>\n",
       "      <th></th>\n",
       "      <th></th>\n",
       "      <th></th>\n",
       "      <th></th>\n",
       "      <th></th>\n",
       "      <th></th>\n",
       "      <th></th>\n",
       "      <th></th>\n",
       "      <th></th>\n",
       "      <th></th>\n",
       "      <th></th>\n",
       "      <th></th>\n",
       "      <th></th>\n",
       "      <th></th>\n",
       "      <th></th>\n",
       "      <th></th>\n",
       "      <th></th>\n",
       "      <th></th>\n",
       "    </tr>\n",
       "  </thead>\n",
       "  <tbody>\n",
       "    <tr>\n",
       "      <td>125199</td>\n",
       "      <td>0.0</td>\n",
       "      <td>0.0</td>\n",
       "      <td>0.0</td>\n",
       "      <td>0.0</td>\n",
       "      <td>0.0</td>\n",
       "      <td>0.0</td>\n",
       "      <td>0.0</td>\n",
       "      <td>0.0</td>\n",
       "      <td>0.0</td>\n",
       "      <td>0.0</td>\n",
       "      <td>0.0</td>\n",
       "      <td>0.0</td>\n",
       "      <td>0.0</td>\n",
       "      <td>0.0</td>\n",
       "      <td>0.0</td>\n",
       "      <td>0.0</td>\n",
       "      <td>0.0</td>\n",
       "      <td>9.0</td>\n",
       "      <td>22.0</td>\n",
       "      <td>0.0</td>\n",
       "      <td>0.0</td>\n",
       "      <td>0.0</td>\n",
       "      <td>0.0</td>\n",
       "      <td>0.0</td>\n",
       "    </tr>\n",
       "    <tr>\n",
       "      <td>280516</td>\n",
       "      <td>0.0</td>\n",
       "      <td>0.0</td>\n",
       "      <td>0.0</td>\n",
       "      <td>0.0</td>\n",
       "      <td>0.0</td>\n",
       "      <td>0.0</td>\n",
       "      <td>0.0</td>\n",
       "      <td>0.0</td>\n",
       "      <td>0.0</td>\n",
       "      <td>0.0</td>\n",
       "      <td>0.0</td>\n",
       "      <td>0.0</td>\n",
       "      <td>0.0</td>\n",
       "      <td>0.0</td>\n",
       "      <td>10.0</td>\n",
       "      <td>14.0</td>\n",
       "      <td>0.0</td>\n",
       "      <td>0.0</td>\n",
       "      <td>0.0</td>\n",
       "      <td>0.0</td>\n",
       "      <td>0.0</td>\n",
       "      <td>0.0</td>\n",
       "      <td>0.0</td>\n",
       "      <td>0.0</td>\n",
       "    </tr>\n",
       "    <tr>\n",
       "      <td>435871</td>\n",
       "      <td>0.0</td>\n",
       "      <td>0.0</td>\n",
       "      <td>0.0</td>\n",
       "      <td>0.0</td>\n",
       "      <td>8.0</td>\n",
       "      <td>37.0</td>\n",
       "      <td>0.0</td>\n",
       "      <td>0.0</td>\n",
       "      <td>0.0</td>\n",
       "      <td>0.0</td>\n",
       "      <td>0.0</td>\n",
       "      <td>0.0</td>\n",
       "      <td>0.0</td>\n",
       "      <td>0.0</td>\n",
       "      <td>0.0</td>\n",
       "      <td>0.0</td>\n",
       "      <td>34.0</td>\n",
       "      <td>11.0</td>\n",
       "      <td>26.0</td>\n",
       "      <td>0.0</td>\n",
       "      <td>25.0</td>\n",
       "      <td>0.0</td>\n",
       "      <td>0.0</td>\n",
       "      <td>0.0</td>\n",
       "    </tr>\n",
       "    <tr>\n",
       "      <td>442770</td>\n",
       "      <td>23.0</td>\n",
       "      <td>11.0</td>\n",
       "      <td>0.0</td>\n",
       "      <td>0.0</td>\n",
       "      <td>0.0</td>\n",
       "      <td>0.0</td>\n",
       "      <td>0.0</td>\n",
       "      <td>0.0</td>\n",
       "      <td>0.0</td>\n",
       "      <td>0.0</td>\n",
       "      <td>0.0</td>\n",
       "      <td>0.0</td>\n",
       "      <td>0.0</td>\n",
       "      <td>11.0</td>\n",
       "      <td>0.0</td>\n",
       "      <td>33.0</td>\n",
       "      <td>0.0</td>\n",
       "      <td>0.0</td>\n",
       "      <td>0.0</td>\n",
       "      <td>0.0</td>\n",
       "      <td>0.0</td>\n",
       "      <td>0.0</td>\n",
       "      <td>0.0</td>\n",
       "      <td>0.0</td>\n",
       "    </tr>\n",
       "    <tr>\n",
       "      <td>632233</td>\n",
       "      <td>0.0</td>\n",
       "      <td>0.0</td>\n",
       "      <td>0.0</td>\n",
       "      <td>0.0</td>\n",
       "      <td>0.0</td>\n",
       "      <td>0.0</td>\n",
       "      <td>0.0</td>\n",
       "      <td>0.0</td>\n",
       "      <td>0.0</td>\n",
       "      <td>0.0</td>\n",
       "      <td>0.0</td>\n",
       "      <td>0.0</td>\n",
       "      <td>0.0</td>\n",
       "      <td>0.0</td>\n",
       "      <td>0.0</td>\n",
       "      <td>0.0</td>\n",
       "      <td>0.0</td>\n",
       "      <td>0.0</td>\n",
       "      <td>20.0</td>\n",
       "      <td>9.0</td>\n",
       "      <td>0.0</td>\n",
       "      <td>0.0</td>\n",
       "      <td>0.0</td>\n",
       "      <td>0.0</td>\n",
       "    </tr>\n",
       "  </tbody>\n",
       "</table>\n",
       "</div>"
      ],
      "text/plain": [
       "                no_codes_per_hour                                                                                                                            \n",
       "hour                           0     1    2    3    4     5    6    7    8    9    10   11   12    13    14    15    16    17    18   19    20   21   22   23\n",
       "installation_id                                                                                                                                              \n",
       "125199                        0.0   0.0  0.0  0.0  0.0   0.0  0.0  0.0  0.0  0.0  0.0  0.0  0.0   0.0   0.0   0.0   0.0   9.0  22.0  0.0   0.0  0.0  0.0  0.0\n",
       "280516                        0.0   0.0  0.0  0.0  0.0   0.0  0.0  0.0  0.0  0.0  0.0  0.0  0.0   0.0  10.0  14.0   0.0   0.0   0.0  0.0   0.0  0.0  0.0  0.0\n",
       "435871                        0.0   0.0  0.0  0.0  8.0  37.0  0.0  0.0  0.0  0.0  0.0  0.0  0.0   0.0   0.0   0.0  34.0  11.0  26.0  0.0  25.0  0.0  0.0  0.0\n",
       "442770                       23.0  11.0  0.0  0.0  0.0   0.0  0.0  0.0  0.0  0.0  0.0  0.0  0.0  11.0   0.0  33.0   0.0   0.0   0.0  0.0   0.0  0.0  0.0  0.0\n",
       "632233                        0.0   0.0  0.0  0.0  0.0   0.0  0.0  0.0  0.0  0.0  0.0  0.0  0.0   0.0   0.0   0.0   0.0   0.0  20.0  9.0   0.0  0.0  0.0  0.0"
      ]
     },
     "execution_count": 58,
     "metadata": {},
     "output_type": "execute_result"
    }
   ],
   "source": [
    "count_codes_per_col(train, 'hour').head()"
   ]
  },
  {
   "cell_type": "markdown",
   "metadata": {},
   "source": [
    "## 4. Clarity of game instructions\n",
    "\n",
    "Game Clarity:<br>\n",
    "a) rate hints based on user performance <br>\n",
    "b) check if the user was doing something weird: from coords (e.g. false negatives) <br>\n",
    "c) check if the user was doing something weird to familiarize himself/herself with the game (e.g. at the beginnig might press randomly)"
   ]
  }
 ],
 "metadata": {
  "kernelspec": {
   "display_name": "Python 3",
   "language": "python",
   "name": "python3"
  },
  "language_info": {
   "codemirror_mode": {
    "name": "ipython",
    "version": 3
   },
   "file_extension": ".py",
   "mimetype": "text/x-python",
   "name": "python",
   "nbconvert_exporter": "python",
   "pygments_lexer": "ipython3",
   "version": "3.7.4"
  }
 },
 "nbformat": 4,
 "nbformat_minor": 2
}
