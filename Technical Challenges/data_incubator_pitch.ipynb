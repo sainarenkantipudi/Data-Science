{
 "cells": [
  {
   "cell_type": "markdown",
   "metadata": {},
   "source": [
    "# <font color='blue'>THE PROBLEM</font> \n",
    "### ~1K covid-19 papers/week $\\implies$ Difficult to keep up $\\overset{\\textbf{??}}{\\implies}$ Follow high-profile physicians\n",
    "\n"
   ]
  },
  {
   "cell_type": "markdown",
   "metadata": {},
   "source": [
    "# <font color='blue'>THE SOLUTION</font>\n",
    "### A web app to help <font color='green'>healthcare professionals</font> visualize & retrieve actionable information <br>from the coronavirus literature.\n",
    "\n",
    "$\\to$ Study the time & location trends of the topics discussed in the literature."
   ]
  },
  {
   "cell_type": "markdown",
   "metadata": {},
   "source": [
    "# <font color='blue'>METHODOLOGY</font>\n",
    "\n",
    "### 1. Data Pipeline\n",
    "- Retrieve peer-reviewed publications from [AI2](https://www.semanticscholar.org/cord19/download) \n",
    "- 1.4GB\n",
    "- Main Text + Metadata\n",
    "\n",
    "### 2. Paper Classification Pipeline\n",
    "Create Tags:\n",
    "- Domain-keyword search in metadata\n",
    "- Unsupervised learning on main text (<font color='green'>gensim</font>)\n",
    "\n",
    "### 3. Relation Extraction Pipeline \n",
    "\n",
    "- Quantify the relationship between (tag1,tag2) pairs (<font color='green'>OpenNRE</font>)<br>\n",
    "\n",
    "### 4. Visualizations\n",
    "\n",
    "- Plot the change of topic frequencies and their relationships through time & region (<font color='green'>dash/plotly</font>)<br>\n"
   ]
  },
  {
   "cell_type": "markdown",
   "metadata": {},
   "source": [
    "# <font color='blue'>THANK YOU!!!</font>"
   ]
  }
 ],
 "metadata": {
  "kernelspec": {
   "display_name": "Python 3",
   "language": "python",
   "name": "python3"
  },
  "language_info": {
   "codemirror_mode": {
    "name": "ipython",
    "version": 3
   },
   "file_extension": ".py",
   "mimetype": "text/x-python",
   "name": "python",
   "nbconvert_exporter": "python",
   "pygments_lexer": "ipython3",
   "version": "3.7.4"
  }
 },
 "nbformat": 4,
 "nbformat_minor": 4
}
