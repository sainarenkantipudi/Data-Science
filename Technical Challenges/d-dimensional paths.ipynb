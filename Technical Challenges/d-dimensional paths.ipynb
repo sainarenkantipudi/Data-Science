{
 "cells": [
  {
   "cell_type": "markdown",
   "metadata": {},
   "source": [
    "# Classes and Methods"
   ]
  },
  {
   "cell_type": "markdown",
   "metadata": {},
   "source": [
    "## - The ```PathConstructor``` class"
   ]
  },
  {
   "cell_type": "code",
   "execution_count": 2,
   "metadata": {},
   "outputs": [],
   "source": [
    "import operator as op\n",
    "from functools import reduce"
   ]
  },
  {
   "cell_type": "code",
   "execution_count": 3,
   "metadata": {},
   "outputs": [],
   "source": [
    "class PathConstructor:\n",
    "    \"\"\"Class to construct and count m-paths in a n**d grid \"\"\"\n",
    "    \n",
    "    def __init__(self,d,m,n,start_coords):\n",
    "        \"\"\"Initialize class \n",
    "        Input:\n",
    "            - d = no of dimensions\n",
    "            - m = no of unit steps taken in each path\n",
    "            - n = no of grid lines\n",
    "            - start_coords = coords of the starting position \n",
    "        \"\"\"\n",
    "        \n",
    "        #attributes \n",
    "        self.dimensions = d\n",
    "        self.grid_size = n\n",
    "        self.max_path_size = m\n",
    "        self.coords = start_coords\n",
    "        \n",
    "        #count the number of all possible 1D paths along each dimension for\n",
    "        #the given starting position, and store it in a dictionary\n",
    "        self.storage = dict()  \n",
    "        for coord in range(d):\n",
    "            for k in range(0,m+1):\n",
    "                self.storage[(coord,k)] = len(self.one_dim_paths(coord,no_steps=k))\n",
    "        \n",
    "        \n",
    "    #------------------ Public Methods --------------------\n",
    "    \n",
    "    #1) Constructing Paths\n",
    "        \n",
    "    def one_dim_paths(self,coord,no_steps):\n",
    "        \"\"\"Method to construct all possible 1D paths\n",
    "        Input:\n",
    "            - coord = coordinate-dimension; must lie in [0,d)\n",
    "            - no_steps = no of unit steps taken in each path\n",
    "        Output:\n",
    "            a list of all possible 1D paths\n",
    "        \"\"\"\n",
    "\n",
    "        initial_paths = [[[self.coords[coord]]]]\n",
    "        paths = self._find_paths(no_steps=no_steps,current_paths=initial_paths,dimensions=1)\n",
    "        \n",
    "        return paths\n",
    "    \n",
    "    def find_max_paths(self):\n",
    "        \"\"\"Method to construct all possible d-dimensional paths\n",
    "        Output:\n",
    "            a list of all d-dimensional possible paths\n",
    "        \"\"\"\n",
    "        \n",
    "        return self._find_paths(dimensions=self.dimensions,\n",
    "                               no_steps=self.max_path_size,\n",
    "                               current_paths=[[self.coords]])\n",
    "    \n",
    "    #2) Counting Paths\n",
    "    \n",
    "    def path_counter(self):\n",
    "        \"\"\"Method to count all possible d-dimensional paths by brute-force, \n",
    "        i.e. by constructing and counting all d-dimensional paths.\n",
    "        \"\"\"\n",
    "        \n",
    "        return len(self.find_max_paths())\n",
    "    \n",
    "    \n",
    "    def comb_counter(self,dimensions,no_steps):\n",
    "        \"\"\"Method to count all possible d-dimensional paths by recursively counting \n",
    "        all possible k-dimensional path combinations\"\"\"\n",
    "    \n",
    "        if dimensions==1:\n",
    "            return self.storage[(0,no_steps)]\n",
    "\n",
    "        else:\n",
    "            return sum([self._ncr(no_steps,k) \n",
    "                        * self.comb_counter(dimensions-1,k) \n",
    "                        * self.storage[(dimensions-1,no_steps-k)] \n",
    "                        for k in range(0,no_steps+1)]\n",
    "                      )\n",
    "\n",
    "\n",
    "\n",
    "    \n",
    "        \n",
    "    #------------------ Internal Methods --------------------\n",
    "        \n",
    "    def _ncr(self,n, r):\n",
    "        \"\"\"Method to compute combinatorics.\"\"\"\n",
    "        \n",
    "        r = min(r, n-r)\n",
    "        numer = reduce(op.mul, range(n, n-r, -1), 1)\n",
    "        denom = reduce(op.mul, range(1, r+1), 1)\n",
    "        \n",
    "        return int(numer / denom)\n",
    "\n",
    "    def _find_next_walks(self,dimensions,start):\n",
    "        \"\"\"Method to compute all possible unit-step walks in d dimensions, \n",
    "        starting from coordinates 'start'.\"\"\"\n",
    "    \n",
    "        next_walks = []\n",
    "\n",
    "        #iterate over possible dimensions\n",
    "        for i in range(dimensions):\n",
    "\n",
    "            #if walk is within valid range append coords of walk to next_walks \n",
    "            if 0 <= start[i]+1 < self.grid_size:\n",
    "                walk = start.copy()\n",
    "                walk[i]+=1\n",
    "                next_walks.append(walk)\n",
    "\n",
    "            if 0 <= start[i]-1 < self.grid_size:\n",
    "                walk = start.copy()\n",
    "                walk[i]-=1\n",
    "                next_walks.append(walk)\n",
    "\n",
    "        return next_walks\n",
    "    \n",
    "    def _find_paths(self,dimensions,no_steps,current_paths,current_step=0):\n",
    "        \"\"\"Method to recursively construct all possible paths.\n",
    "        \"\"\"\n",
    "    \n",
    "        #stop recursion when reach max steps\n",
    "        if current_step == no_steps:\n",
    "            return current_paths\n",
    "\n",
    "        # for each current path find all possible walks and hence all new paths\n",
    "        new_paths = [] \n",
    "        for path in current_paths:\n",
    "            start = path[current_step]\n",
    "            next_walks = self._find_next_walks(dimensions,start)\n",
    "\n",
    "            for walk in next_walks:\n",
    "                new_paths.append(path+[walk])\n",
    "\n",
    "        return self._find_paths(dimensions,no_steps,current_paths=new_paths,current_step=current_step+1)\n",
    "    "
   ]
  },
  {
   "cell_type": "markdown",
   "metadata": {},
   "source": [
    "## - Helper Functions"
   ]
  },
  {
   "cell_type": "code",
   "execution_count": 21,
   "metadata": {},
   "outputs": [],
   "source": [
    "from itertools import product, combinations_with_replacement"
   ]
  },
  {
   "cell_type": "code",
   "execution_count": 22,
   "metadata": {},
   "outputs": [],
   "source": [
    "def start_coords_generator(d,n):\n",
    "    \"\"\"Function to generate a dictionary of all coordinate points in a n**d-grid. \n",
    "    Points equivalent under certain symmetries are grouped together \n",
    "    as a key,value pair in a dictionary, with \n",
    "    key = a coord point representive of the equivalence classes\n",
    "    value = multiplicity (dimension of equivalence class)\n",
    "    \"\"\"\n",
    "    \n",
    "    coords_generator = map(''.join, product(''.join([str(i) for i in range(n)]), repeat=d))\n",
    "    \n",
    "    symmetric_coords = {}\n",
    "    for start_coords in coords_generator:\n",
    "        l = [int(coord) for coord in start_coords]\n",
    "        l.sort()\n",
    "        key = tuple(l)\n",
    "        symmetric_coords[key] = symmetric_coords.get(key,0) + 1\n",
    "        \n",
    "    return symmetric_coords"
   ]
  },
  {
   "cell_type": "code",
   "execution_count": 23,
   "metadata": {},
   "outputs": [],
   "source": [
    "def generate_unique_coords(d,n):\n",
    "    \"\"\"Method to generate all the coord point representatives of \n",
    "    the equivalence classes obtained by symmetries. \n",
    "    Note that these points lie in the region \n",
    "    0<= x_{d-1} <= x_{d-2} <= x_0 \n",
    "    defined by the intersection of all symmetric hyperplanes.\"\"\"\n",
    "    \n",
    "    mid = (n-1)//2\n",
    "    return combinations_with_replacement(list(range(mid+1)),d)"
   ]
  },
  {
   "cell_type": "markdown",
   "metadata": {},
   "source": [
    "## Stress Tests:"
   ]
  },
  {
   "cell_type": "markdown",
   "metadata": {},
   "source": [
    "## - Class methods"
   ]
  },
  {
   "cell_type": "markdown",
   "metadata": {},
   "source": [
    "### Test 1:  Recreate the given example"
   ]
  },
  {
   "cell_type": "code",
   "execution_count": 6,
   "metadata": {},
   "outputs": [],
   "source": [
    "d=2\n",
    "m=2\n",
    "n=3\n",
    "start_coords=[0]*d\n",
    "pc = PathConstructor(d,m,n,start_coords)"
   ]
  },
  {
   "cell_type": "code",
   "execution_count": 8,
   "metadata": {},
   "outputs": [
    {
     "data": {
      "text/plain": [
       "[[[0, 0], [1, 0], [2, 0]],\n",
       " [[0, 0], [1, 0], [0, 0]],\n",
       " [[0, 0], [1, 0], [1, 1]],\n",
       " [[0, 0], [0, 1], [1, 1]],\n",
       " [[0, 0], [0, 1], [0, 2]],\n",
       " [[0, 0], [0, 1], [0, 0]]]"
      ]
     },
     "execution_count": 8,
     "metadata": {},
     "output_type": "execute_result"
    }
   ],
   "source": [
    "pc.find_max_paths()"
   ]
  },
  {
   "cell_type": "code",
   "execution_count": 7,
   "metadata": {},
   "outputs": [
    {
     "data": {
      "text/plain": [
       "6"
      ]
     },
     "execution_count": 7,
     "metadata": {},
     "output_type": "execute_result"
    }
   ],
   "source": [
    "pc.path_counter()"
   ]
  },
  {
   "cell_type": "markdown",
   "metadata": {},
   "source": [
    "### Test 2: Counting Paths Methods"
   ]
  },
  {
   "cell_type": "code",
   "execution_count": 11,
   "metadata": {},
   "outputs": [],
   "source": [
    "d=4\n",
    "m=7\n",
    "n=10\n",
    "start_coords=[0]*d\n",
    "pc = PathConstructor(d,m,n,start_coords)"
   ]
  },
  {
   "cell_type": "code",
   "execution_count": 15,
   "metadata": {},
   "outputs": [
    {
     "data": {
      "text/plain": [
       "True"
      ]
     },
     "execution_count": 15,
     "metadata": {},
     "output_type": "execute_result"
    }
   ],
   "source": [
    "pc.comb_counter(dimensions=d,no_steps=m) == pc.path_counter()"
   ]
  },
  {
   "cell_type": "code",
   "execution_count": 12,
   "metadata": {},
   "outputs": [
    {
     "name": "stdout",
     "output_type": "stream",
     "text": [
      "428 µs ± 12.8 µs per loop (mean ± std. dev. of 7 runs, 1000 loops each)\n"
     ]
    }
   ],
   "source": [
    "#fast method\n",
    "%timeit pc.comb_counter(dimensions=d,no_steps=m)"
   ]
  },
  {
   "cell_type": "code",
   "execution_count": 13,
   "metadata": {},
   "outputs": [
    {
     "name": "stdout",
     "output_type": "stream",
     "text": [
      "206 ms ± 7.27 ms per loop (mean ± std. dev. of 7 runs, 1 loop each)\n"
     ]
    }
   ],
   "source": [
    "#slow method\n",
    "%timeit pc.path_counter()"
   ]
  },
  {
   "cell_type": "markdown",
   "metadata": {},
   "source": [
    "## - Coord generators"
   ]
  },
  {
   "cell_type": "markdown",
   "metadata": {},
   "source": [
    "Check if ```start_coords_generator``` method computes the correct multiplicities for each equivalence class"
   ]
  },
  {
   "cell_type": "code",
   "execution_count": 20,
   "metadata": {},
   "outputs": [
    {
     "data": {
      "text/plain": [
       "True"
      ]
     },
     "execution_count": 20,
     "metadata": {},
     "output_type": "execute_result"
    }
   ],
   "source": [
    "d,n = 4,8\n",
    "sum([v for k,v in start_coords_generator(d,n).items()]) == (n**d)"
   ]
  },
  {
   "cell_type": "markdown",
   "metadata": {},
   "source": [
    "# Questions"
   ]
  },
  {
   "cell_type": "markdown",
   "metadata": {},
   "source": [
    "## Q1:\n",
    "Consider the case where d=4, n=10, and m=10."
   ]
  },
  {
   "cell_type": "code",
   "execution_count": 54,
   "metadata": {},
   "outputs": [],
   "source": [
    "from numpy import std,mean\n",
    "d,n,m = (4,10,10)"
   ]
  },
  {
   "cell_type": "markdown",
   "metadata": {},
   "source": [
    "a) How many valid walks start from the corner (0, 0, 0, 0)?"
   ]
  },
  {
   "cell_type": "code",
   "execution_count": 55,
   "metadata": {},
   "outputs": [
    {
     "data": {
      "text/plain": [
       "44569724"
      ]
     },
     "execution_count": 55,
     "metadata": {},
     "output_type": "execute_result"
    }
   ],
   "source": [
    "start_coords=[0]*d\n",
    "PathConstructor(d,m,n,start_coords).comb_counter(dimensions=d,no_steps=m)"
   ]
  },
  {
   "cell_type": "markdown",
   "metadata": {},
   "source": [
    "b) Consider the count of valid walks associated with each possible starting position. What is the ratio of the highest count of valid walks to smallest count of valid walks?"
   ]
  },
  {
   "cell_type": "code",
   "execution_count": 63,
   "metadata": {},
   "outputs": [
    {
     "name": "stdout",
     "output_type": "stream",
     "text": [
      "715/10000\n",
      "Pct reduction: 92.850000%\n"
     ]
    }
   ],
   "source": [
    "#NOTE:\n",
    "all_coords = n**d\n",
    "symmetric_coords = len(start_coords_generator(d,n))\n",
    "print(f'{symmetric_coords}/{all_coords}')\n",
    "print('Pct reduction: {:2f}%'.format((1-symmetric_coords/all_coords)*100))"
   ]
  },
  {
   "cell_type": "code",
   "execution_count": 57,
   "metadata": {},
   "outputs": [],
   "source": [
    "def create_all_counts(d,n,m):\n",
    "    all_counts=[]\n",
    "    for start_coords,permutations in start_coords_generator(d,n).items():\n",
    "        pc = PathConstructor(d,m,n,list(start_coords))\n",
    "        path_counts = pc.comb_counter(dimensions=d,no_steps=m)\n",
    "        for i in range(permutations):\n",
    "            all_counts.append(path_counts)\n",
    "    \n",
    "    return all_counts\n"
   ]
  },
  {
   "cell_type": "code",
   "execution_count": 58,
   "metadata": {},
   "outputs": [],
   "source": [
    "all_counts = create_all_counts(d,n,m)"
   ]
  },
  {
   "cell_type": "code",
   "execution_count": 59,
   "metadata": {},
   "outputs": [
    {
     "data": {
      "text/plain": [
       "(10000, 10000, 715)"
      ]
     },
     "execution_count": 59,
     "metadata": {},
     "output_type": "execute_result"
    }
   ],
   "source": [
    "#check if dimensions of all_counts is correct\n",
    "n**d,len(all_counts),len(start_coords_generator(d,n))"
   ]
  },
  {
   "cell_type": "code",
   "execution_count": 60,
   "metadata": {
    "scrolled": true
   },
   "outputs": [
    {
     "data": {
      "text/plain": [
       "23.81209118548726"
      ]
     },
     "execution_count": 60,
     "metadata": {},
     "output_type": "execute_result"
    }
   ],
   "source": [
    "max(all_counts)/min(all_counts)"
   ]
  },
  {
   "cell_type": "markdown",
   "metadata": {},
   "source": [
    "c) Consider the count of valid walks associated with each possible starting position. What is the ratio of the standard deviation of the number of valid walks to the mean of the number of valid walks?"
   ]
  },
  {
   "cell_type": "code",
   "execution_count": 61,
   "metadata": {},
   "outputs": [
    {
     "data": {
      "text/plain": [
       "0.5106573744484553"
      ]
     },
     "execution_count": 61,
     "metadata": {},
     "output_type": "execute_result"
    }
   ],
   "source": [
    "std(all_counts)/mean(all_counts)"
   ]
  },
  {
   "cell_type": "markdown",
   "metadata": {},
   "source": [
    "## Q2:\n",
    "Consider the case where d=8,n=12 and m=12."
   ]
  },
  {
   "cell_type": "code",
   "execution_count": 64,
   "metadata": {},
   "outputs": [],
   "source": [
    "d,n,m = (8,12,12)"
   ]
  },
  {
   "cell_type": "markdown",
   "metadata": {},
   "source": [
    "a) How many valid walks start from the corner (0, 0, 0, 0)?"
   ]
  },
  {
   "cell_type": "code",
   "execution_count": 49,
   "metadata": {},
   "outputs": [
    {
     "data": {
      "text/plain": [
       "2479092118264"
      ]
     },
     "execution_count": 49,
     "metadata": {},
     "output_type": "execute_result"
    }
   ],
   "source": [
    "start_coords=[0]*d\n",
    "PathConstructor(d,m,n,start_coords).comb_counter(dimensions=d,no_steps=m)"
   ]
  },
  {
   "cell_type": "markdown",
   "metadata": {},
   "source": [
    "b) Consider the count of valid walks associated with each possible starting position. What is the ratio of the highest count of valid walks to smallest count of valid walks?"
   ]
  },
  {
   "cell_type": "code",
   "execution_count": 65,
   "metadata": {},
   "outputs": [
    {
     "name": "stdout",
     "output_type": "stream",
     "text": [
      "1287/429981696\n",
      "Pct reduction: 99.999701%\n"
     ]
    }
   ],
   "source": [
    "# NOTE:\n",
    "unique_coords = len(list(generate_unique_coords(d,n)))\n",
    "all_coords = n**d\n",
    "print(f'{unique_coords}/{all_coords}')\n",
    "print('Pct reduction: {:2f}%'.format((1-unique_coords/all_coords)*100))"
   ]
  },
  {
   "cell_type": "code",
   "execution_count": 6,
   "metadata": {},
   "outputs": [],
   "source": [
    "def create_unique_counts(d,n,m):\n",
    "    unique_counts = []\n",
    "    for start_coords in generate_unique_coords(d,n):\n",
    "        path_counts = PathConstructor(d,m,n,list(start_coords)).comb_counter(dimensions=d,no_steps=m)\n",
    "        unique_counts.append(path_counts)\n",
    "        \n",
    "    return unique_counts\n",
    "\n"
   ]
  },
  {
   "cell_type": "code",
   "execution_count": 7,
   "metadata": {},
   "outputs": [],
   "source": [
    "unique_counts = create_unique_counts(d,n,m)"
   ]
  },
  {
   "cell_type": "code",
   "execution_count": 8,
   "metadata": {},
   "outputs": [
    {
     "data": {
      "text/plain": [
       "113.51216384122472"
      ]
     },
     "execution_count": 8,
     "metadata": {},
     "output_type": "execute_result"
    }
   ],
   "source": [
    "max(unique_counts)/min(unique_counts)"
   ]
  },
  {
   "cell_type": "markdown",
   "metadata": {},
   "source": [
    "c) Consider the count of valid walks associated with each possible starting position. What is the ratio of the standard deviation of the number of valid walks to the mean of the number of valid walks?"
   ]
  },
  {
   "cell_type": "code",
   "execution_count": 66,
   "metadata": {},
   "outputs": [],
   "source": [
    "#Need to generate multiplicites of all unique coord points"
   ]
  }
 ],
 "metadata": {
  "kernelspec": {
   "display_name": "Python 3",
   "language": "python",
   "name": "python3"
  },
  "language_info": {
   "codemirror_mode": {
    "name": "ipython",
    "version": 3
   },
   "file_extension": ".py",
   "mimetype": "text/x-python",
   "name": "python",
   "nbconvert_exporter": "python",
   "pygments_lexer": "ipython3",
   "version": "3.6.5"
  }
 },
 "nbformat": 4,
 "nbformat_minor": 2
}
