{
 "cells": [
  {
   "cell_type": "markdown",
   "metadata": {},
   "source": [
    "# Source\n",
    "https://studentlife.cs.dartmouth.edu/dataset.html"
   ]
  },
  {
   "cell_type": "markdown",
   "metadata": {},
   "source": [
    "# Libraries"
   ]
  },
  {
   "cell_type": "code",
   "execution_count": 1,
   "metadata": {},
   "outputs": [],
   "source": [
    "import numpy as np\n",
    "import pandas as pd\n",
    "pd.set_option('display.max_rows', 500)\n",
    "pd.set_option('display.max_columns', 500)\n",
    "pd.set_option('display.width', 1000)\n",
    "\n",
    "import matplotlib.pyplot as plt\n",
    "import seaborn as sns\n",
    "sns.set_style(\"dark\")"
   ]
  },
  {
   "cell_type": "markdown",
   "metadata": {},
   "source": [
    "# Helper Functions"
   ]
  },
  {
   "cell_type": "code",
   "execution_count": 2,
   "metadata": {},
   "outputs": [],
   "source": [
    "from os import listdir\n",
    "from os.path import isfile,join\n",
    "\n",
    "def create_dict_from_folder(folder_path,file_type='json'):\n",
    "    \"\"\"Method to load all files from the input folder and convert them to df's. \n",
    "    A dictionary of (uid,df) pairs is returned. \"\"\"\n",
    "    \n",
    "    #create all file paths within folder\n",
    "    file_paths = [folder_path+f for f in listdir(folder_path) if isfile(join(folder_path, f))]\n",
    "    \n",
    "    #find start/end position of uid in file_path\n",
    "    uid_start_pos = file_paths[0].find('_u') + 1\n",
    "    uid_end_pos = uid_start_pos + 3\n",
    "\n",
    "    df_dict = {}\n",
    "    for path in file_paths:\n",
    "        uid = path[uid_start_pos:uid_end_pos] #extract uid from path\n",
    "        if file_type == 'json':\n",
    "            df_dict[uid] = pd.read_json(path)\n",
    "        elif file_type == 'csv':\n",
    "            df_dict[uid] = pd.read_csv(path)\n",
    "         \n",
    "    return df_dict"
   ]
  },
  {
   "cell_type": "code",
   "execution_count": 3,
   "metadata": {},
   "outputs": [],
   "source": [
    "def find_null_cols(df):\n",
    "    \"\"\"Method to create a list of all null cols of a df\"\"\"\n",
    "    \n",
    "    temp_df = np.sum(df.isnull())\n",
    "    \n",
    "    return [col for col in temp_df.index if temp_df[col]!=0]"
   ]
  },
  {
   "cell_type": "code",
   "execution_count": 4,
   "metadata": {},
   "outputs": [],
   "source": [
    "def fill_nulls(df,method='most_freq'):\n",
    "    \"\"\"Method to fill null values of a df.\n",
    "    Input:\n",
    "        - df\n",
    "        - method: {'most_freq','mean'} \n",
    "    \"\"\"\n",
    "    \n",
    "    for col in find_null_cols(df):\n",
    "        if method=='most_freq':\n",
    "            most_freq = df[col].value_counts().index[0]\n",
    "            df[col] = df[col].fillna(value=most_freq)\n",
    "        elif method=='mean':\n",
    "            df[col] = df[col].fillna(value=df[col].mean())\n",
    "            \n",
    "    return df\n",
    "    "
   ]
  },
  {
   "cell_type": "code",
   "execution_count": 5,
   "metadata": {},
   "outputs": [],
   "source": [
    "from sklearn.preprocessing import MinMaxScaler, StandardScaler\n",
    "\n",
    "def scale_df(df,scaler='MinMax'):\n",
    "    \"\"\"Method to shift the data such that all cols are exactly between 0 and 1.\"\"\"\n",
    "    \n",
    "    # instantiate and fit selected scaler\n",
    "    if scaler == 'MinMax':\n",
    "        scaler = MinMaxScaler().fit(df.values)\n",
    "    elif scaler == 'Standard':\n",
    "        scaler = StandardScaler().fit(df.values)\n",
    "    \n",
    "    # scale df\n",
    "    df_scaled = pd.DataFrame(data=scaler.transform(df.values),\n",
    "                                 index=df.index,\n",
    "                                 columns=df.columns)\n",
    "    \n",
    "    return df_scaled\n",
    "    \n"
   ]
  },
  {
   "cell_type": "code",
   "execution_count": 6,
   "metadata": {},
   "outputs": [],
   "source": [
    "def compute_net_score(df,col_name):\n",
    "    name = df\n",
    "    df = scale_df(df)\n",
    "    scores_df = pd.DataFrame(data = [0]*len(df), index=df.index, columns=[col_name])\n",
    "    for col in df.columns:\n",
    "        if col[-1] == '+':\n",
    "            scores_df = scores_df.add(df[col],axis=0)\n",
    "        elif col[-1] == '-':\n",
    "            scores_df = scores_df.sub(df[col],axis=0)\n",
    "            \n",
    "    return scores_df"
   ]
  },
  {
   "cell_type": "markdown",
   "metadata": {},
   "source": [
    "# Data Exploration\n",
    "\n",
    "We wish to study the dependency of students's school performance with:\n",
    "\n",
    "A. Phone Activity <br>\n",
    "B. Ecological Momentary Assessment (EMA) in Physical Activity<br>\n",
    "C. Mental Health"
   ]
  },
  {
   "cell_type": "markdown",
   "metadata": {},
   "source": [
    "# A. Phone Activity\n",
    "Use the data from this folder to measure phone activity"
   ]
  },
  {
   "cell_type": "code",
   "execution_count": 7,
   "metadata": {},
   "outputs": [
    {
     "data": {
      "text/plain": [
       "['activity',\n",
       " 'audio',\n",
       " 'bluetooth',\n",
       " 'conversation',\n",
       " 'dark',\n",
       " 'gps',\n",
       " 'phonecharge',\n",
       " 'phonelock',\n",
       " 'wifi',\n",
       " 'wifi_location']"
      ]
     },
     "execution_count": 7,
     "metadata": {},
     "output_type": "execute_result"
    }
   ],
   "source": [
    "sensing_path = './dataset/dataset/sensing/'\n",
    "[f for f in listdir(sensing_path)]"
   ]
  },
  {
   "cell_type": "markdown",
   "metadata": {},
   "source": [
    "Let us study the following folders:\n",
    "\n",
    "1. 'conversation'\n",
    "2. 'phonelock'"
   ]
  },
  {
   "cell_type": "markdown",
   "metadata": {},
   "source": [
    "## A.1. Conversation"
   ]
  },
  {
   "cell_type": "code",
   "execution_count": 8,
   "metadata": {},
   "outputs": [],
   "source": [
    "def conversation_scores_df():\n",
    "    \"\"\"Method to compute total conversation time (in sec) per user. \n",
    "    Output: a df with \n",
    "        - index = uid\n",
    "        - columns = [tot_conv_sec]\n",
    "    \"\"\"\n",
    "    # load data and create dict of df's\n",
    "    folder_path = sensing_path+'conversation/'\n",
    "    df_dict = create_dict_from_folder(folder_path,file_type='csv')\n",
    "    \n",
    "    # compute important stats and build a dict of (uid,stats)\n",
    "    score_dict = {}\n",
    "    for uid,df in df_dict.items():\n",
    "        \n",
    "        try:\n",
    "            #convert cols to timestamps\n",
    "            for col in df.columns:\n",
    "                df[col] = pd.to_datetime(df[col], unit='s')\n",
    "            tot_conv_sec = ((df.iloc[:,1]-df.iloc[:,0]).dt.seconds).sum()\n",
    "            score_dict[uid] = tot_conv_sec\n",
    "        except:\n",
    "            pass\n",
    "        \n",
    "    # create df from score_dict\n",
    "    df = pd.DataFrame.from_dict(score_dict, \n",
    "                                orient='index',\n",
    "                                columns=['tot_conv_sec'])\n",
    "    df.index.name = 'uid'\n",
    "    \n",
    "    return df"
   ]
  },
  {
   "cell_type": "code",
   "execution_count": 9,
   "metadata": {},
   "outputs": [
    {
     "data": {
      "text/html": [
       "<div>\n",
       "<style scoped>\n",
       "    .dataframe tbody tr th:only-of-type {\n",
       "        vertical-align: middle;\n",
       "    }\n",
       "\n",
       "    .dataframe tbody tr th {\n",
       "        vertical-align: top;\n",
       "    }\n",
       "\n",
       "    .dataframe thead th {\n",
       "        text-align: right;\n",
       "    }\n",
       "</style>\n",
       "<table border=\"1\" class=\"dataframe\">\n",
       "  <thead>\n",
       "    <tr style=\"text-align: right;\">\n",
       "      <th></th>\n",
       "      <th>tot_conv_sec</th>\n",
       "    </tr>\n",
       "    <tr>\n",
       "      <th>uid</th>\n",
       "      <th></th>\n",
       "    </tr>\n",
       "  </thead>\n",
       "  <tbody>\n",
       "    <tr>\n",
       "      <th>u00</th>\n",
       "      <td>1604596</td>\n",
       "    </tr>\n",
       "    <tr>\n",
       "      <th>u01</th>\n",
       "      <td>1664813</td>\n",
       "    </tr>\n",
       "    <tr>\n",
       "      <th>u02</th>\n",
       "      <td>1260149</td>\n",
       "    </tr>\n",
       "    <tr>\n",
       "      <th>u03</th>\n",
       "      <td>248496</td>\n",
       "    </tr>\n",
       "    <tr>\n",
       "      <th>u04</th>\n",
       "      <td>1505986</td>\n",
       "    </tr>\n",
       "  </tbody>\n",
       "</table>\n",
       "</div>"
      ],
      "text/plain": [
       "     tot_conv_sec\n",
       "uid              \n",
       "u00       1604596\n",
       "u01       1664813\n",
       "u02       1260149\n",
       "u03        248496\n",
       "u04       1505986"
      ]
     },
     "execution_count": 9,
     "metadata": {},
     "output_type": "execute_result"
    }
   ],
   "source": [
    "conversation_df = conversation_scores_df()\n",
    "conversation_df.head()"
   ]
  },
  {
   "cell_type": "code",
   "execution_count": 10,
   "metadata": {},
   "outputs": [
    {
     "data": {
      "image/png": "[encoded data removed]",
      "text/plain": [
       "<Figure size 432x288 with 1 Axes>"
      ]
     },
     "metadata": {},
     "output_type": "display_data"
    }
   ],
   "source": [
    "_ =  conversation_df.hist()"
   ]
  },
  {
   "cell_type": "markdown",
   "metadata": {},
   "source": [
    "## A.2. Phonelock"
   ]
  },
  {
   "cell_type": "code",
   "execution_count": 11,
   "metadata": {},
   "outputs": [],
   "source": [
    "def phonelock_scores_df():\n",
    "    \"\"\"Method to compute total phonelock time (in sec) per user. \n",
    "    Output: a df with \n",
    "        - index = uid\n",
    "        - columns = [tot_phonelock_sec]\n",
    "    \"\"\"\n",
    "    # load data and create dict of df's\n",
    "    folder_path = sensing_path+'phonelock/'\n",
    "    df_dict = create_dict_from_folder(folder_path,file_type='csv')\n",
    "    \n",
    "    # compute important stats and build a dict of (uid,stats)\n",
    "    score_dict = {}\n",
    "    for uid,df in df_dict.items():\n",
    "        \n",
    "        try:\n",
    "            #convert cols to timestamps\n",
    "            for col in df.columns:\n",
    "                df[col] = pd.to_datetime(df[col], unit='s')\n",
    "            tot_phonelock_sec = ((df.iloc[:,1]-df.iloc[:,0]).dt.seconds).sum()\n",
    "            score_dict[uid] = tot_phonelock_sec\n",
    "        except:\n",
    "            pass\n",
    "        \n",
    "    # create df from score_dict\n",
    "    df = pd.DataFrame.from_dict(score_dict, \n",
    "                                orient='index',\n",
    "                                columns=['tot_phonelock_sec'])\n",
    "    df.index.name = 'uid'\n",
    "    \n",
    "    return df"
   ]
  },
  {
   "cell_type": "code",
   "execution_count": 12,
   "metadata": {},
   "outputs": [
    {
     "data": {
      "text/html": [
       "<div>\n",
       "<style scoped>\n",
       "    .dataframe tbody tr th:only-of-type {\n",
       "        vertical-align: middle;\n",
       "    }\n",
       "\n",
       "    .dataframe tbody tr th {\n",
       "        vertical-align: top;\n",
       "    }\n",
       "\n",
       "    .dataframe thead th {\n",
       "        text-align: right;\n",
       "    }\n",
       "</style>\n",
       "<table border=\"1\" class=\"dataframe\">\n",
       "  <thead>\n",
       "    <tr style=\"text-align: right;\">\n",
       "      <th></th>\n",
       "      <th>tot_phonelock_sec</th>\n",
       "    </tr>\n",
       "    <tr>\n",
       "      <th>uid</th>\n",
       "      <th></th>\n",
       "    </tr>\n",
       "  </thead>\n",
       "  <tbody>\n",
       "    <tr>\n",
       "      <th>u00</th>\n",
       "      <td>2137464</td>\n",
       "    </tr>\n",
       "    <tr>\n",
       "      <th>u01</th>\n",
       "      <td>3084557</td>\n",
       "    </tr>\n",
       "    <tr>\n",
       "      <th>u02</th>\n",
       "      <td>1613057</td>\n",
       "    </tr>\n",
       "    <tr>\n",
       "      <th>u03</th>\n",
       "      <td>1514704</td>\n",
       "    </tr>\n",
       "    <tr>\n",
       "      <th>u04</th>\n",
       "      <td>3493669</td>\n",
       "    </tr>\n",
       "  </tbody>\n",
       "</table>\n",
       "</div>"
      ],
      "text/plain": [
       "     tot_phonelock_sec\n",
       "uid                   \n",
       "u00            2137464\n",
       "u01            3084557\n",
       "u02            1613057\n",
       "u03            1514704\n",
       "u04            3493669"
      ]
     },
     "execution_count": 12,
     "metadata": {},
     "output_type": "execute_result"
    }
   ],
   "source": [
    "phonelock_scores_df = phonelock_scores_df()\n",
    "phonelock_scores_df.head()"
   ]
  },
  {
   "cell_type": "code",
   "execution_count": 13,
   "metadata": {},
   "outputs": [
    {
     "data": {
      "image/png": "[encoded data removed]",
      "text/plain": [
       "<Figure size 432x288 with 1 Axes>"
      ]
     },
     "metadata": {},
     "output_type": "display_data"
    }
   ],
   "source": [
    "_ = phonelock_scores_df.hist()"
   ]
  },
  {
   "cell_type": "code",
   "execution_count": 14,
   "metadata": {},
   "outputs": [
    {
     "data": {
      "text/html": [
       "<div>\n",
       "<style scoped>\n",
       "    .dataframe tbody tr th:only-of-type {\n",
       "        vertical-align: middle;\n",
       "    }\n",
       "\n",
       "    .dataframe tbody tr th {\n",
       "        vertical-align: top;\n",
       "    }\n",
       "\n",
       "    .dataframe thead th {\n",
       "        text-align: right;\n",
       "    }\n",
       "</style>\n",
       "<table border=\"1\" class=\"dataframe\">\n",
       "  <thead>\n",
       "    <tr style=\"text-align: right;\">\n",
       "      <th></th>\n",
       "      <th>tot_conv_sec</th>\n",
       "      <th>tot_phonelock_sec</th>\n",
       "      <th>pct_phone_usage</th>\n",
       "    </tr>\n",
       "    <tr>\n",
       "      <th>uid</th>\n",
       "      <th></th>\n",
       "      <th></th>\n",
       "      <th></th>\n",
       "    </tr>\n",
       "  </thead>\n",
       "  <tbody>\n",
       "    <tr>\n",
       "      <th>u00</th>\n",
       "      <td>1604596</td>\n",
       "      <td>2137464</td>\n",
       "      <td>0.750701</td>\n",
       "    </tr>\n",
       "    <tr>\n",
       "      <th>u01</th>\n",
       "      <td>1664813</td>\n",
       "      <td>3084557</td>\n",
       "      <td>0.539725</td>\n",
       "    </tr>\n",
       "    <tr>\n",
       "      <th>u02</th>\n",
       "      <td>1260149</td>\n",
       "      <td>1613057</td>\n",
       "      <td>0.781218</td>\n",
       "    </tr>\n",
       "    <tr>\n",
       "      <th>u03</th>\n",
       "      <td>248496</td>\n",
       "      <td>1514704</td>\n",
       "      <td>0.164056</td>\n",
       "    </tr>\n",
       "    <tr>\n",
       "      <th>u04</th>\n",
       "      <td>1505986</td>\n",
       "      <td>3493669</td>\n",
       "      <td>0.431061</td>\n",
       "    </tr>\n",
       "  </tbody>\n",
       "</table>\n",
       "</div>"
      ],
      "text/plain": [
       "     tot_conv_sec  tot_phonelock_sec  pct_phone_usage\n",
       "uid                                                  \n",
       "u00       1604596            2137464         0.750701\n",
       "u01       1664813            3084557         0.539725\n",
       "u02       1260149            1613057         0.781218\n",
       "u03        248496            1514704         0.164056\n",
       "u04       1505986            3493669         0.431061"
      ]
     },
     "execution_count": 14,
     "metadata": {},
     "output_type": "execute_result"
    }
   ],
   "source": [
    "phone_scores_df = pd.merge(conversation_df, phonelock_scores_df, how='outer', on='uid')\n",
    "phone_scores_df['pct_phone_usage'] = phone_scores_df.tot_conv_sec/phone_scores_df.tot_phonelock_sec\n",
    "phone_scores_df.head()"
   ]
  },
  {
   "cell_type": "code",
   "execution_count": 15,
   "metadata": {},
   "outputs": [
    {
     "data": {
      "image/png": "[encoded data removed]",
      "text/plain": [
       "<Figure size 432x288 with 1 Axes>"
      ]
     },
     "metadata": {},
     "output_type": "display_data"
    }
   ],
   "source": [
    "_ = phone_scores_df.pct_phone_usage.hist()"
   ]
  },
  {
   "cell_type": "markdown",
   "metadata": {},
   "source": [
    "# B. EMA\n",
    "Use the data from this folder to assess physical health"
   ]
  },
  {
   "cell_type": "code",
   "execution_count": 16,
   "metadata": {},
   "outputs": [],
   "source": [
    "ema_info = pd.read_json('./dataset/dataset/EMA/EMA_definition.json').set_index(['name'])\n",
    "ema_info.index.tolist();"
   ]
  },
  {
   "cell_type": "markdown",
   "metadata": {},
   "source": [
    "Let us study the following files:\n",
    "\n",
    "1. 'Sleep'\n",
    "2. 'Stress'\n",
    "3. 'Social'\n",
    "4. 'Activity'\n",
    "5. 'Exercise'\n",
    "6. 'Mood'\n",
    "7. 'Behavior'\n",
    "\n",
    "\n",
    "For each file we will compute a df of scores which we can then use to assess the physical health of each student. "
   ]
  },
  {
   "cell_type": "markdown",
   "metadata": {},
   "source": [
    "## B.1. Sleep"
   ]
  },
  {
   "cell_type": "code",
   "execution_count": 17,
   "metadata": {},
   "outputs": [
    {
     "data": {
      "text/plain": [
       "[{'options': '[1]<3, [2]3.5, [3]4, [4]4.5, [5]5, [6]5.5, [7]6, [8]6.5, [9]7, [10]7.5, [11]8, [12]8.5, [13]9, [14]9.5, [15]10, [16]10.5, [17]11, [18]11.5, [19]12, ',\n",
       "  'question_id': 'hour',\n",
       "  'question_text': 'How many hours did you sleep last night? '},\n",
       " {'options': '[1]Very good, [2]Fairly good, [3]Fairly bad, [4]Very bad, ',\n",
       "  'question_id': 'rate',\n",
       "  'question_text': 'How would rate your overall sleep last night?'},\n",
       " {'options': '[1]None, [2]Once, [3]Twice, [4]Three or more times, ',\n",
       "  'question_id': 'social',\n",
       "  'question_text': 'How often did you have trouble staying awake yesterday while in class, eating meals or engaging in social activity?'},\n",
       " {'options': '', 'question_id': 'location', 'question_text': ''}]"
      ]
     },
     "execution_count": 17,
     "metadata": {},
     "output_type": "execute_result"
    }
   ],
   "source": [
    "ema_info.loc['Sleep',:][0]"
   ]
  },
  {
   "cell_type": "code",
   "execution_count": 18,
   "metadata": {},
   "outputs": [],
   "source": [
    "def sleep_score_df():\n",
    "    \"\"\"Method to assess sleep quantity/quality. \n",
    "    Output: a df with \n",
    "        - index = uid\n",
    "        - columns = [sleep_hour_+ (higher = more),\n",
    "                     sleep_rate_- (lower = better),\n",
    "                     sleep_social_- (lower = better)]\n",
    "    \"\"\"\n",
    "    # load data and create dict of df's\n",
    "    df_dict = create_dict_from_folder('./dataset/dataset/EMA/response/Sleep/')\n",
    "    \n",
    "    # compute important stats and build a dict of (uid,stats)\n",
    "    score_dict = {}\n",
    "    for uid,df in df_dict.items():\n",
    "        \n",
    "        try:\n",
    "            sleep_hour, sleep_rate, sleep_social = df.hour.mean(), df.rate.mean(), df.social.mean()\n",
    "            score_dict[uid] = (sleep_hour, sleep_rate, sleep_social)\n",
    "        except:\n",
    "            pass\n",
    "    # create df from score_dict\n",
    "    df = pd.DataFrame.from_dict(score_dict, \n",
    "                                orient='index', \n",
    "                                columns=['sleep_hour_+','sleep_rate_-', 'sleep_social_-'])\n",
    "    df.index.name = 'uid'\n",
    "    \n",
    "    return df"
   ]
  },
  {
   "cell_type": "code",
   "execution_count": 19,
   "metadata": {},
   "outputs": [
    {
     "data": {
      "image/png": "[encoded data removed]",
      "text/plain": [
       "<Figure size 504x360 with 4 Axes>"
      ]
     },
     "metadata": {},
     "output_type": "display_data"
    }
   ],
   "source": [
    "sleep_df = sleep_score_df()\n",
    "_ = sleep_df.hist(figsize=(7,5))"
   ]
  },
  {
   "cell_type": "code",
   "execution_count": 20,
   "metadata": {},
   "outputs": [
    {
     "data": {
      "image/png": "[encoded data removed]",
      "text/plain": [
       "<Figure size 432x288 with 1 Axes>"
      ]
     },
     "metadata": {},
     "output_type": "display_data"
    }
   ],
   "source": [
    "sleep_scores_df = compute_net_score(sleep_df,'sleep_score')\n",
    "_ = sleep_scores_df.hist()"
   ]
  },
  {
   "cell_type": "markdown",
   "metadata": {},
   "source": [
    "## B.2. Stress"
   ]
  },
  {
   "cell_type": "code",
   "execution_count": 21,
   "metadata": {},
   "outputs": [
    {
     "data": {
      "text/plain": [
       "[{'options': '[1]A little stressed, [2]Definitely stressed, [3]Stressed out, [4]Feeling good, [5]Feeling great, ',\n",
       "  'question_id': 'level',\n",
       "  'question_text': 'Right now, I am...'},\n",
       " {'options': '', 'question_id': 'location', 'question_text': ''}]"
      ]
     },
     "execution_count": 21,
     "metadata": {},
     "output_type": "execute_result"
    }
   ],
   "source": [
    "ema_info.loc['Stress',:][0]"
   ]
  },
  {
   "cell_type": "code",
   "execution_count": 22,
   "metadata": {},
   "outputs": [],
   "source": [
    "def stress_score_df():\n",
    "    \"\"\"Method to assess stress. \n",
    "    Output: a df with \n",
    "        - index = uid\n",
    "        - columns = stress_level_+ (higher = better)\n",
    "    \"\"\"\n",
    "    # load data and create dict of df's\n",
    "    df_dict = create_dict_from_folder('./dataset/dataset/EMA/response/Stress/')\n",
    "    \n",
    "    # compute important stats and build a dict of (uid,stats)\n",
    "    score_dict = {}\n",
    "    for uid,df in df_dict.items():\n",
    "        \n",
    "        try:\n",
    "            # swap level 1 with 3 such that stress levels are ordered from 1(high) to 5(low)\n",
    "            df.level = df.level.map({1:3,3:1})\n",
    "\n",
    "            score_dict[uid] = df.level.mean()\n",
    "        except:\n",
    "            pass\n",
    "    \n",
    "    # create df from score_dict\n",
    "    df = pd.DataFrame.from_dict(score_dict, \n",
    "                                orient='index', \n",
    "                                columns=['stress_level_+'])\n",
    "    df.index.name = 'uid'\n",
    "    \n",
    "\n",
    "    return df.dropna()"
   ]
  },
  {
   "cell_type": "code",
   "execution_count": 23,
   "metadata": {},
   "outputs": [],
   "source": [
    "stress_df = stress_score_df()"
   ]
  },
  {
   "cell_type": "code",
   "execution_count": 24,
   "metadata": {},
   "outputs": [
    {
     "data": {
      "image/png": "[encoded data removed]",
      "text/plain": [
       "<Figure size 432x288 with 1 Axes>"
      ]
     },
     "metadata": {},
     "output_type": "display_data"
    }
   ],
   "source": [
    "stress_scores_df = compute_net_score(stress_df,'stress_score')\n",
    "_ = stress_scores_df.hist()"
   ]
  },
  {
   "cell_type": "markdown",
   "metadata": {},
   "source": [
    "## B.3. Social"
   ]
  },
  {
   "cell_type": "code",
   "execution_count": 25,
   "metadata": {},
   "outputs": [
    {
     "data": {
      "text/plain": [
       "[{'options': '[1]0-4 persons, [2]5-9 persons, [3]10-19 persons, [4]20-49 persons, [5]50-99 persons, [6]over 100 persons, ',\n",
       "  'question_id': 'number',\n",
       "  'question_text': 'How many people did you have contact with yesterday, including anyone you said hello to, chatted, talked or discussed matters with, whether you did it face-to-face, by telephone, by mail or on the internet, and whether you personally knew the person or not? Please select one of the following categories that best matches your estimate:'},\n",
       " {'options': '', 'question_id': 'location', 'question_text': ''}]"
      ]
     },
     "execution_count": 25,
     "metadata": {},
     "output_type": "execute_result"
    }
   ],
   "source": [
    "ema_info.loc['Social',:][0]"
   ]
  },
  {
   "cell_type": "code",
   "execution_count": 26,
   "metadata": {},
   "outputs": [],
   "source": [
    "def social_score_df():\n",
    "    \"\"\"Method to assess social activity. \n",
    "    Output: a df with \n",
    "        - index = uid\n",
    "        - columns = social_number_+ (higher = more)\n",
    "    \"\"\"\n",
    "    # load data and create dict of df's\n",
    "    df_dict = create_dict_from_folder('./dataset/dataset/EMA/response/Social/')\n",
    "    \n",
    "    # compute important stats and build a dict of (uid,stats)\n",
    "    score_dict = {}\n",
    "    for uid,df in df_dict.items():\n",
    "        \n",
    "        try:\n",
    "            score_dict[uid] = df.number.mean()\n",
    "        except:\n",
    "            pass\n",
    "    \n",
    "    # create df from score_dict\n",
    "    df = pd.DataFrame.from_dict(score_dict, \n",
    "                                orient='index', \n",
    "                                columns=['social_number_+'])\n",
    "    df.index.name = 'uid'\n",
    "    \n",
    "\n",
    "    return df"
   ]
  },
  {
   "cell_type": "code",
   "execution_count": 27,
   "metadata": {},
   "outputs": [],
   "source": [
    "social_df = social_score_df()"
   ]
  },
  {
   "cell_type": "code",
   "execution_count": 28,
   "metadata": {},
   "outputs": [
    {
     "data": {
      "image/png": "[encoded data removed]",
      "text/plain": [
       "<Figure size 432x288 with 1 Axes>"
      ]
     },
     "metadata": {},
     "output_type": "display_data"
    }
   ],
   "source": [
    "social_scores_df = compute_net_score(social_df,'social_score')\n",
    "_ = social_scores_df.hist()"
   ]
  },
  {
   "cell_type": "markdown",
   "metadata": {},
   "source": [
    "## B.4. Activity"
   ]
  },
  {
   "cell_type": "code",
   "execution_count": 29,
   "metadata": {},
   "outputs": [
    {
     "data": {
      "text/plain": [
       "[{'options': '[1]0-10%, [2]11-25%, [3]26-50%, [4]51-75%, [5]76-100%, ',\n",
       "  'question_id': 'working',\n",
       "  'question_text': 'alone working'},\n",
       " {'options': '[1]0-10%, [2]11-25%, [3]26-50%, [4]51-75%, [5]76-100%, ',\n",
       "  'question_id': 'relaxing',\n",
       "  'question_text': 'alone relaxing'},\n",
       " {'options': '[1]0-10%, [2]11-25%, [3]26-50%, [4]51-75%, [5]76-100%, ',\n",
       "  'question_id': 'other_working',\n",
       "  'question_text': 'with other people working'},\n",
       " {'options': '[1]0-10%, [2]11-25%, [3]26-50%, [4]51-75%, [5]76-100%, ',\n",
       "  'question_id': 'other_relaxing',\n",
       "  'question_text': 'with other people relaxing'},\n",
       " {'options': '', 'question_id': 'location', 'question_text': 'location'}]"
      ]
     },
     "execution_count": 29,
     "metadata": {},
     "output_type": "execute_result"
    }
   ],
   "source": [
    "ema_info.loc['Activity',:][0]"
   ]
  },
  {
   "cell_type": "code",
   "execution_count": 30,
   "metadata": {},
   "outputs": [],
   "source": [
    "def activity_score_df():\n",
    "    \"\"\"Method to assess activity. \n",
    "    Output: a df with \n",
    "        - index = uid\n",
    "        - columns = [activity_alone_working_+ ,\n",
    "                     activity_relaxing_+ ,\n",
    "                     activity_with_other_working_+,\n",
    "                     activity_with_other_relaxing_+,\n",
    "                     ] (higher = more)\n",
    "\n",
    "    \"\"\"\n",
    "    # load data and create dict of df's\n",
    "    df_dict = create_dict_from_folder('./dataset/dataset/EMA/response/Activity/')\n",
    "    \n",
    "    # compute important stats and build a dict of (uid,stats)\n",
    "    score_dict = {}\n",
    "    for uid,df in df_dict.items():\n",
    "        \n",
    "        try:\n",
    "            score_dict[uid] = (df.working.mean(), \n",
    "                               df.relaxing.mean(), \n",
    "                               df.other_working.mean(),\n",
    "                               df.other_relaxing.mean())\n",
    "        except:\n",
    "            pass\n",
    "    \n",
    "    # create df from score_dict\n",
    "    df = pd.DataFrame.from_dict(score_dict, \n",
    "                                orient='index', \n",
    "                                columns=['activity_alone_working_+', \n",
    "                                         'activity_relaxing_+' ,\n",
    "                                         'activity_with_other_working_+',\n",
    "                                         'activity_with_other_relaxing_+'])                         \n",
    "    df.index.name = 'uid'\n",
    "     \n",
    "\n",
    "    return df"
   ]
  },
  {
   "cell_type": "code",
   "execution_count": 31,
   "metadata": {},
   "outputs": [
    {
     "data": {
      "image/png": "[encoded data removed]",
      "text/plain": [
       "<Figure size 504x360 with 4 Axes>"
      ]
     },
     "metadata": {},
     "output_type": "display_data"
    }
   ],
   "source": [
    "activity_df = activity_score_df()\n",
    "_ = activity_df.hist(figsize=(7,5))"
   ]
  },
  {
   "cell_type": "code",
   "execution_count": 32,
   "metadata": {},
   "outputs": [
    {
     "data": {
      "image/png": "[encoded data removed]",
      "text/plain": [
       "<Figure size 432x288 with 1 Axes>"
      ]
     },
     "metadata": {},
     "output_type": "display_data"
    }
   ],
   "source": [
    "activity_scores_df = compute_net_score(activity_df,'activity_score')\n",
    "_ = activity_scores_df.hist()"
   ]
  },
  {
   "cell_type": "markdown",
   "metadata": {},
   "source": [
    "## B.5. Exercise"
   ]
  },
  {
   "cell_type": "code",
   "execution_count": 33,
   "metadata": {},
   "outputs": [
    {
     "data": {
      "text/plain": [
       "[{'options': '(Yes) 1 2 (No)',\n",
       "  'question_id': 'have',\n",
       "  'question_text': \"Did you do vigorous exercise today (don't include walking) such as run, swim, cycle, play a sport\"},\n",
       " {'options': '(Yes) 1 2 (No)',\n",
       "  'question_id': 'schedule',\n",
       "  'question_text': \"If no did you want to but couldn't because of your schedule?\"},\n",
       " {'options': '[1]None, [2]<30 mins, [3]30-60 mins, [4]60-90 mins, [5]>90mins, ',\n",
       "  'question_id': 'exercise',\n",
       "  'question_text': 'If you exercised how long did you exercise for?'},\n",
       " {'options': '', 'question_id': 'location', 'question_text': ''},\n",
       " {'options': '[1]None, [2]<30 mins, [3]30-60 mins, [4]60-90 mins, [5]>90mins, ',\n",
       "  'question_id': 'walk',\n",
       "  'question_text': 'How long did you walk for today?'}]"
      ]
     },
     "execution_count": 33,
     "metadata": {},
     "output_type": "execute_result"
    }
   ],
   "source": [
    "ema_info.loc['Exercise',:][0]"
   ]
  },
  {
   "cell_type": "code",
   "execution_count": 34,
   "metadata": {},
   "outputs": [],
   "source": [
    "def exercise_score_df():\n",
    "    \"\"\"Method to assess exercise. \n",
    "    Output: a df with \n",
    "        - index = uid\n",
    "        - columns = [exercise_vigorous_+ (higher = more),\n",
    "                     exercise_walk_+ (higher=more)\n",
    "                     ]\n",
    "\n",
    "    \"\"\"\n",
    "    # load data and create dict of df's\n",
    "    df_dict = create_dict_from_folder('./dataset/dataset/EMA/response/Exercise/')\n",
    "    \n",
    "    # compute important stats and build a dict of (uid,stats)\n",
    "    score_dict = {}\n",
    "    for uid,df in df_dict.items():\n",
    "        \n",
    "        try:\n",
    "            score_dict[uid] = (df.exercise.mean(), df.walk.mean())\n",
    "                               \n",
    "        except:\n",
    "            pass\n",
    "    \n",
    "    # create df from score_dict\n",
    "    df = pd.DataFrame.from_dict(score_dict, \n",
    "                                orient='index', \n",
    "                                columns=['exercise_vigorous_+', \n",
    "                                         'exercise_walk_+'])\n",
    "    df.index.name = 'uid'\n",
    "\n",
    "    return df"
   ]
  },
  {
   "cell_type": "code",
   "execution_count": 35,
   "metadata": {
    "scrolled": true
   },
   "outputs": [
    {
     "data": {
      "image/png": "[encoded data removed]",
      "text/plain": [
       "<Figure size 504x216 with 2 Axes>"
      ]
     },
     "metadata": {},
     "output_type": "display_data"
    }
   ],
   "source": [
    "exercise_df = exercise_score_df()\n",
    "_ = exercise_df.hist(figsize=(7,3))"
   ]
  },
  {
   "cell_type": "code",
   "execution_count": 36,
   "metadata": {},
   "outputs": [
    {
     "data": {
      "image/png": "[encoded data removed]",
      "text/plain": [
       "<Figure size 432x288 with 1 Axes>"
      ]
     },
     "metadata": {},
     "output_type": "display_data"
    }
   ],
   "source": [
    "exercise_scores_df = compute_net_score(exercise_df,'exercise_score')\n",
    "_ = exercise_scores_df.hist()"
   ]
  },
  {
   "cell_type": "markdown",
   "metadata": {},
   "source": [
    "## B.6. Mood"
   ]
  },
  {
   "cell_type": "code",
   "execution_count": 37,
   "metadata": {},
   "outputs": [
    {
     "data": {
      "text/plain": [
       "[{'options': '(Yes) 1 2 (No)',\n",
       "  'question_id': 'happyornot',\n",
       "  'question_text': 'Do you feel AT ALL happy right now?'},\n",
       " {'options': '[1]a little bit, [2]somewhat, [3]very much, [4]extremely, ',\n",
       "  'question_id': 'happy',\n",
       "  'question_text': 'If you answered \"Yes\" on the first question, how happy do you feel? '},\n",
       " {'options': '(Yes) 1 2 (No)',\n",
       "  'question_id': 'sadornot',\n",
       "  'question_text': 'Do you feel AT ALL sad right now? '},\n",
       " {'options': '[1]a little bit, [2]somewhat, [3]very much, [4]extremely, ',\n",
       "  'question_id': 'sad',\n",
       "  'question_text': 'If you answered \"Yes\" on the third question, how sad do you feel?'},\n",
       " {'options': '', 'question_id': 'location', 'question_text': ''}]"
      ]
     },
     "execution_count": 37,
     "metadata": {},
     "output_type": "execute_result"
    }
   ],
   "source": [
    "ema_info.loc['Mood',:][0]"
   ]
  },
  {
   "cell_type": "code",
   "execution_count": 38,
   "metadata": {},
   "outputs": [],
   "source": [
    "def mood_score_df():\n",
    "    \"\"\"Method to assess mood. \n",
    "    Output: a df with \n",
    "        - index = uid\n",
    "        - columns = [mood_happy_+ (higher = more),\n",
    "                     mood_sad_- (higher=more)\n",
    "                     ]\n",
    "\n",
    "    \"\"\"\n",
    "    # load data and create dict of df's\n",
    "    df_dict = create_dict_from_folder('./dataset/dataset/EMA/response/Mood/')\n",
    "    \n",
    "    # compute important stats and build a dict of (uid,stats)\n",
    "    score_dict = {}\n",
    "    for uid,df in df_dict.items():\n",
    "        \n",
    "        try:\n",
    "            score_dict[uid] = (df.happy.mean(), df.sad.mean())\n",
    "                               \n",
    "        except:\n",
    "            pass\n",
    "    \n",
    "    # create df from score_dict\n",
    "    df = pd.DataFrame.from_dict(score_dict, \n",
    "                                orient='index', \n",
    "                                columns=['mood_happy_+', \n",
    "                                         'mood_sad_-'])\n",
    "    df.index.name = 'uid'\n",
    "     \n",
    "    return df"
   ]
  },
  {
   "cell_type": "code",
   "execution_count": 39,
   "metadata": {},
   "outputs": [
    {
     "data": {
      "image/png": "[encoded data removed]",
      "text/plain": [
       "<Figure size 504x216 with 2 Axes>"
      ]
     },
     "metadata": {},
     "output_type": "display_data"
    }
   ],
   "source": [
    "mood_df = mood_score_df()\n",
    "_ = mood_df.hist(figsize=(7,3))"
   ]
  },
  {
   "cell_type": "code",
   "execution_count": 40,
   "metadata": {},
   "outputs": [
    {
     "data": {
      "image/png": "[encoded data removed]",
      "text/plain": [
       "<Figure size 432x288 with 1 Axes>"
      ]
     },
     "metadata": {},
     "output_type": "display_data"
    }
   ],
   "source": [
    "mood_scores_df = compute_net_score(mood_df,'mood_score')\n",
    "_ = mood_scores_df.hist()"
   ]
  },
  {
   "cell_type": "markdown",
   "metadata": {},
   "source": [
    "## B.7. Behavior"
   ]
  },
  {
   "cell_type": "code",
   "execution_count": 41,
   "metadata": {},
   "outputs": [
    {
     "data": {
      "text/plain": [
       "[{'options': '(Not at all) 1 2 3 4 5 (Extremely)',\n",
       "  'question_id': 'enthusiastic',\n",
       "  'question_text': 'In the past 15 minutes, I was extraverted, enthusiastic.                (Scale: 1=Not at all; 2=A little; 3=somewhat; 4=very; 5=extremely)'},\n",
       " {'options': '(Not at all) 1 2 3 4 5 (Extremely)',\n",
       "  'question_id': 'critical',\n",
       "  'question_text': '......, I was critical, quarrelsome.'},\n",
       " {'options': '(Not at all) 1 2 3 4 5 (Extremely)',\n",
       "  'question_id': 'dependable',\n",
       "  'question_text': '......, I was dependable, self-disciplined.'},\n",
       " {'options': '(Not at all) 1 2 3 4 5 (Extremely)',\n",
       "  'question_id': 'anxious',\n",
       "  'question_text': '......, I was anxious, easily upset.'},\n",
       " {'options': '(Not at all) 1 2 3 4 5 (Extremely)',\n",
       "  'question_id': 'experiences',\n",
       "  'question_text': '......, I was open to new experiences, complex.'},\n",
       " {'options': '(Not at all) 1 2 3 4 5 (Extremely)',\n",
       "  'question_id': 'reserved',\n",
       "  'question_text': '......, I was reserved, quiet.'},\n",
       " {'options': '(Not at all) 1 2 3 4 5 (Extremely)',\n",
       "  'question_id': 'sympathetic',\n",
       "  'question_text': '......, I was sympathetic, warm.'},\n",
       " {'options': '(Not at all) 1 2 3 4 5 (Extremely)',\n",
       "  'question_id': 'disorganized',\n",
       "  'question_text': '......,  I was disorganized, careless.'},\n",
       " {'options': '(Not at all) 1 2 3 4 5 (Extremely)',\n",
       "  'question_id': 'calm',\n",
       "  'question_text': '......, I was calm, emotionally stable.'},\n",
       " {'options': '(Not at all) 1 2 3 4 5 (Extremely)',\n",
       "  'question_id': 'conventional',\n",
       "  'question_text': '......, I was conventional, uncreative.'},\n",
       " {'options': '', 'question_id': 'location', 'question_text': 'location'}]"
      ]
     },
     "execution_count": 41,
     "metadata": {},
     "output_type": "execute_result"
    }
   ],
   "source": [
    "ema_info.loc['Behavior',:][0]"
   ]
  },
  {
   "cell_type": "code",
   "execution_count": 42,
   "metadata": {},
   "outputs": [],
   "source": [
    "def behavior_score_df():\n",
    "    \"\"\"Method to assess behavior. \n",
    "    Output: a df with \n",
    "        - index = uid\n",
    "        - columns = ['behavior_anxious_-',\n",
    "                     'behavior_calm_+',\n",
    "                     'behavior_conventional_-',\n",
    "                     'behavior_critical_-',\n",
    "                     'behavior_dependable_+',\n",
    "                     'behavior_disorganized_-',\n",
    "                     'behavior_enthusiastic_+',\n",
    "                     'behavior_experiences_+',\n",
    "                     'behavior_reserved_-',\n",
    "                     'behavior_sympathetic_+']\n",
    "                     (higher = more)\n",
    "\n",
    "    \"\"\"\n",
    "    # load data and create dict of df's\n",
    "    df_dict = create_dict_from_folder('./dataset/dataset/EMA/response/Behavior/')\n",
    "    \n",
    "    # define cols of interest\n",
    "    cols =  ['anxious',\n",
    "             'calm',\n",
    "             'conventional',\n",
    "             'critical',\n",
    "             'dependable',\n",
    "             'disorganized',\n",
    "             'enthusiastic',\n",
    "             'experiences',\n",
    "             'reserved',\n",
    "             'sympathetic']\n",
    "    \n",
    "    \n",
    "    # compute important stats and build a dict of (uid,stats)\n",
    "    score_dict = {}\n",
    "    \n",
    "    for uid,df in df_dict.items():\n",
    "        \n",
    "            try:\n",
    "                temp_score_list = []\n",
    "                for col in cols:\n",
    "                    temp_score_list.append(df.loc[:,col].mean())\n",
    "                score_dict[uid] = tuple(temp_score_list)\n",
    "\n",
    "            except:\n",
    "                pass\n",
    "    \n",
    "    \n",
    "    # create df from score_dict\n",
    "    df = pd.DataFrame.from_dict(score_dict, \n",
    "                                orient='index', \n",
    "                                columns=['behavior_anxious_-',\n",
    "                                         'behavior_calm_+',\n",
    "                                         'behavior_conventional_-',\n",
    "                                         'behavior_critical_-',\n",
    "                                         'behavior_dependable_+',\n",
    "                                         'behavior_disorganized_-',\n",
    "                                         'behavior_enthusiastic_+',\n",
    "                                         'behavior_experiences_+',\n",
    "                                         'behavior_reserved_-',\n",
    "                                         'behavior_sympathetic_+'])\n",
    "    df.index.name = 'uid'\n",
    "    \n",
    "\n",
    "    return df"
   ]
  },
  {
   "cell_type": "code",
   "execution_count": 43,
   "metadata": {},
   "outputs": [
    {
     "data": {
      "image/png": "[encoded data removed]",
      "text/plain": [
       "<Figure size 720x720 with 12 Axes>"
      ]
     },
     "metadata": {},
     "output_type": "display_data"
    }
   ],
   "source": [
    "behavior_df = behavior_score_df()\n",
    "_ = behavior_df.hist(figsize=(10,10))"
   ]
  },
  {
   "cell_type": "code",
   "execution_count": 44,
   "metadata": {},
   "outputs": [
    {
     "data": {
      "image/png": "[encoded data removed]",
      "text/plain": [
       "<Figure size 432x288 with 1 Axes>"
      ]
     },
     "metadata": {},
     "output_type": "display_data"
    }
   ],
   "source": [
    "behavior_scores_df = compute_net_score(behavior_df,'behavior_score')\n",
    "_ = behavior_scores_df.hist()"
   ]
  },
  {
   "cell_type": "markdown",
   "metadata": {},
   "source": [
    "## Join all EMA df's"
   ]
  },
  {
   "cell_type": "code",
   "execution_count": 45,
   "metadata": {},
   "outputs": [],
   "source": [
    "ema_scores_df_list = [sleep_scores_df, stress_scores_df, social_scores_df, \n",
    "                       activity_scores_df, exercise_scores_df, mood_scores_df, \n",
    "                       behavior_scores_df]"
   ]
  },
  {
   "cell_type": "code",
   "execution_count": 46,
   "metadata": {},
   "outputs": [
    {
     "data": {
      "text/html": [
       "<div>\n",
       "<style scoped>\n",
       "    .dataframe tbody tr th:only-of-type {\n",
       "        vertical-align: middle;\n",
       "    }\n",
       "\n",
       "    .dataframe tbody tr th {\n",
       "        vertical-align: top;\n",
       "    }\n",
       "\n",
       "    .dataframe thead th {\n",
       "        text-align: right;\n",
       "    }\n",
       "</style>\n",
       "<table border=\"1\" class=\"dataframe\">\n",
       "  <thead>\n",
       "    <tr style=\"text-align: right;\">\n",
       "      <th></th>\n",
       "      <th>sleep_score</th>\n",
       "      <th>stress_score</th>\n",
       "      <th>social_score</th>\n",
       "      <th>activity_score</th>\n",
       "      <th>exercise_score</th>\n",
       "      <th>mood_score</th>\n",
       "      <th>behavior_score</th>\n",
       "    </tr>\n",
       "    <tr>\n",
       "      <th>uid</th>\n",
       "      <th></th>\n",
       "      <th></th>\n",
       "      <th></th>\n",
       "      <th></th>\n",
       "      <th></th>\n",
       "      <th></th>\n",
       "      <th></th>\n",
       "    </tr>\n",
       "  </thead>\n",
       "  <tbody>\n",
       "    <tr>\n",
       "      <th>u00</th>\n",
       "      <td>-0.148492</td>\n",
       "      <td>0.724456</td>\n",
       "      <td>0.567449</td>\n",
       "      <td>1.515873</td>\n",
       "      <td>0.533306</td>\n",
       "      <td>0.022727</td>\n",
       "      <td>0.860762</td>\n",
       "    </tr>\n",
       "    <tr>\n",
       "      <th>u01</th>\n",
       "      <td>-0.425579</td>\n",
       "      <td>0.935811</td>\n",
       "      <td>0.725806</td>\n",
       "      <td>2.120370</td>\n",
       "      <td>0.519481</td>\n",
       "      <td>0.500000</td>\n",
       "      <td>0.763769</td>\n",
       "    </tr>\n",
       "    <tr>\n",
       "      <th>u02</th>\n",
       "      <td>-0.170330</td>\n",
       "      <td>1.000000</td>\n",
       "      <td>0.522581</td>\n",
       "      <td>1.445933</td>\n",
       "      <td>0.792929</td>\n",
       "      <td>0.000000</td>\n",
       "      <td>2.396797</td>\n",
       "    </tr>\n",
       "    <tr>\n",
       "      <th>u03</th>\n",
       "      <td>0.228807</td>\n",
       "      <td>0.828829</td>\n",
       "      <td>0.159677</td>\n",
       "      <td>1.068001</td>\n",
       "      <td>0.652146</td>\n",
       "      <td>0.000000</td>\n",
       "      <td>0.860762</td>\n",
       "    </tr>\n",
       "    <tr>\n",
       "      <th>u04</th>\n",
       "      <td>-0.261197</td>\n",
       "      <td>0.607313</td>\n",
       "      <td>0.602151</td>\n",
       "      <td>1.908425</td>\n",
       "      <td>1.432239</td>\n",
       "      <td>0.034091</td>\n",
       "      <td>-0.720497</td>\n",
       "    </tr>\n",
       "  </tbody>\n",
       "</table>\n",
       "</div>"
      ],
      "text/plain": [
       "     sleep_score  stress_score  social_score  activity_score  exercise_score  mood_score  behavior_score\n",
       "uid                                                                                                     \n",
       "u00    -0.148492      0.724456      0.567449        1.515873        0.533306    0.022727        0.860762\n",
       "u01    -0.425579      0.935811      0.725806        2.120370        0.519481    0.500000        0.763769\n",
       "u02    -0.170330      1.000000      0.522581        1.445933        0.792929    0.000000        2.396797\n",
       "u03     0.228807      0.828829      0.159677        1.068001        0.652146    0.000000        0.860762\n",
       "u04    -0.261197      0.607313      0.602151        1.908425        1.432239    0.034091       -0.720497"
      ]
     },
     "execution_count": 46,
     "metadata": {},
     "output_type": "execute_result"
    }
   ],
   "source": [
    "# Join all EMA df on index = uid\n",
    "ema_scores_df = sleep_scores_df\n",
    "for df in ema_scores_df_list[1:]:\n",
    "    ema_scores_df = pd.merge(ema_scores_df,df,how='outer',on='uid')\n",
    "\n",
    "# fill null cols with mean value of col\n",
    "ema_scores_df = fill_nulls(ema_scores_df,method='mean')\n",
    "\n",
    "ema_scores_df.head()"
   ]
  },
  {
   "cell_type": "code",
   "execution_count": 47,
   "metadata": {},
   "outputs": [
    {
     "data": {
      "image/png": "[encoded data removed]",
      "text/plain": [
       "<Figure size 1632.96x907.2 with 56 Axes>"
      ]
     },
     "metadata": {},
     "output_type": "display_data"
    }
   ],
   "source": [
    "pp = sns.pairplot(ema_scores_df, size=1.8, aspect=1.8,\n",
    "                  plot_kws=dict(edgecolor=\"k\", linewidth=0.5),\n",
    "                  diag_kind=\"kde\", diag_kws=dict(shade=True))\n",
    "\n",
    "fig = pp.fig \n",
    "fig.subplots_adjust(top=0.93, wspace=0.3)\n",
    "t = fig.suptitle('Wine Attributes Pairwise Plots', fontsize=14)"
   ]
  },
  {
   "cell_type": "code",
   "execution_count": 48,
   "metadata": {},
   "outputs": [
    {
     "data": {
      "text/html": [
       "<div>\n",
       "<style scoped>\n",
       "    .dataframe tbody tr th:only-of-type {\n",
       "        vertical-align: middle;\n",
       "    }\n",
       "\n",
       "    .dataframe tbody tr th {\n",
       "        vertical-align: top;\n",
       "    }\n",
       "\n",
       "    .dataframe thead th {\n",
       "        text-align: right;\n",
       "    }\n",
       "</style>\n",
       "<table border=\"1\" class=\"dataframe\">\n",
       "  <thead>\n",
       "    <tr style=\"text-align: right;\">\n",
       "      <th></th>\n",
       "      <th>ema_net_score</th>\n",
       "    </tr>\n",
       "    <tr>\n",
       "      <th>uid</th>\n",
       "      <th></th>\n",
       "    </tr>\n",
       "  </thead>\n",
       "  <tbody>\n",
       "    <tr>\n",
       "      <th>u00</th>\n",
       "      <td>-1.067095</td>\n",
       "    </tr>\n",
       "    <tr>\n",
       "      <th>u01</th>\n",
       "      <td>2.260351</td>\n",
       "    </tr>\n",
       "    <tr>\n",
       "      <th>u02</th>\n",
       "      <td>2.156297</td>\n",
       "    </tr>\n",
       "    <tr>\n",
       "      <th>u03</th>\n",
       "      <td>-2.019879</td>\n",
       "    </tr>\n",
       "    <tr>\n",
       "      <th>u04</th>\n",
       "      <td>0.130447</td>\n",
       "    </tr>\n",
       "  </tbody>\n",
       "</table>\n",
       "</div>"
      ],
      "text/plain": [
       "     ema_net_score\n",
       "uid               \n",
       "u00      -1.067095\n",
       "u01       2.260351\n",
       "u02       2.156297\n",
       "u03      -2.019879\n",
       "u04       0.130447"
      ]
     },
     "execution_count": 48,
     "metadata": {},
     "output_type": "execute_result"
    }
   ],
   "source": [
    "ema_net_scores_df = pd.DataFrame(scale_df(ema_scores_df,scaler='Standard').sum(axis=1))\\\n",
    "                      .rename({0:'ema_net_score'},axis=1)\n",
    "ema_net_scores_df.head()"
   ]
  },
  {
   "cell_type": "code",
   "execution_count": 49,
   "metadata": {},
   "outputs": [
    {
     "data": {
      "image/png": "[encoded data removed]",
      "text/plain": [
       "<Figure size 432x288 with 1 Axes>"
      ]
     },
     "metadata": {},
     "output_type": "display_data"
    }
   ],
   "source": [
    "_ = ema_net_scores_df.hist(bins=20)"
   ]
  },
  {
   "cell_type": "markdown",
   "metadata": {},
   "source": [
    "# C. Surveys\n",
    "Use the data from this folder to assess mental health"
   ]
  },
  {
   "cell_type": "code",
   "execution_count": 50,
   "metadata": {},
   "outputs": [
    {
     "data": {
      "text/plain": [
       "['BigFive.csv',\n",
       " 'FlourishingScale.csv',\n",
       " 'LonelinessScale.csv',\n",
       " 'panas.csv',\n",
       " 'PerceivedStressScale.csv',\n",
       " 'PHQ-9.csv',\n",
       " 'psqi.csv',\n",
       " 'vr_12.csv']"
      ]
     },
     "execution_count": 50,
     "metadata": {},
     "output_type": "execute_result"
    }
   ],
   "source": [
    "surveys_path = './dataset/dataset/survey/'\n",
    "[f for f in listdir(surveys_path)]"
   ]
  },
  {
   "cell_type": "markdown",
   "metadata": {},
   "source": [
    "## C.1. BigFive"
   ]
  },
  {
   "cell_type": "code",
   "execution_count": 51,
   "metadata": {},
   "outputs": [],
   "source": [
    "#load data\n",
    "big_five_df = pd.read_csv(surveys_path+'BigFive.csv').set_index(['uid','type'])\n",
    "\n",
    "#new cols\n",
    "big_five_df.columns = [col.split('.')[4].strip() for col in big_five_df.columns]\n",
    "\n",
    "# convert strings to labels\n",
    "label_encoder_dict = {'Disagree Strongly':1,\n",
    "                      'Disagree a little':2,\n",
    "                      'Neither agree nor disagree':3,\n",
    "                      'Agree a little':4,\n",
    "                      'Agree strongly':5}\n",
    "big_five_df = big_five_df.replace(label_encoder_dict)\n",
    "\n",
    "#new cols\n",
    "bf_plus_minus_labels = [1, 0, 1, 0, 1, 0, 1, 0, 1, 1, 1, 0, 1, 0, 1, 1, 1, 0, 0, 1, 0, 1,\n",
    "                        0, 1, 1, 0, 0, 1, 1, 1, 0, 1, 0, 1, 0, 1, 0, 1, 0, 1, 1, 1, 0, 1]\n",
    "big_five_df.columns = [f'bf_feat{i+1}_+' if label==1 else f'bf_feat{i+1}_-'\n",
    "                         for i,label in enumerate(bf_plus_minus_labels)]\n",
    "\n",
    "# find mean of pre- & post-survey scores \n",
    "big_five_df = big_five_df.groupby(level=0).mean()"
   ]
  },
  {
   "cell_type": "code",
   "execution_count": 52,
   "metadata": {
    "scrolled": true
   },
   "outputs": [
    {
     "data": {
      "text/html": [
       "<div>\n",
       "<style scoped>\n",
       "    .dataframe tbody tr th:only-of-type {\n",
       "        vertical-align: middle;\n",
       "    }\n",
       "\n",
       "    .dataframe tbody tr th {\n",
       "        vertical-align: top;\n",
       "    }\n",
       "\n",
       "    .dataframe thead th {\n",
       "        text-align: right;\n",
       "    }\n",
       "</style>\n",
       "<table border=\"1\" class=\"dataframe\">\n",
       "  <thead>\n",
       "    <tr style=\"text-align: right;\">\n",
       "      <th></th>\n",
       "      <th>bf_feat1_+</th>\n",
       "      <th>bf_feat2_-</th>\n",
       "      <th>bf_feat3_+</th>\n",
       "      <th>bf_feat4_-</th>\n",
       "      <th>bf_feat5_+</th>\n",
       "      <th>bf_feat6_-</th>\n",
       "      <th>bf_feat7_+</th>\n",
       "      <th>bf_feat8_-</th>\n",
       "      <th>bf_feat9_+</th>\n",
       "      <th>bf_feat10_+</th>\n",
       "      <th>bf_feat11_+</th>\n",
       "      <th>bf_feat12_-</th>\n",
       "      <th>bf_feat13_+</th>\n",
       "      <th>bf_feat14_-</th>\n",
       "      <th>bf_feat15_+</th>\n",
       "      <th>bf_feat16_+</th>\n",
       "      <th>bf_feat17_+</th>\n",
       "      <th>bf_feat18_-</th>\n",
       "      <th>bf_feat19_-</th>\n",
       "      <th>bf_feat20_+</th>\n",
       "      <th>bf_feat21_-</th>\n",
       "      <th>bf_feat22_+</th>\n",
       "      <th>bf_feat23_-</th>\n",
       "      <th>bf_feat24_+</th>\n",
       "      <th>bf_feat25_+</th>\n",
       "      <th>bf_feat26_-</th>\n",
       "      <th>bf_feat27_-</th>\n",
       "      <th>bf_feat28_+</th>\n",
       "      <th>bf_feat29_+</th>\n",
       "      <th>bf_feat30_+</th>\n",
       "      <th>bf_feat31_-</th>\n",
       "      <th>bf_feat32_+</th>\n",
       "      <th>bf_feat33_-</th>\n",
       "      <th>bf_feat34_+</th>\n",
       "      <th>bf_feat35_-</th>\n",
       "      <th>bf_feat36_+</th>\n",
       "      <th>bf_feat37_-</th>\n",
       "      <th>bf_feat38_+</th>\n",
       "      <th>bf_feat39_-</th>\n",
       "      <th>bf_feat40_+</th>\n",
       "      <th>bf_feat41_+</th>\n",
       "      <th>bf_feat42_+</th>\n",
       "      <th>bf_feat43_-</th>\n",
       "      <th>bf_feat44_+</th>\n",
       "    </tr>\n",
       "    <tr>\n",
       "      <th>uid</th>\n",
       "      <th></th>\n",
       "      <th></th>\n",
       "      <th></th>\n",
       "      <th></th>\n",
       "      <th></th>\n",
       "      <th></th>\n",
       "      <th></th>\n",
       "      <th></th>\n",
       "      <th></th>\n",
       "      <th></th>\n",
       "      <th></th>\n",
       "      <th></th>\n",
       "      <th></th>\n",
       "      <th></th>\n",
       "      <th></th>\n",
       "      <th></th>\n",
       "      <th></th>\n",
       "      <th></th>\n",
       "      <th></th>\n",
       "      <th></th>\n",
       "      <th></th>\n",
       "      <th></th>\n",
       "      <th></th>\n",
       "      <th></th>\n",
       "      <th></th>\n",
       "      <th></th>\n",
       "      <th></th>\n",
       "      <th></th>\n",
       "      <th></th>\n",
       "      <th></th>\n",
       "      <th></th>\n",
       "      <th></th>\n",
       "      <th></th>\n",
       "      <th></th>\n",
       "      <th></th>\n",
       "      <th></th>\n",
       "      <th></th>\n",
       "      <th></th>\n",
       "      <th></th>\n",
       "      <th></th>\n",
       "      <th></th>\n",
       "      <th></th>\n",
       "      <th></th>\n",
       "      <th></th>\n",
       "    </tr>\n",
       "  </thead>\n",
       "  <tbody>\n",
       "    <tr>\n",
       "      <th>u00</th>\n",
       "      <td>4.0</td>\n",
       "      <td>3.0</td>\n",
       "      <td>3.0</td>\n",
       "      <td>3.0</td>\n",
       "      <td>5.0</td>\n",
       "      <td>4.0</td>\n",
       "      <td>3.5</td>\n",
       "      <td>4.0</td>\n",
       "      <td>3.5</td>\n",
       "      <td>5.0</td>\n",
       "      <td>4.0</td>\n",
       "      <td>3.5</td>\n",
       "      <td>4.5</td>\n",
       "      <td>4.5</td>\n",
       "      <td>4.5</td>\n",
       "      <td>4.5</td>\n",
       "      <td>4.0</td>\n",
       "      <td>4.0</td>\n",
       "      <td>3.5</td>\n",
       "      <td>4.5</td>\n",
       "      <td>3.0</td>\n",
       "      <td>5.0</td>\n",
       "      <td>2.5</td>\n",
       "      <td>4.0</td>\n",
       "      <td>5.0</td>\n",
       "      <td>5.0</td>\n",
       "      <td>3.5</td>\n",
       "      <td>4.5</td>\n",
       "      <td>4.0</td>\n",
       "      <td>4.5</td>\n",
       "      <td>4.0</td>\n",
       "      <td>3.0</td>\n",
       "      <td>2.0</td>\n",
       "      <td>2.5</td>\n",
       "      <td>1.5</td>\n",
       "      <td>4.5</td>\n",
       "      <td>4.5</td>\n",
       "      <td>3.0</td>\n",
       "      <td>1.5</td>\n",
       "      <td>4.5</td>\n",
       "      <td>2.0</td>\n",
       "      <td>4.0</td>\n",
       "      <td>4.0</td>\n",
       "      <td>4.0</td>\n",
       "    </tr>\n",
       "    <tr>\n",
       "      <th>u01</th>\n",
       "      <td>3.5</td>\n",
       "      <td>4.0</td>\n",
       "      <td>5.0</td>\n",
       "      <td>5.0</td>\n",
       "      <td>4.0</td>\n",
       "      <td>4.5</td>\n",
       "      <td>5.0</td>\n",
       "      <td>2.0</td>\n",
       "      <td>4.0</td>\n",
       "      <td>5.0</td>\n",
       "      <td>4.5</td>\n",
       "      <td>1.0</td>\n",
       "      <td>5.0</td>\n",
       "      <td>2.5</td>\n",
       "      <td>4.5</td>\n",
       "      <td>3.5</td>\n",
       "      <td>4.0</td>\n",
       "      <td>2.0</td>\n",
       "      <td>3.0</td>\n",
       "      <td>3.5</td>\n",
       "      <td>4.5</td>\n",
       "      <td>4.0</td>\n",
       "      <td>2.5</td>\n",
       "      <td>3.0</td>\n",
       "      <td>3.5</td>\n",
       "      <td>5.0</td>\n",
       "      <td>4.0</td>\n",
       "      <td>5.0</td>\n",
       "      <td>4.0</td>\n",
       "      <td>2.0</td>\n",
       "      <td>4.0</td>\n",
       "      <td>5.0</td>\n",
       "      <td>5.0</td>\n",
       "      <td>5.0</td>\n",
       "      <td>2.5</td>\n",
       "      <td>3.0</td>\n",
       "      <td>2.0</td>\n",
       "      <td>4.0</td>\n",
       "      <td>2.0</td>\n",
       "      <td>4.5</td>\n",
       "      <td>2.5</td>\n",
       "      <td>3.0</td>\n",
       "      <td>2.5</td>\n",
       "      <td>4.0</td>\n",
       "    </tr>\n",
       "    <tr>\n",
       "      <th>u02</th>\n",
       "      <td>1.5</td>\n",
       "      <td>4.0</td>\n",
       "      <td>4.5</td>\n",
       "      <td>1.5</td>\n",
       "      <td>3.5</td>\n",
       "      <td>5.0</td>\n",
       "      <td>4.0</td>\n",
       "      <td>2.0</td>\n",
       "      <td>2.5</td>\n",
       "      <td>4.0</td>\n",
       "      <td>2.0</td>\n",
       "      <td>4.0</td>\n",
       "      <td>5.0</td>\n",
       "      <td>4.0</td>\n",
       "      <td>2.5</td>\n",
       "      <td>2.0</td>\n",
       "      <td>2.5</td>\n",
       "      <td>1.5</td>\n",
       "      <td>4.0</td>\n",
       "      <td>2.5</td>\n",
       "      <td>5.0</td>\n",
       "      <td>3.5</td>\n",
       "      <td>2.5</td>\n",
       "      <td>3.0</td>\n",
       "      <td>3.5</td>\n",
       "      <td>4.5</td>\n",
       "      <td>4.0</td>\n",
       "      <td>4.0</td>\n",
       "      <td>3.5</td>\n",
       "      <td>4.5</td>\n",
       "      <td>4.0</td>\n",
       "      <td>3.5</td>\n",
       "      <td>5.0</td>\n",
       "      <td>2.5</td>\n",
       "      <td>5.0</td>\n",
       "      <td>2.0</td>\n",
       "      <td>2.5</td>\n",
       "      <td>4.0</td>\n",
       "      <td>4.0</td>\n",
       "      <td>4.0</td>\n",
       "      <td>3.5</td>\n",
       "      <td>4.0</td>\n",
       "      <td>4.0</td>\n",
       "      <td>3.0</td>\n",
       "    </tr>\n",
       "    <tr>\n",
       "      <th>u03</th>\n",
       "      <td>1.5</td>\n",
       "      <td>3.5</td>\n",
       "      <td>4.0</td>\n",
       "      <td>3.5</td>\n",
       "      <td>3.5</td>\n",
       "      <td>3.5</td>\n",
       "      <td>3.5</td>\n",
       "      <td>2.0</td>\n",
       "      <td>3.0</td>\n",
       "      <td>2.5</td>\n",
       "      <td>2.5</td>\n",
       "      <td>1.5</td>\n",
       "      <td>3.5</td>\n",
       "      <td>3.0</td>\n",
       "      <td>4.0</td>\n",
       "      <td>2.5</td>\n",
       "      <td>2.0</td>\n",
       "      <td>2.0</td>\n",
       "      <td>4.0</td>\n",
       "      <td>3.5</td>\n",
       "      <td>4.0</td>\n",
       "      <td>4.0</td>\n",
       "      <td>2.0</td>\n",
       "      <td>3.5</td>\n",
       "      <td>3.0</td>\n",
       "      <td>3.0</td>\n",
       "      <td>4.0</td>\n",
       "      <td>4.0</td>\n",
       "      <td>3.0</td>\n",
       "      <td>2.0</td>\n",
       "      <td>3.5</td>\n",
       "      <td>3.0</td>\n",
       "      <td>4.0</td>\n",
       "      <td>3.5</td>\n",
       "      <td>4.0</td>\n",
       "      <td>1.5</td>\n",
       "      <td>2.0</td>\n",
       "      <td>3.5</td>\n",
       "      <td>4.0</td>\n",
       "      <td>2.0</td>\n",
       "      <td>3.0</td>\n",
       "      <td>2.0</td>\n",
       "      <td>2.0</td>\n",
       "      <td>1.5</td>\n",
       "    </tr>\n",
       "    <tr>\n",
       "      <th>u04</th>\n",
       "      <td>3.0</td>\n",
       "      <td>3.5</td>\n",
       "      <td>3.5</td>\n",
       "      <td>2.5</td>\n",
       "      <td>2.5</td>\n",
       "      <td>4.0</td>\n",
       "      <td>4.5</td>\n",
       "      <td>4.0</td>\n",
       "      <td>1.0</td>\n",
       "      <td>3.5</td>\n",
       "      <td>4.5</td>\n",
       "      <td>2.5</td>\n",
       "      <td>3.0</td>\n",
       "      <td>4.5</td>\n",
       "      <td>2.0</td>\n",
       "      <td>3.5</td>\n",
       "      <td>1.5</td>\n",
       "      <td>4.0</td>\n",
       "      <td>5.0</td>\n",
       "      <td>3.5</td>\n",
       "      <td>4.0</td>\n",
       "      <td>2.5</td>\n",
       "      <td>3.0</td>\n",
       "      <td>1.0</td>\n",
       "      <td>3.0</td>\n",
       "      <td>2.0</td>\n",
       "      <td>3.0</td>\n",
       "      <td>3.0</td>\n",
       "      <td>4.0</td>\n",
       "      <td>4.0</td>\n",
       "      <td>4.5</td>\n",
       "      <td>4.0</td>\n",
       "      <td>2.5</td>\n",
       "      <td>1.5</td>\n",
       "      <td>5.0</td>\n",
       "      <td>2.0</td>\n",
       "      <td>4.0</td>\n",
       "      <td>3.5</td>\n",
       "      <td>4.5</td>\n",
       "      <td>3.5</td>\n",
       "      <td>2.5</td>\n",
       "      <td>4.0</td>\n",
       "      <td>4.5</td>\n",
       "      <td>3.5</td>\n",
       "    </tr>\n",
       "  </tbody>\n",
       "</table>\n",
       "</div>"
      ],
      "text/plain": [
       "     bf_feat1_+  bf_feat2_-  bf_feat3_+  bf_feat4_-  bf_feat5_+  bf_feat6_-  bf_feat7_+  bf_feat8_-  bf_feat9_+  bf_feat10_+  bf_feat11_+  bf_feat12_-  bf_feat13_+  bf_feat14_-  bf_feat15_+  bf_feat16_+  bf_feat17_+  bf_feat18_-  bf_feat19_-  bf_feat20_+  bf_feat21_-  bf_feat22_+  bf_feat23_-  bf_feat24_+  bf_feat25_+  bf_feat26_-  bf_feat27_-  bf_feat28_+  bf_feat29_+  bf_feat30_+  bf_feat31_-  bf_feat32_+  bf_feat33_-  bf_feat34_+  bf_feat35_-  bf_feat36_+  bf_feat37_-  bf_feat38_+  bf_feat39_-  bf_feat40_+  bf_feat41_+  bf_feat42_+  bf_feat43_-  bf_feat44_+\n",
       "uid                                                                                                                                                                                                                                                                                                                                                                                                                                                                                                                                                                                   \n",
       "u00         4.0         3.0         3.0         3.0         5.0         4.0         3.5         4.0         3.5          5.0          4.0          3.5          4.5          4.5          4.5          4.5          4.0          4.0          3.5          4.5          3.0          5.0          2.5          4.0          5.0          5.0          3.5          4.5          4.0          4.5          4.0          3.0          2.0          2.5          1.5          4.5          4.5          3.0          1.5          4.5          2.0          4.0          4.0          4.0\n",
       "u01         3.5         4.0         5.0         5.0         4.0         4.5         5.0         2.0         4.0          5.0          4.5          1.0          5.0          2.5          4.5          3.5          4.0          2.0          3.0          3.5          4.5          4.0          2.5          3.0          3.5          5.0          4.0          5.0          4.0          2.0          4.0          5.0          5.0          5.0          2.5          3.0          2.0          4.0          2.0          4.5          2.5          3.0          2.5          4.0\n",
       "u02         1.5         4.0         4.5         1.5         3.5         5.0         4.0         2.0         2.5          4.0          2.0          4.0          5.0          4.0          2.5          2.0          2.5          1.5          4.0          2.5          5.0          3.5          2.5          3.0          3.5          4.5          4.0          4.0          3.5          4.5          4.0          3.5          5.0          2.5          5.0          2.0          2.5          4.0          4.0          4.0          3.5          4.0          4.0          3.0\n",
       "u03         1.5         3.5         4.0         3.5         3.5         3.5         3.5         2.0         3.0          2.5          2.5          1.5          3.5          3.0          4.0          2.5          2.0          2.0          4.0          3.5          4.0          4.0          2.0          3.5          3.0          3.0          4.0          4.0          3.0          2.0          3.5          3.0          4.0          3.5          4.0          1.5          2.0          3.5          4.0          2.0          3.0          2.0          2.0          1.5\n",
       "u04         3.0         3.5         3.5         2.5         2.5         4.0         4.5         4.0         1.0          3.5          4.5          2.5          3.0          4.5          2.0          3.5          1.5          4.0          5.0          3.5          4.0          2.5          3.0          1.0          3.0          2.0          3.0          3.0          4.0          4.0          4.5          4.0          2.5          1.5          5.0          2.0          4.0          3.5          4.5          3.5          2.5          4.0          4.5          3.5"
      ]
     },
     "execution_count": 52,
     "metadata": {},
     "output_type": "execute_result"
    }
   ],
   "source": [
    "big_five_df.head()"
   ]
  },
  {
   "cell_type": "code",
   "execution_count": 53,
   "metadata": {},
   "outputs": [
    {
     "data": {
      "image/png": "[encoded data removed]",
      "text/plain": [
       "<Figure size 432x288 with 1 Axes>"
      ]
     },
     "metadata": {},
     "output_type": "display_data"
    }
   ],
   "source": [
    "big_five_scores_df = compute_net_score(big_five_df,'bf_net_score')\n",
    "_ = big_five_scores_df.hist()"
   ]
  },
  {
   "cell_type": "markdown",
   "metadata": {},
   "source": [
    "## C.2. FlourishingScale"
   ]
  },
  {
   "cell_type": "code",
   "execution_count": 54,
   "metadata": {},
   "outputs": [],
   "source": [
    "#load data\n",
    "flourishing_df = pd.read_csv(surveys_path+'FlourishingScale.csv').set_index(['uid','type'])\n",
    "\n",
    "# fill nulls\n",
    "flourishing_df = fill_nulls(flourishing_df)\n",
    "\n",
    "# new cols\n",
    "flourishing_df.columns = [f'fl_feat{i}_+' for i in range(1,len(flourishing_df.columns)+1)]\n",
    "\n",
    "\n",
    "# find mean of pre- & post-survey scores \n",
    "flourishing_df = flourishing_df.groupby(level=0).mean()"
   ]
  },
  {
   "cell_type": "code",
   "execution_count": 55,
   "metadata": {
    "scrolled": true
   },
   "outputs": [
    {
     "data": {
      "text/html": [
       "<div>\n",
       "<style scoped>\n",
       "    .dataframe tbody tr th:only-of-type {\n",
       "        vertical-align: middle;\n",
       "    }\n",
       "\n",
       "    .dataframe tbody tr th {\n",
       "        vertical-align: top;\n",
       "    }\n",
       "\n",
       "    .dataframe thead th {\n",
       "        text-align: right;\n",
       "    }\n",
       "</style>\n",
       "<table border=\"1\" class=\"dataframe\">\n",
       "  <thead>\n",
       "    <tr style=\"text-align: right;\">\n",
       "      <th></th>\n",
       "      <th>fl_feat1_+</th>\n",
       "      <th>fl_feat2_+</th>\n",
       "      <th>fl_feat3_+</th>\n",
       "      <th>fl_feat4_+</th>\n",
       "      <th>fl_feat5_+</th>\n",
       "      <th>fl_feat6_+</th>\n",
       "      <th>fl_feat7_+</th>\n",
       "      <th>fl_feat8_+</th>\n",
       "    </tr>\n",
       "    <tr>\n",
       "      <th>uid</th>\n",
       "      <th></th>\n",
       "      <th></th>\n",
       "      <th></th>\n",
       "      <th></th>\n",
       "      <th></th>\n",
       "      <th></th>\n",
       "      <th></th>\n",
       "      <th></th>\n",
       "    </tr>\n",
       "  </thead>\n",
       "  <tbody>\n",
       "    <tr>\n",
       "      <th>u00</th>\n",
       "      <td>6.5</td>\n",
       "      <td>5.5</td>\n",
       "      <td>6.0</td>\n",
       "      <td>6.0</td>\n",
       "      <td>6.0</td>\n",
       "      <td>6.5</td>\n",
       "      <td>6.0</td>\n",
       "      <td>4.5</td>\n",
       "    </tr>\n",
       "    <tr>\n",
       "      <th>u01</th>\n",
       "      <td>4.5</td>\n",
       "      <td>5.5</td>\n",
       "      <td>6.0</td>\n",
       "      <td>5.5</td>\n",
       "      <td>7.0</td>\n",
       "      <td>6.0</td>\n",
       "      <td>5.0</td>\n",
       "      <td>6.0</td>\n",
       "    </tr>\n",
       "    <tr>\n",
       "      <th>u02</th>\n",
       "      <td>5.5</td>\n",
       "      <td>6.5</td>\n",
       "      <td>4.5</td>\n",
       "      <td>6.0</td>\n",
       "      <td>5.0</td>\n",
       "      <td>6.0</td>\n",
       "      <td>4.5</td>\n",
       "      <td>7.0</td>\n",
       "    </tr>\n",
       "    <tr>\n",
       "      <th>u03</th>\n",
       "      <td>4.5</td>\n",
       "      <td>3.5</td>\n",
       "      <td>3.5</td>\n",
       "      <td>4.5</td>\n",
       "      <td>4.5</td>\n",
       "      <td>4.5</td>\n",
       "      <td>4.0</td>\n",
       "      <td>3.5</td>\n",
       "    </tr>\n",
       "    <tr>\n",
       "      <th>u04</th>\n",
       "      <td>4.0</td>\n",
       "      <td>5.0</td>\n",
       "      <td>4.0</td>\n",
       "      <td>3.0</td>\n",
       "      <td>3.0</td>\n",
       "      <td>3.0</td>\n",
       "      <td>3.0</td>\n",
       "      <td>5.0</td>\n",
       "    </tr>\n",
       "  </tbody>\n",
       "</table>\n",
       "</div>"
      ],
      "text/plain": [
       "     fl_feat1_+  fl_feat2_+  fl_feat3_+  fl_feat4_+  fl_feat5_+  fl_feat6_+  fl_feat7_+  fl_feat8_+\n",
       "uid                                                                                                \n",
       "u00         6.5         5.5         6.0         6.0         6.0         6.5         6.0         4.5\n",
       "u01         4.5         5.5         6.0         5.5         7.0         6.0         5.0         6.0\n",
       "u02         5.5         6.5         4.5         6.0         5.0         6.0         4.5         7.0\n",
       "u03         4.5         3.5         3.5         4.5         4.5         4.5         4.0         3.5\n",
       "u04         4.0         5.0         4.0         3.0         3.0         3.0         3.0         5.0"
      ]
     },
     "execution_count": 55,
     "metadata": {},
     "output_type": "execute_result"
    }
   ],
   "source": [
    "flourishing_df.head()"
   ]
  },
  {
   "cell_type": "code",
   "execution_count": 56,
   "metadata": {},
   "outputs": [
    {
     "data": {
      "image/png": "[encoded data removed]",
      "text/plain": [
       "<Figure size 432x288 with 1 Axes>"
      ]
     },
     "metadata": {},
     "output_type": "display_data"
    }
   ],
   "source": [
    "flourishing_scores_df = compute_net_score(flourishing_df,'fl_net_score')\n",
    "_ = flourishing_scores_df.hist(bins=13)"
   ]
  },
  {
   "cell_type": "markdown",
   "metadata": {},
   "source": [
    "## C.3. Loneliness Scale"
   ]
  },
  {
   "cell_type": "code",
   "execution_count": 57,
   "metadata": {},
   "outputs": [],
   "source": [
    "#load data\n",
    "loneliness_df = pd.read_csv(surveys_path+'LonelinessScale.csv').set_index(['uid','type'])\n",
    "\n",
    "# fill nulls\n",
    "loneliness_df = fill_nulls(loneliness_df)\n",
    "\n",
    "#convert strings to labels\n",
    "label_encoder_dict = {'Never':1, 'Rarely':2, 'Sometimes':3, 'Often':4}\n",
    "loneliness_df = loneliness_df.replace(label_encoder_dict)\n",
    "\n",
    "# new cols\n",
    "ll_plus_minus_labels = [1,0,0,1,1,1,0,0,1,1,0,0,0,0,1,1,1,0,1,1]\n",
    "loneliness_df.columns = [f'll_feat{i+1}_+' if label==1 else f'll_feat{i+1}_-'\n",
    "                         for i,label in enumerate(ll_plus_minus_labels)]\n",
    "\n",
    "# find mean of pre- & post-survey scores \n",
    "loneliness_df = loneliness_df.groupby(level=0).mean()"
   ]
  },
  {
   "cell_type": "code",
   "execution_count": 58,
   "metadata": {},
   "outputs": [
    {
     "data": {
      "text/html": [
       "<div>\n",
       "<style scoped>\n",
       "    .dataframe tbody tr th:only-of-type {\n",
       "        vertical-align: middle;\n",
       "    }\n",
       "\n",
       "    .dataframe tbody tr th {\n",
       "        vertical-align: top;\n",
       "    }\n",
       "\n",
       "    .dataframe thead th {\n",
       "        text-align: right;\n",
       "    }\n",
       "</style>\n",
       "<table border=\"1\" class=\"dataframe\">\n",
       "  <thead>\n",
       "    <tr style=\"text-align: right;\">\n",
       "      <th></th>\n",
       "      <th>ll_feat1_+</th>\n",
       "      <th>ll_feat2_-</th>\n",
       "      <th>ll_feat3_-</th>\n",
       "      <th>ll_feat4_+</th>\n",
       "      <th>ll_feat5_+</th>\n",
       "      <th>ll_feat6_+</th>\n",
       "      <th>ll_feat7_-</th>\n",
       "      <th>ll_feat8_-</th>\n",
       "      <th>ll_feat9_+</th>\n",
       "      <th>ll_feat10_+</th>\n",
       "      <th>ll_feat11_-</th>\n",
       "      <th>ll_feat12_-</th>\n",
       "      <th>ll_feat13_-</th>\n",
       "      <th>ll_feat14_-</th>\n",
       "      <th>ll_feat15_+</th>\n",
       "      <th>ll_feat16_+</th>\n",
       "      <th>ll_feat17_+</th>\n",
       "      <th>ll_feat18_-</th>\n",
       "      <th>ll_feat19_+</th>\n",
       "      <th>ll_feat20_+</th>\n",
       "    </tr>\n",
       "    <tr>\n",
       "      <th>uid</th>\n",
       "      <th></th>\n",
       "      <th></th>\n",
       "      <th></th>\n",
       "      <th></th>\n",
       "      <th></th>\n",
       "      <th></th>\n",
       "      <th></th>\n",
       "      <th></th>\n",
       "      <th></th>\n",
       "      <th></th>\n",
       "      <th></th>\n",
       "      <th></th>\n",
       "      <th></th>\n",
       "      <th></th>\n",
       "      <th></th>\n",
       "      <th></th>\n",
       "      <th></th>\n",
       "      <th></th>\n",
       "      <th></th>\n",
       "      <th></th>\n",
       "    </tr>\n",
       "  </thead>\n",
       "  <tbody>\n",
       "    <tr>\n",
       "      <th>u00</th>\n",
       "      <td>3.0</td>\n",
       "      <td>2.0</td>\n",
       "      <td>1.5</td>\n",
       "      <td>2.5</td>\n",
       "      <td>3.5</td>\n",
       "      <td>3.0</td>\n",
       "      <td>1.0</td>\n",
       "      <td>1.5</td>\n",
       "      <td>3.5</td>\n",
       "      <td>3.5</td>\n",
       "      <td>2.0</td>\n",
       "      <td>2.5</td>\n",
       "      <td>1.0</td>\n",
       "      <td>1.0</td>\n",
       "      <td>3.5</td>\n",
       "      <td>2.5</td>\n",
       "      <td>3.5</td>\n",
       "      <td>3.0</td>\n",
       "      <td>4.0</td>\n",
       "      <td>4.0</td>\n",
       "    </tr>\n",
       "    <tr>\n",
       "      <th>u01</th>\n",
       "      <td>3.0</td>\n",
       "      <td>2.0</td>\n",
       "      <td>2.0</td>\n",
       "      <td>3.5</td>\n",
       "      <td>4.0</td>\n",
       "      <td>3.5</td>\n",
       "      <td>1.0</td>\n",
       "      <td>1.5</td>\n",
       "      <td>3.5</td>\n",
       "      <td>4.0</td>\n",
       "      <td>2.5</td>\n",
       "      <td>2.0</td>\n",
       "      <td>1.5</td>\n",
       "      <td>2.0</td>\n",
       "      <td>4.0</td>\n",
       "      <td>3.5</td>\n",
       "      <td>3.0</td>\n",
       "      <td>2.0</td>\n",
       "      <td>4.0</td>\n",
       "      <td>4.0</td>\n",
       "    </tr>\n",
       "    <tr>\n",
       "      <th>u02</th>\n",
       "      <td>3.5</td>\n",
       "      <td>2.0</td>\n",
       "      <td>2.0</td>\n",
       "      <td>4.0</td>\n",
       "      <td>4.0</td>\n",
       "      <td>4.0</td>\n",
       "      <td>1.0</td>\n",
       "      <td>2.5</td>\n",
       "      <td>2.0</td>\n",
       "      <td>4.0</td>\n",
       "      <td>2.0</td>\n",
       "      <td>1.0</td>\n",
       "      <td>1.0</td>\n",
       "      <td>1.0</td>\n",
       "      <td>4.0</td>\n",
       "      <td>4.0</td>\n",
       "      <td>1.0</td>\n",
       "      <td>1.0</td>\n",
       "      <td>4.0</td>\n",
       "      <td>4.0</td>\n",
       "    </tr>\n",
       "    <tr>\n",
       "      <th>u03</th>\n",
       "      <td>2.5</td>\n",
       "      <td>1.5</td>\n",
       "      <td>1.0</td>\n",
       "      <td>3.5</td>\n",
       "      <td>1.5</td>\n",
       "      <td>2.0</td>\n",
       "      <td>3.5</td>\n",
       "      <td>3.0</td>\n",
       "      <td>1.5</td>\n",
       "      <td>2.0</td>\n",
       "      <td>2.0</td>\n",
       "      <td>2.0</td>\n",
       "      <td>3.0</td>\n",
       "      <td>2.5</td>\n",
       "      <td>3.0</td>\n",
       "      <td>4.0</td>\n",
       "      <td>2.5</td>\n",
       "      <td>2.5</td>\n",
       "      <td>3.0</td>\n",
       "      <td>2.5</td>\n",
       "    </tr>\n",
       "    <tr>\n",
       "      <th>u04</th>\n",
       "      <td>3.0</td>\n",
       "      <td>3.0</td>\n",
       "      <td>3.0</td>\n",
       "      <td>3.0</td>\n",
       "      <td>2.0</td>\n",
       "      <td>3.0</td>\n",
       "      <td>2.0</td>\n",
       "      <td>2.5</td>\n",
       "      <td>2.0</td>\n",
       "      <td>3.5</td>\n",
       "      <td>3.5</td>\n",
       "      <td>2.5</td>\n",
       "      <td>3.0</td>\n",
       "      <td>2.5</td>\n",
       "      <td>2.0</td>\n",
       "      <td>2.5</td>\n",
       "      <td>2.5</td>\n",
       "      <td>3.0</td>\n",
       "      <td>2.5</td>\n",
       "      <td>2.5</td>\n",
       "    </tr>\n",
       "  </tbody>\n",
       "</table>\n",
       "</div>"
      ],
      "text/plain": [
       "     ll_feat1_+  ll_feat2_-  ll_feat3_-  ll_feat4_+  ll_feat5_+  ll_feat6_+  ll_feat7_-  ll_feat8_-  ll_feat9_+  ll_feat10_+  ll_feat11_-  ll_feat12_-  ll_feat13_-  ll_feat14_-  ll_feat15_+  ll_feat16_+  ll_feat17_+  ll_feat18_-  ll_feat19_+  ll_feat20_+\n",
       "uid                                                                                                                                                                                                                                                           \n",
       "u00         3.0         2.0         1.5         2.5         3.5         3.0         1.0         1.5         3.5          3.5          2.0          2.5          1.0          1.0          3.5          2.5          3.5          3.0          4.0          4.0\n",
       "u01         3.0         2.0         2.0         3.5         4.0         3.5         1.0         1.5         3.5          4.0          2.5          2.0          1.5          2.0          4.0          3.5          3.0          2.0          4.0          4.0\n",
       "u02         3.5         2.0         2.0         4.0         4.0         4.0         1.0         2.5         2.0          4.0          2.0          1.0          1.0          1.0          4.0          4.0          1.0          1.0          4.0          4.0\n",
       "u03         2.5         1.5         1.0         3.5         1.5         2.0         3.5         3.0         1.5          2.0          2.0          2.0          3.0          2.5          3.0          4.0          2.5          2.5          3.0          2.5\n",
       "u04         3.0         3.0         3.0         3.0         2.0         3.0         2.0         2.5         2.0          3.5          3.5          2.5          3.0          2.5          2.0          2.5          2.5          3.0          2.5          2.5"
      ]
     },
     "execution_count": 58,
     "metadata": {},
     "output_type": "execute_result"
    }
   ],
   "source": [
    "loneliness_df.head()"
   ]
  },
  {
   "cell_type": "code",
   "execution_count": 59,
   "metadata": {},
   "outputs": [
    {
     "data": {
      "image/png": "[encoded data removed]",
      "text/plain": [
       "<Figure size 432x288 with 1 Axes>"
      ]
     },
     "metadata": {},
     "output_type": "display_data"
    }
   ],
   "source": [
    "loneliness_scores_df = compute_net_score(loneliness_df,'ll_net_score')\n",
    "_ = loneliness_scores_df.hist(bins=15)"
   ]
  },
  {
   "cell_type": "markdown",
   "metadata": {},
   "source": [
    "## C.4. Perceived Stress Scale"
   ]
  },
  {
   "cell_type": "code",
   "execution_count": 60,
   "metadata": {},
   "outputs": [],
   "source": [
    "# load data\n",
    "perceived_stress_df = pd.read_csv(surveys_path+'PerceivedStressScale.csv')\\\n",
    "                            .set_index(['uid','type'])\n",
    "\n",
    "# new cols\n",
    "# perceived_stress_df.columns = ['upset','out_of_control','stressed',\n",
    "#                                 'self_confidence','in_control','unable_to_cope',\n",
    "#                                 'in_control_2', 'self_confidenc_2','out_of_control_2',\n",
    "#                                 'overwhelmed']\n",
    "ps_plus_minus_labels = [0,0,0,1,1,0,1,1,0,0]\n",
    "perceived_stress_df.columns = [f'ps_feat{i+1}_+' if label==1 else f'ps_feat{i+1}_-'\n",
    "                         for i,label in enumerate(ps_plus_minus_labels)]\n",
    "\n",
    "# fill nulls\n",
    "perceived_stress_df = fill_nulls(perceived_stress_df)\n",
    "\n",
    "#convert strings to labels\n",
    "label_encoder_dict = {'Never':1, 'Almost never':2 ,'Sometime':3, 'Fairly often':4,  'Very often':5 }\n",
    "perceived_stress_df = perceived_stress_df.replace(label_encoder_dict)\n",
    "\n",
    "# find mean of pre- & post-survey scores \n",
    "perceived_stress_df = perceived_stress_df.groupby(level=0).mean()"
   ]
  },
  {
   "cell_type": "code",
   "execution_count": 61,
   "metadata": {},
   "outputs": [
    {
     "data": {
      "text/html": [
       "<div>\n",
       "<style scoped>\n",
       "    .dataframe tbody tr th:only-of-type {\n",
       "        vertical-align: middle;\n",
       "    }\n",
       "\n",
       "    .dataframe tbody tr th {\n",
       "        vertical-align: top;\n",
       "    }\n",
       "\n",
       "    .dataframe thead th {\n",
       "        text-align: right;\n",
       "    }\n",
       "</style>\n",
       "<table border=\"1\" class=\"dataframe\">\n",
       "  <thead>\n",
       "    <tr style=\"text-align: right;\">\n",
       "      <th></th>\n",
       "      <th>ps_feat1_-</th>\n",
       "      <th>ps_feat2_-</th>\n",
       "      <th>ps_feat3_-</th>\n",
       "      <th>ps_feat4_+</th>\n",
       "      <th>ps_feat5_+</th>\n",
       "      <th>ps_feat6_-</th>\n",
       "      <th>ps_feat7_+</th>\n",
       "      <th>ps_feat8_+</th>\n",
       "      <th>ps_feat9_-</th>\n",
       "      <th>ps_feat10_-</th>\n",
       "    </tr>\n",
       "    <tr>\n",
       "      <th>uid</th>\n",
       "      <th></th>\n",
       "      <th></th>\n",
       "      <th></th>\n",
       "      <th></th>\n",
       "      <th></th>\n",
       "      <th></th>\n",
       "      <th></th>\n",
       "      <th></th>\n",
       "      <th></th>\n",
       "      <th></th>\n",
       "    </tr>\n",
       "  </thead>\n",
       "  <tbody>\n",
       "    <tr>\n",
       "      <th>u00</th>\n",
       "      <td>2.5</td>\n",
       "      <td>3.0</td>\n",
       "      <td>3.5</td>\n",
       "      <td>4.0</td>\n",
       "      <td>3.0</td>\n",
       "      <td>4.0</td>\n",
       "      <td>3.5</td>\n",
       "      <td>3.0</td>\n",
       "      <td>3.0</td>\n",
       "      <td>3.0</td>\n",
       "    </tr>\n",
       "    <tr>\n",
       "      <th>u01</th>\n",
       "      <td>2.5</td>\n",
       "      <td>3.0</td>\n",
       "      <td>3.0</td>\n",
       "      <td>3.5</td>\n",
       "      <td>4.0</td>\n",
       "      <td>3.0</td>\n",
       "      <td>3.5</td>\n",
       "      <td>4.0</td>\n",
       "      <td>2.5</td>\n",
       "      <td>2.5</td>\n",
       "    </tr>\n",
       "    <tr>\n",
       "      <th>u02</th>\n",
       "      <td>3.5</td>\n",
       "      <td>3.0</td>\n",
       "      <td>4.0</td>\n",
       "      <td>4.0</td>\n",
       "      <td>2.5</td>\n",
       "      <td>4.0</td>\n",
       "      <td>2.5</td>\n",
       "      <td>3.0</td>\n",
       "      <td>3.5</td>\n",
       "      <td>3.0</td>\n",
       "    </tr>\n",
       "    <tr>\n",
       "      <th>u03</th>\n",
       "      <td>2.5</td>\n",
       "      <td>2.5</td>\n",
       "      <td>4.0</td>\n",
       "      <td>2.5</td>\n",
       "      <td>2.5</td>\n",
       "      <td>2.5</td>\n",
       "      <td>2.0</td>\n",
       "      <td>1.5</td>\n",
       "      <td>1.5</td>\n",
       "      <td>2.0</td>\n",
       "    </tr>\n",
       "    <tr>\n",
       "      <th>u04</th>\n",
       "      <td>2.5</td>\n",
       "      <td>2.0</td>\n",
       "      <td>4.5</td>\n",
       "      <td>3.5</td>\n",
       "      <td>3.0</td>\n",
       "      <td>3.0</td>\n",
       "      <td>3.5</td>\n",
       "      <td>2.5</td>\n",
       "      <td>2.5</td>\n",
       "      <td>3.0</td>\n",
       "    </tr>\n",
       "  </tbody>\n",
       "</table>\n",
       "</div>"
      ],
      "text/plain": [
       "     ps_feat1_-  ps_feat2_-  ps_feat3_-  ps_feat4_+  ps_feat5_+  ps_feat6_-  ps_feat7_+  ps_feat8_+  ps_feat9_-  ps_feat10_-\n",
       "uid                                                                                                                         \n",
       "u00         2.5         3.0         3.5         4.0         3.0         4.0         3.5         3.0         3.0          3.0\n",
       "u01         2.5         3.0         3.0         3.5         4.0         3.0         3.5         4.0         2.5          2.5\n",
       "u02         3.5         3.0         4.0         4.0         2.5         4.0         2.5         3.0         3.5          3.0\n",
       "u03         2.5         2.5         4.0         2.5         2.5         2.5         2.0         1.5         1.5          2.0\n",
       "u04         2.5         2.0         4.5         3.5         3.0         3.0         3.5         2.5         2.5          3.0"
      ]
     },
     "execution_count": 61,
     "metadata": {},
     "output_type": "execute_result"
    }
   ],
   "source": [
    "perceived_stress_df.head()"
   ]
  },
  {
   "cell_type": "code",
   "execution_count": 62,
   "metadata": {},
   "outputs": [
    {
     "data": {
      "image/png": "[encoded data removed]",
      "text/plain": [
       "<Figure size 432x288 with 1 Axes>"
      ]
     },
     "metadata": {},
     "output_type": "display_data"
    }
   ],
   "source": [
    "perceived_stress_scores_df = compute_net_score(perceived_stress_df,'ps_net_score')\n",
    "_ = perceived_stress_scores_df.hist()"
   ]
  },
  {
   "cell_type": "markdown",
   "metadata": {},
   "source": [
    "## Join all Survey dfs"
   ]
  },
  {
   "cell_type": "code",
   "execution_count": 63,
   "metadata": {},
   "outputs": [],
   "source": [
    "## Join all Survey df's\n",
    "\n",
    "survey_scores_df_list = [big_five_scores_df, flourishing_scores_df, loneliness_scores_df, perceived_stress_scores_df]\n",
    "\n",
    "# Join all dfs on index = uid\n",
    "survey_scores_df = big_five_scores_df\n",
    "for df in survey_scores_df_list[1:]:\n",
    "    survey_scores_df = pd.merge(survey_scores_df,df,how='outer',on=['uid'])\n",
    "\n",
    "# fill null cols with most_freq value of col\n",
    "survey_scores_df = fill_nulls(survey_scores_df)"
   ]
  },
  {
   "cell_type": "code",
   "execution_count": 64,
   "metadata": {},
   "outputs": [
    {
     "data": {
      "text/html": [
       "<div>\n",
       "<style scoped>\n",
       "    .dataframe tbody tr th:only-of-type {\n",
       "        vertical-align: middle;\n",
       "    }\n",
       "\n",
       "    .dataframe tbody tr th {\n",
       "        vertical-align: top;\n",
       "    }\n",
       "\n",
       "    .dataframe thead th {\n",
       "        text-align: right;\n",
       "    }\n",
       "</style>\n",
       "<table border=\"1\" class=\"dataframe\">\n",
       "  <thead>\n",
       "    <tr style=\"text-align: right;\">\n",
       "      <th></th>\n",
       "      <th>bf_net_score</th>\n",
       "      <th>fl_net_score</th>\n",
       "      <th>ll_net_score</th>\n",
       "      <th>ps_net_score</th>\n",
       "    </tr>\n",
       "    <tr>\n",
       "      <th>uid</th>\n",
       "      <th></th>\n",
       "      <th></th>\n",
       "      <th></th>\n",
       "      <th></th>\n",
       "    </tr>\n",
       "  </thead>\n",
       "  <tbody>\n",
       "    <tr>\n",
       "      <th>u00</th>\n",
       "      <td>8.357143</td>\n",
       "      <td>6.300000</td>\n",
       "      <td>5.816667</td>\n",
       "      <td>-0.933333</td>\n",
       "    </tr>\n",
       "    <tr>\n",
       "      <th>u01</th>\n",
       "      <td>9.220238</td>\n",
       "      <td>6.083333</td>\n",
       "      <td>6.850000</td>\n",
       "      <td>0.276190</td>\n",
       "    </tr>\n",
       "    <tr>\n",
       "      <th>u02</th>\n",
       "      <td>0.821429</td>\n",
       "      <td>5.900000</td>\n",
       "      <td>7.516667</td>\n",
       "      <td>-2.044048</td>\n",
       "    </tr>\n",
       "    <tr>\n",
       "      <th>u03</th>\n",
       "      <td>1.446429</td>\n",
       "      <td>3.583333</td>\n",
       "      <td>0.866667</td>\n",
       "      <td>-1.317857</td>\n",
       "    </tr>\n",
       "    <tr>\n",
       "      <th>u04</th>\n",
       "      <td>-0.958333</td>\n",
       "      <td>3.100000</td>\n",
       "      <td>-0.483333</td>\n",
       "      <td>-0.891667</td>\n",
       "    </tr>\n",
       "  </tbody>\n",
       "</table>\n",
       "</div>"
      ],
      "text/plain": [
       "     bf_net_score  fl_net_score  ll_net_score  ps_net_score\n",
       "uid                                                        \n",
       "u00      8.357143      6.300000      5.816667     -0.933333\n",
       "u01      9.220238      6.083333      6.850000      0.276190\n",
       "u02      0.821429      5.900000      7.516667     -2.044048\n",
       "u03      1.446429      3.583333      0.866667     -1.317857\n",
       "u04     -0.958333      3.100000     -0.483333     -0.891667"
      ]
     },
     "execution_count": 64,
     "metadata": {},
     "output_type": "execute_result"
    }
   ],
   "source": [
    "survey_scores_df.head()"
   ]
  },
  {
   "cell_type": "code",
   "execution_count": 65,
   "metadata": {},
   "outputs": [
    {
     "data": {
      "image/png": "[encoded data removed]",
      "text/plain": [
       "<Figure size 933.12x518.4 with 20 Axes>"
      ]
     },
     "metadata": {},
     "output_type": "display_data"
    }
   ],
   "source": [
    "pp = sns.pairplot(survey_scores_df, size=1.8, aspect=1.8,\n",
    "                  plot_kws=dict(edgecolor=\"k\", linewidth=0.5),\n",
    "                  diag_kind=\"kde\", diag_kws=dict(shade=True))\n",
    "\n",
    "fig = pp.fig \n",
    "fig.subplots_adjust(top=0.93, wspace=0.3)\n",
    "t = fig.suptitle('Wine Attributes Pairwise Plots', fontsize=14)"
   ]
  },
  {
   "cell_type": "code",
   "execution_count": 66,
   "metadata": {
    "scrolled": false
   },
   "outputs": [
    {
     "data": {
      "image/png": "[encoded data removed]",
      "text/plain": [
       "<Figure size 432x288 with 1 Axes>"
      ]
     },
     "metadata": {},
     "output_type": "display_data"
    }
   ],
   "source": [
    "survey_net_scores_df = pd.DataFrame(scale_df(survey_scores_df,scaler='Standard').sum(axis=1))\\\n",
    "                      .rename({0:'survey_net_score'},axis=1)\n",
    "_ = survey_net_scores_df.hist(bins=15)"
   ]
  },
  {
   "cell_type": "markdown",
   "metadata": {},
   "source": [
    "# D. Education\n",
    "Use the data from this folder to assess school performance"
   ]
  },
  {
   "cell_type": "code",
   "execution_count": 67,
   "metadata": {},
   "outputs": [
    {
     "data": {
      "text/plain": [
       "['class.csv', 'class_info.json', 'deadlines.csv', 'grades.csv', 'piazza.csv']"
      ]
     },
     "execution_count": 67,
     "metadata": {},
     "output_type": "execute_result"
    }
   ],
   "source": [
    "edu_path = './dataset/dataset/education/'\n",
    "[f for f in listdir(edu_path)]"
   ]
  },
  {
   "cell_type": "code",
   "execution_count": 68,
   "metadata": {},
   "outputs": [],
   "source": [
    "edu_df = pd.read_csv(edu_path+'grades.csv').set_index(['uid']).iloc[:,[0]]\n",
    "edu_df.columns = ['GPA']"
   ]
  },
  {
   "cell_type": "code",
   "execution_count": 69,
   "metadata": {},
   "outputs": [
    {
     "data": {
      "text/html": [
       "<div>\n",
       "<style scoped>\n",
       "    .dataframe tbody tr th:only-of-type {\n",
       "        vertical-align: middle;\n",
       "    }\n",
       "\n",
       "    .dataframe tbody tr th {\n",
       "        vertical-align: top;\n",
       "    }\n",
       "\n",
       "    .dataframe thead th {\n",
       "        text-align: right;\n",
       "    }\n",
       "</style>\n",
       "<table border=\"1\" class=\"dataframe\">\n",
       "  <thead>\n",
       "    <tr style=\"text-align: right;\">\n",
       "      <th></th>\n",
       "      <th>GPA</th>\n",
       "    </tr>\n",
       "    <tr>\n",
       "      <th>uid</th>\n",
       "      <th></th>\n",
       "    </tr>\n",
       "  </thead>\n",
       "  <tbody>\n",
       "    <tr>\n",
       "      <th>u01</th>\n",
       "      <td>2.863</td>\n",
       "    </tr>\n",
       "    <tr>\n",
       "      <th>u02</th>\n",
       "      <td>3.505</td>\n",
       "    </tr>\n",
       "    <tr>\n",
       "      <th>u04</th>\n",
       "      <td>3.029</td>\n",
       "    </tr>\n",
       "    <tr>\n",
       "      <th>u05</th>\n",
       "      <td>3.679</td>\n",
       "    </tr>\n",
       "    <tr>\n",
       "      <th>u07</th>\n",
       "      <td>3.474</td>\n",
       "    </tr>\n",
       "  </tbody>\n",
       "</table>\n",
       "</div>"
      ],
      "text/plain": [
       "       GPA\n",
       "uid       \n",
       "u01  2.863\n",
       "u02  3.505\n",
       "u04  3.029\n",
       "u05  3.679\n",
       "u07  3.474"
      ]
     },
     "execution_count": 69,
     "metadata": {},
     "output_type": "execute_result"
    }
   ],
   "source": [
    "edu_df.head()"
   ]
  },
  {
   "cell_type": "code",
   "execution_count": 74,
   "metadata": {},
   "outputs": [
    {
     "data": {
      "image/png": "[encoded data removed]",
      "text/plain": [
       "<Figure size 432x288 with 1 Axes>"
      ]
     },
     "metadata": {},
     "output_type": "display_data"
    }
   ],
   "source": [
    "_ = edu_df.hist(bins=8)"
   ]
  },
  {
   "cell_type": "markdown",
   "metadata": {},
   "source": [
    "# Net Dataset"
   ]
  },
  {
   "cell_type": "code",
   "execution_count": 70,
   "metadata": {},
   "outputs": [],
   "source": [
    "all_df = edu_df\n",
    "for df in [phone_scores_df, ema_scores_df , survey_scores_df]:\n",
    "    all_df = pd.merge(all_df, df, how='outer', on=['uid'])"
   ]
  },
  {
   "cell_type": "code",
   "execution_count": 71,
   "metadata": {},
   "outputs": [
    {
     "data": {
      "text/html": [
       "<div>\n",
       "<style scoped>\n",
       "    .dataframe tbody tr th:only-of-type {\n",
       "        vertical-align: middle;\n",
       "    }\n",
       "\n",
       "    .dataframe tbody tr th {\n",
       "        vertical-align: top;\n",
       "    }\n",
       "\n",
       "    .dataframe thead th {\n",
       "        text-align: right;\n",
       "    }\n",
       "</style>\n",
       "<table border=\"1\" class=\"dataframe\">\n",
       "  <thead>\n",
       "    <tr style=\"text-align: right;\">\n",
       "      <th></th>\n",
       "      <th>GPA</th>\n",
       "      <th>tot_conv_sec</th>\n",
       "      <th>tot_phonelock_sec</th>\n",
       "      <th>pct_phone_usage</th>\n",
       "      <th>sleep_score</th>\n",
       "      <th>stress_score</th>\n",
       "      <th>social_score</th>\n",
       "      <th>activity_score</th>\n",
       "      <th>exercise_score</th>\n",
       "      <th>mood_score</th>\n",
       "      <th>behavior_score</th>\n",
       "      <th>bf_net_score</th>\n",
       "      <th>fl_net_score</th>\n",
       "      <th>ll_net_score</th>\n",
       "      <th>ps_net_score</th>\n",
       "    </tr>\n",
       "    <tr>\n",
       "      <th>uid</th>\n",
       "      <th></th>\n",
       "      <th></th>\n",
       "      <th></th>\n",
       "      <th></th>\n",
       "      <th></th>\n",
       "      <th></th>\n",
       "      <th></th>\n",
       "      <th></th>\n",
       "      <th></th>\n",
       "      <th></th>\n",
       "      <th></th>\n",
       "      <th></th>\n",
       "      <th></th>\n",
       "      <th></th>\n",
       "      <th></th>\n",
       "    </tr>\n",
       "  </thead>\n",
       "  <tbody>\n",
       "    <tr>\n",
       "      <th>u01</th>\n",
       "      <td>2.863</td>\n",
       "      <td>1664813</td>\n",
       "      <td>3084557</td>\n",
       "      <td>0.539725</td>\n",
       "      <td>-0.425579</td>\n",
       "      <td>0.935811</td>\n",
       "      <td>0.725806</td>\n",
       "      <td>2.120370</td>\n",
       "      <td>0.519481</td>\n",
       "      <td>0.500000</td>\n",
       "      <td>0.763769</td>\n",
       "      <td>9.220238</td>\n",
       "      <td>6.083333</td>\n",
       "      <td>6.850000</td>\n",
       "      <td>0.276190</td>\n",
       "    </tr>\n",
       "    <tr>\n",
       "      <th>u02</th>\n",
       "      <td>3.505</td>\n",
       "      <td>1260149</td>\n",
       "      <td>1613057</td>\n",
       "      <td>0.781218</td>\n",
       "      <td>-0.170330</td>\n",
       "      <td>1.000000</td>\n",
       "      <td>0.522581</td>\n",
       "      <td>1.445933</td>\n",
       "      <td>0.792929</td>\n",
       "      <td>0.000000</td>\n",
       "      <td>2.396797</td>\n",
       "      <td>0.821429</td>\n",
       "      <td>5.900000</td>\n",
       "      <td>7.516667</td>\n",
       "      <td>-2.044048</td>\n",
       "    </tr>\n",
       "    <tr>\n",
       "      <th>u04</th>\n",
       "      <td>3.029</td>\n",
       "      <td>1505986</td>\n",
       "      <td>3493669</td>\n",
       "      <td>0.431061</td>\n",
       "      <td>-0.261197</td>\n",
       "      <td>0.607313</td>\n",
       "      <td>0.602151</td>\n",
       "      <td>1.908425</td>\n",
       "      <td>1.432239</td>\n",
       "      <td>0.034091</td>\n",
       "      <td>-0.720497</td>\n",
       "      <td>-0.958333</td>\n",
       "      <td>3.100000</td>\n",
       "      <td>-0.483333</td>\n",
       "      <td>-0.891667</td>\n",
       "    </tr>\n",
       "    <tr>\n",
       "      <th>u05</th>\n",
       "      <td>3.679</td>\n",
       "      <td>1086616</td>\n",
       "      <td>2404358</td>\n",
       "      <td>0.451936</td>\n",
       "      <td>-0.056762</td>\n",
       "      <td>1.000000</td>\n",
       "      <td>0.967742</td>\n",
       "      <td>1.508859</td>\n",
       "      <td>0.726607</td>\n",
       "      <td>0.183974</td>\n",
       "      <td>0.860762</td>\n",
       "      <td>9.053571</td>\n",
       "      <td>6.683333</td>\n",
       "      <td>7.166667</td>\n",
       "      <td>2.648810</td>\n",
       "    </tr>\n",
       "    <tr>\n",
       "      <th>u07</th>\n",
       "      <td>3.474</td>\n",
       "      <td>808665</td>\n",
       "      <td>2367839</td>\n",
       "      <td>0.341520</td>\n",
       "      <td>-0.126340</td>\n",
       "      <td>1.000000</td>\n",
       "      <td>0.653226</td>\n",
       "      <td>1.042549</td>\n",
       "      <td>0.860140</td>\n",
       "      <td>-0.454545</td>\n",
       "      <td>1.284720</td>\n",
       "      <td>4.779762</td>\n",
       "      <td>6.533333</td>\n",
       "      <td>3.800000</td>\n",
       "      <td>-1.126190</td>\n",
       "    </tr>\n",
       "  </tbody>\n",
       "</table>\n",
       "</div>"
      ],
      "text/plain": [
       "       GPA  tot_conv_sec  tot_phonelock_sec  pct_phone_usage  sleep_score  stress_score  social_score  activity_score  exercise_score  mood_score  behavior_score  bf_net_score  fl_net_score  ll_net_score  ps_net_score\n",
       "uid                                                                                                                                                                                                                      \n",
       "u01  2.863       1664813            3084557         0.539725    -0.425579      0.935811      0.725806        2.120370        0.519481    0.500000        0.763769      9.220238      6.083333      6.850000      0.276190\n",
       "u02  3.505       1260149            1613057         0.781218    -0.170330      1.000000      0.522581        1.445933        0.792929    0.000000        2.396797      0.821429      5.900000      7.516667     -2.044048\n",
       "u04  3.029       1505986            3493669         0.431061    -0.261197      0.607313      0.602151        1.908425        1.432239    0.034091       -0.720497     -0.958333      3.100000     -0.483333     -0.891667\n",
       "u05  3.679       1086616            2404358         0.451936    -0.056762      1.000000      0.967742        1.508859        0.726607    0.183974        0.860762      9.053571      6.683333      7.166667      2.648810\n",
       "u07  3.474        808665            2367839         0.341520    -0.126340      1.000000      0.653226        1.042549        0.860140   -0.454545        1.284720      4.779762      6.533333      3.800000     -1.126190"
      ]
     },
     "execution_count": 71,
     "metadata": {},
     "output_type": "execute_result"
    }
   ],
   "source": [
    "all_df.head()"
   ]
  },
  {
   "cell_type": "code",
   "execution_count": 72,
   "metadata": {},
   "outputs": [
    {
     "data": {
      "image/png": "[encoded data removed]",
      "text/plain": [
       "<Figure size 720x432 with 2 Axes>"
      ]
     },
     "metadata": {},
     "output_type": "display_data"
    }
   ],
   "source": [
    "# Correlation Matrix Heatmap\n",
    "fig, ax = plt.subplots(figsize=(10, 6))\n",
    "corr = all_df.corr()\n",
    "hm = sns.heatmap(round(corr,2), annot=True, ax=ax, cmap=\"coolwarm\",fmt='.2f',\n",
    "                 linewidths=.05)\n",
    "fig.subplots_adjust(top=0.93)\n",
    "t= fig.suptitle('Asset Feats Correlation Heatmap', fontsize=14)"
   ]
  },
  {
   "cell_type": "markdown",
   "metadata": {},
   "source": [
    "# Comments:\n",
    "\n",
    "1. We didn't find any strong linear correlations between the engineered features and GPA.\n",
    "2. We didn't find any strong linear correlations among the engineered features themselves.\n",
    "3. Some of the features appear to be gaussian, though it's hard to support this observation due to the limited number of samples.\n",
    "\n",
    "# Conclusions:\n",
    "\n",
    "The dataset is very rich in data and a lot of interesting and diverse features can be extracted from it. However, the limited number of samples obscures the relationship among the features and one needs to collect more samples in order to arrive to any statistically significant conclusions.\n"
   ]
  },
  {
   "cell_type": "code",
   "execution_count": null,
   "metadata": {},
   "outputs": [],
   "source": []
  }
 ],
 "metadata": {
  "kernelspec": {
   "display_name": "Python 3",
   "language": "python",
   "name": "python3"
  },
  "language_info": {
   "codemirror_mode": {
    "name": "ipython",
    "version": 3
   },
   "file_extension": ".py",
   "mimetype": "text/x-python",
   "name": "python",
   "nbconvert_exporter": "python",
   "pygments_lexer": "ipython3",
   "version": "3.6.5"
  }
 },
 "nbformat": 4,
 "nbformat_minor": 2
}
