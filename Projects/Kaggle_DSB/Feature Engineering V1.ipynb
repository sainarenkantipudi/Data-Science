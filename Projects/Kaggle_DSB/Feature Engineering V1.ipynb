{
 "cells": [
  {
   "cell_type": "markdown",
   "metadata": {},
   "source": [
    "# Libraries"
   ]
  },
  {
   "cell_type": "code",
   "execution_count": 1,
   "metadata": {},
   "outputs": [],
   "source": [
    "import pandas as pd\n",
    "import numpy as np\n",
    "import matplotlib.pyplot as plt\n",
    "import seaborn as sns\n",
    "import json \n",
    "import os\n",
    "sns.set_style(\"whitegrid\")\n",
    "my_pal = sns.color_palette(n_colors=10)\n",
    "\n",
    "pd.set_option('display.max_rows', 500)\n",
    "pd.set_option('display.max_columns', 500)\n",
    "pd.set_option('display.width', 1000)"
   ]
  },
  {
   "cell_type": "markdown",
   "metadata": {},
   "source": [
    "# Load Data (a sample)"
   ]
  },
  {
   "cell_type": "markdown",
   "metadata": {},
   "source": [
    "## 1. Train "
   ]
  },
  {
   "cell_type": "code",
   "execution_count": 55,
   "metadata": {},
   "outputs": [],
   "source": [
    "path ='../Kaggle_DSB_data/train.csv'\n",
    "train = pd.read_csv(path, nrows=1000000, parse_dates=['timestamp'])"
   ]
  },
  {
   "cell_type": "code",
   "execution_count": 56,
   "metadata": {},
   "outputs": [],
   "source": [
    "train = train.set_index(['installation_id','game_session'])"
   ]
  },
  {
   "cell_type": "code",
   "execution_count": 57,
   "metadata": {},
   "outputs": [
    {
     "data": {
      "text/html": [
       "<div>\n",
       "<style scoped>\n",
       "    .dataframe tbody tr th:only-of-type {\n",
       "        vertical-align: middle;\n",
       "    }\n",
       "\n",
       "    .dataframe tbody tr th {\n",
       "        vertical-align: top;\n",
       "    }\n",
       "\n",
       "    .dataframe thead th {\n",
       "        text-align: right;\n",
       "    }\n",
       "</style>\n",
       "<table border=\"1\" class=\"dataframe\">\n",
       "  <thead>\n",
       "    <tr style=\"text-align: right;\">\n",
       "      <th></th>\n",
       "      <th></th>\n",
       "      <th>event_id</th>\n",
       "      <th>timestamp</th>\n",
       "      <th>event_data</th>\n",
       "      <th>event_count</th>\n",
       "      <th>event_code</th>\n",
       "      <th>game_time</th>\n",
       "      <th>title</th>\n",
       "      <th>type</th>\n",
       "      <th>world</th>\n",
       "    </tr>\n",
       "    <tr>\n",
       "      <th>installation_id</th>\n",
       "      <th>game_session</th>\n",
       "      <th></th>\n",
       "      <th></th>\n",
       "      <th></th>\n",
       "      <th></th>\n",
       "      <th></th>\n",
       "      <th></th>\n",
       "      <th></th>\n",
       "      <th></th>\n",
       "      <th></th>\n",
       "    </tr>\n",
       "  </thead>\n",
       "  <tbody>\n",
       "    <tr>\n",
       "      <th rowspan=\"5\" valign=\"top\">0001e90f</th>\n",
       "      <th>45bb1e1b6b50c07b</th>\n",
       "      <td>27253bdc</td>\n",
       "      <td>2019-09-06 17:53:46.937</td>\n",
       "      <td>{\"event_code\": 2000, \"event_count\": 1}</td>\n",
       "      <td>1</td>\n",
       "      <td>2000</td>\n",
       "      <td>0</td>\n",
       "      <td>Welcome to Lost Lagoon!</td>\n",
       "      <td>Clip</td>\n",
       "      <td>NONE</td>\n",
       "    </tr>\n",
       "    <tr>\n",
       "      <th>17eeb7f223665f53</th>\n",
       "      <td>27253bdc</td>\n",
       "      <td>2019-09-06 17:54:17.519</td>\n",
       "      <td>{\"event_code\": 2000, \"event_count\": 1}</td>\n",
       "      <td>1</td>\n",
       "      <td>2000</td>\n",
       "      <td>0</td>\n",
       "      <td>Magma Peak - Level 1</td>\n",
       "      <td>Clip</td>\n",
       "      <td>MAGMAPEAK</td>\n",
       "    </tr>\n",
       "    <tr>\n",
       "      <th>0848ef14a8dc6892</th>\n",
       "      <td>77261ab5</td>\n",
       "      <td>2019-09-06 17:54:56.302</td>\n",
       "      <td>{\"version\":\"1.0\",\"event_count\":1,\"game_time\":0...</td>\n",
       "      <td>1</td>\n",
       "      <td>2000</td>\n",
       "      <td>0</td>\n",
       "      <td>Sandcastle Builder (Activity)</td>\n",
       "      <td>Activity</td>\n",
       "      <td>MAGMAPEAK</td>\n",
       "    </tr>\n",
       "    <tr>\n",
       "      <th>0848ef14a8dc6892</th>\n",
       "      <td>b2dba42b</td>\n",
       "      <td>2019-09-06 17:54:56.387</td>\n",
       "      <td>{\"description\":\"Let's build a sandcastle! Firs...</td>\n",
       "      <td>2</td>\n",
       "      <td>3010</td>\n",
       "      <td>53</td>\n",
       "      <td>Sandcastle Builder (Activity)</td>\n",
       "      <td>Activity</td>\n",
       "      <td>MAGMAPEAK</td>\n",
       "    </tr>\n",
       "    <tr>\n",
       "      <th>0848ef14a8dc6892</th>\n",
       "      <td>1bb5fbdb</td>\n",
       "      <td>2019-09-06 17:55:03.253</td>\n",
       "      <td>{\"description\":\"Let's build a sandcastle! Firs...</td>\n",
       "      <td>3</td>\n",
       "      <td>3110</td>\n",
       "      <td>6972</td>\n",
       "      <td>Sandcastle Builder (Activity)</td>\n",
       "      <td>Activity</td>\n",
       "      <td>MAGMAPEAK</td>\n",
       "    </tr>\n",
       "  </tbody>\n",
       "</table>\n",
       "</div>"
      ],
      "text/plain": [
       "                                  event_id               timestamp                                         event_data  event_count  event_code  game_time                          title      type      world\n",
       "installation_id game_session                                                                                                                                                                                 \n",
       "0001e90f        45bb1e1b6b50c07b  27253bdc 2019-09-06 17:53:46.937             {\"event_code\": 2000, \"event_count\": 1}            1        2000          0        Welcome to Lost Lagoon!      Clip       NONE\n",
       "                17eeb7f223665f53  27253bdc 2019-09-06 17:54:17.519             {\"event_code\": 2000, \"event_count\": 1}            1        2000          0           Magma Peak - Level 1      Clip  MAGMAPEAK\n",
       "                0848ef14a8dc6892  77261ab5 2019-09-06 17:54:56.302  {\"version\":\"1.0\",\"event_count\":1,\"game_time\":0...            1        2000          0  Sandcastle Builder (Activity)  Activity  MAGMAPEAK\n",
       "                0848ef14a8dc6892  b2dba42b 2019-09-06 17:54:56.387  {\"description\":\"Let's build a sandcastle! Firs...            2        3010         53  Sandcastle Builder (Activity)  Activity  MAGMAPEAK\n",
       "                0848ef14a8dc6892  1bb5fbdb 2019-09-06 17:55:03.253  {\"description\":\"Let's build a sandcastle! Firs...            3        3110       6972  Sandcastle Builder (Activity)  Activity  MAGMAPEAK"
      ]
     },
     "execution_count": 57,
     "metadata": {},
     "output_type": "execute_result"
    }
   ],
   "source": [
    "train.head()"
   ]
  },
  {
   "cell_type": "markdown",
   "metadata": {},
   "source": [
    "Noise: game_time =0  and incorrect "
   ]
  },
  {
   "cell_type": "markdown",
   "metadata": {},
   "source": [
    "## 2. Train Labels"
   ]
  },
  {
   "cell_type": "code",
   "execution_count": 68,
   "metadata": {},
   "outputs": [],
   "source": [
    "path_labels ='../Kaggle_DSB_data/train_labels.csv'\n",
    "train_labels = pd.read_csv(path_labels, nrows=1000000)"
   ]
  },
  {
   "cell_type": "code",
   "execution_count": 69,
   "metadata": {},
   "outputs": [],
   "source": [
    "train_labels = train_labels.set_index(['installation_id','game_session'])"
   ]
  },
  {
   "cell_type": "code",
   "execution_count": 70,
   "metadata": {},
   "outputs": [
    {
     "data": {
      "text/html": [
       "<div>\n",
       "<style scoped>\n",
       "    .dataframe tbody tr th:only-of-type {\n",
       "        vertical-align: middle;\n",
       "    }\n",
       "\n",
       "    .dataframe tbody tr th {\n",
       "        vertical-align: top;\n",
       "    }\n",
       "\n",
       "    .dataframe thead th {\n",
       "        text-align: right;\n",
       "    }\n",
       "</style>\n",
       "<table border=\"1\" class=\"dataframe\">\n",
       "  <thead>\n",
       "    <tr style=\"text-align: right;\">\n",
       "      <th></th>\n",
       "      <th></th>\n",
       "      <th>title</th>\n",
       "      <th>num_correct</th>\n",
       "      <th>num_incorrect</th>\n",
       "      <th>accuracy</th>\n",
       "      <th>accuracy_group</th>\n",
       "    </tr>\n",
       "    <tr>\n",
       "      <th>installation_id</th>\n",
       "      <th>game_session</th>\n",
       "      <th></th>\n",
       "      <th></th>\n",
       "      <th></th>\n",
       "      <th></th>\n",
       "      <th></th>\n",
       "    </tr>\n",
       "  </thead>\n",
       "  <tbody>\n",
       "    <tr>\n",
       "      <th rowspan=\"5\" valign=\"top\">0006a69f</th>\n",
       "      <th>6bdf9623adc94d89</th>\n",
       "      <td>Mushroom Sorter (Assessment)</td>\n",
       "      <td>1</td>\n",
       "      <td>0</td>\n",
       "      <td>1.0</td>\n",
       "      <td>3</td>\n",
       "    </tr>\n",
       "    <tr>\n",
       "      <th>77b8ee947eb84b4e</th>\n",
       "      <td>Bird Measurer (Assessment)</td>\n",
       "      <td>0</td>\n",
       "      <td>11</td>\n",
       "      <td>0.0</td>\n",
       "      <td>0</td>\n",
       "    </tr>\n",
       "    <tr>\n",
       "      <th>901acc108f55a5a1</th>\n",
       "      <td>Mushroom Sorter (Assessment)</td>\n",
       "      <td>1</td>\n",
       "      <td>0</td>\n",
       "      <td>1.0</td>\n",
       "      <td>3</td>\n",
       "    </tr>\n",
       "    <tr>\n",
       "      <th>9501794defd84e4d</th>\n",
       "      <td>Mushroom Sorter (Assessment)</td>\n",
       "      <td>1</td>\n",
       "      <td>1</td>\n",
       "      <td>0.5</td>\n",
       "      <td>2</td>\n",
       "    </tr>\n",
       "    <tr>\n",
       "      <th>a9ef3ecb3d1acc6a</th>\n",
       "      <td>Bird Measurer (Assessment)</td>\n",
       "      <td>1</td>\n",
       "      <td>0</td>\n",
       "      <td>1.0</td>\n",
       "      <td>3</td>\n",
       "    </tr>\n",
       "  </tbody>\n",
       "</table>\n",
       "</div>"
      ],
      "text/plain": [
       "                                                         title  num_correct  num_incorrect  accuracy  accuracy_group\n",
       "installation_id game_session                                                                                        \n",
       "0006a69f        6bdf9623adc94d89  Mushroom Sorter (Assessment)            1              0       1.0               3\n",
       "                77b8ee947eb84b4e    Bird Measurer (Assessment)            0             11       0.0               0\n",
       "                901acc108f55a5a1  Mushroom Sorter (Assessment)            1              0       1.0               3\n",
       "                9501794defd84e4d  Mushroom Sorter (Assessment)            1              1       0.5               2\n",
       "                a9ef3ecb3d1acc6a    Bird Measurer (Assessment)            1              0       1.0               3"
      ]
     },
     "execution_count": 70,
     "metadata": {},
     "output_type": "execute_result"
    }
   ],
   "source": [
    "train_labels.head()"
   ]
  },
  {
   "cell_type": "markdown",
   "metadata": {},
   "source": [
    "## 3. Merge all Assessment train data"
   ]
  },
  {
   "cell_type": "code",
   "execution_count": 75,
   "metadata": {},
   "outputs": [],
   "source": [
    "assessments = pd.merge(train[train.type == 'Assessment'],\n",
    "                     train_labels, left_index=True, right_index=True, how='inner')\n",
    "\n",
    "# clean df\n",
    "assessments = assessments.drop(['title_y','type'],axis=1)\\\n",
    "                         .rename({'title_x':'title'},axis=1)"
   ]
  },
  {
   "cell_type": "code",
   "execution_count": 88,
   "metadata": {
    "scrolled": true
   },
   "outputs": [
    {
     "data": {
      "text/html": [
       "<div>\n",
       "<style scoped>\n",
       "    .dataframe tbody tr th:only-of-type {\n",
       "        vertical-align: middle;\n",
       "    }\n",
       "\n",
       "    .dataframe tbody tr th {\n",
       "        vertical-align: top;\n",
       "    }\n",
       "\n",
       "    .dataframe thead th {\n",
       "        text-align: right;\n",
       "    }\n",
       "</style>\n",
       "<table border=\"1\" class=\"dataframe\">\n",
       "  <thead>\n",
       "    <tr style=\"text-align: right;\">\n",
       "      <th></th>\n",
       "      <th></th>\n",
       "      <th>event_id</th>\n",
       "      <th>timestamp</th>\n",
       "      <th>event_data</th>\n",
       "      <th>event_count</th>\n",
       "      <th>event_code</th>\n",
       "      <th>game_time</th>\n",
       "      <th>title</th>\n",
       "      <th>world</th>\n",
       "      <th>num_correct</th>\n",
       "      <th>num_incorrect</th>\n",
       "      <th>accuracy</th>\n",
       "      <th>accuracy_group</th>\n",
       "    </tr>\n",
       "    <tr>\n",
       "      <th>installation_id</th>\n",
       "      <th>game_session</th>\n",
       "      <th></th>\n",
       "      <th></th>\n",
       "      <th></th>\n",
       "      <th></th>\n",
       "      <th></th>\n",
       "      <th></th>\n",
       "      <th></th>\n",
       "      <th></th>\n",
       "      <th></th>\n",
       "      <th></th>\n",
       "      <th></th>\n",
       "      <th></th>\n",
       "    </tr>\n",
       "  </thead>\n",
       "  <tbody>\n",
       "    <tr>\n",
       "      <th rowspan=\"5\" valign=\"top\">0006a69f</th>\n",
       "      <th>6bdf9623adc94d89</th>\n",
       "      <td>3bfd1a65</td>\n",
       "      <td>2019-08-06 05:37:50.020</td>\n",
       "      <td>{\"version\":\"1.0\",\"event_count\":1,\"game_time\":0...</td>\n",
       "      <td>1</td>\n",
       "      <td>2000</td>\n",
       "      <td>0</td>\n",
       "      <td>Mushroom Sorter (Assessment)</td>\n",
       "      <td>TREETOPCITY</td>\n",
       "      <td>1</td>\n",
       "      <td>0</td>\n",
       "      <td>1.0</td>\n",
       "      <td>3</td>\n",
       "    </tr>\n",
       "    <tr>\n",
       "      <th>6bdf9623adc94d89</th>\n",
       "      <td>db02c830</td>\n",
       "      <td>2019-08-06 05:37:50.078</td>\n",
       "      <td>{\"event_count\":2,\"game_time\":77,\"event_code\":2...</td>\n",
       "      <td>2</td>\n",
       "      <td>2025</td>\n",
       "      <td>77</td>\n",
       "      <td>Mushroom Sorter (Assessment)</td>\n",
       "      <td>TREETOPCITY</td>\n",
       "      <td>1</td>\n",
       "      <td>0</td>\n",
       "      <td>1.0</td>\n",
       "      <td>3</td>\n",
       "    </tr>\n",
       "    <tr>\n",
       "      <th>6bdf9623adc94d89</th>\n",
       "      <td>a1e4395d</td>\n",
       "      <td>2019-08-06 05:37:50.082</td>\n",
       "      <td>{\"description\":\"Pull three mushrooms out of th...</td>\n",
       "      <td>3</td>\n",
       "      <td>3010</td>\n",
       "      <td>77</td>\n",
       "      <td>Mushroom Sorter (Assessment)</td>\n",
       "      <td>TREETOPCITY</td>\n",
       "      <td>1</td>\n",
       "      <td>0</td>\n",
       "      <td>1.0</td>\n",
       "      <td>3</td>\n",
       "    </tr>\n",
       "    <tr>\n",
       "      <th>6bdf9623adc94d89</th>\n",
       "      <td>7da34a02</td>\n",
       "      <td>2019-08-06 05:37:52.799</td>\n",
       "      <td>{\"coordinates\":{\"x\":199,\"y\":484,\"stage_width\":...</td>\n",
       "      <td>4</td>\n",
       "      <td>4070</td>\n",
       "      <td>2784</td>\n",
       "      <td>Mushroom Sorter (Assessment)</td>\n",
       "      <td>TREETOPCITY</td>\n",
       "      <td>1</td>\n",
       "      <td>0</td>\n",
       "      <td>1.0</td>\n",
       "      <td>3</td>\n",
       "    </tr>\n",
       "    <tr>\n",
       "      <th>6bdf9623adc94d89</th>\n",
       "      <td>28ed704e</td>\n",
       "      <td>2019-08-06 05:37:53.631</td>\n",
       "      <td>{\"height\":1,\"coordinates\":{\"x\":171,\"y\":519,\"st...</td>\n",
       "      <td>5</td>\n",
       "      <td>4025</td>\n",
       "      <td>3625</td>\n",
       "      <td>Mushroom Sorter (Assessment)</td>\n",
       "      <td>TREETOPCITY</td>\n",
       "      <td>1</td>\n",
       "      <td>0</td>\n",
       "      <td>1.0</td>\n",
       "      <td>3</td>\n",
       "    </tr>\n",
       "  </tbody>\n",
       "</table>\n",
       "</div>"
      ],
      "text/plain": [
       "                                  event_id               timestamp                                         event_data  event_count  event_code  game_time                         title        world  num_correct  num_incorrect  accuracy  accuracy_group\n",
       "installation_id game_session                                                                                                                                                                                                                              \n",
       "0006a69f        6bdf9623adc94d89  3bfd1a65 2019-08-06 05:37:50.020  {\"version\":\"1.0\",\"event_count\":1,\"game_time\":0...            1        2000          0  Mushroom Sorter (Assessment)  TREETOPCITY            1              0       1.0               3\n",
       "                6bdf9623adc94d89  db02c830 2019-08-06 05:37:50.078  {\"event_count\":2,\"game_time\":77,\"event_code\":2...            2        2025         77  Mushroom Sorter (Assessment)  TREETOPCITY            1              0       1.0               3\n",
       "                6bdf9623adc94d89  a1e4395d 2019-08-06 05:37:50.082  {\"description\":\"Pull three mushrooms out of th...            3        3010         77  Mushroom Sorter (Assessment)  TREETOPCITY            1              0       1.0               3\n",
       "                6bdf9623adc94d89  7da34a02 2019-08-06 05:37:52.799  {\"coordinates\":{\"x\":199,\"y\":484,\"stage_width\":...            4        4070       2784  Mushroom Sorter (Assessment)  TREETOPCITY            1              0       1.0               3\n",
       "                6bdf9623adc94d89  28ed704e 2019-08-06 05:37:53.631  {\"height\":1,\"coordinates\":{\"x\":171,\"y\":519,\"st...            5        4025       3625  Mushroom Sorter (Assessment)  TREETOPCITY            1              0       1.0               3"
      ]
     },
     "execution_count": 88,
     "metadata": {},
     "output_type": "execute_result"
    }
   ],
   "source": [
    "assessments.head()"
   ]
  },
  {
   "cell_type": "markdown",
   "metadata": {},
   "source": [
    "# Feature Engineering\n",
    "\n",
    "Let's first try to construct \"domain-like\" features which might infleunce user performance. I'll divide these features into the following categories:\n",
    "\n",
    "1. Level of game difficulty\n",
    "2. User Expertise\n",
    "3. User Focus \n",
    "4. Clarity of Game Instructions\n",
    "5. Other\n",
    "\n"
   ]
  },
  {
   "cell_type": "markdown",
   "metadata": {},
   "source": [
    "## 1. Level of game difficulty\n",
    "\n",
    "a) rate title based on user performance <br>\n",
    "b) rate world based on user performance <br>\n",
    "\n"
   ]
  },
  {
   "cell_type": "markdown",
   "metadata": {},
   "source": [
    "a) Title"
   ]
  },
  {
   "cell_type": "code",
   "execution_count": 121,
   "metadata": {},
   "outputs": [],
   "source": [
    "pct_corrects = lambda g: round(g.sum()/g.count(),3)\n",
    "assess_title = assessments.groupby(['title'])[['num_correct']]\\\n",
    "                          .agg(['count','sum', pct_corrects])"
   ]
  },
  {
   "cell_type": "code",
   "execution_count": 122,
   "metadata": {},
   "outputs": [],
   "source": [
    "# Clean df\n",
    "assess_title.columns = ['num_assessments', 'num_correct', 'pct_correct']\n",
    "assess_title['pct_incorrect'] =  1 - assess_title.pct_correct\n",
    "assess_title.index = [title.split('(')[0].strip() for title in assess_title.index]"
   ]
  },
  {
   "cell_type": "code",
   "execution_count": 137,
   "metadata": {},
   "outputs": [
    {
     "data": {
      "text/plain": [
       "<matplotlib.axes._subplots.AxesSubplot at 0x1a5b676390>"
      ]
     },
     "execution_count": 137,
     "metadata": {},
     "output_type": "execute_result"
    },
    {
     "data": {
      "image/png": "[encoded data removed]",
      "text/plain": [
       "<Figure size 720x432 with 1 Axes>"
      ]
     },
     "metadata": {},
     "output_type": "display_data"
    }
   ],
   "source": [
    "assess_title.loc[:,['pct_correct','pct_incorrect']].plot.barh(stacked=True,figsize=(10, 6), title='Correct (by title)')"
   ]
  },
  {
   "cell_type": "code",
   "execution_count": 89,
   "metadata": {},
   "outputs": [],
   "source": [
    "assess_title['num_incorrect'] = assess_title.loc[:,('num_correct','count')] -assess_title.loc[:,('num_correct','sum')] "
   ]
  },
  {
   "cell_type": "code",
   "execution_count": 90,
   "metadata": {},
   "outputs": [
    {
     "data": {
      "text/html": [
       "<div>\n",
       "<style scoped>\n",
       "    .dataframe tbody tr th:only-of-type {\n",
       "        vertical-align: middle;\n",
       "    }\n",
       "\n",
       "    .dataframe tbody tr th {\n",
       "        vertical-align: top;\n",
       "    }\n",
       "\n",
       "    .dataframe thead tr th {\n",
       "        text-align: left;\n",
       "    }\n",
       "\n",
       "    .dataframe thead tr:last-of-type th {\n",
       "        text-align: right;\n",
       "    }\n",
       "</style>\n",
       "<table border=\"1\" class=\"dataframe\">\n",
       "  <thead>\n",
       "    <tr>\n",
       "      <th></th>\n",
       "      <th colspan=\"2\" halign=\"left\">num_correct</th>\n",
       "      <th>num_incorrect</th>\n",
       "    </tr>\n",
       "    <tr>\n",
       "      <th></th>\n",
       "      <th>count</th>\n",
       "      <th>sum</th>\n",
       "      <th></th>\n",
       "    </tr>\n",
       "    <tr>\n",
       "      <th>title</th>\n",
       "      <th></th>\n",
       "      <th></th>\n",
       "      <th></th>\n",
       "    </tr>\n",
       "  </thead>\n",
       "  <tbody>\n",
       "    <tr>\n",
       "      <th>Bird Measurer (Assessment)</th>\n",
       "      <td>18158</td>\n",
       "      <td>12160</td>\n",
       "      <td>5998</td>\n",
       "    </tr>\n",
       "    <tr>\n",
       "      <th>Cart Balancer (Assessment)</th>\n",
       "      <td>13438</td>\n",
       "      <td>10028</td>\n",
       "      <td>3410</td>\n",
       "    </tr>\n",
       "    <tr>\n",
       "      <th>Cauldron Filler (Assessment)</th>\n",
       "      <td>18007</td>\n",
       "      <td>16321</td>\n",
       "      <td>1686</td>\n",
       "    </tr>\n",
       "    <tr>\n",
       "      <th>Chest Sorter (Assessment)</th>\n",
       "      <td>17598</td>\n",
       "      <td>6086</td>\n",
       "      <td>11512</td>\n",
       "    </tr>\n",
       "    <tr>\n",
       "      <th>Mushroom Sorter (Assessment)</th>\n",
       "      <td>17908</td>\n",
       "      <td>13354</td>\n",
       "      <td>4554</td>\n",
       "    </tr>\n",
       "  </tbody>\n",
       "</table>\n",
       "</div>"
      ],
      "text/plain": [
       "                             num_correct        num_incorrect\n",
       "                                   count    sum              \n",
       "title                                                        \n",
       "Bird Measurer (Assessment)         18158  12160          5998\n",
       "Cart Balancer (Assessment)         13438  10028          3410\n",
       "Cauldron Filler (Assessment)       18007  16321          1686\n",
       "Chest Sorter (Assessment)          17598   6086         11512\n",
       "Mushroom Sorter (Assessment)       17908  13354          4554"
      ]
     },
     "execution_count": 90,
     "metadata": {},
     "output_type": "execute_result"
    }
   ],
   "source": [
    "assess_title"
   ]
  },
  {
   "cell_type": "markdown",
   "metadata": {},
   "source": [
    "## 2. User Expertise\n",
    "\n",
    "a) measure net game time <br>\n",
    "b) measure net game time per title <br>\n",
    "c) measure game time per world <br>\n",
    "d) measure how the performance changes with time <br>\n",
    "e) measure time of completion of each task <br>"
   ]
  },
  {
   "cell_type": "markdown",
   "metadata": {},
   "source": [
    "## 3. User focus\n",
    "\n",
    "a) time of the day user signed in <br>\n",
    "b) how much time spent per session <br>\n",
    "c) boredom by playing too much?"
   ]
  },
  {
   "cell_type": "markdown",
   "metadata": {},
   "source": [
    "## 4. Clarity of game instructions\n",
    "\n",
    "Game Clarity:<br>\n",
    "a) rate hints based on user performance <br>\n",
    "b) check if the user was doing something weird: from coords (e.g. false negatives) <br>\n",
    "c) check if the user was doing something weird to familiarize himself/herself with the game (e.g. at the beginnig might press randomly)"
   ]
  },
  {
   "cell_type": "code",
   "execution_count": null,
   "metadata": {},
   "outputs": [],
   "source": []
  }
 ],
 "metadata": {
  "kernelspec": {
   "display_name": "Python 3",
   "language": "python",
   "name": "python3"
  },
  "language_info": {
   "codemirror_mode": {
    "name": "ipython",
    "version": 3
   },
   "file_extension": ".py",
   "mimetype": "text/x-python",
   "name": "python",
   "nbconvert_exporter": "python",
   "pygments_lexer": "ipython3",
   "version": "3.6.5"
  }
 },
 "nbformat": 4,
 "nbformat_minor": 2
}
