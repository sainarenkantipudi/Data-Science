{
 "cells": [
  {
   "cell_type": "markdown",
   "metadata": {},
   "source": [
    "# Libraries"
   ]
  },
  {
   "cell_type": "code",
   "execution_count": 1,
   "metadata": {},
   "outputs": [],
   "source": [
    "import pandas as pd\n",
    "import numpy as np\n",
    "import matplotlib.pyplot as plt\n",
    "import seaborn as sns\n",
    "import json \n",
    "import os\n",
    "\n",
    "pd.set_option('display.max_rows', 500)\n",
    "pd.set_option('display.max_columns', 500)\n",
    "pd.set_option('display.width', 1000)"
   ]
  },
  {
   "cell_type": "markdown",
   "metadata": {},
   "source": [
    "# Load Train Data (a sample)"
   ]
  },
  {
   "cell_type": "code",
   "execution_count": 2,
   "metadata": {},
   "outputs": [],
   "source": [
    "path ='../Kaggle_DSB_data/train.csv'"
   ]
  },
  {
   "cell_type": "code",
   "execution_count": 3,
   "metadata": {},
   "outputs": [],
   "source": [
    "sample = pd.read_csv(path, nrows=10000, parse_dates=['timestamp'])"
   ]
  },
  {
   "cell_type": "code",
   "execution_count": 4,
   "metadata": {},
   "outputs": [
    {
     "data": {
      "text/html": [
       "<div>\n",
       "<style scoped>\n",
       "    .dataframe tbody tr th:only-of-type {\n",
       "        vertical-align: middle;\n",
       "    }\n",
       "\n",
       "    .dataframe tbody tr th {\n",
       "        vertical-align: top;\n",
       "    }\n",
       "\n",
       "    .dataframe thead th {\n",
       "        text-align: right;\n",
       "    }\n",
       "</style>\n",
       "<table border=\"1\" class=\"dataframe\">\n",
       "  <thead>\n",
       "    <tr style=\"text-align: right;\">\n",
       "      <th></th>\n",
       "      <th>event_id</th>\n",
       "      <th>game_session</th>\n",
       "      <th>timestamp</th>\n",
       "      <th>event_data</th>\n",
       "      <th>installation_id</th>\n",
       "      <th>event_count</th>\n",
       "      <th>event_code</th>\n",
       "      <th>game_time</th>\n",
       "      <th>title</th>\n",
       "      <th>type</th>\n",
       "      <th>world</th>\n",
       "    </tr>\n",
       "  </thead>\n",
       "  <tbody>\n",
       "    <tr>\n",
       "      <th>0</th>\n",
       "      <td>27253bdc</td>\n",
       "      <td>45bb1e1b6b50c07b</td>\n",
       "      <td>2019-09-06 17:53:46.937</td>\n",
       "      <td>{\"event_code\": 2000, \"event_count\": 1}</td>\n",
       "      <td>0001e90f</td>\n",
       "      <td>1</td>\n",
       "      <td>2000</td>\n",
       "      <td>0</td>\n",
       "      <td>Welcome to Lost Lagoon!</td>\n",
       "      <td>Clip</td>\n",
       "      <td>NONE</td>\n",
       "    </tr>\n",
       "    <tr>\n",
       "      <th>1</th>\n",
       "      <td>27253bdc</td>\n",
       "      <td>17eeb7f223665f53</td>\n",
       "      <td>2019-09-06 17:54:17.519</td>\n",
       "      <td>{\"event_code\": 2000, \"event_count\": 1}</td>\n",
       "      <td>0001e90f</td>\n",
       "      <td>1</td>\n",
       "      <td>2000</td>\n",
       "      <td>0</td>\n",
       "      <td>Magma Peak - Level 1</td>\n",
       "      <td>Clip</td>\n",
       "      <td>MAGMAPEAK</td>\n",
       "    </tr>\n",
       "    <tr>\n",
       "      <th>2</th>\n",
       "      <td>77261ab5</td>\n",
       "      <td>0848ef14a8dc6892</td>\n",
       "      <td>2019-09-06 17:54:56.302</td>\n",
       "      <td>{\"version\":\"1.0\",\"event_count\":1,\"game_time\":0...</td>\n",
       "      <td>0001e90f</td>\n",
       "      <td>1</td>\n",
       "      <td>2000</td>\n",
       "      <td>0</td>\n",
       "      <td>Sandcastle Builder (Activity)</td>\n",
       "      <td>Activity</td>\n",
       "      <td>MAGMAPEAK</td>\n",
       "    </tr>\n",
       "    <tr>\n",
       "      <th>3</th>\n",
       "      <td>b2dba42b</td>\n",
       "      <td>0848ef14a8dc6892</td>\n",
       "      <td>2019-09-06 17:54:56.387</td>\n",
       "      <td>{\"description\":\"Let's build a sandcastle! Firs...</td>\n",
       "      <td>0001e90f</td>\n",
       "      <td>2</td>\n",
       "      <td>3010</td>\n",
       "      <td>53</td>\n",
       "      <td>Sandcastle Builder (Activity)</td>\n",
       "      <td>Activity</td>\n",
       "      <td>MAGMAPEAK</td>\n",
       "    </tr>\n",
       "    <tr>\n",
       "      <th>4</th>\n",
       "      <td>1bb5fbdb</td>\n",
       "      <td>0848ef14a8dc6892</td>\n",
       "      <td>2019-09-06 17:55:03.253</td>\n",
       "      <td>{\"description\":\"Let's build a sandcastle! Firs...</td>\n",
       "      <td>0001e90f</td>\n",
       "      <td>3</td>\n",
       "      <td>3110</td>\n",
       "      <td>6972</td>\n",
       "      <td>Sandcastle Builder (Activity)</td>\n",
       "      <td>Activity</td>\n",
       "      <td>MAGMAPEAK</td>\n",
       "    </tr>\n",
       "  </tbody>\n",
       "</table>\n",
       "</div>"
      ],
      "text/plain": [
       "   event_id      game_session               timestamp                                         event_data installation_id  event_count  event_code  game_time                          title      type      world\n",
       "0  27253bdc  45bb1e1b6b50c07b 2019-09-06 17:53:46.937             {\"event_code\": 2000, \"event_count\": 1}        0001e90f            1        2000          0        Welcome to Lost Lagoon!      Clip       NONE\n",
       "1  27253bdc  17eeb7f223665f53 2019-09-06 17:54:17.519             {\"event_code\": 2000, \"event_count\": 1}        0001e90f            1        2000          0           Magma Peak - Level 1      Clip  MAGMAPEAK\n",
       "2  77261ab5  0848ef14a8dc6892 2019-09-06 17:54:56.302  {\"version\":\"1.0\",\"event_count\":1,\"game_time\":0...        0001e90f            1        2000          0  Sandcastle Builder (Activity)  Activity  MAGMAPEAK\n",
       "3  b2dba42b  0848ef14a8dc6892 2019-09-06 17:54:56.387  {\"description\":\"Let's build a sandcastle! Firs...        0001e90f            2        3010         53  Sandcastle Builder (Activity)  Activity  MAGMAPEAK\n",
       "4  1bb5fbdb  0848ef14a8dc6892 2019-09-06 17:55:03.253  {\"description\":\"Let's build a sandcastle! Firs...        0001e90f            3        3110       6972  Sandcastle Builder (Activity)  Activity  MAGMAPEAK"
      ]
     },
     "execution_count": 4,
     "metadata": {},
     "output_type": "execute_result"
    }
   ],
   "source": [
    "sample.head()"
   ]
  },
  {
   "cell_type": "code",
   "execution_count": 5,
   "metadata": {
    "scrolled": false
   },
   "outputs": [
    {
     "name": "stdout",
     "output_type": "stream",
     "text": [
      "<class 'pandas.core.frame.DataFrame'>\n",
      "RangeIndex: 10000 entries, 0 to 9999\n",
      "Data columns (total 11 columns):\n",
      "event_id           10000 non-null object\n",
      "game_session       10000 non-null object\n",
      "timestamp          10000 non-null datetime64[ns]\n",
      "event_data         10000 non-null object\n",
      "installation_id    10000 non-null object\n",
      "event_count        10000 non-null int64\n",
      "event_code         10000 non-null int64\n",
      "game_time          10000 non-null int64\n",
      "title              10000 non-null object\n",
      "type               10000 non-null object\n",
      "world              10000 non-null object\n",
      "dtypes: datetime64[ns](1), int64(3), object(7)\n",
      "memory usage: 859.5+ KB\n"
     ]
    }
   ],
   "source": [
    "sample.info()"
   ]
  },
  {
   "cell_type": "markdown",
   "metadata": {},
   "source": [
    "# Explore Column"
   ]
  },
  {
   "cell_type": "code",
   "execution_count": 6,
   "metadata": {},
   "outputs": [
    {
     "data": {
      "text/plain": [
       "['event_id',\n",
       " 'game_session',\n",
       " 'timestamp',\n",
       " 'event_data',\n",
       " 'installation_id',\n",
       " 'event_count',\n",
       " 'event_code',\n",
       " 'game_time',\n",
       " 'title',\n",
       " 'type',\n",
       " 'world']"
      ]
     },
     "execution_count": 6,
     "metadata": {},
     "output_type": "execute_result"
    }
   ],
   "source": [
    "all_cols = sample.columns.tolist()\n",
    "all_cols"
   ]
  },
  {
   "cell_type": "code",
   "execution_count": 7,
   "metadata": {},
   "outputs": [
    {
     "data": {
      "text/plain": [
       "{'event_code': 2000, 'event_count': 1}"
      ]
     },
     "execution_count": 7,
     "metadata": {},
     "output_type": "execute_result"
    }
   ],
   "source": [
    "json.loads(sample.event_data[0])"
   ]
  },
  {
   "cell_type": "markdown",
   "metadata": {},
   "source": [
    "## 0. event_id"
   ]
  },
  {
   "cell_type": "code",
   "execution_count": 8,
   "metadata": {},
   "outputs": [
    {
     "data": {
      "text/plain": [
       "cf82af56    438\n",
       "5e812b27    428\n",
       "1325467d    405\n",
       "b2dba42b    327\n",
       "1bb5fbdb    326\n",
       "56bcd38d    284\n",
       "0a08139c    269\n",
       "71fe8f75    268\n",
       "76babcde    223\n",
       "9ee1c98c    219\n",
       "Name: event_id, dtype: int64"
      ]
     },
     "execution_count": 8,
     "metadata": {},
     "output_type": "execute_result"
    }
   ],
   "source": [
    "sample.event_id.value_counts()[:10]"
   ]
  },
  {
   "cell_type": "markdown",
   "metadata": {},
   "source": [
    "Comments: \n",
    "- values = strings \n",
    "- Randomly generated unique identifier for the event type. Maps to event_id column in specs table."
   ]
  },
  {
   "cell_type": "markdown",
   "metadata": {},
   "source": [
    "## 1. game_session"
   ]
  },
  {
   "cell_type": "code",
   "execution_count": 9,
   "metadata": {},
   "outputs": [
    {
     "data": {
      "text/plain": [
       "f11eb823348bfa23    741\n",
       "bd0036e83bb48f02    291\n",
       "0848ef14a8dc6892    267\n",
       "b6df5bbfc96a77fe    254\n",
       "6e123d4e3fab4871    250\n",
       "ff48f8654fa01dae    243\n",
       "1c691f67ef07d047    221\n",
       "585ea3c14d101571    215\n",
       "28b2cfc5461686e6    212\n",
       "2ecc82dcd2847233    204\n",
       "Name: game_session, dtype: int64"
      ]
     },
     "execution_count": 9,
     "metadata": {},
     "output_type": "execute_result"
    }
   ],
   "source": [
    "sample.game_session.value_counts()[:10]"
   ]
  },
  {
   "cell_type": "markdown",
   "metadata": {},
   "source": [
    "Comments: \n",
    "- values = strings \n",
    "- Randomly generated unique identifier grouping events within a single game or video play session."
   ]
  },
  {
   "cell_type": "markdown",
   "metadata": {},
   "source": [
    "## 2. timestamp"
   ]
  },
  {
   "cell_type": "code",
   "execution_count": 10,
   "metadata": {},
   "outputs": [
    {
     "data": {
      "text/plain": [
       "0   2019-09-06 17:53:46.937\n",
       "1   2019-09-06 17:54:17.519\n",
       "2   2019-09-06 17:54:56.302\n",
       "3   2019-09-06 17:54:56.387\n",
       "4   2019-09-06 17:55:03.253\n",
       "5   2019-09-06 17:55:06.279\n",
       "6   2019-09-06 17:55:06.913\n",
       "7   2019-09-06 17:55:07.546\n",
       "8   2019-09-06 17:55:07.979\n",
       "9   2019-09-06 17:55:08.566\n",
       "Name: timestamp, dtype: datetime64[ns]"
      ]
     },
     "execution_count": 10,
     "metadata": {},
     "output_type": "execute_result"
    }
   ],
   "source": [
    "sample.timestamp[:10]"
   ]
  },
  {
   "cell_type": "markdown",
   "metadata": {},
   "source": [
    "Comments: \n",
    "- values = timestamps \n",
    "- Client-generated datetime"
   ]
  },
  {
   "cell_type": "markdown",
   "metadata": {},
   "source": [
    "## 3. event_data"
   ]
  },
  {
   "cell_type": "code",
   "execution_count": 11,
   "metadata": {
    "scrolled": true
   },
   "outputs": [
    {
     "data": {
      "text/plain": [
       "0               {'event_code': 2000, 'event_count': 1}\n",
       "1               {'event_code': 2000, 'event_count': 1}\n",
       "2    {'version': '1.0', 'event_count': 1, 'game_tim...\n",
       "3    {'description': 'Let's build a sandcastle! Fir...\n",
       "4    {'description': 'Let's build a sandcastle! Fir...\n",
       "5    {'coordinates': {'x': 583, 'y': 605, 'stage_wi...\n",
       "6    {'coordinates': {'x': 601, 'y': 570, 'stage_wi...\n",
       "7    {'coordinates': {'x': 250, 'y': 665, 'stage_wi...\n",
       "8    {'coordinates': {'x': 279, 'y': 629, 'stage_wi...\n",
       "9    {'coordinates': {'x': 839, 'y': 654, 'stage_wi...\n",
       "Name: event_data, dtype: object"
      ]
     },
     "execution_count": 11,
     "metadata": {},
     "output_type": "execute_result"
    }
   ],
   "source": [
    "sample.event_data.apply(json.loads)[0:10]"
   ]
  },
  {
   "cell_type": "code",
   "execution_count": 12,
   "metadata": {},
   "outputs": [
    {
     "data": {
      "text/plain": [
       "{'version': '1.0', 'event_count': 1, 'game_time': 0, 'event_code': 2000}"
      ]
     },
     "execution_count": 12,
     "metadata": {},
     "output_type": "execute_result"
    }
   ],
   "source": [
    "sample.event_data.apply(json.loads)[0:10][2]"
   ]
  },
  {
   "cell_type": "markdown",
   "metadata": {},
   "source": [
    "Comments: \n",
    "- values = strings representing dicts\n",
    "- apply ```json.loads``` to convert values to dicts\n",
    "- Semi-structured JSON formatted string containing the events parameters. Default fields are: event_count, event_code, and game_time; otherwise fields are determined by the event type.\n"
   ]
  },
  {
   "cell_type": "markdown",
   "metadata": {},
   "source": [
    "## 4. installation_id"
   ]
  },
  {
   "cell_type": "code",
   "execution_count": 13,
   "metadata": {},
   "outputs": [
    {
     "data": {
      "text/plain": [
       "0006a69f    3801\n",
       "0006c192    2224\n",
       "0001e90f    1357\n",
       "0016b7cc     947\n",
       "00129856     830\n",
       "0009a5a9     412\n",
       "00195df7     185\n",
       "000447c4     181\n",
       "0011edc8      63\n",
       "Name: installation_id, dtype: int64"
      ]
     },
     "execution_count": 13,
     "metadata": {},
     "output_type": "execute_result"
    }
   ],
   "source": [
    "sample.installation_id.value_counts()"
   ]
  },
  {
   "cell_type": "markdown",
   "metadata": {},
   "source": [
    "Comments: \n",
    "- values = strings \n",
    "- Randomly generated unique identifier grouping game sessions within a single installed application instance.\n"
   ]
  },
  {
   "cell_type": "markdown",
   "metadata": {},
   "source": [
    "## 5. event_count"
   ]
  },
  {
   "cell_type": "code",
   "execution_count": 14,
   "metadata": {},
   "outputs": [
    {
     "data": {
      "text/plain": [
       "1     201\n",
       "3      85\n",
       "2      85\n",
       "4      83\n",
       "5      82\n",
       "6      82\n",
       "10     81\n",
       "15     81\n",
       "7      81\n",
       "9      81\n",
       "Name: event_count, dtype: int64"
      ]
     },
     "execution_count": 14,
     "metadata": {},
     "output_type": "execute_result"
    }
   ],
   "source": [
    "sample.event_count.value_counts()[:10]"
   ]
  },
  {
   "cell_type": "markdown",
   "metadata": {},
   "source": [
    "Comments: \n",
    "- values = int\n",
    "- Incremental counter of events within a game session (offset at 1). Extracted from event_data.\n",
    "- can help us track start & end of a session???"
   ]
  },
  {
   "cell_type": "markdown",
   "metadata": {},
   "source": [
    "## 6. event_code"
   ]
  },
  {
   "cell_type": "code",
   "execution_count": 15,
   "metadata": {},
   "outputs": [
    {
     "data": {
      "text/plain": [
       "0    2000\n",
       "1    2000\n",
       "2    2000\n",
       "3    3010\n",
       "4    3110\n",
       "5    4070\n",
       "6    4070\n",
       "7    4070\n",
       "8    4070\n",
       "9    4070\n",
       "Name: event_code, dtype: int64"
      ]
     },
     "execution_count": 15,
     "metadata": {},
     "output_type": "execute_result"
    }
   ],
   "source": [
    "sample.event_code[:10]"
   ]
  },
  {
   "cell_type": "markdown",
   "metadata": {},
   "source": [
    "Comments: \n",
    "- values = int\n",
    "- Identifier of the event 'class'. Unique per game, but may be duplicated across games. E.g. event code '2000' always identifies the 'Start Game' event for all games. Extracted from event_data."
   ]
  },
  {
   "cell_type": "markdown",
   "metadata": {},
   "source": [
    "## 7. game_time"
   ]
  },
  {
   "cell_type": "code",
   "execution_count": 16,
   "metadata": {},
   "outputs": [
    {
     "data": {
      "text/plain": [
       "0        0\n",
       "1        0\n",
       "2        0\n",
       "3       53\n",
       "4     6972\n",
       "5     9991\n",
       "6    10622\n",
       "7    11255\n",
       "8    11689\n",
       "9    12272\n",
       "Name: game_time, dtype: int64"
      ]
     },
     "execution_count": 16,
     "metadata": {},
     "output_type": "execute_result"
    }
   ],
   "source": [
    "sample.game_time[:10]"
   ]
  },
  {
   "cell_type": "markdown",
   "metadata": {},
   "source": [
    "Comments: \n",
    "- values = int\n",
    "- Time in milliseconds since the start of the game session. Extracted from event_data."
   ]
  },
  {
   "cell_type": "markdown",
   "metadata": {},
   "source": [
    "## 8. title"
   ]
  },
  {
   "cell_type": "code",
   "execution_count": 17,
   "metadata": {},
   "outputs": [
    {
     "data": {
      "text/plain": [
       "['Welcome to Lost Lagoon!',\n",
       " 'Magma Peak - Level 1',\n",
       " 'Sandcastle Builder (Activity)',\n",
       " 'Scrub-A-Dub',\n",
       " 'Magma Peak - Level 2',\n",
       " 'Dino Drink',\n",
       " 'Tree Top City - Level 1',\n",
       " 'Ordering Spheres',\n",
       " 'Watering Hole (Activity)',\n",
       " 'Slop Problem']"
      ]
     },
     "execution_count": 17,
     "metadata": {},
     "output_type": "execute_result"
    }
   ],
   "source": [
    "sample.title.unique().tolist()[:10]"
   ]
  },
  {
   "cell_type": "markdown",
   "metadata": {},
   "source": [
    "Comments: \n",
    "- values = strings\n",
    "- Title of the game or video."
   ]
  },
  {
   "cell_type": "markdown",
   "metadata": {},
   "source": [
    "## 9. type"
   ]
  },
  {
   "cell_type": "code",
   "execution_count": 18,
   "metadata": {},
   "outputs": [
    {
     "data": {
      "text/plain": [
       "Activity      5332\n",
       "Game          3906\n",
       "Assessment     647\n",
       "Clip           115\n",
       "Name: type, dtype: int64"
      ]
     },
     "execution_count": 18,
     "metadata": {},
     "output_type": "execute_result"
    }
   ],
   "source": [
    "sample.type.value_counts()"
   ]
  },
  {
   "cell_type": "markdown",
   "metadata": {},
   "source": [
    "Comments: \n",
    "- values = strings\n",
    "- Media type of the game or video. Possible values are: 'Game', 'Assessment', 'Activity', 'Clip'."
   ]
  },
  {
   "cell_type": "markdown",
   "metadata": {},
   "source": [
    "## 10. world"
   ]
  },
  {
   "cell_type": "code",
   "execution_count": 19,
   "metadata": {},
   "outputs": [
    {
     "data": {
      "text/plain": [
       "MAGMAPEAK       5847\n",
       "TREETOPCITY     2876\n",
       "CRYSTALCAVES    1260\n",
       "NONE              17\n",
       "Name: world, dtype: int64"
      ]
     },
     "execution_count": 19,
     "metadata": {},
     "output_type": "execute_result"
    }
   ],
   "source": [
    "sample.world.value_counts()"
   ]
  },
  {
   "cell_type": "markdown",
   "metadata": {},
   "source": [
    "Comments: \n",
    "- values = strings\n",
    "- The section of the application the game or video belongs to. Helpful to identify the educational curriculum goals of the media. Possible values are: 'NONE' (at the app's start screen), TREETOPCITY' (Length/Height), 'MAGMAPEAK' (Capacity/Displacement), 'CRYSTALCAVES' (Weight)."
   ]
  },
  {
   "cell_type": "markdown",
   "metadata": {},
   "source": [
    "# Load Specs Data (a sample)"
   ]
  },
  {
   "cell_type": "code",
   "execution_count": 20,
   "metadata": {},
   "outputs": [],
   "source": [
    "path_specs ='../Kaggle_DSB_data/specs.csv'"
   ]
  },
  {
   "cell_type": "code",
   "execution_count": 21,
   "metadata": {},
   "outputs": [],
   "source": [
    "sample_specs = pd.read_csv(path_specs, nrows=10000)"
   ]
  },
  {
   "cell_type": "code",
   "execution_count": 22,
   "metadata": {},
   "outputs": [
    {
     "data": {
      "text/html": [
       "<div>\n",
       "<style scoped>\n",
       "    .dataframe tbody tr th:only-of-type {\n",
       "        vertical-align: middle;\n",
       "    }\n",
       "\n",
       "    .dataframe tbody tr th {\n",
       "        vertical-align: top;\n",
       "    }\n",
       "\n",
       "    .dataframe thead th {\n",
       "        text-align: right;\n",
       "    }\n",
       "</style>\n",
       "<table border=\"1\" class=\"dataframe\">\n",
       "  <thead>\n",
       "    <tr style=\"text-align: right;\">\n",
       "      <th></th>\n",
       "      <th>event_id</th>\n",
       "      <th>info</th>\n",
       "      <th>args</th>\n",
       "    </tr>\n",
       "  </thead>\n",
       "  <tbody>\n",
       "    <tr>\n",
       "      <th>0</th>\n",
       "      <td>2b9272f4</td>\n",
       "      <td>The end of system-initiated feedback (Correct)...</td>\n",
       "      <td>[{\"name\":\"game_time\",\"type\":\"int\",\"info\":\"mill...</td>\n",
       "    </tr>\n",
       "    <tr>\n",
       "      <th>1</th>\n",
       "      <td>df4fe8b6</td>\n",
       "      <td>The end of system-initiated feedback (Incorrec...</td>\n",
       "      <td>[{\"name\":\"game_time\",\"type\":\"int\",\"info\":\"mill...</td>\n",
       "    </tr>\n",
       "    <tr>\n",
       "      <th>2</th>\n",
       "      <td>3babcb9b</td>\n",
       "      <td>The end of system-initiated instruction event ...</td>\n",
       "      <td>[{\"name\":\"game_time\",\"type\":\"int\",\"info\":\"mill...</td>\n",
       "    </tr>\n",
       "    <tr>\n",
       "      <th>3</th>\n",
       "      <td>7f0836bf</td>\n",
       "      <td>The end of system-initiated instruction event ...</td>\n",
       "      <td>[{\"name\":\"game_time\",\"type\":\"int\",\"info\":\"mill...</td>\n",
       "    </tr>\n",
       "    <tr>\n",
       "      <th>4</th>\n",
       "      <td>ab3136ba</td>\n",
       "      <td>The end of system-initiated instruction event ...</td>\n",
       "      <td>[{\"name\":\"game_time\",\"type\":\"int\",\"info\":\"mill...</td>\n",
       "    </tr>\n",
       "    <tr>\n",
       "      <th>5</th>\n",
       "      <td>bbfe0445</td>\n",
       "      <td>The end of system-initiated instruction event ...</td>\n",
       "      <td>[{\"name\":\"game_time\",\"type\":\"int\",\"info\":\"mill...</td>\n",
       "    </tr>\n",
       "    <tr>\n",
       "      <th>6</th>\n",
       "      <td>bc8f2793</td>\n",
       "      <td>This event occurs when the player drops a weig...</td>\n",
       "      <td>[{\"name\":\"game_time\",\"type\":\"int\",\"info\":\"mill...</td>\n",
       "    </tr>\n",
       "    <tr>\n",
       "      <th>7</th>\n",
       "      <td>33505eae</td>\n",
       "      <td>The system-initiated instruction event occurs ...</td>\n",
       "      <td>[{\"name\":\"game_time\",\"type\":\"int\",\"info\":\"mill...</td>\n",
       "    </tr>\n",
       "    <tr>\n",
       "      <th>8</th>\n",
       "      <td>cdd22e43</td>\n",
       "      <td>This event occurs when the player drags a chic...</td>\n",
       "      <td>[{\"name\":\"game_time\",\"type\":\"int\",\"info\":\"mill...</td>\n",
       "    </tr>\n",
       "    <tr>\n",
       "      <th>9</th>\n",
       "      <td>d88e8f25</td>\n",
       "      <td>The system-initiated feedback (Incorrect) even...</td>\n",
       "      <td>[{\"name\":\"game_time\",\"type\":\"int\",\"info\":\"mill...</td>\n",
       "    </tr>\n",
       "    <tr>\n",
       "      <th>10</th>\n",
       "      <td>119b5b02</td>\n",
       "      <td>This event occurs when the player hovers the m...</td>\n",
       "      <td>[{\"name\":\"game_time\",\"type\":\"int\",\"info\":\"mill...</td>\n",
       "    </tr>\n",
       "    <tr>\n",
       "      <th>11</th>\n",
       "      <td>4b5efe37</td>\n",
       "      <td>This event occurs when the player clicks to st...</td>\n",
       "      <td>[{\"name\":\"game_time\",\"type\":\"int\",\"info\":\"mill...</td>\n",
       "    </tr>\n",
       "    <tr>\n",
       "      <th>12</th>\n",
       "      <td>15f99afc</td>\n",
       "      <td>The end of system-initiated instruction event ...</td>\n",
       "      <td>[{\"name\":\"game_time\",\"type\":\"int\",\"info\":\"mill...</td>\n",
       "    </tr>\n",
       "    <tr>\n",
       "      <th>13</th>\n",
       "      <td>3d63345e</td>\n",
       "      <td>This event occurs when the player drags a crys...</td>\n",
       "      <td>[{\"name\":\"game_time\",\"type\":\"int\",\"info\":\"mill...</td>\n",
       "    </tr>\n",
       "    <tr>\n",
       "      <th>14</th>\n",
       "      <td>47026d5f</td>\n",
       "      <td>The system-initiated feedback (Correct) event ...</td>\n",
       "      <td>[{\"name\":\"game_time\",\"type\":\"int\",\"info\":\"mill...</td>\n",
       "    </tr>\n",
       "    <tr>\n",
       "      <th>15</th>\n",
       "      <td>93edfe2e</td>\n",
       "      <td>This event occurs when the player clicks on th...</td>\n",
       "      <td>[{\"name\":\"game_time\",\"type\":\"int\",\"info\":\"mill...</td>\n",
       "    </tr>\n",
       "    <tr>\n",
       "      <th>16</th>\n",
       "      <td>795e4a37</td>\n",
       "      <td>The system-initiated instruction event occurs ...</td>\n",
       "      <td>[{\"name\":\"game_time\",\"type\":\"int\",\"info\":\"mill...</td>\n",
       "    </tr>\n",
       "    <tr>\n",
       "      <th>17</th>\n",
       "      <td>56817e2b</td>\n",
       "      <td>The beat round event is triggered when the pla...</td>\n",
       "      <td>[{\"name\":\"game_time\",\"type\":\"int\",\"info\":\"mill...</td>\n",
       "    </tr>\n",
       "    <tr>\n",
       "      <th>18</th>\n",
       "      <td>a1e4395d</td>\n",
       "      <td>The system-initiated instruction event occurs ...</td>\n",
       "      <td>[{\"name\":\"game_time\",\"type\":\"int\",\"info\":\"mill...</td>\n",
       "    </tr>\n",
       "    <tr>\n",
       "      <th>19</th>\n",
       "      <td>3afde5dd</td>\n",
       "      <td>The system-initiated feedback (Correct) event ...</td>\n",
       "      <td>[{\"name\":\"game_time\",\"type\":\"int\",\"info\":\"mill...</td>\n",
       "    </tr>\n",
       "  </tbody>\n",
       "</table>\n",
       "</div>"
      ],
      "text/plain": [
       "    event_id                                               info                                               args\n",
       "0   2b9272f4  The end of system-initiated feedback (Correct)...  [{\"name\":\"game_time\",\"type\":\"int\",\"info\":\"mill...\n",
       "1   df4fe8b6  The end of system-initiated feedback (Incorrec...  [{\"name\":\"game_time\",\"type\":\"int\",\"info\":\"mill...\n",
       "2   3babcb9b  The end of system-initiated instruction event ...  [{\"name\":\"game_time\",\"type\":\"int\",\"info\":\"mill...\n",
       "3   7f0836bf  The end of system-initiated instruction event ...  [{\"name\":\"game_time\",\"type\":\"int\",\"info\":\"mill...\n",
       "4   ab3136ba  The end of system-initiated instruction event ...  [{\"name\":\"game_time\",\"type\":\"int\",\"info\":\"mill...\n",
       "5   bbfe0445  The end of system-initiated instruction event ...  [{\"name\":\"game_time\",\"type\":\"int\",\"info\":\"mill...\n",
       "6   bc8f2793  This event occurs when the player drops a weig...  [{\"name\":\"game_time\",\"type\":\"int\",\"info\":\"mill...\n",
       "7   33505eae  The system-initiated instruction event occurs ...  [{\"name\":\"game_time\",\"type\":\"int\",\"info\":\"mill...\n",
       "8   cdd22e43  This event occurs when the player drags a chic...  [{\"name\":\"game_time\",\"type\":\"int\",\"info\":\"mill...\n",
       "9   d88e8f25  The system-initiated feedback (Incorrect) even...  [{\"name\":\"game_time\",\"type\":\"int\",\"info\":\"mill...\n",
       "10  119b5b02  This event occurs when the player hovers the m...  [{\"name\":\"game_time\",\"type\":\"int\",\"info\":\"mill...\n",
       "11  4b5efe37  This event occurs when the player clicks to st...  [{\"name\":\"game_time\",\"type\":\"int\",\"info\":\"mill...\n",
       "12  15f99afc  The end of system-initiated instruction event ...  [{\"name\":\"game_time\",\"type\":\"int\",\"info\":\"mill...\n",
       "13  3d63345e  This event occurs when the player drags a crys...  [{\"name\":\"game_time\",\"type\":\"int\",\"info\":\"mill...\n",
       "14  47026d5f  The system-initiated feedback (Correct) event ...  [{\"name\":\"game_time\",\"type\":\"int\",\"info\":\"mill...\n",
       "15  93edfe2e  This event occurs when the player clicks on th...  [{\"name\":\"game_time\",\"type\":\"int\",\"info\":\"mill...\n",
       "16  795e4a37  The system-initiated instruction event occurs ...  [{\"name\":\"game_time\",\"type\":\"int\",\"info\":\"mill...\n",
       "17  56817e2b  The beat round event is triggered when the pla...  [{\"name\":\"game_time\",\"type\":\"int\",\"info\":\"mill...\n",
       "18  a1e4395d  The system-initiated instruction event occurs ...  [{\"name\":\"game_time\",\"type\":\"int\",\"info\":\"mill...\n",
       "19  3afde5dd  The system-initiated feedback (Correct) event ...  [{\"name\":\"game_time\",\"type\":\"int\",\"info\":\"mill..."
      ]
     },
     "execution_count": 22,
     "metadata": {},
     "output_type": "execute_result"
    }
   ],
   "source": [
    "sample_specs.head(20)"
   ]
  },
  {
   "cell_type": "code",
   "execution_count": 23,
   "metadata": {},
   "outputs": [
    {
     "name": "stdout",
     "output_type": "stream",
     "text": [
      "The end of system-initiated feedback (Correct) event occurs when the game finishes delivering feedback to the player in response to a correct round attempt (pressing the go button with the correct answer). It contains information that describes the duration and content of the instruction, and will likely occur in conjunction with a beat round event. These events are used to determine the effectiveness of the feedback. We can answer questions like, \"how much time elapsed while the game was presenting feedback?\"\n",
      "\n",
      "The end of system-initiated feedback (Incorrect) event occurs when the game finishes delivering feedback to the player in response to an incorrect round attempt (pressing the go button with the incorrect answer). It contains information that describes the content of the instruction. These events are used to determine the effectiveness of the feedback. We can answer questions like, \"how much time elapsed while the game was presenting feedback?\"\n",
      "\n",
      "The end of system-initiated instruction event occurs when the game finishes delivering instructions to the player. It contains information that describes the content of the instruction including duration. These events are used to determine the effectiveness of the instructions and the amount of time they consume. We can answer questions like, \"how much time elapsed while the game was presenting instruction?\"\n",
      "\n",
      "The end of system-initiated instruction event occurs when the game finishes delivering instructions to the player. It contains information that describes the content of the instruction including duration. These events are used to determine the effectiveness of the instructions and the amount of time they consume. We can answer questions like \"how much time elapsed while the game was presenting instruction?\"\n",
      "\n",
      "This event occurs when the player drops a weight from the resource table to someplace other than the pan balance (including back on the table). It contains information about the destination and the state of the game. This event is used to diagnose player strategies and understanding.\n",
      "\n",
      "The system-initiated instruction event occurs when the game delivers instructions to the player. It contains information that describes the content of the instruction. This event differs from events 3020 and 3021 as it captures instructions that are not given in response to player action. These events are used to determine the effectiveness of the instructions. We can answer questions like \"did players who received instruction X do better than those who did not?\"\n",
      "\n",
      "This event occurs when the player drags a chicken or pig to someplace other than an acceptable destination for the chicken or pig. It contains information about the pig or chicken being moved and the destination. The event should occur when the drag is released and the pig or chicken is placed.\n",
      "\n",
      "The system-initiated feedback (Incorrect) event occurs when the game starts delivering feedback to the player in response to an incorrect round attempt (pressing the go button with the incorrect answer). It contains information that describes the content of the instruction. These events are used to determine the effectiveness of the feedback. We can answer questions like, \"did players who received feedback X do better than those who did not?\"\n",
      "\n",
      "This event occurs when the player hovers the mouse over an interactive object. It contains information about the object under the mouse and the duration of the hover. This event can be used to diagnose things like planning (are they hovering the mouse over tiles for long periods before they use those tiles) and determine which objects the player thinks are important.\n",
      "\n",
      "This event occurs when the player clicks to start the game from the starting screen.\n",
      "\n",
      "This event occurs when the player drags a crystal from the resources to someplace other than the mine carts. It contains information about the chest being moved and the destination. The event should occur when the drag is released and the crystal is placed. These events are used to diagnose player strategies and understanding.\n",
      "\n",
      "The system-initiated feedback (Correct) event occurs when the game starts delivering feedback to the player in response to a correct round attempt (pressing the go button with the correct answer). It contains information that describes the content of the instruction and will likely occur in conjunction with a beat round event. These events are used to determine the effectiveness of the feedback. We can answer questions like \"did players who received feedback X do better than those who did not?\"\n",
      "\n",
      "This event occurs when the player clicks on the help button. It contains information about the state of the game that caused the player to seek help. This event is usually followed by a 3010 (system-initiated instruction) event. It helps identify points that players feel are too difficult.\n",
      "\n",
      "The system-initiated instruction event occurs when the game delivers instructions to the player. It contains information that describes the content of the instruction. This event differs from events 3020 and 3021 as it captures instructions that are not given in response to player action. These events are used to determine the effectiveness of the instructions. We can answer questions like, \"did players who received instruction X do better than those who did not?\"\n",
      "\n",
      "The beat round event is triggered when the player finishes a round by correctly balancing the scale and clicking the submit button. This event is used for calculating time spent in a round (for speed and accuracy) attempts at solving a round and the number of rounds the player has completed (completion).\n",
      "\n",
      "This event occurs when the player hovers the mouse over an interactive object. It contains information about the object under the mouse, and the duration of the hover. This event can be used to diagnose things like planning (are they hovering the mouse over tiles for long periods before they use those tiles), and determine which objects the player thinks are important.\n",
      "\n",
      "The start game event is triggered at the very beginning of the game (after the game finishes loading, don’t wait for intro movie to finish). This is used to compute things like time spent in game.\n",
      "\n",
      "The movie started event triggers when an intro or outro movie starts to play. It identifies the movie being played. This is used to determine how long players spend watching the movies (more relevant after the first play through when the skip option is available).\n",
      "\n",
      "The system-initiated feedback (Incorrect) event occurs when the game starts delivering feedback to the player in response to an incorrect round attempt (pressing the go button with the incorrect answer). It contains information that describes the content of the instruction. These events are used to determine the effectiveness of the feedback. We can answer questions like, “did players who received feedback X do better than those who did not?”\n",
      "\n",
      "The beat round event is triggered when the player finishes a round by successfully placing the cauldrons and submitting the solution and when the player finishes a round by successfully selecting the specified cauldron. This event is used for calculating time spent in a round (for speed and accuracy), attempts at solving a round, and the number of rounds the player has completed (completion).\n",
      "\n",
      "The start game event is triggered at the very beginning of the level (after the game finishes loading, don't wait for intro movie to finish). This is used to compute things like time spent in game.\n",
      "\n",
      "The start round event is triggered at the start of a round when the player is to arrange the mushrooms on the stumps. There is only one round per playthrough? This event provides information about the game characteristics of the round (i.e. resources, objectives, setup). It is used in calculating things like time spent in a round (for speed and accuracy), attempts at solving a round, and the number of rounds the player has visited (exposures).\n",
      "\n",
      "The system-initiated feedback (Correct) event occurs when the game starts delivering feedback to the player in response to a correct round attempt (pressing the go button with the correct answer). It contains information that describes the content of the instruction, and will likely occur in conjunction with a beat round event. These events are used to determine the effectiveness of the feedback. We can answer questions like, \"did players who received feedback X do better than those who did not?\"\n",
      "\n",
      "This event occurs when the player places a hat on one of the birds. It contains information about the hat that was placed, the correctness of the action, and where the placement occurred. This event is used to calculate accuracy and to diagnose player strategies and understanding.\n",
      "\n",
      "This event occurs when the player clicks on something that isn't covered elsewhere. It can be useful in determining if there are attractive distractions (things the player think should do something, but don't) in the game, or diagnosing players who are having mechanical difficulties (near misses).\n",
      "\n",
      "This event occurs when the player drags a dinosaur from the resources to someplace other than the hiding spots in the play area. It contains information about the character being moved, the destination, and the state of the game area. This event is used to diagnose player strategies and understanding.\n",
      "\n",
      "This event occurs when the player places a bucket under one of the cauldrons. It contains information about the bucket that was placed, the correctness of the action, and where the placement occurred. This event is used to calculate accuracy and to diagnose player strategies and understanding.\n",
      "\n",
      "This event occurs when the player clicks to pick up or begins dragging a bowl. It contains information about the bowl being moved and the state of the game area. This event is used to diagnose player strategies and understanding.\n",
      "\n",
      "The exit game event is triggered when the game is quit. This is used to compute things like time spent in game. Depending on platform this may / may not be possible. NOTE: “quit” also means navigating away from game.\n",
      "\n",
      "The system-initiated instruction event occurs when the game delivers instructions to the player. It contains information that describes the content of the instruction. This event differs from events 3020 and 3021 as it captures instructions that are not given in response to player action. These events are used to determine the effectiveness of the instructions. We can answer questions like, “did players who received instruction X do better than those who did not?”\n",
      "\n",
      "This event occurs when the player picks up a chest by clicking on it, or begins dragging a chest. It contains information about the chest that was picked up and the position of the chest. This event is used to calculate accuracy and to diagnose player strategies and understanding.\n",
      "\n",
      "The start round event is triggered at the start of a round when the player is prompted to balance the mine carts. There is only one round per playthrough. This event provides information about the game characteristics of the round (i.e. resources, objectives, setup). It is used in calculating things like time spent in a round (for speed and accuracy), attempts at solving a round, and the number of rounds the player has visited (exposures).\n",
      "\n",
      "This event occurs when the player clicks a rock on one of the gates. It contains information about the rock that was clicked and where the click occurred.\n",
      "\n",
      "The beat round event is triggered when the player skips the tutorial by clicking on the skip button. This event is used for calculating time spent in the tutorial.\n",
      "\n",
      "This event occurs when the player places a mushroom on one of the three stumps. It contains information about the mushroom that was placed, the correctness of the action, and where the placement occurred. This event is used to calculate accuracy and to diagnose player strategies and understanding.\n",
      "\n",
      "This event occurs when the player picks up a chicken or pig by clicking on it, or begins dragging a chicken or pig. It contains information about the object that was picked up and the position of the click.\n",
      "\n",
      "This event occurs when the player on the done button to submit a solution. It contains information about the crystals placed in the carts and the correctness of the action. This event is used to calculate accuracy and to diagnose player strategies and understanding.\n",
      "\n",
      "The end of system-initiated feedback (Correct) event occurs when the game finishes delivering feedback to the player in response to a correct round attempt (pressing the go button with the correct answer). It contains information that describes the duration and content of the instruction and will likely occur in conjunction with a beat round event. These events are used to determine the effectiveness of the feedback. We can answer questions like \"how much time elapsed while the game was presenting feedback?\"\n",
      "\n",
      "This event occurs when the player clicks on the green check button. It contains information about the weights on the scale the state of the game and the correctness of the action. This event is used to diagnose player strategies and understanding.\n",
      "\n",
      "The end of system-initiated feedback (Incorrect) event occurs when the game finishes delivering feedback to the player in response to an incorrect round attempt (pressing the go button with the incorrect answer). It contains information that describes the content of the instruction. These events are used to determine the effectiveness of the feedback. We can answer questions like, how much time elapsed while the game was presenting feedback?\"\"\n",
      "\n",
      "The end of system-initiated feedback (Incorrect) event occurs when the game finishes delivering feedback to the player in response to an incorrect round attempt (pressing the go button with the incorrect answer). It contains information that describes the content of the instruction. These events are used to determine the effectiveness of the feedback. We can answer questions like \"how much time elapsed while the game was presenting feedback?\"\n",
      "\n",
      "This event occurs when the player clicks on the play again button.\n",
      "\n",
      "This event occurs when the player places a chest on one of the three pillars. It contains information about the chest that was placed, the correctness of the action, and where the placement occurred. This event is used to calculate accuracy and to diagnose player strategies and understanding.\n",
      "\n",
      "The system-initiated feedback (Incorrect) event occurs when the game starts delivering feedback to the player in response to an incorrect round attempt (pressing the go button with the incorrect answer). It contains information that describes the content of the instruction. These events are used to determine the effectiveness of the feedback. We can answer questions like, did players who received feedback X do better than those who did not?\"\"\n",
      "\n",
      "The start round event is triggered at the start of the game. It contains information about the layout of the activity.\n",
      "\n",
      "The system-initiated feedback (Correct) event occurs when the game starts delivering feedback to the player in response to a correct round attempt (pressing the go button with the correct answer). It contains information that describes the content of the instruction, and will likely occur in conjunction with a beat round event. These events are used to determine the effectiveness of the feedback. We can answer questions like, did players who received feedback X do better than those who did not?\"\"\n",
      "\n",
      "This event occurs when the player clicks on a filled bucket when prompted to select a bucket. It contains information about the bucket that was clicked and the correctness of the action. This event is used to calculate accuracy and to diagnose player strategies and understanding.\n",
      "\n",
      "The beat round event is triggered when the player finishes a round. This event is used for calculating time spent in a round (for speed and accuracy), attempts at solving a round, and the number of rounds the player has completed (completion).\n",
      "\n",
      "The beat round event is triggered when the player finishes a round by correctly arranging the mushrooms and submitting the solution. This event is used for calculating time spent in a round (for speed and accuracy), attempts at solving a round, and the number of rounds the player has completed (completion).\n",
      "\n",
      "This event occurs when the player clicks on something that isn’t covered elsewhere. It can be useful in determining if there are attractive distractions (things the player think should do something, but don’t) in the game, or diagnosing players who are having mechanical difficulties (near misses).\n",
      "\n",
      "The start round event is triggered at the start of a round when a new arrangement of dinosaurs and houses is presented. This event provides information about the game characteristics of the round (i.e. resources, objectives, setup). It is used in calculating things like time spent in a round (for speed and accuracy), attempts at solving a round, and the number of rounds the player has visited (exposures).\n",
      "\n",
      "This event occurs when the player clicks on the go button to trigger the dinosaur to fly. It contains information about the distance selected, the correctness of the action, and where the click occurred. This event is used to calculate accuracy and to diagnose player strategies and understanding.\n",
      "\n",
      "The start round event is triggered at the start of a round when the player is prompted to place the cauldrons and when the player is prompted to select a certain cauldron. This event provides information about the game characteristics of the round (i.e. resources, objectives, setup). It is used in calculating things like time spent in a round (for speed and accuracy), attempts at solving a round, and the number of rounds the player has visited (exposures).\n",
      "\n",
      "This event occurs when the player drags a bucket to the resource area. It contains information about the bucket being moved. The event should occur when the drag is released and the bucket is placed. These events are used to diagnose player strategies and understanding.\n",
      "\n",
      "The beat round event is triggered when the player finishes a round by successfully balancing the carts and submitting the solution. This event is used for calculating time spent in a round (for speed and accuracy), attempts at solving a round, and the number of rounds the player has completed (completion).\n",
      "\n",
      "This event occurs when the player places a bowl of snacks on the plate. It contains information about the bowl that was placed where the bowl was picked up from and the correctness of the action. This event is used to diagnose player strategies and understanding.\n",
      "\n",
      "The beat level event is triggered when a level has been completed and the player has cleared all rounds in the current layout (occurs at the same time as the beat round event for the last round in the previous level). This event is used for calculating time spent in a level (for speed and accuracy), and the number of levels the player has completed (completion).\n",
      "\n",
      "This event occurs when the player drags a bug to someplace other than an acceptable destination for the bug. It contains information about the rock being moved and the destination. The event should occur when the drag is released and the rock is placed.\n",
      "\n",
      "This event occurs when the player clicks on one of the options of object amounts. It contains information about the option that was clicked, the correctness of the option, and where the click occurred. This event is used to calculate accuracy and to diagnose player strategies and understanding.\n",
      "\n",
      "This event occurs when the player clicks on something that isn't covered elsewhere. It can be useful in determining if there are attractive distractions (things the player think should do something but don't) in the game or diagnosing players who are having mechanical difficulties (near misses).\n",
      "\n",
      "This event occurs when the player clicks on one of the dinosaurs. It contains information about the the state of the game and the correctness of the action. This event is used to diagnose player strategies and understanding.\n",
      "\n",
      "The reset dinosaurs event is triggered when the player has placed the last dinosaur, but not all dinosaurs are in the correct position. This event provides information about the game characteristics of the round (i.e. resources, objectives, setup). It is used to indicate a significant change in state during play.\n",
      "\n",
      "The beat round event is triggered when the player finishes a round by filling the jar. This event is used for calculating time spent in a round and the number of rounds the player has completed (completion).\n",
      "\n",
      "The start level event is triggered when a new level begins (at the same time as the start round event for the first round in the level). This event is used for calculating time spent in a level (for speed and accuracy), and the number of levels the player has completed (completion).\n",
      "\n",
      "The beat round event is triggered when the player finishes the tutorial. This event is used for calculating time spent in the tutorial.\n",
      "\n",
      "This event occurs when the dinosaurs finish draining the pool. This event is to identify a change in the state of the game.\n",
      "\n",
      "This event occurs when the player drags a castle or the shovel to someplace other than an acceptable destination for the castle or shovel. It contains information about the castle being moved and the destination. The event should occur when the drag is released and the castle or shovel is placed.\n",
      "\n",
      "This event occurs when the player places a crystal in a mine cart. It contains information about the crystal that was placed and where the placement occurred. This event is used to calculate accuracy and to diagnose player strategies and understanding.\n",
      "\n",
      "This event occurs when the player places a castle in the play area. It contains information about the castle that was placed and where the placement occurred.\n",
      "\n",
      "This event occurs when the player chooses a number of containers from the options. It contains information about the choice, and the correctness of the action. This event is used to diagnose player strategies and understanding.\n",
      "\n",
      "The system-initiated feedback (Incorrect) event occurs when the game starts delivering feedback to the player in response to an incorrect round attempt (pressing the go button with the incorrect answer). It contains information that describes the content of the instruction. These events are used to determine the effectiveness of the feedback. We can answer questions like \"did players who received feedback X do better than those who did not?\"\n",
      "\n",
      "The start game event is triggered at the very beginning of the level (after the game finishes loading don't wait for intro movie to finish). This is used to compute things like time spent in game.\n",
      "\n",
      "This event occurs when the player drags a hat to someplace other than an acceptable destination for the hat. It contains information about the hat being moved and the destination. The event should occur when the drag is released and the hat is placed. These events are used to diagnose player strategies and understanding.\n",
      "\n",
      "This event occurs when the player on the done button to submit a solution. It contains information about the length of caterpillars dragged and the correctness of the action. This event is used to calculate accuracy and to diagnose player strategies and understanding.\n",
      "\n",
      "This event occurs when the player clicks on the container icon to fill the tub. It contains information about the state of the game area.\n",
      "\n",
      "This event occurs when the player drags a crystal from the cart to the resource area. It contains information about the crystal being moved and the destination. The event should occur when the drag is released and the crystal is placed. These events are used to diagnose player strategies and understanding.\n",
      "\n",
      "This event occurs when the player on the done button to submit a solution. It contains information about the mushrooms placed on the stumps and the correctness of the action. This event is used to calculate accuracy and to diagnose player strategies and understanding.\n",
      "\n",
      "The end tutorial event is triggered when the player finishes the tutorial. This event is used for calculating time spent in the tutorial.\n",
      "\n",
      "This event occurs when the player clicks on the character that provides a hint (Sorry, I don't know his name). It contains information about the state of the game when the player chooses to seek help. This event is usually followed by a 3010 (system-initiated instruction) event. It helps identify points that players feel are too difficult.\n",
      "\n",
      "This event occurs when the player drags a chest to someplace other than an acceptable destination for the chest. It contains information about the chest being moved and the destination. The event should occur when the drag is released and the chest is placed. These events are used to diagnose player strategies and understanding.\n",
      "\n",
      "This event occurs when the player clicks to pick up or begins dragging a dinosaur in the resource bin. It contains information about the dinosaur being moved, the position of the click, and the state of the game area. This event is used to diagnose player strategies and understanding.\n",
      "\n",
      "This event occurs when the player picks up a bug by clicking on it, or begins dragging a bug. It contains information about the bug that was picked up and the position of the click.\n",
      "\n",
      "This event occurs when the player on the done button to submit a solution. It contains information about the chests placed on the pillars and the correctness of the action. This event is used to calculate accuracy and to diagnose player strategies and understanding.\n",
      "\n",
      "The movie ended event triggers when an intro or outro movie ends. It identifies the movie being played. This is used to determine how long players spend watching the movies (more relevant after the first play through when the skip option is available).\n",
      "\n",
      "The beat round event is triggered when the player finishes a round. This event is used for calculating time spent in a round (for speed and accuracy) attempts at solving a round and the number of rounds the player has completed (completion).\n",
      "\n",
      "This event occurs when the player drags a line from a rocket. It contains information about the rocket that was dragged and the height of the drag.\n",
      "\n",
      "This event occurs when the player drags a bottle to someplace other than an acceptable destination for the bottle. It contains information about the bottle being moved and the destination. The event should occur when the drag is released and the bottle is placed.\n",
      "\n",
      "The start round event is triggered at the start of a round. This event provides information about the game characteristics of the round (i.e. resources, objectives, setup). It is used in calculating things like time spent in a round (for speed and accuracy), attempts at solving a round, and the number of rounds the player has visited (exposures).\n",
      "\n",
      "This event occurs when the player picks up a bucket by clicking on it, or begins dragging a bucket. It contains information about the bucket that was picked up and the position of the click.\n",
      "\n",
      "The movie skipped event triggers when the player presses the skip button during an intro or outro movie. It identifies the movie being played. This is used to determine how long players spend watching the movies (more relevant after the first play through when the skip option is available).\n",
      "\n",
      "The start round event is triggered at the start of a round when the player is prompted to fill a jar. It is used in calculating things like time spent in a round and the number of rounds the player has visited (exposures).\n",
      "\n",
      "This event occurs when the player drags a hat to the resource area. It contains information about the hat being moved. The event should occur when the drag is released and the hat is placed. These events are used to diagnose player strategies and understanding.\n",
      "\n",
      "This event occurs when the player drags the object below the crystal. It occurs when the drag has finished. This event is used to diagnose player strategies and understanding.\n",
      "\n",
      "The start round event is triggered at the start of a round when a new dinosaur and food resources are presented. This event provides information about the game characteristics of the round (i.e. resources objectives setup). It is used in calculating things like time spent in a round (for speed and accuracy) attempts at solving a round and the number of rounds the player has visited (exposures).\n",
      "\n",
      "This event occurs when the player finishes dragging a toy to a new location. It contains information about the toy being moved and the destination.\n",
      "\n",
      "The start round event is triggered at the start of a round when the player is prompted to weigh and arrange the chests. There is only one round per playthrough. This event provides information about the game characteristics of the round (i.e. resources, objectives, setup). It is used in calculating things like time spent in a round (for speed and accuracy), attempts at solving a round, and the number of rounds the player has visited (exposures).\n",
      "\n",
      "The start filling tub event is triggered after a round completes and the user is prompted to fill up the tub. It is used to separate a section of gameplay that is different from the estimation section of the game.\n",
      "\n",
      "This event occurs when the player places sand in one of the molds. It contains information about the mold that was filled and where the click occurred.\n",
      "\n",
      "This event occurs when the player fills in one of the clouds partially. It contains information about the cloud that was filled.\n",
      "\n",
      "The skip tutorial event is triggered when the player skips the tutorial by clicking on the skip button. This event is used for calculating time spent in the tutorial.\n",
      "\n",
      "This event occurs when the player drops the watering can. It contains information about the location of the placement.\n",
      "\n",
      "The end of system-initiated feedback (Correct) event occurs when the game finishes delivering feedback to the player in response to a correct round attempt (pressing the go button with the correct answer). It contains information that describes the duration and content of the instruction, and will likely occur in conjunction with a beat round event. These events are used to determine the effectiveness of the feedback. We can answer questions like, how much time elapsed while the game was presenting feedback?\"\"\n",
      "\n",
      "This event occurs when the player drags a chest to the resource area. It contains information about the chest being moved. The event should occur when the drag is released and the chest is placed. These events are used to diagnose player strategies and understanding.\n",
      "\n",
      "This event occurs when the player drags one of the caterpillars to measure a bird. It contains information about the caterpillar that was dragged and where the click occurred. The event should occur when the drag is released and the caterpillar’s size is set.\n",
      "\n",
      "This event occurs when the player places a chicken on the see-saw. It contains information about the state of the see-saw and where the placement occurred.\n",
      "\n",
      "The finished round event is triggered when the player finishes a round (hit milestone). This event is used for calculating time spent in a round, and the number of rounds the player has completed (completion).\n",
      "\n",
      "This event occurs when the player places a piece of food on the scale. It contains information about the food that was placed the correctness of the action and where the placement occurred. This event is used to diagnose player strategies and understanding.\n",
      "\n",
      "This event occurs when the player places a dinosaur in a house. It contains information about the dinosaur that was placed, the correctness of the action, and where the placement occurred. This event is used to diagnose player strategies and understanding.\n",
      "\n",
      "This event occurs when the player drags a mushroom to someplace other than an acceptable destination for the mushroom. It contains information about the mushroom being moved and the destination. The event should occur when the drag is released and the mushroom is placed. These events are used to diagnose player strategies and understanding.\n",
      "\n",
      "This event occurs when the player picks up a mushroom by clicking on it, or begins dragging a mushroom. It contains information about the mushroom that was picked up and the position of the mushroom. This event is used to calculate accuracy and to diagnose player strategies and understanding.\n",
      "\n",
      "This event occurs when the player clicks on the character that provides a hint (Sorry I don't know his name). It contains information about the state of the game when the player chooses to seek help. This event is usually followed by a 3010 (system-initiated instruction) event. It helps identify points that players feel are too difficult.\n",
      "\n",
      "The start round event is triggered at the start of a round. This event provides information about the game characteristics of the round (i.e. resources objectives setup). It is used in calculating things like time spent in a round (for speed and accuracy) attempts at solving a round and the number of rounds the player has visited (exposures).\n",
      "\n",
      "This event occurs when the player drags a piece of food from the resources to someplace other than the scale in the play area. It contains information about the food being moved the destination and the state of the game area. This event is used to diagnose player strategies and understanding.\n",
      "\n",
      "This event occurs when the player clicks on one of the watering holes while holding a shell filled with water. It contains information about the state of the game and the correctness of the action. This event is used to diagnose player strategies and understanding.\n",
      "\n",
      "This event occurs when the player drags a bowl to the scale. It contains information about the bowl being moved the destination and the state of the game area. This event is used to diagnose player strategies and understanding.\n",
      "\n",
      "This event occurs when the player clicks on the button that provides a hint. It contains information about the state of the game when the player chooses to seek help. This event is usually followed by a 3010 (system-initiated instruction) event. It helps identify points that players feel are too difficult.\n",
      "\n",
      "This event occurs when the player drags a bowl to someplace other than the scale or plate in the play area. It contains information about the bowl being moved the destination and the state of the game area. This event is used to diagnose player strategies and understanding.\n",
      "\n",
      "This event occurs when the player picks up a crystal by clicking on it, or begins dragging a crystal. It contains information about the chest that was picked up and the position of the chest. This event is used to calculate accuracy and to diagnose player strategies and understanding.\n",
      "\n",
      "The end of system-initiated instruction event occurs when the game finishes delivering instructions to the player. It contains information that describes the content of the instruction including duration. These events are used to determine the effectiveness of the instructions and the amount of time they consume. We can answer questions like, “how much time elapsed while the game was presenting instruction?”\n",
      "\n",
      "The start round event is triggered at the start of each round. There is only one round per playthrough. This event provides information about the game characteristics of the round (i.e. resources, objectives, setup). It is used in calculating things like time spent in a round (for speed and accuracy), attempts at solving a round, and the number of rounds the player has visited (exposures).\n",
      "\n",
      "This event occurs when the player clicks on one of the dinosaurs. It contains information about the state of the game and the correctness of the action. This event is used to diagnose player strategies and understanding.\n",
      "\n",
      "The exit game event is triggered when the game is quit. This is used to compute things like time spent in game. Depending on platform this may / may not be possible. NOTE: quit also means navigating away from game.\n",
      "\n",
      "This event occurs when the player pours the contents of one of the bottles into the jar. It contains information about the bottle that was poured and where the state of the jar.\n",
      "\n",
      "The end of system-initiated feedback (Incorrect) event occurs when the game finishes delivering feedback to the player in response to an incorrect round attempt (pressing the go button with the incorrect answer). It contains information that describes the content of the instruction. These events are used to determine the effectiveness of the feedback. We can answer questions like, “how much time elapsed while the game was presenting feedback?”\n",
      "\n",
      "This event is triggered when the player clicks the GO button during the tutorial phase. There are no right or wrong answers, only the distance travelled is collected\n",
      "\n",
      "The system-initiated instruction event occurs when the game delivers instructions to the player. It contains information that describes the content of the instruction. This event differs from events 3020 and 3021 as it captures instructions that are not given in response to player action. These events are used to determine the effectiveness of the instructions. We can answer questions like, did players who received instruction X do better than those who did not?\"\"\n",
      "\n",
      "This event occurs when the player begins dragging from rocket. It contains information about the rocket that was dragged from and the position of the click.\n",
      "\n",
      "This event occurs when the player drops a weight on the pan balance. It contains information about the weight being dropped the state of the game and the correctness of the action. This event is used to diagnose player strategies and understanding.\n",
      "\n",
      "The beat round event is triggered when the player finishes a round by correctly placing all presented dinosaurs. This event is used for calculating time spent in a round (for speed and accuracy), attempts at solving a round, and the number of rounds the player has completed (completion).\n",
      "\n",
      "This event occurs when the player on the done button to submit a solution. It contains information about the hats placed on the birds and the correctness of the action. This event is used to calculate accuracy and to diagnose player strategies and understanding.\n",
      "\n",
      "This event occurs when the player clicks on the button to play again.\n",
      "\n",
      "The system-initiated feedback (Correct) event occurs when the game starts delivering feedback to the player in response to a correct round attempt (pressing the go button with the correct answer). It contains information that describes the content of the instruction, and will likely occur in conjunction with a beat round event. These events are used to determine the effectiveness of the feedback. We can answer questions like, “did players who received feedback X do better than those who did not?”\n",
      "\n",
      "This event occurs when the player on the done button to submit a solution. It contains information about the buckets placed under the cauldrons and the correctness of the action. This event is used to calculate accuracy and to diagnose player strategies and understanding.\n",
      "\n",
      "This event occurs when the player clicks on an item on the shelf of items. It contains information about the item that was clicked, the correctness of the action, and where the action occurred. This event is used to calculate accuracy and to diagnose player strategies and understanding.\n",
      "\n",
      "This event occurs when the player clicks on the bird to trigger dropping an egg. It contains information about where the click occurred.\n",
      "\n",
      "This event occurs when the player places a flower in the basket. It contains information about the state of the flowers and the location of the placement.\n",
      "\n",
      "This event occurs when the player clicks a group of objects. It contains information about the group clicked, the state of the game, and the correctness of the action. This event is used to diagnose player strategies and understanding.\n",
      "\n",
      "The exit game event is triggered when the game is quit. This is used to compute things like time spent in game. Depending on platform this may / may not be possible. NOTE: \"quit\" also means navigating away from game.\n",
      "\n",
      "This event occurs when the player places a pig on the see-saw. It contains information about the state of the see-saw and where the placement occurred.\n",
      "\n",
      "This event occurs when the player puts the watering can down after watering flowers or after a 1 second period of inactivity while watering flowers (inactive timer should start only if flowers actually grow). It contains information about the state of the flowers.\n",
      "\n",
      "This event occurs when the player clicks to pick up or begins dragging a bath toy. It contains information about the toy being moved, and the position of the click.\n",
      "\n",
      "The end of system-initiated feedback (Correct) event occurs when the game finishes delivering feedback to the player in response to a correct round attempt (pressing the go button with the correct answer). It contains information that describes the duration and content of the instruction, and will likely occur in conjunction with a beat round event. These events are used to determine the effectiveness of the feedback. We can answer questions like, “how much time elapsed while the game was presenting feedback?”\n",
      "\n",
      "The start game event is triggered at the very beginning of the game (after the game finishes loading, don't wait for intro movie to finish). It includes information on the current version of the game loaded. This is used to compute things like time spent in game.\n",
      "\n",
      "This event occurs when the player picks up the watering can or a flower, or begins dragging the watering can or flower. It contains information about the flower that was picked up and the position of the click.\n",
      "\n",
      "The start picking mushrooms event is triggered when the player is prompted to pick mushrooms. This event indicates a section of gameplay separate from the arranging section of gameplay.\n",
      "\n",
      "This event occurs when the player picks up a hat or caterpillar by clicking on it, or begins dragging a hat or caterpillar. It contains information about the hat or caterpillar that was picked up and the position of the click.\n",
      "\n",
      "This event occurs when the player drags a bowl from the scale to the resources. It contains information about the bowl being moved and the state of the game area. This event is used to diagnose player strategies and understanding.\n",
      "\n",
      "This event occurs when the player drags a mushroom to the resource area. It contains information about the mushroom being moved. The event should occur when the drag is released and the mushroom is placed. These events are used to diagnose player strategies and understanding.\n",
      "\n",
      "The end of system-initiated instruction event occurs when the game finishes delivering instructions to the player. It contains information that describes the content of the instruction including duration. These events are used to determine the effectiveness of the instructions and the amount of time they consume. We can answer questions like, how much time elapsed while the game was presenting instruction?\"\"\n",
      "\n",
      "This event occurs when the player places a chest on one the scale. It contains information about the chest that was placed and where the placement occurred. This event is used to diagnose player strategies and understanding.\n",
      "\n",
      "This event occurs when the player clicks to pick up or begins dragging a piece of food from the resource bin or scale. It contains information about the food being moved the position of the click and the state of the game area. This event is used to diagnose player strategies and understanding.\n",
      "\n",
      "This event occurs when the player drags a bucket to someplace other than an acceptable destination for the bucket. It contains information about the bucket being moved and the destination. The event should occur when the drag is released and the bucket is placed. These events are used to diagnose player strategies and understanding.\n",
      "\n",
      "This event occurs when the player moves the shell to the waterfall and fills it with water. It contains information about the state of the game. This event is used to diagnose player strategies and understanding.\n",
      "\n",
      "This event occurs when the player drags a bug to the tape measure. It contains information about the bug that was dragged and the location of the placement.\n",
      "\n",
      "This event is triggered when a video starts playing\n",
      "\n",
      "This event occurs when the player clicks an interactive object in the victory screen section. It contains information about the object that was clicked, where the click occurred.\n",
      "\n",
      "This event occurs when the player picks up a bottle by clicking on it, or begins dragging a bottle. It contains information about the bottle that was picked up and the position of the click.\n",
      "\n",
      "This event occurs when the player drops a weight on the table after picking it up from the scale. It contains information about the weight being dropped the state of the game and the correctness of the action. This event is used to diagnose player strategies and understanding.\n",
      "\n",
      "This event occurs when the player fills the pool with water and the dinosaurs begin draining it. It contains information about the state of the pool. This event is to identify a change in the state of the game.\n",
      "\n",
      "The finish filling tub event is triggered after the player finishes filling up the tub. It is used to separate a section of gameplay that is different from the estimation section of the game.\n",
      "\n",
      "This event occurs when the player fills in one of the clouds. It contains information about the cloud that was filled.\n",
      "\n",
      "This event occurs when the player clicks to have the cloud empty into the pool. It contains information about the cloud that was clicked and the state of the pool.\n",
      "\n",
      "This event occurs when the player picks one of the mushrooms in the resource area. It contains information about the mushroom that was picked and where the click occurred.\n",
      "\n",
      "The beat round event is triggered when the player finishes picking mushrooms. This event indicates a section of gameplay separate from the arranging section of gameplay.\n",
      "\n",
      "The finished round event is triggered when the player finishes drawing a shape that is detected as matching the prompt. This event is used for calculating time spent drawing a shape (for speed and accuracy), attempts at drawing a shape, and the number of shapes the player has completed (completion).\n",
      "\n",
      "The start round event is triggered at the start of the tutorial. It is used in calculating time spent in the tutorial.\n",
      "\n",
      "The start tutorial event is triggered at the start of the tutorial. It is used in calculating time spent in the tutorial.\n",
      "\n",
      "This event occurs when the player picks up a weight from the table. It contains information about the weight being picked. This event is used to diagnose player strategies and understanding.\n",
      "\n"
     ]
    }
   ],
   "source": [
    "for i in sample_specs['info'].unique().tolist():\n",
    "    print(i+'\\n')"
   ]
  },
  {
   "cell_type": "code",
   "execution_count": 24,
   "metadata": {},
   "outputs": [],
   "source": [
    "import ast \n"
   ]
  },
  {
   "cell_type": "code",
   "execution_count": 25,
   "metadata": {},
   "outputs": [
    {
     "data": {
      "text/plain": [
       "[{'name': 'game_time',\n",
       "  'type': 'int',\n",
       "  'info': 'millisecond count since start of game'},\n",
       " {'name': 'round',\n",
       "  'type': 'int',\n",
       "  'info': 'number of the current round when the event takes place or 0 if no round'},\n",
       " {'name': 'level',\n",
       "  'type': 'int',\n",
       "  'info': 'number of the current level when the event takes place or 0 if no level'},\n",
       " {'name': 'description',\n",
       "  'type': 'string',\n",
       "  'info': 'the text or description of the instruction'},\n",
       " {'name': 'identifier',\n",
       "  'type': 'string',\n",
       "  'info': 'a unique identifier for this piece of instruction'},\n",
       " {'name': 'media_type',\n",
       "  'type': 'string',\n",
       "  'info': \"the type of media that has just played:\\n'audio' || 'animation' || 'other'\"},\n",
       " {'name': 'duration',\n",
       "  'type': 'int',\n",
       "  'info': 'the duration of the media playback in milliseconds'},\n",
       " {'name': 'event_count', 'type': 'int', 'info': 'session event counter'},\n",
       " {'name': 'event_code', 'type': 'int', 'info': 'event class identifier'}]"
      ]
     },
     "execution_count": 25,
     "metadata": {},
     "output_type": "execute_result"
    }
   ],
   "source": [
    "ast.literal_eval(sample_specs['args'][0])"
   ]
  },
  {
   "cell_type": "code",
   "execution_count": 26,
   "metadata": {},
   "outputs": [
    {
     "name": "stdout",
     "output_type": "stream",
     "text": [
      "[{\"name\":\"game_time\",\"type\":\"int\",\"info\":\"millisecond count since start of game\"},{\"name\":\"round\",\"type\":\"int\",\"info\":\"number of the current round when the event takes place or 0 if no round\"},{\"name\":\"level\",\"type\":\"int\",\"info\":\"number of the current level when the event takes place or 0 if no level\"},{\"name\":\"description\",\"type\":\"string\",\"info\":\"the text or description of the instruction\"},{\"name\":\"identifier\",\"type\":\"string\",\"info\":\"a unique identifier for this piece of instruction\"},{\"name\":\"media_type\",\"type\":\"string\",\"info\":\"the type of media that has just played:\\n'audio' || 'animation' || 'other'\"},{\"name\":\"duration\",\"type\":\"int\",\"info\":\"the duration of the media playback in milliseconds\"},{\"name\":\"event_count\",\"type\":\"int\",\"info\":\"session event counter\"},{\"name\":\"event_code\",\"type\":\"int\",\"info\":\"event class identifier\"}]\n",
      "\n",
      "[{\"name\":\"game_time\",\"type\":\"int\",\"info\":\"millisecond count since start of game\"},{\"name\":\"description\",\"type\":\"string\",\"info\":\"the text or description of the instruction\"},{\"name\":\"identifier\",\"type\":\"string\",\"info\":\"a unique identifier for this piece of instruction\"},{\"name\":\"media_type\",\"type\":\"string\",\"info\":\"the type of media that has just played:\\n'audio' || 'animation' || 'other'\"},{\"name\":\"duration\",\"type\":\"int\",\"info\":\"the duration of the media playback in milliseconds\"},{\"name\":\"event_count\",\"type\":\"int\",\"info\":\"session event counter\"},{\"name\":\"event_code\",\"type\":\"int\",\"info\":\"event class identifier\"}]\n",
      "\n",
      "[{\"name\":\"game_time\",\"type\":\"int\",\"info\":\"millisecond count since start of game\"},{\"name\":\"round\",\"type\":\"int\",\"info\":\"number of the current round when the event takes place or 0 if no round\"},{\"name\":\"description\",\"type\":\"string\",\"info\":\"the text or description of the instruction\"},{\"name\":\"identifier\",\"type\":\"string\",\"info\":\"a unique identifier for this piece of instruction\"},{\"name\":\"media_type\",\"type\":\"string\",\"info\":\"the type of media that has just played:\\n'audio' || 'animation' || 'other'\"},{\"name\":\"duration\",\"type\":\"int\",\"info\":\"the duration of the media playback in milliseconds\"},{\"name\":\"event_count\",\"type\":\"int\",\"info\":\"session event counter\"},{\"name\":\"event_code\",\"type\":\"int\",\"info\":\"event class identifier\"}]\n",
      "\n",
      "[{\"name\":\"game_time\",\"type\":\"int\",\"info\":\"millisecond count since start of game\"},{\"name\":\"round\",\"type\":\"int\",\"info\":\"number of the current round when the event takes place or 0 if no round\"},{\"name\":\"coordinates\",\"type\":\"object\",\"info\":\"dictionary: \\n    {\\\"x\\\":integer, \\\"y\\\":integer, \\\"stage_width\\\":integer, \\\"stage_height\\\":integer}\\n    the game screen coordinates of the mouse click\"},{\"name\":\"destination\",\"type\":\"string\",\"info\":\"\\\"space\\\" or \\\"resource bin\\\"\"},{\"name\":\"duration\",\"type\":\"int\",\"info\":\"time in milliseconds that the weight was \\\"held\\\"\"},{\"name\":\"table_weights\",\"type\":\"int\",\"info\":\"number of weights on the table after the event occurs\"},{\"name\":\"weights\",\"type\":\"int\",\"info\":\"the new number of weights on the scale after the weight is placed\"},{\"name\":\"event_count\",\"type\":\"int\",\"info\":\"session event counter\"},{\"name\":\"event_code\",\"type\":\"int\",\"info\":\"event class identifier\"}]\n",
      "\n",
      "[{\"name\":\"game_time\",\"type\":\"int\",\"info\":\"millisecond count since start of game\"},{\"name\":\"round\",\"type\":\"int\",\"info\":\"number of the current round when the event takes place or 0 if no round\"},{\"name\":\"description\",\"type\":\"string\",\"info\":\"the text or description of the instruction\"},{\"name\":\"identifier\",\"type\":\"string\",\"info\":\"a unique identifier for this piece of instruction\"},{\"name\":\"media_type\",\"type\":\"string\",\"info\":\"the type of media that has just played:\\n'audio' || 'animation' || 'other'\"},{\"name\":\"total_duration\",\"type\":\"int\",\"info\":\"the estimated duration of the media playback in milliseconds (if it ran uninterrupted)\"},{\"name\":\"event_count\",\"type\":\"int\",\"info\":\"session event counter\"},{\"name\":\"event_code\",\"type\":\"int\",\"info\":\"event class identifier\"}]\n",
      "\n",
      "[{\"name\":\"game_time\",\"type\":\"int\",\"info\":\"millisecond count since start of game\"},{\"name\":\"object\",\"type\":\"string\",\"info\":\"“chicken” or “pig” – what object was picked up\"},{\"name\":\"layout\",\"type\":\"object\",\"info\":\"dictionary describing the state of the see-saw after the event occurs:\\n{“left”: {“chickens”: int – count of chickens on the left side, “pig”: boolean – is pig on the left side?},\\n“right”: {“chickens”: int – count of chickens on the right side, “pig”: boolean – is pig on the right side?}}\"},{\"name\":\"coordinates\",\"type\":\"object\",\"info\":\"the game screen coordinates of the mouse click\\ndictionary:\\n{“x”:integer, “y”:integer, “stage_width”:integer, “stage_height”:integer}\"},{\"name\":\"duration\",\"type\":\"int\",\"info\":\"the duration of the drag in milliseconds\"},{\"name\":\"source\",\"type\":\"string\",\"info\":\"“left”, “right”, or “resources” – location the chicken was dragged from\"},{\"name\":\"event_count\",\"type\":\"int\",\"info\":\"session event counter\"},{\"name\":\"event_code\",\"type\":\"int\",\"info\":\"event class identifier\"}]\n",
      "\n",
      "[{\"name\":\"game_time\",\"type\":\"int\",\"info\":\"millisecond count since start of game\"},{\"name\":\"round\",\"type\":\"int\",\"info\":\"number of the current round when the event takes place or 0 if no round\"},{\"name\":\"level\",\"type\":\"int\",\"info\":\"number of the current level when the event takes place or 0 if no level\"},{\"name\":\"description\",\"type\":\"string\",\"info\":\"the text or description of the instruction\"},{\"name\":\"identifier\",\"type\":\"string\",\"info\":\"a unique identifier for this piece of instruction\"},{\"name\":\"media_type\",\"type\":\"string\",\"info\":\"the type of media that has just played:\\n'audio' || 'animation' || 'other'\"},{\"name\":\"total_duration\",\"type\":\"int\",\"info\":\"the estimated duration of the media playback in milliseconds (if it ran uninterrupted)\"},{\"name\":\"event_count\",\"type\":\"int\",\"info\":\"session event counter\"},{\"name\":\"event_code\",\"type\":\"int\",\"info\":\"event class identifier\"}]\n",
      "\n",
      "[{\"name\":\"game_time\",\"type\":\"int\",\"info\":\"millisecond count since start of game\"},{\"name\":\"round\",\"type\":\"int\",\"info\":\"number of the current round when the event takes place or 0 if no round\"},{\"name\":\"dwell_time\",\"type\":\"int\",\"info\":\"how long the mouse cursor dwells over the object when the player dwells for longer than 1sec\"},{\"name\":\"object\",\"type\":\"string\",\"info\":\"the object or piece of art the player clicked on\"},{\"name\":\"event_count\",\"type\":\"int\",\"info\":\"session event counter\"},{\"name\":\"event_code\",\"type\":\"int\",\"info\":\"event class identifier\"}]\n",
      "\n",
      "[{\"name\":\"game_time\",\"type\":\"int\",\"info\":\"millisecond count since start of game\"},{\"name\":\"round\",\"type\":\"int\",\"info\":\"number of the current round when the event takes place or 0 if no round\"},{\"name\":\"coordinates\",\"type\":\"object\",\"info\":\"the game screen coordinates of the click\\r\\ndictionary:\\r\\n{“x”: integer, “y”: integer, “stage_width”: integer, “stage_height”: integer}\"},{\"name\":\"event_count\",\"type\":\"int\",\"info\":\"session event counter\"},{\"name\":\"event_code\",\"type\":\"int\",\"info\":\"event class identifier\"}]\n",
      "\n",
      "[{\"name\":\"game_time\",\"type\":\"int\",\"info\":\"millisecond count since start of game\"},{\"name\":\"round\",\"type\":\"int\",\"info\":\"number of the current round when the event takes place or 0 if no round\"},{\"name\":\"description\",\"type\":\"string\",\"info\":\"the text or description of the instruction\"},{\"name\":\"identifier\",\"type\":\"string\",\"info\":\"a unique identifier for this piece of instruction\"},{\"name\":\"media_type\",\"type\":\"string\",\"info\":\"the type of media that has just played:\\n\\n'audio' || 'animation' || 'other'\"},{\"name\":\"duration\",\"type\":\"int\",\"info\":\"the duration of the media playback in milliseconds\"},{\"name\":\"event_count\",\"type\":\"int\",\"info\":\"session event counter\"},{\"name\":\"event_code\",\"type\":\"int\",\"info\":\"event class identifier\"}]\n",
      "\n",
      "[{\"name\":\"game_time\",\"type\":\"int\",\"info\":\"millisecond count since start of game\"},{\"name\":\"crystal_id\",\"type\":\"string\",\"info\":\"unique identifier of the crystal\"},{\"name\":\"weight\",\"type\":\"int\",\"info\":\"weight of the crystal that was placed\"},{\"name\":\"coordinates\",\"type\":\"object\",\"info\":\"the game screen coordinates of the placement\\ndictionary:\\n{“x”: integer, “y”: integer, “stage_width”: integer, “stage_height”: integer}\"},{\"name\":\"duration\",\"type\":\"int\",\"info\":\"the duration of the drag in milliseconds\"},{\"name\":\"source\",\"type\":\"string\",\"info\":\"“left”, “right”, or “resources” – location the crystal was picked up from\"},{\"name\":\"crystals\",\"type\":\"array->object\",\"info\":\"list of the properties of the crystals in the resource area from left to right after the event occurs:\\n{“id”: string – unique identifier of the crystal, “weight”: integer – weight of the crystal}\"},{\"name\":\"event_count\",\"type\":\"int\",\"info\":\"session event counter\"},{\"name\":\"event_code\",\"type\":\"int\",\"info\":\"event class identifier\"}]\n",
      "\n",
      "[{\"name\":\"game_time\",\"type\":\"int\",\"info\":\"millisecond count since start of game\"},{\"name\":\"round\",\"type\":\"int\",\"info\":\"number of the current round when the event takes place or 0 if no round\"},{\"name\":\"target_size\",\"type\":\"int\",\"info\":\"correct number of objects\"},{\"name\":\"object_type\",\"type\":\"string\",\"info\":\"type of object used for measuring this round\"},{\"name\":\"resources\",\"type\":\"array->int\",\"info\":\"list from top to bottom of object count options\"},{\"name\":\"event_count\",\"type\":\"int\",\"info\":\"session event counter\"},{\"name\":\"event_code\",\"type\":\"int\",\"info\":\"event class identifier\"}]\n",
      "\n",
      "[{\"name\":\"game_time\",\"type\":\"int\",\"info\":\"millisecond count since start of game\"},{\"name\":\"description\",\"type\":\"string\",\"info\":\"the text or description of the instruction\"},{\"name\":\"identifier\",\"type\":\"string\",\"info\":\"a unique identifier for this piece of instruction\"},{\"name\":\"media_type\",\"type\":\"string\",\"info\":\"the type of media that has just played:\\n'audio' || 'animation' || 'other'\"},{\"name\":\"total_duration\",\"type\":\"int\",\"info\":\"the estimated duration of the media playback in milliseconds (if it ran uninterrupted)\"},{\"name\":\"event_count\",\"type\":\"int\",\"info\":\"session event counter\"},{\"name\":\"event_code\",\"type\":\"int\",\"info\":\"event class identifier\"}]\n",
      "\n",
      "[{\"name\":\"game_time\",\"type\":\"int\",\"info\":\"millisecond count since start of game\"},{\"name\":\"round\",\"type\":\"int\",\"info\":\"the number of the round that has just been completed\"},{\"name\":\"duration\",\"type\":\"int\",\"info\":\"the duration of the round in milliseconds. Time between start round and beat round.\"},{\"name\":\"misses\",\"type\":\"int\",\"info\":\"the number of times the submit button was pressed with the scale out of balance\"},{\"name\":\"event_count\",\"type\":\"int\",\"info\":\"session event counter\"},{\"name\":\"event_code\",\"type\":\"int\",\"info\":\"event class identifier\"}]\n",
      "\n",
      "[{\"name\":\"game_time\",\"type\":\"int\",\"info\":\"millisecond count since start of game\"},{\"name\":\"dwell_time\",\"type\":\"int\",\"info\":\"how long the mouse cursor dwells over the object when the player dwells for longer than 1sec\"},{\"name\":\"object\",\"type\":\"string\",\"info\":\"the object or piece of art the player clicked on\"},{\"name\":\"event_count\",\"type\":\"int\",\"info\":\"session event counter\"},{\"name\":\"event_code\",\"type\":\"int\",\"info\":\"event class identifier\"}]\n",
      "\n",
      "[{\"name\":\"game_time\",\"type\":\"int\",\"info\":\"millisecond count since start of game\"},{\"name\":\"round\",\"type\":\"int\",\"info\":\"number of the current round when the event takes place or 0 if no round\"},{\"name\":\"version\",\"type\":\"string\",\"info\":\"build identifier to mark future updates to game content\"},{\"name\":\"event_count\",\"type\":\"int\",\"info\":\"session event counter\"},{\"name\":\"event_code\",\"type\":\"int\",\"info\":\"event class identifier\"}]\n",
      "\n",
      "[{\"name\":\"game_time\",\"type\":\"int\",\"info\":\"millisecond count since start of game\"},{\"name\":\"round\",\"type\":\"int\",\"info\":\"number of the current round when the event takes place or 0 if no round\"},{\"name\":\"movie_id\",\"type\":\"string\",\"info\":\"the identifier for the movie that was playing\"},{\"name\":\"duration\",\"type\":\"int\",\"info\":\"the duration of the media playback in milliseconds\"},{\"name\":\"description\",\"type\":\"string\",\"info\":\"the text or description of the instruction\"},{\"name\":\"event_count\",\"type\":\"int\",\"info\":\"session event counter\"},{\"name\":\"event_code\",\"type\":\"int\",\"info\":\"event class identifier\"}]\n",
      "\n",
      "[{\"name\":\"game_time\",\"type\":\"int\",\"info\":\"millisecond count since start of game\"},{\"name\":\"round\",\"type\":\"int\",\"info\":\"number of the current round when the event takes place or 0 if no round\"},{\"name\":\"media_type\",\"type\":\"string\",\"info\":\"the type of media that has just played:\\r\\n'audio' || 'animation' || 'other'\"},{\"name\":\"total_duration\",\"type\":\"int\",\"info\":\"the estimated duration of the media playback in milliseconds (if it ran uninterrupted)\"},{\"name\":\"description\",\"type\":\"string\",\"info\":\"the text or description of the instruction\"},{\"name\":\"identifier\",\"type\":\"string\",\"info\":\"a unique identifier for this piece of instruction\"},{\"name\":\"event_count\",\"type\":\"int\",\"info\":\"session event counter\"},{\"name\":\"event_code\",\"type\":\"int\",\"info\":\"event class identifier\"}]\n",
      "\n",
      "[{\"name\":\"game_time\",\"type\":\"int\",\"info\":\"millisecond count since start of game\"},{\"name\":\"round\",\"type\":\"int\",\"info\":\"number of the current round when the event takes place or 0 if no round\"},{\"name\":\"dinosaurs\",\"type\":\"array->object\",\"info\":\"a list containing information about the dinosaurs in the round ordered from left to right. use “none” dinosaurs already placed\\r\\narray containing dictionaries:\\r\\n[{“name”: string – name of first dinosaur, “size”:integer – size of first dinosaur}, {“name”: string – name of second dinosaur, “size”:integer – size of second dinosaur}, …]\"},{\"name\":\"houses\",\"type\":\"array->object\",\"info\":\"list of properties of the houses from left to right\\r\\narray:\\r\\n[{“size”:first house size, “dinosaur”:has the dinosaur been placed in this house?}, {“size”:second house size, “dinosaur”:has the dinosaur been placed in this house?}, …]\"},{\"name\":\"dinosaurs_placed\",\"type\":\"array->object\",\"info\":\"list containing information about the dinosaurs placed in the houses from left to right. use “none” for dinosaurs not yet placed\\r\\narray containing dictionaries:\\r\\n[{“name”: string – name of first dinosaur, “size”:integer – size of first dinosaur}, {“name”: string – name of second dinosaur, “size”:integer – size of second dinosaur}, …]\\r\\n\"},{\"name\":\"event_count\",\"type\":\"int\",\"info\":\"session event counter\"},{\"name\":\"event_code\",\"type\":\"int\",\"info\":\"event class identifier\"}]\n",
      "\n",
      "[{\"name\":\"game_time\",\"type\":\"int\",\"info\":\"millisecond count since start of game\"},{\"name\":\"misses\",\"type\":\"int\",\"info\":\"number of times the done button was pressed with the cauldrons in an incorrect location\"},{\"name\":\"prompt\",\"type\":\"string\",\"info\":\"“bucket that holds the most”, “holds least”, etc. – the prompt given to the player\"},{\"name\":\"mode\",\"type\":\"string\",\"info\":\"\\\"placing\\\" or \\\"selecting\\\" indicates if this round is for placing buckets or for selecting a specified bucket\"},{\"name\":\"round_number\",\"type\":\"int\",\"info\":\"the number of the round that has just been completed\"},{\"name\":\"event_count\",\"type\":\"int\",\"info\":\"Incremental event counter\"},{\"name\":\"duration\",\"type\":\"int\",\"info\":\"Duration of the round in milliseconds\"},{\"name\":\"event_code\",\"type\":\"int\",\"info\":\"event class identifier\"}]\n",
      "\n",
      "[{\"name\":\"game_time\",\"type\":\"int\",\"info\":\"millisecond count since start of game\"},{\"name\":\"round\",\"type\":\"int\",\"info\":\"number of the current round when the event takes place or 0 if no round\"},{\"name\":\"version\",\"type\":\"string\",\"info\":\"identifier of the current version of the game being played\"},{\"name\":\"event_count\",\"type\":\"int\",\"info\":\"session event counter\"},{\"name\":\"event_code\",\"type\":\"int\",\"info\":\"event class identifier\"}]\n",
      "\n",
      "[{\"name\":\"game_time\",\"type\":\"int\",\"info\":\"millisecond count since start of game\"},{\"name\":\"event_count\",\"type\":\"int\",\"info\":\"session event counter\"},{\"name\":\"event_code\",\"type\":\"int\",\"info\":\"event class identifier\"}]\n",
      "\n",
      "[{\"name\":\"game_time\",\"type\":\"int\",\"info\":\"millisecond count since start of game\"},{\"name\":\"hat\",\"type\":\"int\",\"info\":\"number of the hat that was placed\"},{\"name\":\"destination\",\"type\":\"string\",\"info\":\"“left”, “middle” or “right” – bird the hat was dragged to\"},{\"name\":\"coordinates\",\"type\":\"object\",\"info\":\"the game screen coordinates of the placement\\r\\ndictionary:\\r\\n{“x”: integer, “y”: integer, “stage_width”: integer, “stage_height”: integer}\"},{\"name\":\"correct\",\"type\":\"boolean\",\"info\":\"is this the correct bird for this hat?\"},{\"name\":\"hats\",\"type\":\"array->int\",\"info\":\"list of hats available in the resource area with 0 for missing hats\"},{\"name\":\"duration\",\"type\":\"int\",\"info\":\"the duration of the drag in milliseconds\"},{\"name\":\"hats_placed\",\"type\":\"array->int\",\"info\":\"list of hat numbers placed on the birds from left to right after the placement occurs\"},{\"name\":\"source\",\"type\":\"string\",\"info\":\"“left”, “middle”, “right”, or “resources” – location the hat was dragged from\"},{\"name\":\"event_count\",\"type\":\"int\",\"info\":\"session event counter\"},{\"name\":\"event_code\",\"type\":\"int\",\"info\":\"event class identifier\"}]\n",
      "\n",
      "[{\"name\":\"game_time\",\"type\":\"int\",\"info\":\"millisecond count since start of game\"},{\"name\":\"round\",\"type\":\"int\",\"info\":\"number of the current round when the event takes place or 0 if no round\"},{\"name\":\"coordinates\",\"type\":\"object\",\"info\":\"dictionary: \\r\\n    {\\\"x\\\":integer, \\\"y\\\":integer, \\\"stage_width\\\":integer, \\\"stage_height\\\":integer}\\r\\n    the game screen coordinates of the mouse click\"},{\"name\":\"event_count\",\"type\":\"int\",\"info\":\"session event counter\"},{\"name\":\"event_code\",\"type\":\"int\",\"info\":\"event class identifier\"}]\n",
      "\n",
      "[{\"name\":\"game_time\",\"type\":\"int\",\"info\":\"millisecond count since start of game\"},{\"name\":\"round\",\"type\":\"int\",\"info\":\"number of the current round when the event takes place or 0 if no round\"},{\"name\":\"dinosaur\",\"type\":\"string\",\"info\":\"name of the dinosaur that was picked\"},{\"name\":\"size\",\"type\":\"int\",\"info\":\"size of the dinosaur that was dragged\"},{\"name\":\"dinosaurs\",\"type\":\"array->object\",\"info\":\"list containing information about the dinosaurs in the round ordered from left to right. use “none” dinosaurs already placed\\r\\narray containing dictionaries:\\r\\n[{“name”: string – name of first dinosaur, “size”:integer – size of first dinosaur}, {“name”: string – name of second dinosaur, “size”:integer – size of second dinosaur}, …]\"},{\"name\":\"coordinates\",\"type\":\"object\",\"info\":\"dictionary: \\n    {\\\"x\\\":integer, \\\"y\\\":integer, \\\"stage_width\\\":integer, \\\"stage_height\\\":integer}\\n    the game screen coordinates of the mouse click\"},{\"name\":\"duration\",\"type\":\"int\",\"info\":\"the time in milliseconds that the character was “held”\"},{\"name\":\"event_count\",\"type\":\"int\",\"info\":\"session event counter\"},{\"name\":\"event_code\",\"type\":\"int\",\"info\":\"event class identifier\"}]\n",
      "\n",
      "[{\"name\":\"game_time\",\"type\":\"int\",\"info\":\"millisecond count since start of game\"},{\"name\":\"bucket\",\"type\":\"int\",\"info\":\"capacity of the bucket placed\"},{\"name\":\"destination\",\"type\":\"string\",\"info\":\"“left”, “middle”, or “right” – position where the cauldron was placed\"},{\"name\":\"coordinates\",\"type\":\"object\",\"info\":\"the game screen coordinates of the placement\\ndictionary:\\n{“x”: integer, “y”: integer, “stage_width”: integer, “stage_height”: integer}\"},{\"name\":\"cauldron\",\"type\":\"int\",\"info\":\"capacity of the cauldron where the bucket was placed\"},{\"name\":\"buckets\",\"type\":\"array->int\",\"info\":\"list of buckets available in the resource area with 0 for missing buckets\"},{\"name\":\"buckets_placed\",\"type\":\"array->int\",\"info\":\"list of buckets placed under cauldrons from left to right with 0 for missing buckets\"},{\"name\":\"correct\",\"type\":\"boolean\",\"info\":\"is this the correct location for this bucket?\"},{\"name\":\"source\",\"type\":\"string\",\"info\":\"“left”, “middle”, “right”, or “resources” – location the bucket was dragged from\"},{\"name\":\"duration\",\"type\":\"int\",\"info\":\"the duration of the drag in milliseconds\"},{\"name\":\"event_count\",\"type\":\"int\",\"info\":\"session event counter\"},{\"name\":\"event_code\",\"type\":\"int\",\"info\":\"event class identifier\"}]\n",
      "\n",
      "[{\"name\":\"game_time\",\"type\":\"int\",\"info\":\"millisecond count since start of game\"},{\"name\":\"round\",\"type\":\"int\",\"info\":\"number of the current round when the event takes place or 0 if no round\"},{\"name\":\"source\",\"type\":\"string\",\"info\":\"\\\"scale\\\" or \\\"resources\\\" where the bowl was picked up from\"},{\"name\":\"has_toy\",\"type\":\"boolean\",\"info\":\"does this bowl have the toy in it?\"},{\"name\":\"bowl_id\",\"type\":\"int\",\"info\":\"identifier of the bowl being placed. corresponds with starting position in resource area\"},{\"name\":\"scale_contents\",\"type\":\"array->string\",\"info\":\"list of items on the scale\"},{\"name\":\"position\",\"type\":\"int\",\"info\":\"position where the bowl was picked up from with 1 being the left side of the scale or resource area\"},{\"name\":\"coordinates\",\"type\":\"object\",\"info\":\"dictionary: \\r\\n    {\\\"x\\\":integer, \\\"y\\\":integer, \\\"stage_width\\\":integer, \\\"stage_height\\\":integer}\\r\\n    the game screen coordinates of the mouse click\"},{\"name\":\"event_count\",\"type\":\"int\",\"info\":\"session event counter\"},{\"name\":\"event_code\",\"type\":\"int\",\"info\":\"event class identifier\"}]\n",
      "\n",
      "[{\"name\":\"game_time\",\"type\":\"int\",\"info\":\"millisecond count since start of game\"},{\"name\":\"session_duration\",\"type\":\"int\",\"info\":\"millisecond count since start of game\"},{\"name\":\"exit_type\",\"type\":\"string\",\"info\":\"“closed container”, “game ended”, or browser exit/navigation\"},{\"name\":\"event_count\",\"type\":\"int\",\"info\":\"session event counter\"},{\"name\":\"event_code\",\"type\":\"int\",\"info\":\"event class identifier\"}]\n",
      "\n",
      "[{\"name\":\"game_time\",\"type\":\"int\",\"info\":\"millisecond count since start of game\"},{\"name\":\"weight\",\"type\":\"int\",\"info\":\"weight of the chest that was picked up\"},{\"name\":\"pillars\",\"type\":\"array->int\",\"info\":\"list of chest weights placed on the pillars from left to right after the event occurs\"},{\"name\":\"coordinates\",\"type\":\"object\",\"info\":\"the game screen coordinates of the mouse click\\ndictionary:\\n{“x”: integer, “y”: integer, “stage_width”: integer, “stage_height”: integer}\"},{\"name\":\"left\",\"type\":\"int\",\"info\":\"weight of chest on the left side of the scale after the event occurs\"},{\"name\":\"right\",\"type\":\"int\",\"info\":\"weight of chest on the right side of the scale after the event occurs\"},{\"name\":\"source\",\"type\":\"string\",\"info\":\"“left”, “right”, “heavy”, “heavier”, “heaviest”, or “resources” – location the chest was picked up from\"},{\"name\":\"event_count\",\"type\":\"int\",\"info\":\"session event counter\"},{\"name\":\"event_code\",\"type\":\"int\",\"info\":\"event class identifier\"}]\n",
      "\n",
      "[{\"name\":\"game_time\",\"type\":\"int\",\"info\":\"millisecond count since start of game\"},{\"name\":\"crystals\",\"type\":\"array->object\",\"info\":\"list of the properties of the crystals in the resource area from left to right:\\n{“id”: string – unique identifier of the crystal, “weight”: integer – weight of the crystal}\"},{\"name\":\"event_count\",\"type\":\"int\",\"info\":\"session event counter\"},{\"name\":\"event_code\",\"type\":\"int\",\"info\":\"event class identifier\"}]\n",
      "\n",
      "[{\"name\":\"game_time\",\"type\":\"int\",\"info\":\"millisecond count since start of game\"},{\"name\":\"gate\",\"type\":\"object\",\"info\":\"location and side of the gate the rock is on after the event occurs:\\r\\n{“row”:1, “column”:2, “side”:”left”}\"},{\"name\":\"layout\",\"type\":\"object\",\"info\":\"dictionary describing the state of the gates after the event occurs with row 1 being the top row of gates and empty used to indicate no gate in that position:\\r\\n{“row1”:[“empty”, “left”, “empty”],\\r\\n“row2”:[“right”, “left”, “middle”], etc.}\"},{\"name\":\"coordinates\",\"type\":\"object\",\"info\":\"the game screen coordinates of the click\\r\\ndictionary:\\r\\n{“x”:integer, “y”:integer, “stage_width”:integer, “stage_height”:integer}\"},{\"name\":\"event_count\",\"type\":\"int\",\"info\":\"session event counter\"},{\"name\":\"event_code\",\"type\":\"int\",\"info\":\"event class identifier\"}]\n",
      "\n",
      "[{\"name\":\"game_time\",\"type\":\"int\",\"info\":\"millisecond count since start of game\"},{\"name\":\"round\",\"type\":\"int\",\"info\":\"number of the current round when the event takes place or 0 if no round\"},{\"name\":\"level\",\"type\":\"int\",\"info\":\"number of the current level when the event takes place or 0 if no level\"},{\"name\":\"dwell_time\",\"type\":\"int\",\"info\":\"how long the mouse cursor dwells over the object when the player dwells for longer than 1sec\"},{\"name\":\"object\",\"type\":\"string\",\"info\":\"the object or piece of art the player clicked on\"},{\"name\":\"event_count\",\"type\":\"int\",\"info\":\"session event counter\"},{\"name\":\"event_code\",\"type\":\"int\",\"info\":\"event class identifier\"}]\n",
      "\n",
      "[{\"name\":\"game_time\",\"type\":\"int\",\"info\":\"millisecond count since start of game\"},{\"name\":\"round\",\"type\":\"int\",\"info\":\"number of the current round when the event takes place or 0 if no round\"},{\"name\":\"duration\",\"type\":\"int\",\"info\":\"the duration spent in the tutorial in milliseconds. Time between start tutorial and skip tutorial.\"},{\"name\":\"tutorial_step\",\"type\":\"int\",\"info\":\"the current step of the tutorial when the tutorial was skipped\"},{\"name\":\"event_count\",\"type\":\"int\",\"info\":\"session event counter\"},{\"name\":\"event_code\",\"type\":\"int\",\"info\":\"event class identifier\"}]\n",
      "\n",
      "[{\"name\":\"game_time\",\"type\":\"int\",\"info\":\"millisecond count since start of game\"},{\"name\":\"height\",\"type\":\"int\",\"info\":\"height of the mushroom that was placed\"},{\"name\":\"destination\",\"type\":\"string\",\"info\":\"“left”, “middle”, or “right” - stump the mushroom was dragged to\"},{\"name\":\"stumps\",\"type\":\"array->int\",\"info\":\"list of mushroom heights placed on the stumps from left to right after the placement occurs\"},{\"name\":\"correct\",\"type\":\"boolean\",\"info\":\"is this the correct stump for this mushroom?\"},{\"name\":\"source\",\"type\":\"string\",\"info\":\"“left”, “middle”, “right” or “resources” - location the mushroom was dragged from\"},{\"name\":\"duration\",\"type\":\"int\",\"info\":\"the duration of the drag in milliseconds\"},{\"name\":\"coordinates\",\"type\":\"object\",\"info\":\"the game screen coordinates of the placement\\n{“x”: integer, “y”: integer, “stage_width”: integer, “stage_height”: integer}\"},{\"name\":\"event_count\",\"type\":\"int\",\"info\":\"session event counter\"},{\"name\":\"event_code\",\"type\":\"int\",\"info\":\"event class identifier\"}]\n",
      "\n",
      "[{\"name\":\"game_time\",\"type\":\"int\",\"info\":\"millisecond count since start of game\"},{\"name\":\"object\",\"type\":\"string\",\"info\":\"“chicken” or “pig” – what object was picked up\"},{\"name\":\"layout\",\"type\":\"object\",\"info\":\"dictionary describing the state of the see-saw after the event occurs:\\n{“left”: {“chickens”: int – count of chickens on the left side, “pig”: boolean – is pig on the left side?},\\n“right”: {“chickens”: int – count of chickens on the right side, “pig”: boolean – is pig on the right side?}}\"},{\"name\":\"coordinates\",\"type\":\"object\",\"info\":\"the game screen coordinates of the mouse click\\ndictionary:\\n{“x”:integer, “y”:integer, “stage_width”:integer, “stage_height”:integer}\"},{\"name\":\"source\",\"type\":\"string\",\"info\":\"“left”, “right”, or “resources” – location the chicken was dragged from\"},{\"name\":\"event_count\",\"type\":\"int\",\"info\":\"session event counter\"},{\"name\":\"event_code\",\"type\":\"int\",\"info\":\"event class identifier\"}]\n",
      "\n",
      "[{\"name\":\"game_time\",\"type\":\"int\",\"info\":\"millisecond count since start of game\"},{\"name\":\"correct\",\"type\":\"boolean\",\"info\":\"were the mine carts correctly balanced?\"},{\"name\":\"left\",\"type\":\"array->object\",\"info\":\"list of crystals placed in the left mine cart:\\n{“id”: string – unique identifier of the crystal, “weight”: integer – weight of the crystal}\"},{\"name\":\"right\",\"type\":\"array->object\",\"info\":\"list of crystals placed in the right mine cart:\\n{“id”: string – unique identifier of the crystal, “weight”: integer – weight of the crystal}\"},{\"name\":\"event_count\",\"type\":\"int\",\"info\":\"session event counter\"},{\"name\":\"event_code\",\"type\":\"int\",\"info\":\"event class identifier\"}]\n",
      "\n",
      "[{\"name\":\"game_time\",\"type\":\"int\",\"info\":\"millisecond count since start of game\"},{\"name\":\"round\",\"type\":\"int\",\"info\":\"number of the current round when the event takes place or 0 if no round\"},{\"name\":\"scale_weights\",\"type\":\"int\",\"info\":\"the new number of weights on the scale after the weight is placed\"},{\"name\":\"target_weight\",\"type\":\"int\",\"info\":\"the weight of the object\"},{\"name\":\"table_weights\",\"type\":\"int\",\"info\":\"number of weights on the table\"},{\"name\":\"correct\",\"type\":\"boolean\",\"info\":\"was this the correct weight?\"},{\"name\":\"event_count\",\"type\":\"int\",\"info\":\"session event counter\"},{\"name\":\"event_code\",\"type\":\"int\",\"info\":\"event class identifier\"}]\n",
      "\n",
      "[{\"name\":\"game_time\",\"type\":\"int\",\"info\":\"millisecond count since start of game\"},{\"name\":\"round\",\"type\":\"int\",\"info\":\"number of the current round when the event takes place or 0 if no round\"},{\"name\":\"scale_contents\",\"type\":\"array->string\",\"info\":\"list of items on the scale after this event occurs from left to right\\r\\n[{‘id’: string - identifier of first bowl, ‘position’: {'x': integer, 'y': integer, 'stage_width': integer, 'stage_height': integer} - position of first bowl, ‘toy’: boolean - does this bowl have the toy in it?}, {‘id’: string - identifier of second bowl, ‘position’: {'x': integer, 'y': integer, 'stage_width': integer, 'stage_height': integer} - position of second bowl, ‘toy’: boolean - does this bowl have the toy in it?}, ...]\"},{\"name\":\"resources\",\"type\":\"array->object\",\"info\":\"list of items in the resource area from left to right\\r\\n[{‘id’: string - identifier of first bowl, ‘position’: {'x': integer, 'y': integer, 'stage_width': integer, 'stage_height': integer} - position of first bowl, ‘toy’: boolean - does this bowl have the toy in it?}, {‘id’: string - identifier of second bowl, ‘position’: {'x': integer, 'y': integer, 'stage_width': integer, 'stage_height': integer} - position of second bowl, ‘toy’: boolean - does this bowl have the toy in it?}, ...]\"},{\"name\":\"event_count\",\"type\":\"int\",\"info\":\"session event counter\"},{\"name\":\"event_code\",\"type\":\"int\",\"info\":\"event class identifier\"}]\n",
      "\n",
      "[{\"name\":\"game_time\",\"type\":\"int\",\"info\":\"millisecond count since start of game\"},{\"name\":\"round\",\"type\":\"int\",\"info\":\"number of the current round when the event takes place or 0 if no round\"},{\"name\":\"dwell_time\",\"type\":\"int\",\"info\":\"how long the mouse cursor dwells over the object when the player dwells for longer than 1sec\"},{\"name\":\"object\",\"type\":\"string\",\"info\":\"the object the mouse was hovering over\"},{\"name\":\"event_count\",\"type\":\"int\",\"info\":\"session event counter\"},{\"name\":\"event_code\",\"type\":\"int\",\"info\":\"event class identifier\"}]\n",
      "\n",
      "[{\"name\":\"game_time\",\"type\":\"int\",\"info\":\"millisecond count since start of game\"},{\"name\":\"round\",\"type\":\"int\",\"info\":\"number of the current round when the event takes place or 0 if no round\"},{\"name\":\"event_count\",\"type\":\"int\",\"info\":\"session event counter\"},{\"name\":\"event_code\",\"type\":\"int\",\"info\":\"event class identifier\"}]\n",
      "\n",
      "[{\"name\":\"game_time\",\"type\":\"int\",\"info\":\"millisecond count since start of game\"},{\"name\":\"weight\",\"type\":\"int\",\"info\":\"weight of the chest that was placed\"},{\"name\":\"destination\",\"type\":\"string\",\"info\":\"“heavy”, “heavier”, “heaviest” – pillar where the chest was placed\"},{\"name\":\"coordinates\",\"type\":\"object\",\"info\":\"the game screen coordinates of the placement\\ndictionary:\\n{“x”: integer, “y”: integer, “stage_width”: integer, “stage_height”: integer}\"},{\"name\":\"correct\",\"type\":\"boolean\",\"info\":\"is this the correct pillar for this chest?\"},{\"name\":\"pillars\",\"type\":\"array->int\",\"info\":\"list of chest weights placed on the pillars from left to right after the placement occurs\"},{\"name\":\"duration\",\"type\":\"int\",\"info\":\"the duration of the drag in milliseconds\"},{\"name\":\"left\",\"type\":\"int\",\"info\":\"weight of chest on the left side of the scale after the event occurs\"},{\"name\":\"right\",\"type\":\"int\",\"info\":\"weight of chest on the right side of the scale after the event occurs\"},{\"name\":\"source\",\"type\":\"string\",\"info\":\"“left”, “right”, “heavy”, “heavier”, “heaviest”, “resources” – where the chest was picked up from\"},{\"name\":\"event_count\",\"type\":\"int\",\"info\":\"session event counter\"},{\"name\":\"event_code\",\"type\":\"int\",\"info\":\"event class identifier\"}]\n",
      "\n",
      "[{\"name\":\"game_time\",\"type\":\"int\",\"info\":\"millisecond count since start of game\"},{\"name\":\"layout\",\"type\":\"object\",\"info\":\"dictionary describing the state of the gates at the start of the activity with row 1 being the top row of gates and empty used to indicate no gate in that position:\\r\\n{“row1”:[“empty”, “left”, “empty”],\\r\\n“row2”:[“right”, “left”, “left”], etc.}\"},{\"name\":\"event_count\",\"type\":\"int\",\"info\":\"session event counter\"},{\"name\":\"event_code\",\"type\":\"int\",\"info\":\"event class identifier\"}]\n",
      "\n",
      "[{\"name\":\"bucket\",\"type\":\"int\",\"info\":\"capacity of the bucket clicked\"},{\"name\":\"buckets_placed\",\"type\":\"array->int\",\"info\":\"list of buckets placed under cauldrons from left to right\"},{\"name\":\"target_bucket\",\"type\":\"int\",\"info\":\"capacity of the correct bucket\"},{\"name\":\"coordinates\",\"type\":\"object\",\"info\":\"the game screen coordinates of the click\\r\\ndictionary:\\r\\n{“x”: integer, “y”: integer, “stage_width”: integer, “stage_height”: integer}\\r\\n\"},{\"name\":\"correct\",\"type\":\"boolean\",\"info\":\"is this the correct bucket?\"},{\"name\":\"prompt\",\"type\":\"string\",\"info\":\"“bucket that holds the most”, “holds least”, etc. – the prompt given to the player\"},{\"name\":\"game_time\",\"type\":\"int\",\"info\":\"millisecond count since start of game\"},{\"name\":\"event_count\",\"type\":\"int\",\"info\":\"session event counter\"},{\"name\":\"event_code\",\"type\":\"int\",\"info\":\"event class identifier\"}]\n",
      "\n",
      "[{\"name\":\"game_time\",\"type\":\"int\",\"info\":\"millisecond count since start of game\"},{\"name\":\"castles_placed\",\"type\":\"array->object\",\"info\":\"list of castles placed in the play area:\\r\\n[{“size”: integer – size of the first placed sand castle, “position”: dictionary – position of the first placed sand castle: {“x”: integer, “y”: integer, “stage_width”: integer, “stage_height”: integer}}, {“size”: integer – size of the second placed sand castle, “position”: dictionary – position of the second placed sand castle: {“x”: integer, “y”: integer, “stage_width”: integer, “stage_height”: integer}}, etc.]\"},{\"name\":\"molds\",\"type\":\"array->int\",\"info\":\"list of the amount of sand in each mold from left to right\"},{\"name\":\"event_count\",\"type\":\"int\",\"info\":\"session event counter\"},{\"name\":\"event_code\",\"type\":\"int\",\"info\":\"event class identifier\"}]\n",
      "\n",
      "[{\"name\":\"game_time\",\"type\":\"int\",\"info\":\"millisecond count since start of game\"},{\"name\":\"round\",\"type\":\"int\",\"info\":\"the number of the round that has just been completed\"},{\"name\":\"level\",\"type\":\"int\",\"info\":\"number of the current level when the event takes place or 0 if no level\"},{\"name\":\"duration\",\"type\":\"int\",\"info\":\"the duration of the round in milliseconds. Time between start round and beat round.\"},{\"name\":\"round_target\",\"type\":\"object\",\"info\":\"\\\"size\\\": size of item needed to pass round with 1 being the smallest size\\r\\n\\\"type\\\": type of item being selected e.g. tub, water, soap\\r\\n\\\"animal\\\": the animal the player is selecting an item for\"},{\"name\":\"misses\",\"type\":\"int\",\"info\":\"the number of incorrect size objects clicked\"},{\"name\":\"event_count\",\"type\":\"int\",\"info\":\"session event counter\"},{\"name\":\"event_code\",\"type\":\"int\",\"info\":\"event class identifier\"}]\n",
      "\n",
      "[{\"name\":\"game_time\",\"type\":\"int\",\"info\":\"millisecond count since start of game\"},{\"name\":\"duration\",\"type\":\"int\",\"info\":\"the duration of the round in milliseconds. Time between start round and beat round.\"},{\"name\":\"misses\",\"type\":\"int\",\"info\":\"the number of times the done button was pressed with the mushrooms in the wrong location\"},{\"name\":\"event_count\",\"type\":\"int\",\"info\":\"session event counter\"},{\"name\":\"event_code\",\"type\":\"int\",\"info\":\"event class identifier\"}]\n",
      "\n",
      "[{\"name\":\"game_time\",\"type\":\"int\",\"info\":\"millisecond count since start of game\"},{\"name\":\"coordinates\",\"type\":\"object\",\"info\":\"the game screen coordinates of the mouse click\"},{\"name\":\"event_count\",\"type\":\"int\",\"info\":\"session event counter\"},{\"name\":\"event_code\",\"type\":\"int\",\"info\":\"event class identifier\"}]\n",
      "\n",
      "[{\"name\":\"game_time\",\"type\":\"int\",\"info\":\"millisecond count since start of game\"},{\"name\":\"round\",\"type\":\"int\",\"info\":\"the number of the round that is about to start\"},{\"name\":\"houses\",\"type\":\"array->int\",\"info\":\"list of house sizes from left to right\\r\\narray:\\r\\n[first house size, second house size, …]\"},{\"name\":\"dinosaurs\",\"type\":\"array->object\",\"info\":\"a list containing information about the dinosaurs in the round ordered from left to right\\r\\narray containing dictionaries:\\r\\n[{“name”: string – name of first dinosaur, “size”:integer – size of first dinosaur}, {“name”: string – name of second dinosaur, “size”:integer – size of second dinosaur}, …]\"},{\"name\":\"event_count\",\"type\":\"int\",\"info\":\"session event counter\"},{\"name\":\"event_code\",\"type\":\"int\",\"info\":\"event class identifier\"}]\n",
      "\n",
      "[{\"name\":\"game_time\",\"type\":\"int\",\"info\":\"millisecond count since start of game\"},{\"name\":\"version\",\"type\":\"string\",\"info\":\"identifier of the current version of the game being played\"},{\"name\":\"event_count\",\"type\":\"int\",\"info\":\"session event counter\"},{\"name\":\"event_code\",\"type\":\"int\",\"info\":\"event class identifier\"}]\n",
      "\n",
      "[{\"name\":\"game_time\",\"type\":\"int\",\"info\":\"millisecond count since start of game\"},{\"name\":\"round\",\"type\":\"int\",\"info\":\"number of the current round when the event takes place or 0 if no round\"},{\"name\":\"shell_size\",\"type\":\"int\",\"info\":\"size of the shell being picked up\"},{\"name\":\"position\",\"type\":\"int\",\"info\":\"position  the shell was picked up from with 1 being the far left shell\"},{\"name\":\"coordinates\",\"type\":\"object\",\"info\":\"dictionary: \\r\\n    {\\\"x\\\":integer, \\\"y\\\":integer, \\\"stage_width\\\":integer, \\\"stage_height\\\":integer}\\r\\n    the game screen coordinates of the mouse click\"},{\"name\":\"event_count\",\"type\":\"int\",\"info\":\"session event counter\"},{\"name\":\"event_code\",\"type\":\"int\",\"info\":\"event class identifier\"}]\n",
      "\n",
      "[{\"name\":\"game_time\",\"type\":\"int\",\"info\":\"millisecond count since start of game\"},{\"name\":\"round\",\"type\":\"int\",\"info\":\"number of the current round when the event takes place or 0 if no round\"},{\"name\":\"distance\",\"type\":\"int\",\"info\":\"the distance the dinosaur will fly\"},{\"name\":\"target_distances\",\"type\":\"array->int\",\"info\":\"list of target distances\"},{\"name\":\"correct\",\"type\":\"boolean\",\"info\":\"was the correct distance selected when the event occurred?\"},{\"name\":\"event_count\",\"type\":\"int\",\"info\":\"session event counter\"},{\"name\":\"event_code\",\"type\":\"int\",\"info\":\"event class identifier\"}]\n",
      "\n",
      "[{\"name\":\"game_time\",\"type\":\"int\",\"info\":\"millisecond count since start of game\"},{\"name\":\"buckets\",\"type\":\"array->int\",\"info\":\"list of buckets available in the resource area\"},{\"name\":\"target_bucket\",\"type\":\"int\",\"info\":\"capacity of the correct bucket (when selecting specified bucket or 0 in placing mode)\"},{\"name\":\"mode\",\"type\":\"string\",\"info\":\"\\\"placing\\\" or \\\"selecting\\\" indicates if this round is for placing buckets or for selecting a specified bucket\"},{\"name\":\"prompt\",\"type\":\"string\",\"info\":\"“bucket that holds the most”, “holds least”, etc. – the prompt given to the player\"},{\"name\":\"round_number\",\"type\":\"int\",\"info\":\"the number of the round that is about to start\"},{\"name\":\"event_count\",\"type\":\"int\",\"info\":\"session event counter\"},{\"name\":\"event_code\",\"type\":\"int\",\"info\":\"event class identifier\"}]\n",
      "\n",
      "[{\"name\":\"game_time\",\"type\":\"int\",\"info\":\"millisecond count since start of game\"},{\"name\":\"bucket\",\"type\":\"int\",\"info\":\"capacity of the bucket being dragged\"},{\"name\":\"coordinates\",\"type\":\"object\",\"info\":\"the game screen coordinates of the placement\\ndictionary:\\n{“x”: integer, “y”: integer, “stage_width”: integer, “stage_height”: integer}\"},{\"name\":\"buckets\",\"type\":\"array->int\",\"info\":\"list of buckets available in the resource area with 0 for missing buckets\"},{\"name\":\"buckets_placed\",\"type\":\"array->int\",\"info\":\"list of buckets placed under cauldrons from left to right with 0 for missing buckets\"},{\"name\":\"source\",\"type\":\"string\",\"info\":\"“left”, “middle”, or “right” – location the bucket was dragged from\"},{\"name\":\"duration\",\"type\":\"int\",\"info\":\"the duration of the drag in milliseconds\"},{\"name\":\"event_count\",\"type\":\"int\",\"info\":\"session event counter\"},{\"name\":\"event_code\",\"type\":\"int\",\"info\":\"event class identifier\"}]\n",
      "\n",
      "[{\"name\":\"game_time\",\"type\":\"int\",\"info\":\"millisecond count since start of game\"},{\"name\":\"duration\",\"type\":\"int\",\"info\":\"the duration of the round in milliseconds. Time between start round and beat round.\"},{\"name\":\"misses\",\"type\":\"int\",\"info\":\"the number of times the done button was pressed with the carts unbalanced\"},{\"name\":\"left\",\"type\":\"array->object\",\"info\":\"list of crystals placed in the left mine cart:\\n{“id”: string – unique identifier of the crystal, “weight”: integer – weight of the crystal}\"},{\"name\":\"right\",\"type\":\"array->object\",\"info\":\"list of crystals placed in the right mine cart:\\n{“id”: string – unique identifier of the crystal, “weight”: integer – weight of the crystal}\"},{\"name\":\"event_count\",\"type\":\"int\",\"info\":\"session event counter\"},{\"name\":\"event_code\",\"type\":\"int\",\"info\":\"event class identifier\"}]\n",
      "\n",
      "[{\"name\":\"game_time\",\"type\":\"int\",\"info\":\"millisecond count since start of game\"},{\"name\":\"round\",\"type\":\"int\",\"info\":\"number of the current round when the event takes place or 0 if no round\"},{\"name\":\"source\",\"type\":\"string\",\"info\":\"\\\"scale\\\" or \\\"resources\\\" where the bowl was picked up from\"},{\"name\":\"bowl_id\",\"type\":\"int\",\"info\":\"identifier of the bowl being placed. corresponds with id in start round event\"},{\"name\":\"position\",\"type\":\"int\",\"info\":\"position where the bowl was picked up from with 1 being the left side of the scale or resource area\"},{\"name\":\"scale_contents\",\"type\":\"array->string\",\"info\":\"list of items on the scale\"},{\"name\":\"correct\",\"type\":\"boolean\",\"info\":\"does this bowl have the toy in it?\"},{\"name\":\"coordinates\",\"type\":\"object\",\"info\":\"dictionary: \\n    {\\\"x\\\":integer, \\\"y\\\":integer, \\\"stage_width\\\":integer, \\\"stage_height\\\":integer}\\n    the game screen coordinates of the mouse click\"},{\"name\":\"event_count\",\"type\":\"int\",\"info\":\"session event counter\"},{\"name\":\"event_code\",\"type\":\"int\",\"info\":\"event class identifier\"}]\n",
      "\n",
      "[{\"name\":\"game_time\",\"type\":\"int\",\"info\":\"millisecond count since start of game\"},{\"name\":\"round\",\"type\":\"int\",\"info\":\"number of the current round when the event takes place or 0 if no round\"},{\"name\":\"level\",\"type\":\"int\",\"info\":\"the number of the level that has just beat\"},{\"name\":\"duration\",\"type\":\"int\",\"info\":\"the duration of the level in milliseconds. Time between start level and advance level.\"},{\"name\":\"misses\",\"type\":\"int\",\"info\":\"the number of incorrect sized items clicked\"},{\"name\":\"event_count\",\"type\":\"int\",\"info\":\"session event counter\"},{\"name\":\"event_code\",\"type\":\"int\",\"info\":\"event class identifier\"}]\n",
      "\n",
      "[{\"name\":\"game_time\",\"type\":\"int\",\"info\":\"millisecond count since start of game\"},{\"name\":\"source\",\"type\":\"string\",\"info\":\"“tape” or “resources”\"},{\"name\":\"coordinates\",\"type\":\"object\",\"info\":\"the game screen coordinates of the click\\ndictionary:\\n{“x”:integer, “y”:integer, “stage_width”:integer, “stage_height”:integer}\"},{\"name\":\"duration\",\"type\":\"int\",\"info\":\"the duration of the drag in milliseconds\"},{\"name\":\"event_count\",\"type\":\"int\",\"info\":\"session event counter\"},{\"name\":\"event_code\",\"type\":\"int\",\"info\":\"event class identifier\"}]\n",
      "\n",
      "[{\"name\":\"game_time\",\"type\":\"int\",\"info\":\"millisecond count since start of game\"},{\"name\":\"round\",\"type\":\"int\",\"info\":\"number of the current round when the event takes place or 0 if no round\"},{\"name\":\"distance\",\"type\":\"int\",\"info\":\"the distance the dinosaur will fly\"},{\"name\":\"dinosaur\",\"type\":\"string\",\"info\":\"identifier of the dinosaur clicked\"},{\"name\":\"target_distances\",\"type\":\"array->int\",\"info\":\"list of target distances\"},{\"name\":\"correct\",\"type\":\"boolean\",\"info\":\"was this a correct distance?\"},{\"name\":\"event_count\",\"type\":\"int\",\"info\":\"session event counter\"},{\"name\":\"event_code\",\"type\":\"int\",\"info\":\"event class identifier\"}]\n",
      "\n",
      "[{\"name\":\"game_time\",\"type\":\"int\",\"info\":\"millisecond count since start of game\"},{\"name\":\"round\",\"type\":\"int\",\"info\":\"number of the current round when the event takes place or 0 if no round\"},{\"name\":\"target_containers\",\"type\":\"int\",\"info\":\"the correct number of containers to select this round\"},{\"name\":\"resources\",\"type\":\"array->int\",\"info\":\"list of container options available to the player this round\"},{\"name\":\"container_type\",\"type\":\"string\",\"info\":\"type of container used this round\"},{\"name\":\"event_count\",\"type\":\"int\",\"info\":\"session event counter\"},{\"name\":\"event_code\",\"type\":\"int\",\"info\":\"event class identifier\"}]\n",
      "\n",
      "[{\"name\":\"game_time\",\"type\":\"int\",\"info\":\"millisecond count since start of game\"},{\"name\":\"round\",\"type\":\"int\",\"info\":\"number of the current round when the event takes place or 0 if no round\"},{\"name\":\"coordinates\",\"type\":\"object\",\"info\":\"dictionary: \\n    {\\\"x\\\":integer, \\\"y\\\":integer, \\\"stage_width\\\":integer, \\\"stage_height\\\":integer}\\n    the game screen coordinates of the mouse click\"},{\"name\":\"event_count\",\"type\":\"int\",\"info\":\"session event counter\"},{\"name\":\"event_code\",\"type\":\"int\",\"info\":\"event class identifier\"}]\n",
      "\n",
      "[{\"name\":\"game_time\",\"type\":\"int\",\"info\":\"millisecond count since start of game\"},{\"name\":\"coordinates\",\"type\":\"object\",\"info\":\"the game screen coordinates of the mouse click\\ndictionary:\\n{“x”:integer, “y”:integer, “stage_width”:integer, “stage_height”:integer}\"},{\"name\":\"event_count\",\"type\":\"int\",\"info\":\"session event counter\"},{\"name\":\"event_code\",\"type\":\"int\",\"info\":\"event class identifier\"}]\n",
      "\n",
      "[{\"name\":\"game_time\",\"type\":\"int\",\"info\":\"millisecond count since start of game\"},{\"name\":\"round\",\"type\":\"int\",\"info\":\"number of the current round when the event takes place or 0 if no round\"},{\"name\":\"shells\",\"type\":\"array->int\",\"info\":\"list of shell sizes from left to right\"},{\"name\":\"holes\",\"type\":\"array->object\",\"info\":\"array:\\r\\n[{“size”: size of first watering hole, “filled”: is the first watering hole filled?}, {“size”: size of second watering hole, “filled”: is the second watering hole filled?}, etc.]\\r\\nlist of the states of the watering holes after the event occurs\"},{\"name\":\"holding_shell\",\"type\":\"boolean\",\"info\":\"is a shell attached to the cursor?\"},{\"name\":\"has_water\",\"type\":\"boolean\",\"info\":\"does the shell have water?\"},{\"name\":\"event_count\",\"type\":\"int\",\"info\":\"session event counter\"},{\"name\":\"event_code\",\"type\":\"int\",\"info\":\"event class identifier\"}]\n",
      "\n",
      "[{\"name\":\"game_time\",\"type\":\"int\",\"info\":\"millisecond count since start of game\"},{\"name\":\"round\",\"type\":\"int\",\"info\":\"number of the current round when the event takes place or 0 if no round\"},{\"name\":\"size\",\"type\":\"int\",\"info\":\"size of the dinosaur\"},{\"name\":\"dinosaur\",\"type\":\"string\",\"info\":\"name of the dinosaur clicked\"},{\"name\":\"water_level\",\"type\":\"int\",\"info\":\"the level of the water after the event occurs\"},{\"name\":\"correct\",\"type\":\"boolean\",\"info\":\"was this one of the correct dinosaurs to reach the target water level?\"},{\"name\":\"coordinates\",\"type\":\"object\",\"info\":\"dictionary: \\r\\n    {\\\"x\\\":integer, \\\"y\\\":integer, \\\"stage_width\\\":integer, \\\"stage_height\\\":integer}\\r\\n    the game screen coordinates of the mouse click\"},{\"name\":\"event_count\",\"type\":\"int\",\"info\":\"session event counter\"},{\"name\":\"event_code\",\"type\":\"int\",\"info\":\"event class identifier\"}]\n",
      "\n",
      "[{\"name\":\"game_time\",\"type\":\"int\",\"info\":\"millisecond count since start of game\"},{\"name\":\"round\",\"type\":\"int\",\"info\":\"number of the current round when the event takes place or 0 if no round\"},{\"name\":\"houses\",\"type\":\"array->int\",\"info\":\"list of house sizes from left to right\\r\\narray:\\r\\n[first house size, second house size, …]\\r\\n\"},{\"name\":\"dinosaurs\",\"type\":\"array->object\",\"info\":\"a list containing information about the dinosaurs in the resource area ordered from left to right\\r\\narray containing dictionaries:\\r\\n[{“name”: string – name of first dinosaur, “size”:integer – size of first dinosaur}, {“name”: string – name of second dinosaur, “size”:integer – size of second dinosaur}, …]\\r\\n\"},{\"name\":\"dinosaurs_placed\",\"type\":\"array->object\",\"info\":\"list containing information about the dinosaurs placed in the houses from left to right. use “none” for dinosaurs not yet placed\\r\\narray containing dictionaries:\\r\\n[{“name”: string – name of first dinosaur, “size”:integer – size of first dinosaur}, {“name”: string – name of second dinosaur, “size”:integer – size of second dinosaur}, …]\\r\\n\"},{\"name\":\"event_count\",\"type\":\"int\",\"info\":\"session event counter\"},{\"name\":\"event_code\",\"type\":\"int\",\"info\":\"event class identifier\"}]\n",
      "\n",
      "[{\"name\":\"game_time\",\"type\":\"int\",\"info\":\"millisecond count since start of game\"},{\"name\":\"round\",\"type\":\"int\",\"info\":\"the number of the round that is has just finished\"},{\"name\":\"jar\",\"type\":\"array->object\",\"info\":\"list of layers of sand added to the jar from bottom to top of the jar completed this round:\\n[{“color”: string – color of sand in first layer, “amount”: int – amount of sand in the first layer}, {“color”: string – color of sand in second layer, “amount”: int – amount of sand in the second layer}, etc.]\"},{\"name\":\"duration\",\"type\":\"int\",\"info\":\"duration of the round in milliseconds\"},{\"name\":\"event_count\",\"type\":\"int\",\"info\":\"session event counter\"},{\"name\":\"event_code\",\"type\":\"int\",\"info\":\"event class identifier\"}]\n",
      "\n",
      "[{\"name\":\"game_time\",\"type\":\"int\",\"info\":\"millisecond count since start of game\"},{\"name\":\"round\",\"type\":\"int\",\"info\":\"number of the current round when the event takes place or 0 if no round\"},{\"name\":\"coordinates\",\"type\":\"object\",\"info\":\"the game screen coordinates of the mouse click\\ndictionary:\\n{“x”:integer, “y”:integer, “stage_width”:integer, “stage_height”:integer}\"},{\"name\":\"event_count\",\"type\":\"int\",\"info\":\"session event counter\"},{\"name\":\"event_code\",\"type\":\"int\",\"info\":\"event class identifier\"}]\n",
      "\n",
      "[{\"name\":\"game_time\",\"type\":\"int\",\"info\":\"millisecond count since start of game\"},{\"name\":\"round\",\"type\":\"int\",\"info\":\"number of the current round when the event takes place or 0 if no round\"},{\"name\":\"level\",\"type\":\"int\",\"info\":\"the number of the level that has just started\"},{\"name\":\"event_count\",\"type\":\"int\",\"info\":\"session event counter\"},{\"name\":\"event_code\",\"type\":\"int\",\"info\":\"event class identifier\"}]\n",
      "\n",
      "[{\"name\":\"game_time\",\"type\":\"int\",\"info\":\"millisecond count since start of game\"},{\"name\":\"buckets\",\"type\":\"array->int\",\"info\":\"list of buckets available in the resource area with 0 for missing buckets\"},{\"name\":\"buckets_placed\",\"type\":\"array->int\",\"info\":\"list of buckets placed under cauldrons from left to right with 0 for missing buckets\"},{\"name\":\"event_count\",\"type\":\"int\",\"info\":\"session event counter\"},{\"name\":\"event_code\",\"type\":\"int\",\"info\":\"event class identifier\"}]\n",
      "\n",
      "[{\"name\":\"game_time\",\"type\":\"int\",\"info\":\"millisecond count since start of game\"},{\"name\":\"round\",\"type\":\"int\",\"info\":\"the number of the round that has just been completed\"},{\"name\":\"duration\",\"type\":\"int\",\"info\":\"the duration of the round in milliseconds. Time between start round and beat round.\"},{\"name\":\"misses\",\"type\":\"int\",\"info\":\"count of times the player clicked on the wrong distance during the round\"},{\"name\":\"event_count\",\"type\":\"int\",\"info\":\"session event counter\"},{\"name\":\"event_code\",\"type\":\"int\",\"info\":\"event class identifier\"}]\n",
      "\n",
      "[{\"name\":\"game_time\",\"type\":\"int\",\"info\":\"millisecond count since start of game\"},{\"name\":\"round\",\"type\":\"int\",\"info\":\"number of the current round when the event takes place or 0 if no round\"},{\"name\":\"duration\",\"type\":\"int\",\"info\":\"the duration spent in the tutorial in milliseconds. Time between start tutorial and end tutorial.\"},{\"name\":\"event_count\",\"type\":\"int\",\"info\":\"session event counter\"},{\"name\":\"event_code\",\"type\":\"int\",\"info\":\"event class identifier\"}]\n",
      "\n",
      "[{\"name\":\"game_time\",\"type\":\"int\",\"info\":\"millisecond count since start of game\"},{\"name\":\"duration\",\"type\":\"int\",\"info\":\"time in milliseconds it took to drain the pool\"},{\"name\":\"event_count\",\"type\":\"int\",\"info\":\"session event counter\"},{\"name\":\"event_code\",\"type\":\"int\",\"info\":\"event class identifier\"}]\n",
      "\n",
      "[{\"name\":\"game_time\",\"type\":\"int\",\"info\":\"millisecond count since start of game\"},{\"name\":\"size\",\"type\":\"int\",\"info\":\"size of the castle being dragged or 0 if shovel\"},{\"name\":\"coordinates\",\"type\":\"object\",\"info\":\"the game screen coordinates of the click\\ndictionary:\\n{“x”: integer, “y”: integer, “stage_width”: integer, “stage_height”: integer}\"},{\"name\":\"duration\",\"type\":\"int\",\"info\":\"the duration of the drag in milliseconds\"},{\"name\":\"event_count\",\"type\":\"int\",\"info\":\"session event counter\"},{\"name\":\"event_code\",\"type\":\"int\",\"info\":\"event class identifier\"}]\n",
      "\n",
      "[{\"name\":\"game_time\",\"type\":\"int\",\"info\":\"millisecond count since start of game\"},{\"name\":\"crystal_id\",\"type\":\"string\",\"info\":\"unique identifier of the crystal\"},{\"name\":\"weight\",\"type\":\"int\",\"info\":\"weight of the crystal that was placed\"},{\"name\":\"coordinates\",\"type\":\"object\",\"info\":\"the game screen coordinates of the placement\\ndictionary:\\n{“x”: integer, “y”: integer, “stage_width”: integer, “stage_height”: integer}\"},{\"name\":\"side\",\"type\":\"string\",\"info\":\"“left” or “right” – mine cart the crystal was placed in\"},{\"name\":\"left\",\"type\":\"array->object\",\"info\":\"list of crystals placed in the left mine cart after the event occurs:\\n{“id”: string – unique identifier of the crystal, “weight”: integer – weight of the crystal}\"},{\"name\":\"duration\",\"type\":\"int\",\"info\":\"the duration of the drag in milliseconds\"},{\"name\":\"right\",\"type\":\"array->object\",\"info\":\"list of crystals placed in the right mine cart after the event occurs:\\n{“id”: string – unique identifier of the crystal, “weight”: integer – weight of the crystal}\"},{\"name\":\"crystals\",\"type\":\"array->object\",\"info\":\"list of the properties of the crystals in the resource area from left to right after the event occurs:\\n{“id”: string – unique identifier of the crystal, “weight”: integer – weight of the crystal}\"},{\"name\":\"source\",\"type\":\"string\",\"info\":\"“left”, “right”, or “resources” – place the crystal was picked up\"},{\"name\":\"event_count\",\"type\":\"int\",\"info\":\"session event counter\"},{\"name\":\"event_code\",\"type\":\"int\",\"info\":\"event class identifier\"}]\n",
      "\n",
      "[{\"name\":\"game_time\",\"type\":\"int\",\"info\":\"millisecond count since start of game\"},{\"name\":\"size\",\"type\":\"int\",\"info\":\"size of the castle that was placed\"},{\"name\":\"castles_placed\",\"type\":\"array->object\",\"info\":\"list of castles placed in the play area:\\n[{“size”: integer – size of the first placed sand castle, “position”: dictionary – position of the first placed sand castle: {“x”: integer, “y”: integer, “stage_width”: integer, “stage_height”: integer}}, {“size”: integer – size of the second placed sand castle, “position”: dictionary – position of the second placed sand castle: {“x”: integer, “y”: integer, “stage_width”: integer, “stage_height”: integer}}, etc.]\"},{\"name\":\"duration\",\"type\":\"int\",\"info\":\"the duration of the drag in milliseconds\"},{\"name\":\"coordinates\",\"type\":\"object\",\"info\":\"the game screen coordinates of the placement\\ndictionary:\\n{“x”: integer, “y”: integer, “stage_width”: integer, “stage_height”: integer}\"},{\"name\":\"event_count\",\"type\":\"int\",\"info\":\"session event counter\"},{\"name\":\"event_code\",\"type\":\"int\",\"info\":\"event class identifier\"}]\n",
      "\n",
      "[{\"name\":\"game_time\",\"type\":\"int\",\"info\":\"millisecond count since start of game\"},{\"name\":\"round\",\"type\":\"int\",\"info\":\"number of the current round when the event takes place or 0 if no round\"},{\"name\":\"containers\",\"type\":\"int\",\"info\":\"the number of containers in the chosen option\"},{\"name\":\"correct\",\"type\":\"boolean\",\"info\":\"was this the correct number of containers?\"},{\"name\":\"target_containers\",\"type\":\"int\",\"info\":\"the correct number of containers\"},{\"name\":\"position\",\"type\":\"int\",\"info\":\"the position of the chosen option with 1 being the leftmost option\"},{\"name\":\"coordinates\",\"type\":\"object\",\"info\":\"dictionary: \\n    {\\\"x\\\":integer, \\\"y\\\":integer, \\\"stage_width\\\":integer, \\\"stage_height\\\":integer}\\n    the game screen coordinates of the mouse click\"},{\"name\":\"event_count\",\"type\":\"int\",\"info\":\"session event counter\"},{\"name\":\"event_code\",\"type\":\"int\",\"info\":\"event class identifier\"}]\n",
      "\n",
      "[{\"name\":\"game_time\",\"type\":\"int\",\"info\":\"millisecond count since start of game\"},{\"name\":\"round\",\"type\":\"int\",\"info\":\"number of the current round when the event takes place or 0 if no round\"},{\"name\":\"description\",\"type\":\"string\",\"info\":\"the text or description of the instruction\"},{\"name\":\"identifier\",\"type\":\"string\",\"info\":\"a unique identifier for this piece of instruction\"},{\"name\":\"media_type\",\"type\":\"string\",\"info\":\"the type of media that has just played:\\n\\n'audio' || 'animation' || 'other'\"},{\"name\":\"total_duration\",\"type\":\"int\",\"info\":\"the estimated duration of the media playback in milliseconds (if it ran uninterrupted)\"},{\"name\":\"event_count\",\"type\":\"int\",\"info\":\"session event counter\"},{\"name\":\"event_code\",\"type\":\"int\",\"info\":\"event class identifier\"}]\n",
      "\n",
      "[{\"name\":\"game_time\",\"type\":\"int\",\"info\":\"millisecond count since start of game\"},{\"name\":\"hat\",\"type\":\"int\",\"info\":\"number on the hat that was dragged\"},{\"name\":\"source\",\"type\":\"string\",\"info\":\"“left”, “middle”, “right”, or “resources” – location the hat was dragged from\"},{\"name\":\"coordinates\",\"type\":\"object\",\"info\":\"the game screen coordinates of the placement\\r\\ndictionary:\\r\\n{“x”: integer, “y”: integer, “stage_width”: integer, “stage_height”: integer}\"},{\"name\":\"duration\",\"type\":\"int\",\"info\":\"the duration of the drag in milliseconds\"},{\"name\":\"event_count\",\"type\":\"int\",\"info\":\"session event counter\"},{\"name\":\"event_code\",\"type\":\"int\",\"info\":\"event class identifier\"}]\n",
      "\n",
      "[{\"name\":\"game_time\",\"type\":\"int\",\"info\":\"millisecond count since start of game\"},{\"name\":\"correct\",\"type\":\"boolean\",\"info\":\"are the caterpillars set to the correct heights?\"},{\"name\":\"caterpillars\",\"type\":\"array->int\",\"info\":\"list of the heights of caterpillars \"},{\"name\":\"event_count\",\"type\":\"int\",\"info\":\"session event counter\"},{\"name\":\"event_code\",\"type\":\"int\",\"info\":\"event class identifier\"}]\n",
      "\n",
      "[{\"name\":\"game_time\",\"type\":\"int\",\"info\":\"millisecond count since start of gamemillisecond count since start of game\"},{\"name\":\"round\",\"type\":\"int\",\"info\":\"number of the current round when the event takes place or 0 if no round\"},{\"name\":\"session_duration\",\"type\":\"int\",\"info\":\"millisecond count since start of game\"},{\"name\":\"exit_type\",\"type\":\"string\",\"info\":\"\\\"closed container\\\", \\\"game ended\\\", or browser exit/navigation\"},{\"name\":\"event_count\",\"type\":\"int\",\"info\":\"session event counter\"},{\"name\":\"event_code\",\"type\":\"int\",\"info\":\"event class identifier\"}]\n",
      "\n",
      "[{\"name\":\"game_time\",\"type\":\"int\",\"info\":\"millisecond count since start of game\"},{\"name\":\"round\",\"type\":\"int\",\"info\":\"number of the current round when the event takes place or 0 if no round\"},{\"name\":\"current_containers\",\"type\":\"int\",\"info\":\"the number of containers added to the tub after this event occurs\"},{\"name\":\"total_containers\",\"type\":\"int\",\"info\":\"the total number of containers that will be added to the tub\"},{\"name\":\"event_count\",\"type\":\"int\",\"info\":\"session event counter\"},{\"name\":\"event_code\",\"type\":\"int\",\"info\":\"event class identifier\"}]\n",
      "\n",
      "[{\"name\":\"game_time\",\"type\":\"int\",\"info\":\"millisecond count since start of game\"},{\"name\":\"crystal_id\",\"type\":\"string\",\"info\":\"unique identifier of the crystal\"},{\"name\":\"weight\",\"type\":\"int\",\"info\":\"weight of the crystal that was placed\"},{\"name\":\"left\",\"type\":\"array->object\",\"info\":\"list of crystals placed in the left mine cart:\\n{“id”: string – unique identifier of the crystal, “weight”: integer – weight of the crystal}\"},{\"name\":\"right\",\"type\":\"array->object\",\"info\":\"list of crystals placed in the right mine cart:\\n{“id”: string – unique identifier of the crystal, “weight”: integer – weight of the crystal}\"},{\"name\":\"coordinates\",\"type\":\"object\",\"info\":\"the game screen coordinates of the mouse click\\ndictionary:\\n{“x”: integer, “y”: integer, “stage_width”: integer, “stage_height”: integer}\"},{\"name\":\"source\",\"type\":\"string\",\"info\":\"“left” or “right” – location the crystal was picked up from\"},{\"name\":\"crystals\",\"type\":\"array->object\",\"info\":\"list of the properties of the crystals in the resource area from left to right after the event occurs:\\n{“id”: string – unique identifier of the crystal, “weight”: integer – weight of the crystal}\"},{\"name\":\"duration\",\"type\":\"int\",\"info\":\"the duration of the drag in milliseconds\"},{\"name\":\"event_count\",\"type\":\"int\",\"info\":\"session event counter\"},{\"name\":\"event_code\",\"type\":\"int\",\"info\":\"event class identifier\"}]\n",
      "\n",
      "[{\"name\":\"game_time\",\"type\":\"int\",\"info\":\"millisecond count since start of game\"},{\"name\":\"correct\",\"type\":\"boolean\",\"info\":\"were the mushrooms correctly placed?\"},{\"name\":\"stumps\",\"type\":\"array->int\",\"info\":\"list of mushroom heights placed on the stumps from left to right\"},{\"name\":\"event_count\",\"type\":\"int\",\"info\":\"session event counter\"},{\"name\":\"event_code\",\"type\":\"int\",\"info\":\"event class identifier\"}]\n",
      "\n",
      "[{\"name\":\"game_time\",\"type\":\"int\",\"info\":\"millisecond count since start of game\"},{\"name\":\"left\",\"type\":\"array->object\",\"info\":\"list of crystals placed in the left mine cart:\\n{“id”: string – unique identifier of the crystal, “weight”: integer – weight of the crystal}\"},{\"name\":\"right\",\"type\":\"array->object\",\"info\":\"list of crystals placed in the right mine cart:\\n{“id”: string – unique identifier of the crystal, “weight”: integer – weight of the crystal}\"},{\"name\":\"crystals\",\"type\":\"array->object\",\"info\":\"list of the properties of the crystals in the resource area from left to right:\\n{“id”: string – unique identifier of the crystal, “weight”: integer – weight of the crystal}\"},{\"name\":\"event_count\",\"type\":\"int\",\"info\":\"session event counter\"},{\"name\":\"event_code\",\"type\":\"int\",\"info\":\"event class identifier\"}]\n",
      "\n",
      "[{\"name\":\"game_time\",\"type\":\"int\",\"info\":\"millisecond count since start of game\"},{\"name\":\"round\",\"type\":\"int\",\"info\":\"number of the current round when the event takes place or 0 if no round\"},{\"name\":\"level\",\"type\":\"int\",\"info\":\"number of the current level when the event takes place or 0 if no level\"},{\"name\":\"movie_id\",\"type\":\"string\",\"info\":\"the identifier for the movie that was playing\"},{\"name\":\"duration\",\"type\":\"int\",\"info\":\"the duration of the media playback in milliseconds\"},{\"name\":\"description\",\"type\":\"string\",\"info\":\"the text or description of the instruction\"},{\"name\":\"event_count\",\"type\":\"int\",\"info\":\"session event counter\"},{\"name\":\"event_code\",\"type\":\"int\",\"info\":\"event class identifier\"}]\n",
      "\n",
      "[{\"name\":\"game_time\",\"type\":\"int\",\"info\":\"millisecond count since start of game\"},{\"name\":\"flowers\",\"type\":\"array->int\",\"info\":\"list of the height of each flower from left to right\"},{\"name\":\"event_count\",\"type\":\"int\",\"info\":\"session event counter\"},{\"name\":\"event_code\",\"type\":\"int\",\"info\":\"event class identifier\"}]\n",
      "\n",
      "[{\"name\":\"game_time\",\"type\":\"int\",\"info\":\"millisecond count since start of game\"},{\"name\":\"weight\",\"type\":\"int\",\"info\":\"weight of the chest that was placed\"},{\"name\":\"source\",\"type\":\"string\",\"info\":\"“left”, “right”, “heavy”, “heavier”, “heaviest”, or “resources” – location the chest was picked up from\"},{\"name\":\"coordinates\",\"type\":\"object\",\"info\":\"the game screen coordinates of the mouse click\\ndictionary:\\n{“x”: integer, “y”: integer, “stage_width”: integer, “stage_height”: integer}\"},{\"name\":\"duration\",\"type\":\"int\",\"info\":\"the duration of the drag in milliseconds\"},{\"name\":\"event_count\",\"type\":\"int\",\"info\":\"session event counter\"},{\"name\":\"event_code\",\"type\":\"int\",\"info\":\"event class identifier\"}]\n",
      "\n",
      "[{\"name\":\"game_time\",\"type\":\"int\",\"info\":\"millisecond count since start of game\"},{\"name\":\"session_duration\",\"type\":\"int\",\"info\":\"millisecond count since start of game\"},{\"name\":\"event_count\",\"type\":\"int\",\"info\":\"session event counter\"},{\"name\":\"event_code\",\"type\":\"int\",\"info\":\"event class identifier\"}]\n",
      "\n",
      "[{\"name\":\"game_time\",\"type\":\"int\",\"info\":\"millisecond count since start of game\"},{\"name\":\"round\",\"type\":\"int\",\"info\":\"number of the current round when the event takes place or 0 if no round\"},{\"name\":\"dinosaur\",\"type\":\"string\",\"info\":\"name of the dinosaur that was picked\"},{\"name\":\"size\",\"type\":\"int\",\"info\":\"size of the dinosaur that was picked\"},{\"name\":\"dinosaurs\",\"type\":\"array->object\",\"info\":\"list containing information about the dinosaurs in the round ordered from left to right. use “none” dinosaurs already placed and currently held dinosaur\\r\\narray containing dictionaries:\\r\\n[{“name”: string – name of first dinosaur, “size”:integer – size of first dinosaur}, {“name”: string – name of second dinosaur, “size”:integer – size of second dinosaur}, …]\"},{\"name\":\"coordinates\",\"type\":\"object\",\"info\":\"dictionary: \\n    {\\\"x\\\":integer, \\\"y\\\":integer, \\\"stage_width\\\":integer, \\\"stage_height\\\":integer}\\n    the game screen coordinates of the mouse click\"},{\"name\":\"event_count\",\"type\":\"int\",\"info\":\"session event counter\"},{\"name\":\"event_code\",\"type\":\"int\",\"info\":\"event class identifier\"}]\n",
      "\n",
      "[{\"name\":\"game_time\",\"type\":\"int\",\"info\":\"millisecond count since start of game\"},{\"name\":\"size\",\"type\":\"int\",\"info\":\"size of the castle being dragged or 0 if shovel\"},{\"name\":\"coordinates\",\"type\":\"object\",\"info\":\"the game screen coordinates of the placement\\ndictionary:\\n{“x”: integer, “y”: integer, “stage_width”: integer, “stage_height”: integer}\"},{\"name\":\"event_count\",\"type\":\"int\",\"info\":\"session event counter\"},{\"name\":\"event_code\",\"type\":\"int\",\"info\":\"event class identifier\"}]\n",
      "\n",
      "[{\"name\":\"game_time\",\"type\":\"int\",\"info\":\"millisecond count since start of game\"},{\"name\":\"correct\",\"type\":\"boolean\",\"info\":\"were the chests correctly placed?\"},{\"name\":\"pillars\",\"type\":\"array->int\",\"info\":\"list of chest weights placed on the pillars from left to right\"},{\"name\":\"event_count\",\"type\":\"int\",\"info\":\"session event counter\"},{\"name\":\"event_code\",\"type\":\"int\",\"info\":\"event class identifier\"}]\n",
      "\n",
      "[{\"name\":\"game_time\",\"type\":\"int\",\"info\":\"millisecond count since start of game\"},{\"name\":\"round\",\"type\":\"int\",\"info\":\"the number of the round that has just been completed\"},{\"name\":\"duration\",\"type\":\"int\",\"info\":\"the duration of the round in milliseconds. Time between start round and beat round.\"},{\"name\":\"misses\",\"type\":\"int\",\"info\":\"the number of incorrect choices made during the round\"},{\"name\":\"event_count\",\"type\":\"int\",\"info\":\"session event counter\"},{\"name\":\"event_code\",\"type\":\"int\",\"info\":\"event class identifier\"}]\n",
      "\n",
      "[{\"name\":\"game_time\",\"type\":\"int\",\"info\":\"millisecond count since start of game\"},{\"name\":\"rocket\",\"type\":\"int\",\"info\":\"number of the rocket with 1 being the far left rocket\"},{\"name\":\"height\",\"type\":\"int\",\"info\":\"height of the line dragged from the rocket\"},{\"name\":\"duration\",\"type\":\"int\",\"info\":\"the duration of the drag in milliseconds\"},{\"name\":\"coordinates\",\"type\":\"object\",\"info\":\"the game screen coordinates of the placement\\r\\ndictionary:\\r\\n{“x”: integer, “y”: integer, “stage_width”: integer, “stage_height”: integer}\"},{\"name\":\"launched\",\"type\":\"boolean\",\"info\":\"was the line dragged the minimum amount of height for the rocket to fire?\"},{\"name\":\"event_count\",\"type\":\"int\",\"info\":\"session event counter\"},{\"name\":\"event_code\",\"type\":\"int\",\"info\":\"event class identifier\"}]\n",
      "\n",
      "[{\"name\":\"game_time\",\"type\":\"int\",\"info\":\"millisecond count since start of game\"},{\"name\":\"layout\",\"type\":\"object\",\"info\":\"dictionary describing the state of the see-saw after the event occurs:\\n{“left”: {“chickens”: int – count of chickens on the left side, “pig”: boolean – is pig on the left side?},\\n“right”: {“chickens”: int – count of chickens on the right side, “pig”: boolean – is pig on the right side?}}\"},{\"name\":\"event_count\",\"type\":\"int\",\"info\":\"session event counter\"},{\"name\":\"event_code\",\"type\":\"int\",\"info\":\"event class identifier\"}]\n",
      "\n",
      "[{\"name\":\"game_time\",\"type\":\"int\",\"info\":\"millisecond count since start of game\"},{\"name\":\"round\",\"type\":\"int\",\"info\":\"number of the current round when the event takes place or 0 if no round\"},{\"name\":\"bottle\",\"type\":\"object\",\"info\":\"properties of the jar that was dragged:\\n{“amount”: int – amount of sand in the jar, “color”: string – color of sand in the jar}\"},{\"name\":\"coordinates\",\"type\":\"object\",\"info\":\"the game screen coordinates of the click\\ndictionary:\\n{“x”: integer, “y”: integer, “stage_width”: integer, “stage_height”: integer}\"},{\"name\":\"duration\",\"type\":\"int\",\"info\":\"the duration of the drag in milliseconds\"},{\"name\":\"bottles\",\"type\":\"array->object\",\"info\":\"list of bottles of sand in the resource area from left to right:\\n[{“color”: string – color of sand in first bottle, “amount”: int – amount of sand in the first bottle}, {“color”: string – color of sand in second bottle, “amount”: int – amount of sand in the second bottle}, etc.]\"},{\"name\":\"source\",\"type\":\"int\",\"info\":\"location the bottle was picked up from with 1 being far left\"},{\"name\":\"event_count\",\"type\":\"int\",\"info\":\"session event counter\"},{\"name\":\"event_code\",\"type\":\"int\",\"info\":\"event class identifier\"}]\n",
      "\n",
      "[{\"name\":\"game_time\",\"type\":\"int\",\"info\":\"millisecond count since start of game\"},{\"name\":\"round\",\"type\":\"int\",\"info\":\"number of the current round when the event takes place or 0 if no round\"},{\"name\":\"coordinates\",\"type\":\"object\",\"info\":\"dictionary: \\r\\n    {\\\"x\\\":integer, \\\"y\\\":integer, \\\"stage_width\\\":integer, \\\"stage_height\\\":integer}\\r\\n    the game screen coordinates of the mouse click\"},{\"name\":\"holding_shell\",\"type\":\"boolean\",\"info\":\"is a shall attached to the cursor?\"},{\"name\":\"has_water\",\"type\":\"boolean\",\"info\":\"does the shell have water?\"},{\"name\":\"event_count\",\"type\":\"int\",\"info\":\"session event counter\"},{\"name\":\"event_code\",\"type\":\"int\",\"info\":\"event class identifier\"}]\n",
      "\n",
      "[{\"name\":\"game_time\",\"type\":\"int\",\"info\":\"millisecond count since start of game\"},{\"name\":\"round\",\"type\":\"int\",\"info\":\"the number of the round that is about to start\"},{\"name\":\"target_size\",\"type\":\"int\",\"info\":\"correct number of objects\"},{\"name\":\"resources\",\"type\":\"array->int\",\"info\":\"list from top to bottom of object count options\"},{\"name\":\"object_type\",\"type\":\"string\",\"info\":\"type of object used for measuring this round\"},{\"name\":\"event_count\",\"type\":\"int\",\"info\":\"session event counter\"},{\"name\":\"event_code\",\"type\":\"int\",\"info\":\"event class identifier\"}]\n",
      "\n",
      "[{\"name\":\"game_time\",\"type\":\"int\",\"info\":\"millisecond count since start of game\"},{\"name\":\"bucket\",\"type\":\"int\",\"info\":\"capacity of the bucket being dragged\"},{\"name\":\"buckets\",\"type\":\"array->int\",\"info\":\"list of buckets available in the resource area with 0 for missing buckets\"},{\"name\":\"coordinates\",\"type\":\"object\",\"info\":\"the game screen coordinates of the placement\\ndictionary:\\n{“x”: integer, “y”: integer, “stage_width”: integer, “stage_height”: integer}\"},{\"name\":\"buckets_placed\",\"type\":\"array->int\",\"info\":\"list of buckets placed under cauldrons from left to right with 0 for missing buckets\"},{\"name\":\"source\",\"type\":\"string\",\"info\":\"“left”, “middle”, “right”, or “resources” – location the bucket was dragged from\"},{\"name\":\"event_count\",\"type\":\"int\",\"info\":\"session event counter\"},{\"name\":\"event_code\",\"type\":\"int\",\"info\":\"event class identifier\"}]\n",
      "\n",
      "[{\"name\":\"game_time\",\"type\":\"int\",\"info\":\"millisecond count since start of game\"},{\"name\":\"round\",\"type\":\"int\",\"info\":\"number of the current round when the event takes place or 0 if no round\"},{\"name\":\"level\",\"type\":\"int\",\"info\":\"number of the current level when the event takes place or 0 if no level\"},{\"name\":\"movie_id\",\"type\":\"string\",\"info\":\"the identifier for the movie that was playing\"},{\"name\":\"duration\",\"type\":\"int\",\"info\":\"the duration of the media playback in milliseconds\"},{\"name\":\"description\",\"type\":\"string\",\"info\":\"the text or description of the instruction\"},{\"name\":\"time_played\",\"type\":\"int\",\"info\":\"the time the media has been playing milliseconds when the button is pressed\"},{\"name\":\"event_count\",\"type\":\"int\",\"info\":\"session event counter\"},{\"name\":\"event_code\",\"type\":\"int\",\"info\":\"event class identifier\"}]\n",
      "\n",
      "[{\"name\":\"game_time\",\"type\":\"int\",\"info\":\"millisecond count since start of game\"},{\"name\":\"round\",\"type\":\"int\",\"info\":\"the number of the round that is about to start\"},{\"name\":\"previous_jars\",\"type\":\"array->object\",\"info\":\"list of jars filled on previous rounds:\\n[[{“color”: string – color of sand in first layer of the first jar, “amount”: int – amount of sand in the first layer of the first jar}, {“color”: string – color of sand in second layer of the first jar, “amount”: int – amount of sand in the second layer of the first jar}, etc.], [{“color”: string – color of sand in first layer of the second jar, “amount”: int – amount of sand in the first layer of the second jar}, {“color”: string – color of sand in second layer of the second jar, “amount”: int – amount of sand in the second layer of the second jar}, etc.], etc.]\"},{\"name\":\"event_count\",\"type\":\"int\",\"info\":\"session event counter\"},{\"name\":\"event_code\",\"type\":\"int\",\"info\":\"event class identifier\"}]\n",
      "\n",
      "[{\"name\":\"game_time\",\"type\":\"int\",\"info\":\"millisecond count since start of game\"},{\"name\":\"hat\",\"type\":\"int\",\"info\":\"number on the hat that was placed\"},{\"name\":\"coordinates\",\"type\":\"object\",\"info\":\"the game screen coordinates of the placement\\r\\ndictionary:\\r\\n{“x”: integer, “y”: integer, “stage_width”: integer, “stage_height”: integer}\"},{\"name\":\"hats\",\"type\":\"array->int\",\"info\":\"list of hats placed on the birds from left to right after the placement occurs\"},{\"name\":\"source\",\"type\":\"string\",\"info\":\"“left”, “middle”, or “right” – location the hat was dragged from\"},{\"name\":\"duration\",\"type\":\"int\",\"info\":\"the duration of the drag in milliseconds\"},{\"name\":\"event_count\",\"type\":\"int\",\"info\":\"session event counter\"},{\"name\":\"event_code\",\"type\":\"int\",\"info\":\"event class identifier\"}]\n",
      "\n",
      "[{\"name\":\"game_time\",\"type\":\"int\",\"info\":\"millisecond count since start of game\"},{\"name\":\"round\",\"type\":\"int\",\"info\":\"number of the current round when the event takes place or 0 if no round\"},{\"name\":\"max_position\",\"type\":\"number\",\"info\":\"farthest right position the object was dragged to during the drag with 0 being far left position and 1 being far right position\"},{\"name\":\"end_position\",\"type\":\"number\",\"info\":\"final position the object was dragged to with 0 being far left position and 1 being far right position\"},{\"name\":\"duration\",\"type\":\"int\",\"info\":\"time in milliseconds that the object was \\\"held\\\"\"},{\"name\":\"event_count\",\"type\":\"int\",\"info\":\"session event counter\"},{\"name\":\"event_code\",\"type\":\"int\",\"info\":\"event class identifier\"}]\n",
      "\n",
      "[{\"name\":\"game_time\",\"type\":\"int\",\"info\":\"millisecond count since start of game\"},{\"name\":\"round\",\"type\":\"int\",\"info\":\"the number of the round that is about to start\"},{\"name\":\"dinosaur\",\"type\":\"string\",\"info\":\"name of dinosaur being fed this round\"},{\"name\":\"diet\",\"type\":\"string\",\"info\":\"herbivore or carnivore ? type of food being used this round\"},{\"name\":\"target_weight\",\"type\":\"int\",\"info\":\"the correct weight of food for this round\"},{\"name\":\"resources\",\"type\":\"array->int\",\"info\":\"list of the weights of food options in the resource area\"},{\"name\":\"event_count\",\"type\":\"int\",\"info\":\"session event counter\"},{\"name\":\"event_code\",\"type\":\"int\",\"info\":\"event class identifier\"}]\n",
      "\n",
      "[{\"name\":\"game_time\",\"type\":\"int\",\"info\":\"millisecond count since start of game\"},{\"name\":\"round\",\"type\":\"int\",\"info\":\"number of the current round when the event takes place or 0 if no round\"},{\"name\":\"toy\",\"type\":\"string\",\"info\":\"name of the toy being picked up\"},{\"name\":\"coordinates\",\"type\":\"object\",\"info\":\"dictionary: \\n    {\\\"x\\\":integer, \\\"y\\\":integer, \\\"stage_width\\\":integer, \\\"stage_height\\\":integer}\\n    the game screen coordinates of the mouse click\"},{\"name\":\"event_count\",\"type\":\"int\",\"info\":\"session event counter\"},{\"name\":\"event_code\",\"type\":\"int\",\"info\":\"event class identifier\"}]\n",
      "\n",
      "[{\"name\":\"game_time\",\"type\":\"int\",\"info\":\"millisecond count since start of game\"},{\"name\":\"round\",\"type\":\"int\",\"info\":\"number of the current round when the event takes place or 0 if no round\"},{\"name\":\"target_containers\",\"type\":\"int\",\"info\":\"the selected number of containers the player will fill\"},{\"name\":\"event_count\",\"type\":\"int\",\"info\":\"session event counter\"},{\"name\":\"event_code\",\"type\":\"int\",\"info\":\"event class identifier\"}]\n",
      "\n",
      "[{\"name\":\"game_time\",\"type\":\"int\",\"info\":\"millisecond count since start of game\"},{\"name\":\"size\",\"type\":\"int\",\"info\":\"size of the castle that was filled\"},{\"name\":\"sand\",\"type\":\"int\",\"info\":\"amount of sand currently in the mold\"},{\"name\":\"duration\",\"type\":\"int\",\"info\":\"the duration of the drag in milliseconds\"},{\"name\":\"coordinates\",\"type\":\"object\",\"info\":\"the game screen coordinates of the placement\\ndictionary:\\n{“x”: integer, “y”: integer, “stage_width”: integer, “stage_height”: integer}\"},{\"name\":\"filled\",\"type\":\"boolean\",\"info\":\"is the mold now full?\"},{\"name\":\"event_count\",\"type\":\"int\",\"info\":\"session event counter\"},{\"name\":\"event_code\",\"type\":\"int\",\"info\":\"event class identifier\"}]\n",
      "\n",
      "[{\"name\":\"game_time\",\"type\":\"int\",\"info\":\"millisecond count since start of game\"},{\"name\":\"cloud\",\"type\":\"string\",\"info\":\"“left”, “middle”, or “right” cloud\"},{\"name\":\"cloud_size\",\"type\":\"int\",\"info\":\"size of the filled cloud (should correspond with water_level values)\"},{\"name\":\"event_count\",\"type\":\"int\",\"info\":\"session event counter\"},{\"name\":\"event_code\",\"type\":\"int\",\"info\":\"event class identifier\"}]\n",
      "\n",
      "[{\"name\":\"game_time\",\"type\":\"int\",\"info\":\"millisecond count since start of game\"},{\"name\":\"round\",\"type\":\"int\",\"info\":\"number of the current round when the event takes place or 0 if no round\"},{\"name\":\"duration\",\"type\":\"int\",\"info\":\"the duration spent in the tutorial in milliseconds. Time between start tutorial and skip tutorial.\"},{\"name\":\"tutorial_step\",\"type\":\"int\",\"info\":\"the current step of the tutorial when the skip event occurs\"},{\"name\":\"event_count\",\"type\":\"int\",\"info\":\"session event counter\"},{\"name\":\"event_code\",\"type\":\"int\",\"info\":\"event class identifier\"}]\n",
      "\n",
      "[{\"name\":\"game_time\",\"type\":\"int\",\"info\":\"millisecond count since start of game\"},{\"name\":\"round\",\"type\":\"int\",\"info\":\"number of the current round when the event takes place or 0 if no round\"},{\"name\":\"target_containers\",\"type\":\"int\",\"info\":\"the total number of containers that will be added to the tub\"},{\"name\":\"event_count\",\"type\":\"int\",\"info\":\"session event counter\"},{\"name\":\"event_code\",\"type\":\"int\",\"info\":\"event class identifier\"}]\n",
      "\n",
      "[{\"name\":\"game_time\",\"type\":\"int\",\"info\":\"millisecond count since start of game\"},{\"name\":\"coordinates\",\"type\":\"object\",\"info\":\"the game screen coordinates of the placement\\ndictionary:\\n{“x”: integer, “y”: integer, “stage_width”: integer, “stage_height”: integer}\"},{\"name\":\"duration\",\"type\":\"int\",\"info\":\"the duration of the drag in milliseconds\"},{\"name\":\"event_count\",\"type\":\"int\",\"info\":\"session event counter\"},{\"name\":\"event_code\",\"type\":\"int\",\"info\":\"event class identifier\"}]\n",
      "\n",
      "[{\"name\":\"game_time\",\"type\":\"int\",\"info\":\"millisecond count since start of game\"},{\"name\":\"weight\",\"type\":\"int\",\"info\":\"weight of the chest that was placed\"},{\"name\":\"coordinates\",\"type\":\"object\",\"info\":\"the game screen coordinates of the mouse click\\ndictionary:\\n{“x”: integer, “y”: integer, “stage_width”: integer, “stage_height”: integer}\"},{\"name\":\"left\",\"type\":\"int\",\"info\":\"weight of chest on the left side of the scale after the event occurs\"},{\"name\":\"right\",\"type\":\"int\",\"info\":\"weight of chest on the right side of the scale after the event occurs\"},{\"name\":\"pillars\",\"type\":\"array->int\",\"info\":\"list of chest weights placed on the pillars from left to right after the placement occurs\"},{\"name\":\"source\",\"type\":\"string\",\"info\":\"“left”, “right”, “heavy”, “heavier”, or “heaviest” – location the chest was picked up from\"},{\"name\":\"duration\",\"type\":\"int\",\"info\":\"the duration of the drag in milliseconds\"},{\"name\":\"event_count\",\"type\":\"int\",\"info\":\"session event counter\"},{\"name\":\"event_code\",\"type\":\"int\",\"info\":\"event class identifier\"}]\n",
      "\n",
      "[{\"name\":\"game_time\",\"type\":\"int\",\"info\":\"millisecond count since start of game\"},{\"name\":\"height\",\"type\":\"int\",\"info\":\"height of the caterpillar that was set\"},{\"name\":\"bird_height\",\"type\":\"int\",\"info\":\"height of the bird the caterpillar is measuring\"},{\"name\":\"correct\",\"type\":\"boolean\",\"info\":\"was the caterpillar dragged to the correct height of the bird?\"},{\"name\":\"caterpillar\",\"type\":\"string\",\"info\":\"“left”, “middle”, or “right” – location of the caterpillar that was dragged\"},{\"name\":\"caterpillars\",\"type\":\"array->int\",\"info\":\"list of the heights of caterpillars after this event occurs\"},{\"name\":\"coordinates\",\"type\":\"object\",\"info\":\"the game screen coordinates of the placement\\ndictionary:\\n{“x”: integer, “y”: integer, “stage_width”: integer, “stage_height”: integer}\"},{\"name\":\"duration\",\"type\":\"int\",\"info\":\"the duration of the drag in milliseconds\"},{\"name\":\"event_count\",\"type\":\"int\",\"info\":\"session event counter\"},{\"name\":\"event_code\",\"type\":\"int\",\"info\":\"event class identifier\"}]\n",
      "\n",
      "[{\"name\":\"game_time\",\"type\":\"int\",\"info\":\"millisecond count since start of game\"},{\"name\":\"side\",\"type\":\"string\",\"info\":\"“left” or “right” – side the chicken was placed on\"},{\"name\":\"layout\",\"type\":\"object\",\"info\":\"dictionary describing the state of the see-saw after the event occurs:\\n{“left”: {“chickens”: int – count of chickens on the left side, “pig”: boolean – is pig on the left side?},\\n“right”: {“chickens”: int – count of chickens on the right side, “pig”: boolean – is pig on the right side?}}\"},{\"name\":\"coordinates\",\"type\":\"object\",\"info\":\"the game screen coordinates of the placement\\ndictionary:\\n{“x”:integer, “y”:integer, “stage_width”:integer, “stage_height”:integer}\"},{\"name\":\"duration\",\"type\":\"int\",\"info\":\"the duration of the drag in milliseconds\"},{\"name\":\"source\",\"type\":\"string\",\"info\":\"“left”, “right”, or “resources” – location the chicken was dragged from\"},{\"name\":\"event_count\",\"type\":\"int\",\"info\":\"session event counter\"},{\"name\":\"event_code\",\"type\":\"int\",\"info\":\"event class identifier\"}]\n",
      "\n",
      "[{\"name\":\"game_time\",\"type\":\"int\",\"info\":\"millisecond count since start of game\"},{\"name\":\"round\",\"type\":\"int\",\"info\":\"the number of the round that has just been completed\"},{\"name\":\"duration\",\"type\":\"int\",\"info\":\"the duration of the round in milliseconds. Time between start round and beat round.\"},{\"name\":\"misses\",\"type\":\"int\",\"info\":\"count of times an incorrect number of objects was selected during the round\"},{\"name\":\"event_count\",\"type\":\"int\",\"info\":\"session event counter\"},{\"name\":\"event_code\",\"type\":\"int\",\"info\":\"event class identifier\"}]\n",
      "\n",
      "[{\"name\":\"game_time\",\"type\":\"int\",\"info\":\"millisecond count since start of game\"},{\"name\":\"round\",\"type\":\"int\",\"info\":\"number of the current round when the event takes place or 0 if no round\"},{\"name\":\"weight\",\"type\":\"int\",\"info\":\"weight of the food that was placed\"},{\"name\":\"correct\",\"type\":\"boolean\",\"info\":\"does this bring us closer to the target weight?\"},{\"name\":\"scale_weight\",\"type\":\"int\",\"info\":\"total weight of the food on the scale\"},{\"name\":\"scale_contents\",\"type\":\"array->int\",\"info\":\"list of weights of food on the scale\"},{\"name\":\"coordinates\",\"type\":\"object\",\"info\":\"dictionary: \\n    {\\\"x\\\":integer, \\\"y\\\":integer, \\\"stage_width\\\":integer, \\\"stage_height\\\":integer}\\n    the game screen coordinates of the mouse click\"},{\"name\":\"duration\",\"type\":\"int\",\"info\":\"the time in milliseconds that the food was held\"},{\"name\":\"event_count\",\"type\":\"int\",\"info\":\"session event counter\"},{\"name\":\"event_code\",\"type\":\"int\",\"info\":\"event class identifier\"}]\n",
      "\n",
      "[{\"name\":\"game_time\",\"type\":\"int\",\"info\":\"millisecond count since start of game\"},{\"name\":\"round\",\"type\":\"int\",\"info\":\"number of the current round when the event takes place or 0 if no round\"},{\"name\":\"previous_jars\",\"type\":\"array->object\",\"info\":\"list of jars filled on previous rounds:\\n[[{“color”: string – color of sand in first layer of the first jar, “amount”: int – amount of sand in the first layer of the first jar}, {“color”: string – color of sand in second layer of the first jar, “amount”: int – amount of sand in the second layer of the first jar}, etc.], [{“color”: string – color of sand in first layer of the second jar, “amount”: int – amount of sand in the first layer of the second jar}, {“color”: string – color of sand in second layer of the second jar, “amount”: int – amount of sand in the second layer of the second jar}, etc.], etc.]\"},{\"name\":\"bottles\",\"type\":\"array->object\",\"info\":\"list of bottles of sand in the resource area from left to right:\\n[{“color”: string – color of sand in first bottle, “amount”: int – amount of sand in the first bottle}, {“color”: string – color of sand in second bottle, “amount”: int – amount of sand in the second bottle}, etc.]\"},{\"name\":\"jar\",\"type\":\"array->object\",\"info\":\"list of layers of sand added to the jar from bottom to top:\\n[{“color”: string – color of sand in first layer, “amount”: int – amount of sand in the first layer}, {“color”: string – color of sand in second layer, “amount”: int – amount of sand in the second layer}, etc.]\"},{\"name\":\"event_count\",\"type\":\"int\",\"info\":\"session event counter\"},{\"name\":\"event_code\",\"type\":\"int\",\"info\":\"event class identifier\"}]\n",
      "\n",
      "[{\"name\":\"game_time\",\"type\":\"int\",\"info\":\"millisecond count since start of game\"},{\"name\":\"round\",\"type\":\"int\",\"info\":\"number of the current round when the event takes place or 0 if no round\"},{\"name\":\"dinosaur\",\"type\":\"string\",\"info\":\"name of the dinosaur that was placed\"},{\"name\":\"house\",\"type\":\"object\",\"info\":\"properties of the house where the dinosaur was placed\\r\\ndictionary:\\r\\n{“size”:integer - size of the house, “position”:integer – position of the house with 1 being far left position}\"},{\"name\":\"size\",\"type\":\"int\",\"info\":\"size of the dinosaur that was placed\"},{\"name\":\"correct\",\"type\":\"boolean\",\"info\":\"was this the correct house to place the dinosaur?\"},{\"name\":\"dinosaurs\",\"type\":\"array->object\",\"info\":\"list containing information about the dinosaurs in the round ordered from left to right. use “none” dinosaurs already placed\\r\\narray containing dictionaries:\\r\\n[{“name”: string – name of first dinosaur, “size”:integer – size of first dinosaur}, {“name”: string – name of second dinosaur, “size”:integer – size of second dinosaur}, …]\"},{\"name\":\"coordinates\",\"type\":\"object\",\"info\":\"dictionary: \\r\\n    {\\\"x\\\":integer, \\\"y\\\":integer, \\\"stage_width\\\":integer, \\\"stage_height\\\":integer}\\r\\n    the game screen coordinates of the mouse click\"},{\"name\":\"duration\",\"type\":\"int\",\"info\":\"the time in milliseconds that the dinosaur was “held”\"},{\"name\":\"dinosaurs_placed\",\"type\":\"array->object\",\"info\":\"list containing information about the dinosaurs placed in the houses from left to right. use “none” for dinosaurs not yet placed\\r\\narray containing dictionaries:\\r\\n[{“name”: string – name of first dinosaur, “size”:integer – size of first dinosaur}, {“name”: string – name of second dinosaur, “size”:integer – size of second dinosaur}, …]\\r\\n\"},{\"name\":\"event_count\",\"type\":\"int\",\"info\":\"session event counter\"},{\"name\":\"event_code\",\"type\":\"int\",\"info\":\"event class identifier\"}]\n",
      "\n",
      "[{\"name\":\"game_time\",\"type\":\"int\",\"info\":\"millisecond count since start of game\"},{\"name\":\"round\",\"type\":\"int\",\"info\":\"the number of the round that is about to start\"},{\"name\":\"level\",\"type\":\"int\",\"info\":\"number of the current level when the event takes place or 0 if no level\"},{\"name\":\"round_target\",\"type\":\"object\",\"info\":\"\\\"size\\\": size of item needed to pass round with 1 being the smallest size\\r\\n\\\"type\\\": type of item being selected e.g. tub, water, soap\\r\\n\\\"animal\\\": the animal the player is selecting an item for\"},{\"name\":\"options\",\"type\":\"array->int\",\"info\":\"list of the sizes of the items from left to right\"},{\"name\":\"animals\",\"type\":\"array->string\",\"info\":\"list of animals from left to right (pig, cow, sheep, etc)\"},{\"name\":\"event_count\",\"type\":\"int\",\"info\":\"session event counter\"},{\"name\":\"event_code\",\"type\":\"int\",\"info\":\"event class identifier\"}]\n",
      "\n",
      "[{\"name\":\"game_time\",\"type\":\"int\",\"info\":\"millisecond count since start of game\"},{\"name\":\"height\",\"type\":\"int\",\"info\":\"height of the mushroom that was dragged\"},{\"name\":\"source\",\"type\":\"string\",\"info\":\"“left”, “middle”, “right” or “resources” - location the mushroom was dragged from\"},{\"name\":\"coordinates\",\"type\":\"object\",\"info\":\"the game screen coordinates of the placement\\n{“x”: integer, “y”: integer, “stage_width”: integer, “stage_height”: integer}\"},{\"name\":\"duration\",\"type\":\"int\",\"info\":\"the duration of the drag in milliseconds\"},{\"name\":\"event_count\",\"type\":\"int\",\"info\":\"session event counter\"},{\"name\":\"event_code\",\"type\":\"int\",\"info\":\"event class identifier\"}]\n",
      "\n",
      "[{\"name\":\"game_time\",\"type\":\"int\",\"info\":\"millisecond count since start of game\"},{\"name\":\"hats\",\"type\":\"array->int\",\"info\":\"list of hats placed on the birds from left to right\"},{\"name\":\"caterpillars\",\"type\":\"array->int\",\"info\":\"list of the heights of caterpillars \"},{\"name\":\"mode\",\"type\":\"string\",\"info\":\"“hats” or “caterpillars” – current mode when the help button is clicked\"},{\"name\":\"event_count\",\"type\":\"int\",\"info\":\"session event counter\"},{\"name\":\"event_code\",\"type\":\"int\",\"info\":\"event class identifier\"}]\n",
      "\n",
      "[{\"name\":\"game_time\",\"type\":\"int\",\"info\":\"millisecond count since start of game\"},{\"name\":\"height\",\"type\":\"int\",\"info\":\"height of the mushroom that was picked up\"},{\"name\":\"stumps\",\"type\":\"array->int\",\"info\":\"list of mushroom heights placed on the stumps from left to right after the placement occurs\"},{\"name\":\"coordinates\",\"type\":\"object\",\"info\":\"the game screen coordinates of the placement\\n{“x”: integer, “y”: integer, “stage_width”: integer, “stage_height”: integer}\"},{\"name\":\"source\",\"type\":\"string\",\"info\":\"“left”, “middle”, “right” or “resources” - location the mushroom was dragged from\"},{\"name\":\"event_count\",\"type\":\"int\",\"info\":\"session event counter\"},{\"name\":\"event_code\",\"type\":\"int\",\"info\":\"event class identifier\"}]\n",
      "\n",
      "[{\"name\":\"game_time\",\"type\":\"int\",\"info\":\"millisecond count since start of game\"},{\"name\":\"round\",\"type\":\"int\",\"info\":\"number of the current round when the event takes place or 0 if no round\"},{\"name\":\"scale_weights\",\"type\":\"int\",\"info\":\"the new number of weights on the scale after the weight is placed\"},{\"name\":\"target_weight\",\"type\":\"int\",\"info\":\"the weight of the object\"},{\"name\":\"table_weights\",\"type\":\"int\",\"info\":\"number of weights on the table\"},{\"name\":\"event_count\",\"type\":\"int\",\"info\":\"session event counter\"},{\"name\":\"event_code\",\"type\":\"int\",\"info\":\"event class identifier\"}]\n",
      "\n",
      "[{\"name\":\"game_time\",\"type\":\"int\",\"info\":\"millisecond count since start of game\"},{\"name\":\"round\",\"type\":\"int\",\"info\":\"the number of the round that is about to start\"},{\"name\":\"target_water_level\",\"type\":\"int\",\"info\":\"level the water must reach to pass the round\"},{\"name\":\"event_count\",\"type\":\"int\",\"info\":\"session event counter\"},{\"name\":\"event_code\",\"type\":\"int\",\"info\":\"event class identifier\"}]\n",
      "\n",
      "[{\"name\":\"game_time\",\"type\":\"int\",\"info\":\"millisecond count since start of game\"},{\"name\":\"round\",\"type\":\"int\",\"info\":\"the number of the round that is about to start\"},{\"name\":\"shells\",\"type\":\"array->int\",\"info\":\"list of shell sizes from left to right\"},{\"name\":\"holes\",\"type\":\"array->int\",\"info\":\"list of water holes from left to right\"},{\"name\":\"event_count\",\"type\":\"int\",\"info\":\"session event counter\"},{\"name\":\"event_code\",\"type\":\"int\",\"info\":\"event class identifier\"}]\n",
      "\n",
      "[{\"name\":\"game_time\",\"type\":\"int\",\"info\":\"millisecond count since start of game\"},{\"name\":\"round\",\"type\":\"int\",\"info\":\"number of the current round when the event takes place or 0 if no round\"},{\"name\":\"weight\",\"type\":\"int\",\"info\":\"weight of the food that was placed\"},{\"name\":\"resources\",\"type\":\"array->int\",\"info\":\"list of the weights of food options in the resource area after the event occurs\"},{\"name\":\"coordinates\",\"type\":\"object\",\"info\":\"dictionary: \\n    {\\\"x\\\":integer, \\\"y\\\":integer, \\\"stage_width\\\":integer, \\\"stage_height\\\":integer}\\n    the game screen coordinates of the mouse click\"},{\"name\":\"duration\",\"type\":\"int\",\"info\":\"the time in milliseconds that the food was held\"},{\"name\":\"event_count\",\"type\":\"int\",\"info\":\"session event counter\"},{\"name\":\"event_code\",\"type\":\"int\",\"info\":\"event class identifier\"}]\n",
      "\n",
      "[{\"name\":\"game_time\",\"type\":\"int\",\"info\":\"millisecond count since start of game\"},{\"name\":\"round\",\"type\":\"int\",\"info\":\"number of the current round when the event takes place or 0 if no round\"},{\"name\":\"shell_size\",\"type\":\"int\",\"info\":\"size of the shell being poured\"},{\"name\":\"position\",\"type\":\"int\",\"info\":\"position  the shell was picked up from with 1 being the far left shell\"},{\"name\":\"correct\",\"type\":\"boolean\",\"info\":\"was this the correct shell size?\"},{\"name\":\"holes\",\"type\":\"array->object\",\"info\":\"list of the states of the watering holes after the event occurs\\r\\n[{“size”: size of first watering hole, “filled”: is the first watering hole filled?}, {“size”: size of second watering hole, “filled”: is the second watering hole filled?}, etc.]\"},{\"name\":\"coordinates\",\"type\":\"object\",\"info\":\"dictionary: \\r\\n    {\\\"x\\\":integer, \\\"y\\\":integer, \\\"stage_width\\\":integer, \\\"stage_height\\\":integer}\\r\\n    the game screen coordinates of the mouse click\"},{\"name\":\"hole_position\",\"type\":\"int\",\"info\":\"position of the hole in which water was dropped\"},{\"name\":\"event_count\",\"type\":\"int\",\"info\":\"session event counter\"},{\"name\":\"event_code\",\"type\":\"int\",\"info\":\"event class identifier\"}]\n",
      "\n",
      "[{\"name\":\"game_time\",\"type\":\"int\",\"info\":\"millisecond count since start of game\"},{\"name\":\"round\",\"type\":\"int\",\"info\":\"number of the current round when the event takes place or 0 if no round\"},{\"name\":\"source\",\"type\":\"string\",\"info\":\"\\\"scale\\\" or \\\"resources\\\" where the bowl was picked up from\"},{\"name\":\"has_toy\",\"type\":\"boolean\",\"info\":\"does this bowl have the toy in it?\"},{\"name\":\"bowl_id\",\"type\":\"int\",\"info\":\"identifier of the bowl being placed. corresponds with starting position in resource area\"},{\"name\":\"scale_contents\",\"type\":\"array->string\",\"info\":\"list of items on the scale\"},{\"name\":\"position\",\"type\":\"int\",\"info\":\"position where the bowl was picked up from with 1 being the left side of the scale or resource area\"},{\"name\":\"coordinates\",\"type\":\"object\",\"info\":\"dictionary: \\n    {\\\"x\\\":integer, \\\"y\\\":integer, \\\"stage_width\\\":integer, \\\"stage_height\\\":integer}\\n    the game screen coordinates of the mouse click\"},{\"name\":\"event_count\",\"type\":\"int\",\"info\":\"session event counter\"},{\"name\":\"event_code\",\"type\":\"int\",\"info\":\"event class identifier\"}]\n",
      "\n",
      "[{\"name\":\"game_time\",\"type\":\"int\",\"info\":\"millisecond count since start of game\"},{\"name\":\"round\",\"type\":\"int\",\"info\":\"number of the current round when the event takes place or 0 if no round\"},{\"name\":\"level\",\"type\":\"int\",\"info\":\"number of the current level when the event takes place or 0 if no level\"},{\"name\":\"round_target\",\"type\":\"object\",\"info\":\"“size”: size of item needed to pass round with 1 being the smallest size\\r\\n“type”: type of item being selected e.g. tub, water, soap\\r\\n“animal”: the animal the player is selecting an item for\"},{\"name\":\"options\",\"type\":\"array->int\",\"info\":\"list of the sizes of the items from left to right\"},{\"name\":\"animals\",\"type\":\"array->string\",\"info\":\"list of animals from left to right (pig, cow, sheep, etc)\"},{\"name\":\"event_count\",\"type\":\"int\",\"info\":\"session event counter\"},{\"name\":\"event_code\",\"type\":\"int\",\"info\":\"event class identifier\"}]\n",
      "\n",
      "[{\"name\":\"game_time\",\"type\":\"int\",\"info\":\"millisecond count since start of game\"},{\"name\":\"coordinates\",\"type\":\"object\",\"info\":\"the game screen coordinates of the mouse click\\ndictionary:\\n\\n{“x”:integer, “y”:integer, “stage_width”:integer, “stage_height”:integer}\"},{\"name\":\"event_count\",\"type\":\"int\",\"info\":\"session event counter\"},{\"name\":\"event_code\",\"type\":\"int\",\"info\":\"event class identifier\"}]\n",
      "\n",
      "[{\"name\":\"game_time\",\"type\":\"int\",\"info\":\"millisecond count since start of game\"},{\"name\":\"crystal_id\",\"type\":\"string\",\"info\":\"unique identifier of the crystal\"},{\"name\":\"weight\",\"type\":\"int\",\"info\":\"weight of the crystal that was picked up\"},{\"name\":\"coordinates\",\"type\":\"object\",\"info\":\"the game screen coordinates of the placement\\ndictionary:\\n{“x”: integer, “y”: integer, “stage_width”: integer, “stage_height”: integer}\"},{\"name\":\"source\",\"type\":\"string\",\"info\":\"“left”, “right”, or “resources” – location the crystal was picked up from\"},{\"name\":\"crystals\",\"type\":\"array->object\",\"info\":\"list of the properties of the crystals in the resource area from left to right after the event occurs:\\n{“id”: string – unique identifier of the crystal, “weight”: integer – weight of the crystal}\"},{\"name\":\"event_count\",\"type\":\"int\",\"info\":\"session event counter\"},{\"name\":\"event_code\",\"type\":\"int\",\"info\":\"event class identifier\"}]\n",
      "\n",
      "[{\"name\":\"game_time\",\"type\":\"int\",\"info\":\"millisecond count since start of game\"},{\"name\":\"round\",\"type\":\"int\",\"info\":\"number of the current round when the event takes place or 0 if no round\"},{\"name\":\"media_type\",\"type\":\"string\",\"info\":\"the type of media that has just played:\\r\\n'audio' || 'animation' || 'other'\"},{\"name\":\"duration\",\"type\":\"int\",\"info\":\"the duration of the media playback in milliseconds\"},{\"name\":\"description\",\"type\":\"string\",\"info\":\"the text or description of the instruction\"},{\"name\":\"identifier\",\"type\":\"string\",\"info\":\"a unique identifier for this piece of instruction\"},{\"name\":\"event_count\",\"type\":\"int\",\"info\":\"session event counter\"},{\"name\":\"event_code\",\"type\":\"int\",\"info\":\"event class identifier\"}]\n",
      "\n",
      "[{\"name\":\"game_time\",\"type\":\"int\",\"info\":\"millisecond count since start of game\"},{\"name\":\"stage_number\",\"type\":\"int\",\"info\":\"Stage of the game just started (1 or 2)\"},{\"name\":\"event_count\",\"type\":\"int\",\"info\":\"session event counter\"},{\"name\":\"event_code\",\"type\":\"int\",\"info\":\"event class identifier\"}]\n",
      "\n",
      "[{\"name\":\"game_time\",\"type\":\"int\",\"info\":\"millisecond count since start of game\"},{\"name\":\"round\",\"type\":\"int\",\"info\":\"number of the current round when the event takes place or 0 if no round\"},{\"name\":\"dinosaur\",\"type\":\"string\",\"info\":\"name of dinosaur clicked\"},{\"name\":\"dinosaur_weight\",\"type\":\"int\",\"info\":\"the weight of the dinosaur\"},{\"name\":\"correct\",\"type\":\"boolean\",\"info\":\"does clicking selecting this dinosaur bring us closer to the target weight?\"},{\"name\":\"coordinates\",\"type\":\"object\",\"info\":\"dictionary: \\n    {\\\"x\\\":integer, \\\"y\\\":integer, \\\"stage_width\\\":integer, \\\"stage_height\\\":integer}\\n    the game screen coordinates of the mouse click\"},{\"name\":\"mode\",\"type\":\"string\",\"info\":\"“add” or “remove” is the dinosaur being added or removed from the team\"},{\"name\":\"weight\",\"type\":\"int\",\"info\":\"total weight of the team after this event occurs\"},{\"name\":\"dinosaur_count\",\"type\":\"int\",\"info\":\"the number of dinosaurs on the team after this event occurs\"},{\"name\":\"event_count\",\"type\":\"int\",\"info\":\"session event counter\"},{\"name\":\"event_code\",\"type\":\"int\",\"info\":\"event class identifier\"}]\n",
      "\n",
      "[{\"name\":\"game_time\",\"type\":\"int\",\"info\":\"millisecond count since start of game\"},{\"name\":\"round\",\"type\":\"int\",\"info\":\"number of the current round when the event takes place or 0 if no round\"},{\"name\":\"session_duration\",\"type\":\"int\",\"info\":\"millisecond count since start of game\"},{\"name\":\"exit_type\",\"type\":\"string\",\"info\":\"\\\"closed container\\\", \\\"game ended\\\", or browser exit/navigation\"},{\"name\":\"event_count\",\"type\":\"int\",\"info\":\"session event counter\"},{\"name\":\"event_code\",\"type\":\"int\",\"info\":\"event class identifier\"}]\n",
      "\n",
      "[{\"name\":\"game_time\",\"type\":\"int\",\"info\":\"millisecond count since start of game\"},{\"name\":\"round\",\"type\":\"int\",\"info\":\"number of the current round when the event takes place or 0 if no round\"},{\"name\":\"bottle\",\"type\":\"object\",\"info\":\"properties of the jar that was poured:\\n{“amount”: int – amount of sand in the jar, “color”: string – color of sand in the jar}\"},{\"name\":\"bottles\",\"type\":\"array->object\",\"info\":\"list of bottles of sand in the resource area from left to right:\\n[{“color”: string – color of sand in first bottle, “amount”: int – amount of sand in the first bottle}, {“color”: string – color of sand in second bottle, “amount”: int – amount of sand in the second bottle}, etc.]\"},{\"name\":\"duration\",\"type\":\"int\",\"info\":\"the duration of the drag in milliseconds\"},{\"name\":\"coordinates\",\"type\":\"object\",\"info\":\"the game screen coordinates of the placement\\ndictionary:\\n{“x”: integer, “y”: integer, “stage_width”: integer, “stage_height”: integer}\"},{\"name\":\"jar\",\"type\":\"array->object\",\"info\":\"list of layers of sand added to the jar from bottom to top:\\n[{“color”: string – color of sand in first layer, “amount”: int – amount of sand in the first layer}, {“color”: string – color of sand in second layer, “amount”: int – amount of sand in the second layer}, etc.]\"},{\"name\":\"source\",\"type\":\"int\",\"info\":\"location the bottle was picked up from with 1 being far left\"},{\"name\":\"jar_filled\",\"type\":\"boolean\",\"info\":\"is the jar now filled?\"},{\"name\":\"event_count\",\"type\":\"int\",\"info\":\"session event counter\"},{\"name\":\"event_code\",\"type\":\"int\",\"info\":\"event class identifier\"}]\n",
      "\n",
      "[{\"name\":\"game_time\",\"type\":\"int\",\"info\":\"millisecond count since start of game\"},{\"name\":\"stumps\",\"type\":\"array->int\",\"info\":\"list of mushroom heights placed on the stumps from left to right\"},{\"name\":\"mode\",\"type\":\"string\",\"info\":\"“arranging” or “picking” – current mode when the help button is clicked\"},{\"name\":\"event_count\",\"type\":\"int\",\"info\":\"session event counter\"},{\"name\":\"event_code\",\"type\":\"int\",\"info\":\"event class identifier\"}]\n",
      "\n",
      "[{\"name\":\"game_time\",\"type\":\"int\",\"info\":\"millisecond count since start of game\"},{\"name\":\"round\",\"type\":\"int\",\"info\":\"the number of the round that is about to start\"},{\"name\":\"total_bowls\",\"type\":\"int\",\"info\":\"number of bowls of snacks in this round\"},{\"name\":\"bowls\",\"type\":\"array->object\",\"info\":\"properties of the bowls in this round\\r\\narray of dictionaries:\\r\\n[{‘id’: string - identifier of first bowl, ‘position’: {'x': integer, 'y': integer, 'stage_width': integer, 'stage_height': integer} - position of first bowl, ‘toy’: boolean - does this bowl have the toy in it?}, {‘id’: string - identifier of second bowl, ‘position’: {'x': integer, 'y': integer, 'stage_width': integer, 'stage_height': integer} - position of second bowl, ‘toy’: boolean - does this bowl have the toy in it?}, ...]\\r\\n\"},{\"name\":\"event_count\",\"type\":\"int\",\"info\":\"session event counter\"},{\"name\":\"event_code\",\"type\":\"int\",\"info\":\"event class identifier\"}]\n",
      "\n",
      "[{\"name\":\"game_time\",\"type\":\"int\",\"info\":\"millisecond count since start of game\"},{\"name\":\"round\",\"type\":\"int\",\"info\":\"number of the current round when the event takes place or 0 if no round\"},{\"name\":\"distance\",\"type\":\"int\",\"info\":\"the distance the dinosaur will fly\"},{\"name\":\"event_count\",\"type\":\"int\",\"info\":\"session event counter\"},{\"name\":\"event_code\",\"type\":\"int\",\"info\":\"event class identifier\"}]\n",
      "\n",
      "[{\"name\":\"game_time\",\"type\":\"int\",\"info\":\"millisecond count since start of game\"},{\"name\":\"rocket\",\"type\":\"int\",\"info\":\"number of the rocket with 1 being the far left rocket\"},{\"name\":\"coordinates\",\"type\":\"object\",\"info\":\"the game screen coordinates of the placement\\ndictionary:\\n{“x”: integer, “y”: integer, “stage_width”: integer, “stage_height”: integer}\"},{\"name\":\"event_count\",\"type\":\"int\",\"info\":\"session event counter\"},{\"name\":\"event_code\",\"type\":\"int\",\"info\":\"event class identifier\"}]\n",
      "\n",
      "[{\"name\":\"game_time\",\"type\":\"int\",\"info\":\"millisecond count since start of game\"},{\"name\":\"round\",\"type\":\"int\",\"info\":\"number of the current round when the event takes place or 0 if no round\"},{\"name\":\"weights\",\"type\":\"int\",\"info\":\"the new number of weights on the scale after the weight is placed\"},{\"name\":\"target_weight\",\"type\":\"int\",\"info\":\"the weight of the object\"},{\"name\":\"correct\",\"type\":\"boolean\",\"info\":\"did placing this weight bring us closer to the target weight?\"},{\"name\":\"table_weights\",\"type\":\"int\",\"info\":\"number of weights on the table\"},{\"name\":\"duration\",\"type\":\"int\",\"info\":\"time in milliseconds that the weight was \\\"held\\\"\"},{\"name\":\"event_count\",\"type\":\"int\",\"info\":\"session event counter\"},{\"name\":\"event_code\",\"type\":\"int\",\"info\":\"event class identifier\"}]\n",
      "\n",
      "[{\"name\":\"game_time\",\"type\":\"int\",\"info\":\"millisecond count since start of game\"},{\"name\":\"round\",\"type\":\"int\",\"info\":\"number of the current round when the event takes place or 0 if no round\"},{\"name\":\"duration\",\"type\":\"int\",\"info\":\"the duration of the round in milliseconds. Time between start round and beat round.\"},{\"name\":\"misses\",\"type\":\"int\",\"info\":\"the number of times a dinosaur was placed on an incorrect house\"},{\"name\":\"event_count\",\"type\":\"int\",\"info\":\"session event counter\"},{\"name\":\"event_code\",\"type\":\"int\",\"info\":\"event class identifier\"}]\n",
      "\n",
      "[{\"name\":\"game_time\",\"type\":\"int\",\"info\":\"millisecond count since start of game\"},{\"name\":\"round\",\"type\":\"int\",\"info\":\"the number of the round that is about to start\"},{\"name\":\"target_containers\",\"type\":\"int\",\"info\":\"the correct number of containers to select this round\"},{\"name\":\"resources\",\"type\":\"array->int\",\"info\":\"list of container options available to the player this round\"},{\"name\":\"container_type\",\"type\":\"string\",\"info\":\"type of container used this round\"},{\"name\":\"event_count\",\"type\":\"int\",\"info\":\"session event counter\"},{\"name\":\"event_code\",\"type\":\"int\",\"info\":\"event class identifier\"}]\n",
      "\n",
      "[{\"name\":\"game_time\",\"type\":\"int\",\"info\":\"millisecond count since start of game\"},{\"name\":\"round\",\"type\":\"int\",\"info\":\"the number of the round that has just been completed\"},{\"name\":\"duration\",\"type\":\"int\",\"info\":\"the duration of the round in milliseconds. Time between start round and beat round.\"},{\"name\":\"misses\",\"type\":\"int\",\"info\":\"the number of incorrect choices made during the round\"},{\"name\":\"toy_earned\",\"type\":\"string\",\"info\":\"bath toy earned from beating the round\"},{\"name\":\"event_count\",\"type\":\"int\",\"info\":\"session event counter\"},{\"name\":\"event_code\",\"type\":\"int\",\"info\":\"event class identifier\"}]\n",
      "\n",
      "[{\"name\":\"game_time\",\"type\":\"int\",\"info\":\"millisecond count since start of game\"},{\"name\":\"correct\",\"type\":\"boolean\",\"info\":\"are the hats correctly placed on the birds?\"},{\"name\":\"hats\",\"type\":\"array->int\",\"info\":\"list of hats placed on the birds from left to right\"},{\"name\":\"event_count\",\"type\":\"int\",\"info\":\"session event counter\"},{\"name\":\"event_code\",\"type\":\"int\",\"info\":\"event class identifier\"}]\n",
      "\n",
      "[{\"name\":\"game_time\",\"type\":\"int\",\"info\":\"millisecond count since start of game\"},{\"name\":\"buckets\",\"type\":\"array->int\",\"info\":\"list of buckets available in the resource area with 0 for missing buckets\"},{\"name\":\"correct\",\"type\":\"boolean\",\"info\":\"are the buckets correctly placed under the cauldrons?\"},{\"name\":\"buckets_placed\",\"type\":\"array->int\",\"info\":\"list of buckets placed under cauldrons from left to right with 0 for missing buckets\"},{\"name\":\"duration\",\"type\":\"int\",\"info\":\"time since start of game\"},{\"name\":\"event_count\",\"type\":\"int\",\"info\":\"session event counter\"},{\"name\":\"event_code\",\"type\":\"int\",\"info\":\"event class identifier\"}]\n",
      "\n",
      "[{\"name\":\"game_time\",\"type\":\"int\",\"info\":\"millisecond count since start of game\"},{\"name\":\"round\",\"type\":\"int\",\"info\":\"number of the current round when the event takes place or 0 if no round\"},{\"name\":\"level\",\"type\":\"int\",\"info\":\"number of the current level when the event takes place or 0 if no level\"},{\"name\":\"size\",\"type\":\"int\",\"info\":\"size of the item clicked with 1 being the smallest size\"},{\"name\":\"item_type\",\"type\":\"string\",\"info\":\"type of the item clicked e.g. tub, water, soap\"},{\"name\":\"position\",\"type\":\"int\",\"info\":\"the position of the item on the shelf with 1 being the left-most item\"},{\"name\":\"animal\",\"type\":\"string\",\"info\":\"the animal the player is selecting an item for\"},{\"name\":\"correct\",\"type\":\"boolean\",\"info\":\"was this the correct type of size item?\"},{\"name\":\"coordinates\",\"type\":\"object\",\"info\":\"dictionary: \\r\\n    {\\\"x\\\":integer, \\\"y\\\":integer, \\\"stage_width\\\":integer, \\\"stage_height\\\":integer}\\r\\n    the game screen coordinates of the mouse click\"},{\"name\":\"event_count\",\"type\":\"int\",\"info\":\"session event counter\"},{\"name\":\"event_code\",\"type\":\"int\",\"info\":\"event class identifier\"}]\n",
      "\n",
      "[{\"name\":\"game_time\",\"type\":\"int\",\"info\":\"millisecond count since start of game\"},{\"name\":\"nest\",\"type\":\"int\",\"info\":\"the number of the nest where the egg will land (numbered from left to right)\"},{\"name\":\"layout\",\"type\":\"object\",\"info\":\"dictionary describing the state of the gates after the event occurs with row 1 being the top row of gates and empty used to indicate no gate in that position:\\r\\n{“row1”:[“empty”, “left”, “empty”],\\r\\n“row2”:[“right”, “left”, “middle”], etc.}\"},{\"name\":\"coordinates\",\"type\":\"object\",\"info\":\"the game screen coordinates of the click\\r\\ndictionary:\\r\\n{“x”:integer, “y”:integer, “stage_width”:integer, “stage_height”:integer}\"},{\"name\":\"event_count\",\"type\":\"int\",\"info\":\"session event counter\"},{\"name\":\"event_code\",\"type\":\"int\",\"info\":\"event class identifier\"}]\n",
      "\n",
      "[{\"name\":\"game_time\",\"type\":\"int\",\"info\":\"millisecond count since start of game\"},{\"name\":\"round\",\"type\":\"int\",\"info\":\"number of the current round when the event takes place or 0 if no round\"},{\"name\":\"movie_id\",\"type\":\"string\",\"info\":\"the identifier for the movie that was playing\"},{\"name\":\"duration\",\"type\":\"int\",\"info\":\"the duration of the media playback in milliseconds\"},{\"name\":\"description\",\"type\":\"string\",\"info\":\"the text or description of the instruction\"},{\"name\":\"time_played\",\"type\":\"int\",\"info\":\"the time the media has been playing milliseconds when the button is pressed\"},{\"name\":\"event_count\",\"type\":\"int\",\"info\":\"session event counter\"},{\"name\":\"event_code\",\"type\":\"int\",\"info\":\"event class identifier\"}]\n",
      "\n",
      "[{\"name\":\"game_time\",\"type\":\"int\",\"info\":\"millisecond count since start of game\"},{\"name\":\"flower\",\"type\":\"int\",\"info\":\"number of the flower that was picked up from left to right\"},{\"name\":\"flowers\",\"type\":\"array->int\",\"info\":\"list of the height of each flower from left to right\"},{\"name\":\"coordinates\",\"type\":\"object\",\"info\":\"the game screen coordinates of the placement\\r\\ndictionary:\\r\\n{“x”: integer, “y”: integer, “stage_width”: integer, “stage_height”: integer}\"},{\"name\":\"duration\",\"type\":\"int\",\"info\":\"the duration of the drag in milliseconds\"},{\"name\":\"event_count\",\"type\":\"int\",\"info\":\"session event counter\"},{\"name\":\"event_code\",\"type\":\"int\",\"info\":\"event class identifier\"}]\n",
      "\n",
      "[{\"name\":\"game_time\",\"type\":\"int\",\"info\":\"millisecond count since start of game\"},{\"name\":\"round\",\"type\":\"int\",\"info\":\"number of the current round when the event takes place or 0 if no round\"},{\"name\":\"target_distances\",\"type\":\"array->int\",\"info\":\"list of target distances\"},{\"name\":\"round_prompt\",\"type\":\"string\",\"info\":\"the prompt given to the player e.g. “between cliff and tree”, etc.\"},{\"name\":\"event_count\",\"type\":\"int\",\"info\":\"session event counter\"},{\"name\":\"event_code\",\"type\":\"int\",\"info\":\"event class identifier\"}]\n",
      "\n",
      "[{\"name\":\"game_time\",\"type\":\"int\",\"info\":\"millisecond count since start of game\"},{\"name\":\"round\",\"type\":\"int\",\"info\":\"the number of the round that is about to start\"},{\"name\":\"target_distances\",\"type\":\"array->int\",\"info\":\"list of target distances\"},{\"name\":\"round_prompt\",\"type\":\"string\",\"info\":\"the prompt given to the player e.g. between cliff and tree\\\" etc.\\\"\"},{\"name\":\"event_count\",\"type\":\"int\",\"info\":\"session event counter\"},{\"name\":\"event_code\",\"type\":\"int\",\"info\":\"event class identifier\"}]\n",
      "\n",
      "[{\"name\":\"game_time\",\"type\":\"int\",\"info\":\"millisecond count since start of game\"},{\"name\":\"round\",\"type\":\"int\",\"info\":\"number of the current round when the event takes place or 0 if no round\"},{\"name\":\"group\",\"type\":\"int\",\"info\":\"count of objects in the group\"},{\"name\":\"position\",\"type\":\"int\",\"info\":\"the position of the group with 1 being the top group\"},{\"name\":\"coordinates\",\"type\":\"object\",\"info\":\"dictionary: \\n    {\\\"x\\\":integer, \\\"y\\\":integer, \\\"stage_width\\\":integer, \\\"stage_height\\\":integer}\\n    the game screen coordinates of the mouse click\"},{\"name\":\"correct\",\"type\":\"boolean\",\"info\":\"was this the correct group of objects?\"},{\"name\":\"object_type\",\"type\":\"string\",\"info\":\"the type of the object used this round\"},{\"name\":\"event_count\",\"type\":\"int\",\"info\":\"session event counter\"},{\"name\":\"event_code\",\"type\":\"int\",\"info\":\"event class identifier\"}]\n",
      "\n",
      "[{\"name\":\"game_time\",\"type\":\"int\",\"info\":\"millisecond count since start of game\"},{\"name\":\"coordinates\",\"type\":\"object\",\"info\":\"the game screen coordinates of the placement\\ndictionary:\\n{“x”: integer, “y”: integer, “stage_width”: integer, “stage_height”: integer}\"},{\"name\":\"event_count\",\"type\":\"int\",\"info\":\"session event counter\"},{\"name\":\"event_code\",\"type\":\"int\",\"info\":\"event class identifier\"}]\n",
      "\n",
      "[{\"name\":\"game_time\",\"type\":\"int\",\"info\":\"millisecond count since start of game\"},{\"name\":\"growth\",\"type\":\"array->int\",\"info\":\"list of the changes in height for each flower from left to right\"},{\"name\":\"flowers\",\"type\":\"array->int\",\"info\":\"list of the height of each flower from left to right\"},{\"name\":\"duration\",\"type\":\"int\",\"info\":\"the duration of the drag in milliseconds\"},{\"name\":\"event_count\",\"type\":\"int\",\"info\":\"session event counter\"},{\"name\":\"event_code\",\"type\":\"int\",\"info\":\"event class identifier\"}]\n",
      "\n",
      "[{\"name\":\"game_time\",\"type\":\"int\",\"info\":\"millisecond count since start of game\"},{\"name\":\"layout\",\"type\":\"object\",\"info\":\"dictionary describing the state of the gates after the event occurs with row 1 being the top row of gates and empty used to indicate no gate in that position:\\n{“row1”:[“empty”, “left”, “empty”],\\n“row2”:[“right”, “left”, “middle”], etc.}\"},{\"name\":\"event_count\",\"type\":\"int\",\"info\":\"session event counter\"},{\"name\":\"event_code\",\"type\":\"int\",\"info\":\"event class identifier\"}]\n",
      "\n",
      "[{\"name\":\"game_time\",\"type\":\"int\",\"info\":\"millisecond count since start of game\"},{\"name\":\"flowers\",\"type\":\"array->int\",\"info\":\"list of the height of each flower from left to right\"},{\"name\":\"flower\",\"type\":\"int\",\"info\":\"number of the flower that was picked up or 0 if the watering can was picked up\"},{\"name\":\"coordinates\",\"type\":\"object\",\"info\":\"the game screen coordinates of the mouse click\\ndictionary:\\n{“x”: integer, “y”: integer, “stage_width”: integer, “stage_height”: integer}\"},{\"name\":\"event_count\",\"type\":\"int\",\"info\":\"session event counter\"},{\"name\":\"event_code\",\"type\":\"int\",\"info\":\"event class identifier\"}]\n",
      "\n",
      "[{\"name\":\"game_time\",\"type\":\"int\",\"info\":\"millisecond count since start of game\"},{\"name\":\"hat\",\"type\":\"int\",\"info\":\"number on the hat or 0 if a caterpillar is being dragged\"},{\"name\":\"caterpillar\",\"type\":\"string\",\"info\":\"“left”, “middle”, or “right” – position of the caterpillar or empty string if a hat is being dragged\"},{\"name\":\"coordinates\",\"type\":\"object\",\"info\":\"the game screen coordinates of the placement\\r\\ndictionary:\\r\\n{“x”: integer, “y”: integer, “stage_width”: integer, “stage_height”: integer}\"},{\"name\":\"hats\",\"type\":\"array->int\",\"info\":\"list of hats placed on the birds from left to right after the placement occurs\"},{\"name\":\"caterpillars\",\"type\":\"array->int\",\"info\":\"list of the heights of the caterpillars before this event occurs\"},{\"name\":\"source\",\"type\":\"string\",\"info\":\"“left”, “middle”, “right”, or “resources” – location the hat was dragged from\"},{\"name\":\"event_count\",\"type\":\"int\",\"info\":\"session event counter\"},{\"name\":\"event_code\",\"type\":\"int\",\"info\":\"event class identifier\"}]\n",
      "\n",
      "[{\"name\":\"game_time\",\"type\":\"int\",\"info\":\"millisecond count since start of game\"},{\"name\":\"pillars\",\"type\":\"array->int\",\"info\":\"list of chest weights placed on the pillars from left to right\"},{\"name\":\"left\",\"type\":\"int\",\"info\":\"weight of chest on the left side of the scale after the event occurs\"},{\"name\":\"right\",\"type\":\"int\",\"info\":\"weight of chest on the right side of the scale after the event occurs\"},{\"name\":\"chests\",\"type\":\"array->int\",\"info\":\"list of the weights of the chests in the resource area from left to right\"},{\"name\":\"event_count\",\"type\":\"int\",\"info\":\"session event counter\"},{\"name\":\"event_code\",\"type\":\"int\",\"info\":\"event class identifier\"}]\n",
      "\n",
      "[{\"name\":\"game_time\",\"type\":\"int\",\"info\":\"millisecond count since start of game\"},{\"name\":\"round\",\"type\":\"int\",\"info\":\"number of the current round when the event takes place or 0 if no round\"},{\"name\":\"dwell_time\",\"type\":\"int\",\"info\":\"how long the mouse cursor dwells over the object when the player dwells for longer than 1sec\"},{\"name\":\"object\",\"type\":\"string\",\"info\":\"name or description of the piece of art the player is clicking on or \\\"none\\\"\"},{\"name\":\"event_count\",\"type\":\"int\",\"info\":\"session event counter\"},{\"name\":\"event_code\",\"type\":\"int\",\"info\":\"event class identifier\"}]\n",
      "\n",
      "[{\"name\":\"game_time\",\"type\":\"int\",\"info\":\"millisecond count since start of game\"},{\"name\":\"round\",\"type\":\"int\",\"info\":\"number of the current round when the event takes place or 0 if no round\"},{\"name\":\"has_toy\",\"type\":\"boolean\",\"info\":\"does this bowl have the toy in it?\"},{\"name\":\"bowl_id\",\"type\":\"int\",\"info\":\"identifier of the bowl being placed. corresponds with starting position in resource area\"},{\"name\":\"scale_contents\",\"type\":\"array->string\",\"info\":\"list of items on the scale after this event occurs\"},{\"name\":\"position\",\"type\":\"int\",\"info\":\"position where the bowl was picked up from with 1 being the left side of the scale or resource area\"},{\"name\":\"coordinates\",\"type\":\"object\",\"info\":\"dictionary: \\n    {\\\"x\\\":integer, \\\"y\\\":integer, \\\"stage_width\\\":integer, \\\"stage_height\\\":integer}\\n    the game screen coordinates of the mouse click\"},{\"name\":\"event_count\",\"type\":\"int\",\"info\":\"session event counter\"},{\"name\":\"event_code\",\"type\":\"int\",\"info\":\"event class identifier\"}]\n",
      "\n",
      "[{\"name\":\"game_time\",\"type\":\"int\",\"info\":\"millisecond count since start of game\"},{\"name\":\"height\",\"type\":\"int\",\"info\":\"height of the mushroom that was placed\"},{\"name\":\"coordinates\",\"type\":\"object\",\"info\":\"the game screen coordinates of the placement\\n{“x”: integer, “y”: integer, “stage_width”: integer, “stage_height”: integer}\"},{\"name\":\"stumps\",\"type\":\"array->int\",\"info\":\"list of mushroom heights placed on the stumps from left to right after the placement occurs\"},{\"name\":\"source\",\"type\":\"string\",\"info\":\"“left”, “middle”, or “right” - location the mushroom was dragged from\"},{\"name\":\"duration\",\"type\":\"int\",\"info\":\"the duration of the drag in milliseconds\"},{\"name\":\"event_count\",\"type\":\"int\",\"info\":\"session event counter\"},{\"name\":\"event_code\",\"type\":\"int\",\"info\":\"event class identifier\"}]\n",
      "\n",
      "[{\"name\":\"game_time\",\"type\":\"int\",\"info\":\"millisecond count since start of game\"},{\"name\":\"round\",\"type\":\"int\",\"info\":\"the number of the round that has just been completed\"},{\"name\":\"duration\",\"type\":\"int\",\"info\":\"the duration of the round in milliseconds. Time between start round and beat round.\"},{\"name\":\"misses\",\"type\":\"int\",\"info\":\"count of times the green check was clicked without having the correct number of weights during the round\"},{\"name\":\"event_count\",\"type\":\"int\",\"info\":\"session event counter\"},{\"name\":\"event_code\",\"type\":\"int\",\"info\":\"event class identifier\"}]\n",
      "\n",
      "[{\"name\":\"game_time\",\"type\":\"int\",\"info\":\"millisecond count since start of game\"},{\"name\":\"weight\",\"type\":\"int\",\"info\":\"weight of the chest that was placed\"},{\"name\":\"destination\",\"type\":\"string\",\"info\":\"“left” or “right” – side of the scale where the chest was placed\"},{\"name\":\"pillars\",\"type\":\"array->int\",\"info\":\"list of chest weights placed on the pillars from left to right after the placement occurs\"},{\"name\":\"left\",\"type\":\"int\",\"info\":\"weight of chest on the left side of the scale after the event occurs\"},{\"name\":\"right\",\"type\":\"int\",\"info\":\"weight of chest on the right side of the scale after the event occurs\"},{\"name\":\"coordinates\",\"type\":\"object\",\"info\":\"the game screen coordinates of the placement\\ndictionary:\\n{“x”: integer, “y”: integer, “stage_width”: integer, “stage_height”: integer}\"},{\"name\":\"source\",\"type\":\"string\",\"info\":\"“left”, “right”, “heavy”, “heavier”, “heaviest”, “resources” – where the chest was picked up from\"},{\"name\":\"duration\",\"type\":\"int\",\"info\":\"the duration of the drag in milliseconds\"},{\"name\":\"event_count\",\"type\":\"int\",\"info\":\"session event counter\"},{\"name\":\"event_code\",\"type\":\"int\",\"info\":\"event class identifier\"}]\n",
      "\n",
      "[{\"name\":\"game_time\",\"type\":\"int\",\"info\":\"millisecond count since start of game\"},{\"name\":\"session_duration\",\"type\":\"int\",\"info\":\"millisecond count since start of game\"},{\"name\":\"exit_type\",\"type\":\"string\",\"info\":\"Reason for exit e.g. 'left_site', 'completed' etc.\"},{\"name\":\"event_count\",\"type\":\"int\",\"info\":\"session event counter\"},{\"name\":\"event_code\",\"type\":\"int\",\"info\":\"event class identifier\"}]\n",
      "\n",
      "[{\"name\":\"game_time\",\"type\":\"int\",\"info\":\"millisecond count since start of game\"},{\"name\":\"round\",\"type\":\"int\",\"info\":\"number of the current round when the event takes place or 0 if no round\"},{\"name\":\"weight\",\"type\":\"int\",\"info\":\"weight of the food that was picked\"},{\"name\":\"source\",\"type\":\"string\",\"info\":\"scale or resources -  place the object was picked up\"},{\"name\":\"resources\",\"type\":\"array->int\",\"info\":\"list of the weights of food options in the resource area after the event occurs\"},{\"name\":\"coordinates\",\"type\":\"object\",\"info\":\"dictionary: \\n    {\\\"x\\\":integer, \\\"y\\\":integer, \\\"stage_width\\\":integer, \\\"stage_height\\\":integer}\\n    the game screen coordinates of the mouse click\"},{\"name\":\"event_count\",\"type\":\"int\",\"info\":\"session event counter\"},{\"name\":\"event_code\",\"type\":\"int\",\"info\":\"event class identifier\"}]\n",
      "\n",
      "[{\"name\":\"game_time\",\"type\":\"int\",\"info\":\"millisecond count since start of game\"},{\"name\":\"bucket\",\"type\":\"int\",\"info\":\"capacity of the bucket that was dragged\"},{\"name\":\"source\",\"type\":\"string\",\"info\":\"“left”, “middle”, “right”, or “resources” – location the bucket was dragged from\"},{\"name\":\"coordinates\",\"type\":\"object\",\"info\":\"the game screen coordinates of the placement\\ndictionary:\\n{“x”: integer, “y”: integer, “stage_width”: integer, “stage_height”: integer}\"},{\"name\":\"duration\",\"type\":\"int\",\"info\":\"the duration of the drag in milliseconds\"},{\"name\":\"event_count\",\"type\":\"int\",\"info\":\"session event counter\"},{\"name\":\"event_code\",\"type\":\"int\",\"info\":\"event class identifier\"}]\n",
      "\n",
      "[{\"name\":\"game_time\",\"type\":\"int\",\"info\":\"millisecond count since start of game\"},{\"name\":\"round\",\"type\":\"int\",\"info\":\"number of the current round when the event takes place or 0 if no round\"},{\"name\":\"level\",\"type\":\"int\",\"info\":\"number of the current level when the event takes place or 0 if no level\"},{\"name\":\"coordinates\",\"type\":\"object\",\"info\":\"dictionary: \\r\\n    {\\\"x\\\":integer, \\\"y\\\":integer, \\\"stage_width\\\":integer, \\\"stage_height\\\":integer}\\r\\n    the game screen coordinates of the mouse click\"},{\"name\":\"event_count\",\"type\":\"int\",\"info\":\"session event counter\"},{\"name\":\"event_code\",\"type\":\"int\",\"info\":\"event class identifier\"}]\n",
      "\n",
      "[{\"name\":\"game_time\",\"type\":\"int\",\"info\":\"millisecond count since start of game\"},{\"name\":\"round\",\"type\":\"int\",\"info\":\"number of the current round when the event takes place or 0 if no round\"},{\"name\":\"shell_size\",\"type\":\"int\",\"info\":\"size of the shell being filled\"},{\"name\":\"event_count\",\"type\":\"int\",\"info\":\"session event counter\"},{\"name\":\"event_code\",\"type\":\"int\",\"info\":\"event class identifier\"}]\n",
      "\n",
      "[{\"name\":\"game_time\",\"type\":\"int\",\"info\":\"millisecond count since start of game\"},{\"name\":\"duration\",\"type\":\"int\",\"info\":\"the duration of the round in milliseconds. Time between start round and beat round.\"},{\"name\":\"misses\",\"type\":\"int\",\"info\":\"the number of times the done button was pressed with the hats incorrectly placed\"},{\"name\":\"stage_number\",\"type\":\"int\",\"info\":\"which stage the player just completed (1 or 2)\"},{\"name\":\"event_count\",\"type\":\"int\",\"info\":\"session event counter\"},{\"name\":\"event_code\",\"type\":\"int\",\"info\":\"event class identifier\"}]\n",
      "\n",
      "[{\"name\":\"game_time\",\"type\":\"int\",\"info\":\"millisecond count since start of game\"},{\"name\":\"buglength\",\"type\":\"int\",\"info\":\"length of the bug that was dragged\"},{\"name\":\"bug\",\"type\":\"string\",\"info\":\"bug that is being dragged\"},{\"name\":\"duration\",\"type\":\"int\",\"info\":\"the duration of the drag in milliseconds\"},{\"name\":\"coordinates\",\"type\":\"object\",\"info\":\"the game screen coordinates of the placement\\r\\ndictionary:\\r\\n{“x”: integer, “y”: integer, “stage_width”: integer, “stage_height”: integer}\"},{\"name\":\"event_count\",\"type\":\"int\",\"info\":\"session event counter\"},{\"name\":\"event_code\",\"type\":\"int\",\"info\":\"event class identifier\"}]\n",
      "\n",
      "[{\"name\":\"event_count\",\"type\":\"int\",\"info\":\"session event counter\"},{\"name\":\"event_code\",\"type\":\"int\",\"info\":\"event class identifier\"}]\n",
      "\n",
      "[{\"name\":\"game_time\",\"type\":\"int\",\"info\":\"millisecond count since start of game\"},{\"name\":\"round\",\"type\":\"int\",\"info\":\"number of the current round when the event takes place or 0 if no round\"},{\"name\":\"object\",\"type\":\"string\",\"info\":\"name of the object clicked\"},{\"name\":\"coordinates\",\"type\":\"object\",\"info\":\"dictionary: \\n    {\\\"x\\\":integer, \\\"y\\\":integer, \\\"stage_width\\\":integer, \\\"stage_height\\\":integer}\\n    the game screen coordinates of the mouse click\"},{\"name\":\"event_count\",\"type\":\"int\",\"info\":\"session event counter\"},{\"name\":\"event_code\",\"type\":\"int\",\"info\":\"event class identifier\"}]\n",
      "\n",
      "[{\"name\":\"game_time\",\"type\":\"int\",\"info\":\"millisecond count since start of game\"},{\"name\":\"round\",\"type\":\"int\",\"info\":\"number of the current round when the event takes place or 0 if no round\"},{\"name\":\"bottle\",\"type\":\"object\",\"info\":\"properties of the jar that was picked up:\\n{“amount”: int – amount of sand in the jar, “color”: string – color of sand in the jar}\"},{\"name\":\"bottles\",\"type\":\"array->object\",\"info\":\"list of bottles of sand in the resource area from left to right:\\n[{“color”: string – color of sand in first bottle, “amount”: int – amount of sand in the first bottle}, {“color”: string – color of sand in second bottle, “amount”: int – amount of sand in the second bottle}, etc.]\"},{\"name\":\"coordinates\",\"type\":\"object\",\"info\":\"the game screen coordinates of the placement\\ndictionary:\\n{“x”: integer, “y”: integer, “stage_width”: integer, “stage_height”: integer}\"},{\"name\":\"source\",\"type\":\"int\",\"info\":\"location the bottle was picked up from with 1 being far left\"},{\"name\":\"event_count\",\"type\":\"int\",\"info\":\"session event counter\"},{\"name\":\"event_code\",\"type\":\"int\",\"info\":\"event class identifier\"}]\n",
      "\n",
      "[{\"name\":\"game_time\",\"type\":\"int\",\"info\":\"millisecond count since start of game\"},{\"name\":\"round\",\"type\":\"int\",\"info\":\"number of the current round when the event takes place or 0 if no round\"},{\"name\":\"weight\",\"type\":\"int\",\"info\":\"total weight of the team after\"},{\"name\":\"dinosaur_count\",\"type\":\"int\",\"info\":\"the number of dinosaurs on the team\"},{\"name\":\"target_weight\",\"type\":\"int\",\"info\":\"the total weight of dinosaurs needed\"},{\"name\":\"event_count\",\"type\":\"int\",\"info\":\"session event counter\"},{\"name\":\"event_code\",\"type\":\"int\",\"info\":\"event class identifier\"}]\n",
      "\n",
      "[{\"name\":\"game_time\",\"type\":\"int\",\"info\":\"millisecond count since start of game\"},{\"name\":\"round\",\"type\":\"int\",\"info\":\"number of the current round when the event takes place or 0 if no round\"},{\"name\":\"scale_weights\",\"type\":\"int\",\"info\":\"the new number of weights on the scale after the weight is placed\"},{\"name\":\"target_weight\",\"type\":\"int\",\"info\":\"the weight of the object\"},{\"name\":\"correct\",\"type\":\"boolean\",\"info\":\"did placing this weight bring us closer to the target weight?\"},{\"name\":\"table_weights\",\"type\":\"int\",\"info\":\"number of weights on the table\"},{\"name\":\"duration\",\"type\":\"int\",\"info\":\"time in milliseconds that the weight was \\\"held\\\"\"},{\"name\":\"event_count\",\"type\":\"int\",\"info\":\"session event counter\"},{\"name\":\"event_code\",\"type\":\"int\",\"info\":\"event class identifier\"}]\n",
      "\n",
      "[{\"name\":\"game_time\",\"type\":\"int\",\"info\":\"millisecond count since start of game\"},{\"name\":\"water_level\",\"type\":\"int\",\"info\":\"the amount of water in the pool after the event occurs\"},{\"name\":\"event_count\",\"type\":\"int\",\"info\":\"session event counter\"},{\"name\":\"event_code\",\"type\":\"int\",\"info\":\"event class identifier\"}]\n",
      "\n",
      "[{\"name\":\"game_time\",\"type\":\"int\",\"info\":\"millisecond count since start of game\"},{\"name\":\"bug\",\"type\":\"string\",\"info\":\"name of the bug being dragged or “none” if the tape measure is being dragged\"},{\"name\":\"source\",\"type\":\"string\",\"info\":\"“tape” or “resources”\"},{\"name\":\"coordinates\",\"type\":\"object\",\"info\":\"the game screen coordinates of the placement\\ndictionary:\\n{“x”: integer, “y”: integer, “stage_width”: integer, “stage_height”: integer}\"},{\"name\":\"event_count\",\"type\":\"int\",\"info\":\"session event counter\"},{\"name\":\"event_code\",\"type\":\"int\",\"info\":\"event class identifier\"}]\n",
      "\n",
      "[{\"name\":\"game_time\",\"type\":\"int\",\"info\":\"millisecond count since start of game\"},{\"name\":\"round\",\"type\":\"int\",\"info\":\"number of the current round when the event takes place or 0 if no round\"},{\"name\":\"duration\",\"type\":\"int\",\"info\":\"the duration of the tub filling section in milliseconds. Time between start filling and finish filling events.\"},{\"name\":\"event_count\",\"type\":\"int\",\"info\":\"session event counter\"},{\"name\":\"event_code\",\"type\":\"int\",\"info\":\"event class identifier\"}]\n",
      "\n",
      "[{\"name\":\"game_time\",\"type\":\"int\",\"info\":\"millisecond count since start of game\"},{\"name\":\"cloud\",\"type\":\"string\",\"info\":\"“left”, “middle”, or “right” cloud\"},{\"name\":\"cloud_size\",\"type\":\"int\",\"info\":\"size of the filled cloud (should correspond with water_level values)\"},{\"name\":\"water_level\",\"type\":\"int\",\"info\":\"the amount of water in the pool when the event occurs\"},{\"name\":\"event_count\",\"type\":\"int\",\"info\":\"session event counter\"},{\"name\":\"event_code\",\"type\":\"int\",\"info\":\"event class identifier\"}]\n",
      "\n",
      "[{\"name\":\"game_time\",\"type\":\"int\",\"info\":\"millisecond count since start of game\"},{\"name\":\"cloud\",\"type\":\"string\",\"info\":\"“left”, “middle”, or “right” cloud\"},{\"name\":\"cloud_size\",\"type\":\"int\",\"info\":\"size of the filled cloud (should correspond with water_level values)\"},{\"name\":\"water_level\",\"type\":\"int\",\"info\":\"the amount of water in the pool after the water from the cloud is added to the pool\"},{\"name\":\"coordinates\",\"type\":\"object\",\"info\":\"the game screen coordinates where the click or drag occurred\\ndictionary:\\n{“x”: integer, “y”: integer, “stage_width”: integer, “stage_height”: integer}\"},{\"name\":\"filled\",\"type\":\"boolean\",\"info\":\"is the pool now filled with the water from this cloud?\"},{\"name\":\"event_count\",\"type\":\"int\",\"info\":\"session event counter\"},{\"name\":\"event_code\",\"type\":\"int\",\"info\":\"event class identifier\"}]\n",
      "\n",
      "[{\"name\":\"game_time\",\"type\":\"int\",\"info\":\"millisecond count since start of game\"},{\"name\":\"height\",\"type\":\"int\",\"info\":\"height of the mushroom that was placed\"},{\"name\":\"coordinates\",\"type\":\"object\",\"info\":\"the game screen coordinates of the placement\\n{“x”: integer, “y”: integer, “stage_width”: integer, “stage_height”: integer}\"},{\"name\":\"event_count\",\"type\":\"int\",\"info\":\"session event counter\"},{\"name\":\"event_code\",\"type\":\"int\",\"info\":\"event class identifier\"}]\n",
      "\n",
      "[{\"name\":\"game_time\",\"type\":\"int\",\"info\":\"millisecond count since start of game\"},{\"name\":\"round\",\"type\":\"int\",\"info\":\"number of the current round when the event takes place or 0 if no round\"},{\"name\":\"resources\",\"type\":\"array->int\",\"info\":\"list of the weights of food options in the resource area\"},{\"name\":\"scale_contents\",\"type\":\"array->int\",\"info\":\"list of weights of food on the scale\"},{\"name\":\"event_count\",\"type\":\"int\",\"info\":\"session event counter\"},{\"name\":\"event_code\",\"type\":\"int\",\"info\":\"event class identifier\"}]\n",
      "\n",
      "[{\"name\":\"game_time\",\"type\":\"int\",\"info\":\"millisecond count since start of game\"},{\"name\":\"round\",\"type\":\"int\",\"info\":\"the number of the round that is about to start\"},{\"name\":\"target_weight\",\"type\":\"int\",\"info\":\"weight of the object\"},{\"name\":\"table_weights\",\"type\":\"int\",\"info\":\"number of weights on the table\"},{\"name\":\"starting_weights\",\"type\":\"int\",\"info\":\"number of weights on the balance at start\"},{\"name\":\"event_count\",\"type\":\"int\",\"info\":\"session event counter\"},{\"name\":\"event_code\",\"type\":\"int\",\"info\":\"event class identifier\"}]\n",
      "\n",
      "[{\"name\":\"game_time\",\"type\":\"int\",\"info\":\"millisecond count since start of game\"},{\"name\":\"round\",\"type\":\"int\",\"info\":\"number of the current round when the event takes place or 0 if no round\"},{\"name\":\"session_duration\",\"type\":\"int\",\"info\":\"millisecond count since start of game\"},{\"name\":\"exit_type\",\"type\":\"string\",\"info\":\"“closed container”, “game ended”, or browser exit/navigation\"},{\"name\":\"event_count\",\"type\":\"int\",\"info\":\"session event counter\"},{\"name\":\"event_code\",\"type\":\"int\",\"info\":\"event class identifier\"}]\n",
      "\n",
      "[{\"name\":\"game_time\",\"type\":\"int\",\"info\":\"millisecond count since start of game\"},{\"name\":\"round\",\"type\":\"int\",\"info\":\"the number of the round that is about to start\"},{\"name\":\"target_weight\",\"type\":\"int\",\"info\":\"the total weight of dinosaurs needed\"},{\"name\":\"event_count\",\"type\":\"int\",\"info\":\"session event counter\"},{\"name\":\"event_code\",\"type\":\"int\",\"info\":\"event class identifier\"}]\n",
      "\n",
      "[{\"name\":\"game_time\",\"type\":\"int\",\"info\":\"millisecond count since start of game\"},{\"name\":\"duration\",\"type\":\"int\",\"info\":\"the duration of the picking in milliseconds. Time between start picking and finish picking.\"},{\"name\":\"event_count\",\"type\":\"int\",\"info\":\"session event counter\"},{\"name\":\"event_code\",\"type\":\"int\",\"info\":\"event class identifier\"}]\n",
      "\n",
      "[{\"name\":\"game_time\",\"type\":\"int\",\"info\":\"millisecond count since start of game\"},{\"name\":\"round\",\"type\":\"int\",\"info\":\"number of the current round when the event takes place or 0 if no round\"},{\"name\":\"level\",\"type\":\"int\",\"info\":\"number of the current level when the event takes place or 0 if no level\"},{\"name\":\"version\",\"type\":\"string\",\"info\":\"identifier of the current version of the game being played\"},{\"name\":\"event_count\",\"type\":\"int\",\"info\":\"session event counter\"},{\"name\":\"event_code\",\"type\":\"int\",\"info\":\"event class identifier\"}]\n",
      "\n",
      "[{\"name\":\"game_time\",\"type\":\"int\",\"info\":\"millisecond count since start of game\"},{\"name\":\"tape_length\",\"type\":\"int\",\"info\":\"length the tape measure is currently dragged to\"},{\"name\":\"bug\",\"type\":\"string\",\"info\":\"name of the bug at the tape measure or “none”\"},{\"name\":\"bug_length\",\"type\":\"int\",\"info\":\"length of the bug being measured or 0 if no bug\"},{\"name\":\"event_count\",\"type\":\"int\",\"info\":\"session event counter\"},{\"name\":\"event_code\",\"type\":\"int\",\"info\":\"event class identifier\"}]\n",
      "\n",
      "[{\"name\":\"game_time\",\"type\":\"int\",\"info\":\"millisecond count since start of game\"},{\"name\":\"duration\",\"type\":\"int\",\"info\":\"the duration of the round in milliseconds. Time between start round and beat round.\"},{\"name\":\"misses\",\"type\":\"int\",\"info\":\"the number of times the done button was pressed with the chests in the wrong location\"},{\"name\":\"event_count\",\"type\":\"int\",\"info\":\"session event counter\"},{\"name\":\"event_code\",\"type\":\"int\",\"info\":\"event class identifier\"}]\n",
      "\n",
      "[{\"name\":\"game_time\",\"type\":\"int\",\"info\":\"millisecond count since start of game\"},{\"name\":\"round\",\"type\":\"int\",\"info\":\"number of the current round when the event takes place or 0 if no round\"},{\"name\":\"level\",\"type\":\"int\",\"info\":\"number of the current level when the event takes place or 0 if no level\"},{\"name\":\"coordinates\",\"type\":\"object\",\"info\":\"the game screen coordinates of the click\\r\\ndictionary:\\r\\n{“x”: integer, “y”: integer, “stage_width”: integer, “stage_height”: integer}\"},{\"name\":\"event_count\",\"type\":\"int\",\"info\":\"session event counter\"},{\"name\":\"event_code\",\"type\":\"int\",\"info\":\"event class identifier\"}]\n",
      "\n",
      "[{\"name\":\"game_time\",\"type\":\"int\",\"info\":\"millisecond count since start of game\"},{\"name\":\"round\",\"type\":\"int\",\"info\":\"number of the current round when the event takes place or 0 if no round\"},{\"name\":\"location\",\"type\":\"string\",\"info\":\"\\\"table\\\" or \\\"balance\\\" the location the weight was picked up from\"},{\"name\":\"scale_weights\",\"type\":\"int\",\"info\":\"number of weights on the scale after the weight is picked up\"},{\"name\":\"table_weights\",\"type\":\"int\",\"info\":\"number of weights on the table after the weight is picked up\"},{\"name\":\"event_count\",\"type\":\"int\",\"info\":\"session event counter\"},{\"name\":\"event_code\",\"type\":\"int\",\"info\":\"event class identifier\"}]\n",
      "\n",
      "[{\"name\":\"game_time\",\"type\":\"int\",\"info\":\"millisecond count since start of game\"},{\"name\":\"round\",\"type\":\"int\",\"info\":\"number of the current round when the event takes place or 0 if no round\"},{\"name\":\"target_water_level\",\"type\":\"int\",\"info\":\"level the water must reach to pass the round\"},{\"name\":\"water_level\",\"type\":\"int\",\"info\":\"the current level of the water\"},{\"name\":\"event_count\",\"type\":\"int\",\"info\":\"session event counter\"},{\"name\":\"event_code\",\"type\":\"int\",\"info\":\"event class identifier\"}]\n",
      "\n"
     ]
    }
   ],
   "source": [
    "for i in sample_specs['args'].unique().tolist():\n",
    "    print(i+'\\n')"
   ]
  },
  {
   "cell_type": "code",
   "execution_count": null,
   "metadata": {},
   "outputs": [],
   "source": []
  }
 ],
 "metadata": {
  "kernelspec": {
   "display_name": "Python 3",
   "language": "python",
   "name": "python3"
  },
  "language_info": {
   "codemirror_mode": {
    "name": "ipython",
    "version": 3
   },
   "file_extension": ".py",
   "mimetype": "text/x-python",
   "name": "python",
   "nbconvert_exporter": "python",
   "pygments_lexer": "ipython3",
   "version": "3.6.5"
  }
 },
 "nbformat": 4,
 "nbformat_minor": 2
}
