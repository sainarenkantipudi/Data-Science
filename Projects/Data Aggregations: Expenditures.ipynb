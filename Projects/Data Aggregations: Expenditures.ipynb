{
 "cells": [
  {
   "cell_type": "markdown",
   "metadata": {},
   "source": [
    "# Analyzing House Office Expenditure Data\n",
    "\n",
    "## Intro:\n",
    "\n",
    "Members of Congress and Congressional offices receive an annual budget to spend on staff, supplies, transportation, and other expenses. Each quarter, representatives report the recipients of their expenditures. ProPublica complies these reports into research-ready CSV files and publishes them [here](https://projects.propublica.org/represent/expenditures). We will study the detailed (not summary) data.\n",
    "\n",
    "Note: There is an updated version of the 2015Q2 file in the zip archive; use this and discard the original. For convenience rename this file to \"2015Q2-house-disburse-detail.csv\". "
   ]
  },
  {
   "cell_type": "code",
   "execution_count": 2,
   "metadata": {},
   "outputs": [],
   "source": [
    "import pandas as pd\n",
    "import numpy as np"
   ]
  },
  {
   "cell_type": "code",
   "execution_count": 3,
   "metadata": {},
   "outputs": [],
   "source": [
    "#Generate file paths and store them in dict called paths\n",
    "paths={}\n",
    "for year in range(2010,2018):\n",
    "    for quarter in range(1,5):\n",
    "        key='{}Q{}'.format(year,quarter)\n",
    "        path='{}-house-disburse-detail.csv'.format(key)\n",
    "        paths[key]=path\n",
    "for key in ['2009Q3','2009Q4','2018Q1']:   \n",
    "    path='{}-house-disburse-detail.csv'.format(key)\n",
    "    paths[key]=path\n",
    "paths;"
   ]
  },
  {
   "cell_type": "code",
   "execution_count": 16,
   "metadata": {},
   "outputs": [
    {
     "name": "stdout",
     "output_type": "stream",
     "text": [
      "Total Memory Usage = 3.15GB\n"
     ]
    }
   ],
   "source": [
    "total_memory=0\n",
    "for path in paths.values():\n",
    "    df_memory=pd.read_csv(path,engine='python').memory_usage(deep=True).sum()\n",
    "    total_memory+=df_memory\n",
    "    \n",
    "print(\"Total Memory Usage = {:.2f}GB\".format(total_memory/1024**3))   \n",
    "        "
   ]
  },
  {
   "cell_type": "markdown",
   "metadata": {},
   "source": [
    "Let's investigate the data in more detail to see how we should handle memory usage in the following tasks."
   ]
  },
  {
   "cell_type": "code",
   "execution_count": 5,
   "metadata": {
    "scrolled": true
   },
   "outputs": [
    {
     "name": "stdout",
     "output_type": "stream",
     "text": [
      "<class 'pandas.core.frame.DataFrame'>\n",
      "RangeIndex: 112855 entries, 0 to 112854\n",
      "Data columns (total 15 columns):\n",
      "BIOGUIDE_ID      92390 non-null object\n",
      "OFFICE           112855 non-null object\n",
      "QUARTER          112855 non-null object\n",
      "CATEGORY         112855 non-null object\n",
      "DATE             100229 non-null object\n",
      "PAYEE            98342 non-null object\n",
      "START DATE       112855 non-null object\n",
      "END DATE         112855 non-null object\n",
      "PURPOSE          112855 non-null object\n",
      "AMOUNT           112855 non-null object\n",
      "YEAR             112855 non-null object\n",
      "TRANSCODE        100229 non-null object\n",
      "TRANSCODELONG    100229 non-null object\n",
      "RECORDID         100229 non-null object\n",
      "RECIP (orig.)    98342 non-null object\n",
      "dtypes: object(15)\n",
      "memory usage: 12.9+ MB\n"
     ]
    }
   ],
   "source": [
    "#View a sample of data\n",
    "sample=pd.read_csv(paths['2011Q2'],engine='python')\n",
    "sample.info()"
   ]
  },
  {
   "cell_type": "code",
   "execution_count": 7,
   "metadata": {},
   "outputs": [
    {
     "data": {
      "text/html": [
       "<div>\n",
       "<style scoped>\n",
       "    .dataframe tbody tr th:only-of-type {\n",
       "        vertical-align: middle;\n",
       "    }\n",
       "\n",
       "    .dataframe tbody tr th {\n",
       "        vertical-align: top;\n",
       "    }\n",
       "\n",
       "    .dataframe thead th {\n",
       "        text-align: right;\n",
       "    }\n",
       "</style>\n",
       "<table border=\"1\" class=\"dataframe\">\n",
       "  <thead>\n",
       "    <tr style=\"text-align: right;\">\n",
       "      <th></th>\n",
       "      <th>BIOGUIDE_ID</th>\n",
       "      <th>OFFICE</th>\n",
       "      <th>QUARTER</th>\n",
       "      <th>CATEGORY</th>\n",
       "      <th>DATE</th>\n",
       "      <th>PAYEE</th>\n",
       "      <th>START DATE</th>\n",
       "      <th>END DATE</th>\n",
       "      <th>PURPOSE</th>\n",
       "      <th>AMOUNT</th>\n",
       "      <th>YEAR</th>\n",
       "      <th>TRANSCODE</th>\n",
       "      <th>TRANSCODELONG</th>\n",
       "      <th>RECORDID</th>\n",
       "      <th>RECIP (orig.)</th>\n",
       "    </tr>\n",
       "  </thead>\n",
       "  <tbody>\n",
       "    <tr>\n",
       "      <th>0</th>\n",
       "      <td>NaN</td>\n",
       "      <td>OFFICE OF THE SPEAKER</td>\n",
       "      <td>2011Q2</td>\n",
       "      <td>PERSONNEL COMPENSATION</td>\n",
       "      <td>NaN</td>\n",
       "      <td>CASSIDY, ED</td>\n",
       "      <td>04/01/11</td>\n",
       "      <td>06/30/11</td>\n",
       "      <td>DIRECTOR OF HOUSE OPERATIONS</td>\n",
       "      <td>42,000.00</td>\n",
       "      <td>FISCAL YEAR 2011</td>\n",
       "      <td>NaN</td>\n",
       "      <td>NaN</td>\n",
       "      <td>NaN</td>\n",
       "      <td>CASSIDY, ED</td>\n",
       "    </tr>\n",
       "    <tr>\n",
       "      <th>1</th>\n",
       "      <td>NaN</td>\n",
       "      <td>OFFICE OF THE SPEAKER</td>\n",
       "      <td>2011Q2</td>\n",
       "      <td>PERSONNEL COMPENSATION</td>\n",
       "      <td>NaN</td>\n",
       "      <td>GREEN, JO-MARIE S</td>\n",
       "      <td>04/01/11</td>\n",
       "      <td>06/30/11</td>\n",
       "      <td>GEN COUNSEL &amp; CHIEF OF LEG OPS</td>\n",
       "      <td>42,999.99</td>\n",
       "      <td>FISCAL YEAR 2011</td>\n",
       "      <td>NaN</td>\n",
       "      <td>NaN</td>\n",
       "      <td>NaN</td>\n",
       "      <td>GREEN, JO-MARIE S</td>\n",
       "    </tr>\n",
       "    <tr>\n",
       "      <th>2</th>\n",
       "      <td>NaN</td>\n",
       "      <td>OFFICE OF THE SPEAKER</td>\n",
       "      <td>2011Q2</td>\n",
       "      <td>PERSONNEL COMPENSATION</td>\n",
       "      <td>NaN</td>\n",
       "      <td>JACKSON,BARRY S</td>\n",
       "      <td>04/01/11</td>\n",
       "      <td>06/30/11</td>\n",
       "      <td>CHIEF OF STAFF</td>\n",
       "      <td>43,125.00</td>\n",
       "      <td>FISCAL YEAR 2011</td>\n",
       "      <td>NaN</td>\n",
       "      <td>NaN</td>\n",
       "      <td>NaN</td>\n",
       "      <td>JACKSON,BARRY S</td>\n",
       "    </tr>\n",
       "    <tr>\n",
       "      <th>3</th>\n",
       "      <td>NaN</td>\n",
       "      <td>OFFICE OF THE SPEAKER</td>\n",
       "      <td>2011Q2</td>\n",
       "      <td>PERSONNEL COMPENSATION</td>\n",
       "      <td>NaN</td>\n",
       "      <td>PIERSON, JAY</td>\n",
       "      <td>04/01/11</td>\n",
       "      <td>06/30/11</td>\n",
       "      <td>FLOOR ASSISTANT</td>\n",
       "      <td>42,099.99</td>\n",
       "      <td>FISCAL YEAR 2011</td>\n",
       "      <td>NaN</td>\n",
       "      <td>NaN</td>\n",
       "      <td>NaN</td>\n",
       "      <td>PIERSON, JAY</td>\n",
       "    </tr>\n",
       "    <tr>\n",
       "      <th>4</th>\n",
       "      <td>NaN</td>\n",
       "      <td>OFFICE OF THE SPEAKER</td>\n",
       "      <td>2011Q2</td>\n",
       "      <td>PERSONNEL COMPENSATION</td>\n",
       "      <td>NaN</td>\n",
       "      <td>PORTER, EMILY S</td>\n",
       "      <td>04/01/11</td>\n",
       "      <td>06/30/11</td>\n",
       "      <td>ASST TO THE SPEAKER FOR POLICY</td>\n",
       "      <td>27,500.01</td>\n",
       "      <td>FISCAL YEAR 2011</td>\n",
       "      <td>NaN</td>\n",
       "      <td>NaN</td>\n",
       "      <td>NaN</td>\n",
       "      <td>PORTER, EMILY S</td>\n",
       "    </tr>\n",
       "  </tbody>\n",
       "</table>\n",
       "</div>"
      ],
      "text/plain": [
       "  BIOGUIDE_ID                 OFFICE QUARTER                CATEGORY DATE  \\\n",
       "0         NaN  OFFICE OF THE SPEAKER  2011Q2  PERSONNEL COMPENSATION  NaN   \n",
       "1         NaN  OFFICE OF THE SPEAKER  2011Q2  PERSONNEL COMPENSATION  NaN   \n",
       "2         NaN  OFFICE OF THE SPEAKER  2011Q2  PERSONNEL COMPENSATION  NaN   \n",
       "3         NaN  OFFICE OF THE SPEAKER  2011Q2  PERSONNEL COMPENSATION  NaN   \n",
       "4         NaN  OFFICE OF THE SPEAKER  2011Q2  PERSONNEL COMPENSATION  NaN   \n",
       "\n",
       "               PAYEE START DATE  END DATE                         PURPOSE  \\\n",
       "0        CASSIDY, ED   04/01/11  06/30/11    DIRECTOR OF HOUSE OPERATIONS   \n",
       "1  GREEN, JO-MARIE S   04/01/11  06/30/11  GEN COUNSEL & CHIEF OF LEG OPS   \n",
       "2    JACKSON,BARRY S   04/01/11  06/30/11                  CHIEF OF STAFF   \n",
       "3       PIERSON, JAY   04/01/11  06/30/11                 FLOOR ASSISTANT   \n",
       "4    PORTER, EMILY S   04/01/11  06/30/11  ASST TO THE SPEAKER FOR POLICY   \n",
       "\n",
       "      AMOUNT              YEAR TRANSCODE TRANSCODELONG RECORDID  \\\n",
       "0  42,000.00  FISCAL YEAR 2011       NaN           NaN      NaN   \n",
       "1  42,999.99  FISCAL YEAR 2011       NaN           NaN      NaN   \n",
       "2  43,125.00  FISCAL YEAR 2011       NaN           NaN      NaN   \n",
       "3  42,099.99  FISCAL YEAR 2011       NaN           NaN      NaN   \n",
       "4  27,500.01  FISCAL YEAR 2011       NaN           NaN      NaN   \n",
       "\n",
       "       RECIP (orig.)  \n",
       "0        CASSIDY, ED  \n",
       "1  GREEN, JO-MARIE S  \n",
       "2    JACKSON,BARRY S  \n",
       "3       PIERSON, JAY  \n",
       "4    PORTER, EMILY S  "
      ]
     },
     "execution_count": 7,
     "metadata": {},
     "output_type": "execute_result"
    }
   ],
   "source": [
    "sample.head()"
   ]
  },
  {
   "cell_type": "markdown",
   "metadata": {},
   "source": [
    "One can convince oneself that some columns are redundant since either their info is captured by other more informative columns or they don't contain any info at all.  "
   ]
  },
  {
   "cell_type": "code",
   "execution_count": 6,
   "metadata": {},
   "outputs": [],
   "source": [
    "sample.columns.tolist();"
   ]
  },
  {
   "cell_type": "markdown",
   "metadata": {},
   "source": [
    "### Columns:\n",
    "#### Informative:\n",
    "'BIOGUIDE_ID'<br>\n",
    "'OFFICE'<br>\n",
    "'CATEGORY'<br>\n",
    "'PAYEE'<br>\n",
    "'START DATE'<br>\n",
    "'END DATE'<br>\n",
    "'PURPOSE'<br>\n",
    "'AMOUNT'\n",
    "\n",
    "#### Redundant:\n",
    "'DATE<br>\n",
    "'QUARTER <br>\n",
    "'YEAR' <br>\n",
    "'TRANSCODE'<br>\n",
    "'TRANSCODELONG'<br>\n",
    "'RECORDID'<br>\n",
    "'RECIP (orig.)'\n"
   ]
  },
  {
   "cell_type": "markdown",
   "metadata": {},
   "source": [
    "## Useful Functions\n"
   ]
  },
  {
   "cell_type": "code",
   "execution_count": 9,
   "metadata": {},
   "outputs": [],
   "source": [
    "def amount_numeric_converter(df):\n",
    "    \"\"\"\n",
    "    Convert column \"AMOUNTS\" to numerical data\n",
    "    Input: a dataframe df\n",
    "    Return: the data frame column \"AMOUNTS\" converted to float\n",
    "    \"\"\"\n",
    "    if df.AMOUNT.dtype =='float64': pass\n",
    "    else: df.AMOUNT=df.AMOUNT.str.replace(',','').astype('float')\n",
    "        \n",
    "    return df.AMOUNT\n",
    "    "
   ]
  },
  {
   "cell_type": "code",
   "execution_count": 10,
   "metadata": {},
   "outputs": [],
   "source": [
    "def date_converter(df,date_col):\n",
    "    \"\"\"\n",
    "    Convert string dates to timestamps\n",
    "    Input: dataframe (df) and a list of date columns to be converted (data_col)\n",
    "    Return: df with timestamp-date columns\n",
    "    \"\"\"\n",
    "    for col in date_col:\n",
    "        df[col]=df[col].replace('   ',np.nan).fillna(method='ffill')\n",
    "        try:\n",
    "            df[col]=pd.to_datetime(df[col],format='%m/%d/%y')\n",
    "        except ValueError:\n",
    "            pass\n",
    "        #some files have dates in a different string format\n",
    "        try:\n",
    "            df[col]=pd.to_datetime(df[col],format='%m/%d/%Y')\n",
    "        except ValueError:\n",
    "            print(path)\n",
    "                 \n",
    "    return df\n",
    "    \n",
    "    "
   ]
  },
  {
   "cell_type": "markdown",
   "metadata": {},
   "source": [
    "### 1. What is the total of all the payments in the dataset?"
   ]
  },
  {
   "cell_type": "code",
   "execution_count": 17,
   "metadata": {},
   "outputs": [],
   "source": [
    "def total_payment():\n",
    "    total_payment=0\n",
    "    for path in paths.values():\n",
    "        df=pd.read_csv(path,engine='python',usecols=['AMOUNT'])\n",
    "        payment=amount_numeric_converter(df).sum()\n",
    "        total_payment += payment\n",
    "        \n",
    "    return total_payment\n"
   ]
  },
  {
   "cell_type": "code",
   "execution_count": 15,
   "metadata": {},
   "outputs": [
    {
     "name": "stdout",
     "output_type": "stream",
     "text": [
      "Total of all Payments = $13,660,703,793.31\n"
     ]
    }
   ],
   "source": [
    "print(\"Total of all Payments = ${:,.2f}\".format(total_payment()))   "
   ]
  },
  {
   "cell_type": "markdown",
   "metadata": {},
   "source": [
    "### 2. Define the 'COVERAGE PERIOD' for each payment as the difference (in days) between 'END DATE' and 'START DATE'. What is the standard deviation in 'COVERAGE PERIOD'? Consider only payments with strictly positive amounts."
   ]
  },
  {
   "cell_type": "code",
   "execution_count": 18,
   "metadata": {},
   "outputs": [],
   "source": [
    "def std_coverage_period():\n",
    "    cov_per_data=np.empty((0,))\n",
    "    for path in paths.values():\n",
    "        df=pd.read_csv(path,engine='python',usecols=['START DATE','END DATE','AMOUNT']) \n",
    "        df['AMOUNT']=amount_numeric_converter(df) \n",
    "        df=df[df['AMOUNT']>0].drop(['AMOUNT'],axis=1) #select only data with strictly positive amounts\n",
    "        df=date_converter(df,['START DATE','END DATE'])\n",
    "        df['COVERAGE_PERIOD']=(df.iloc[:,1]-df.iloc[:,0]).dt.days #compute time difference of End/Start dates\n",
    "        cov_per_data=np.append(cov_per_data, df.COVERAGE_PERIOD.get_values())  \n",
    "    return np.std(cov_per_data)\n",
    "    "
   ]
  },
  {
   "cell_type": "code",
   "execution_count": 19,
   "metadata": {},
   "outputs": [
    {
     "name": "stdout",
     "output_type": "stream",
     "text": [
      "STD of Coverage Period = 61.41 days\n"
     ]
    }
   ],
   "source": [
    "print(\"STD of Coverage Period = {:,.2f} days\".format(std_coverage_period()))"
   ]
  },
  {
   "cell_type": "markdown",
   "metadata": {},
   "source": [
    "### 3. What was the average annual expenditure with a 'START DATE' date between Jan 1, 2010 and Dec 31, 2016 (inclusive)? Consider only payments with strictly positive amounts."
   ]
  },
  {
   "cell_type": "code",
   "execution_count": 21,
   "metadata": {},
   "outputs": [],
   "source": [
    "def avg_annual_expenditure():\n",
    "    annual_expenditures=[]\n",
    "    for path in paths.values():\n",
    "        df=pd.read_csv(path,engine='python',usecols=['START DATE','AMOUNT']) \n",
    "        \n",
    "        df=date_converter(df,['START DATE'])\n",
    "        df['START_YEAR']=df['START DATE'].dt.year\n",
    "\n",
    "        #select only data from 2010-2016\n",
    "        df=df[df['START_YEAR']<2017].drop(['START DATE'],axis=1)\n",
    "        df=df[df['START_YEAR']>2009]\n",
    "\n",
    "        #select only data with strictly positive amounts\n",
    "        df['AMOUNT']=amount_numeric_converter(df) \n",
    "        df=df[df['AMOUNT']>0] \n",
    "        \n",
    "        #find net amount per year per dataframe\n",
    "        annual_expenditures.append(df.groupby('START_YEAR').sum())\n",
    "        \n",
    "        #compute net annual expenditures\n",
    "        net_annual_expenditures=pd.concat(annual_expenditures).groupby(level=0).sum()\n",
    "        \n",
    "        \n",
    "    return net_annual_expenditures.mean(axis=0)[0]\n",
    "\n"
   ]
  },
  {
   "cell_type": "code",
   "execution_count": 23,
   "metadata": {},
   "outputs": [
    {
     "name": "stdout",
     "output_type": "stream",
     "text": [
      "Avg Annual Expenditure (2010-2016) = $1,230,258,512.37\n"
     ]
    }
   ],
   "source": [
    "print(\"Avg Annual Expenditure (2010-2016) = ${:,.2f}\".format(avg_annual_expenditure()))   "
   ]
  },
  {
   "cell_type": "markdown",
   "metadata": {},
   "source": [
    "### 4. Find the 'OFFICE' with the highest total expenditures with a 'START DATE' in 2016. For this office, find the 'PURPOSE' that accounts for the highest total expenditures. What fraction of the total expenditures (all records, all offices) with a 'START DATE' in 2016 do these expenditures amount to?"
   ]
  },
  {
   "cell_type": "code",
   "execution_count": 33,
   "metadata": {},
   "outputs": [],
   "source": [
    "#Step1: Compute expenditures of ALL offices in 2016\n",
    "def office_expenditures():\n",
    "    offices_expenditures=[]\n",
    "    for path in paths.values():\n",
    "        df=pd.read_csv(path,engine='python',usecols=['START DATE','AMOUNT','OFFICE']) \n",
    "\n",
    "        #select only data from 2016\n",
    "        df=date_converter(df,['START DATE'])\n",
    "        df['START_YEAR']=df['START DATE'].dt.year\n",
    "        df=df[df['START_YEAR']==2016]\n",
    "\n",
    "        df['AMOUNT']=amount_numeric_converter(df) \n",
    "\n",
    "        offices_expenditures.append(df.groupby('OFFICE')['AMOUNT'].sum())\n",
    "    \n",
    "    return pd.concat(offices_expenditures).groupby(level=0).sum()\n",
    "\n",
    "office_expenditures=office_expenditures()"
   ]
  },
  {
   "cell_type": "code",
   "execution_count": 31,
   "metadata": {},
   "outputs": [
    {
     "name": "stdout",
     "output_type": "stream",
     "text": [
      "Office with max expenditures in 2016 = GOVERNMENT CONTRIBUTIONS\n",
      "Amount of corresponding office = $1,236,836,563.11\n"
     ]
    }
   ],
   "source": [
    "#Step2: Find office w/ max total expenditures in 2016\n",
    "print(\"Office with max expenditures in 2016 = {}\".format(office_expenditures.idxmax()))\n",
    "print(\"Amount of corresponding office = ${:,.2f}\".format(office_expenditures.sum(axis=0)))"
   ]
  },
  {
   "cell_type": "code",
   "execution_count": 39,
   "metadata": {},
   "outputs": [],
   "source": [
    "#Step3: Find purpose w/ max total expenditures for office w/ max expenditures\n",
    "def purpose_max_expenditures():\n",
    "    purpose_expenditures=[]\n",
    "    for path in paths.values():\n",
    "        df=pd.read_csv(path,engine='python',usecols=['START DATE','AMOUNT','OFFICE','PURPOSE']) \n",
    "\n",
    "        #Select only data for office = 'GOVERNMENT CONTRIBUTIONS'\n",
    "        df=df[df.OFFICE == 'GOVERNMENT CONTRIBUTIONS'].drop(['OFFICE'],axis=1)\n",
    "        \n",
    "        #select only data from 2016\n",
    "        df=date_converter(df,['START DATE'])\n",
    "        df['START_YEAR']=df['START DATE'].dt.year\n",
    "        df=df[df['START_YEAR']==2016]\n",
    "\n",
    "        df['AMOUNT']=amount_numeric_converter(df) \n",
    "\n",
    "        purpose_expenditures.append(df.groupby('PURPOSE')['AMOUNT'].sum())\n",
    "        \n",
    "        series_purp_exp=pd.concat(purpose_expenditures).groupby(level=0)\\\n",
    "                                                       .sum()\\\n",
    "                                                       .sort_values(ascending=False)\n",
    "    \n",
    "    return series_purp_exp.index[0],series_purp_exp[0] #return both name and amount of max_purpose\n",
    "\n",
    "purpose_max_expenditures=purpose_max_expenditures()"
   ]
  },
  {
   "cell_type": "code",
   "execution_count": 40,
   "metadata": {},
   "outputs": [
    {
     "name": "stdout",
     "output_type": "stream",
     "text": [
      "Purpose of max expenditures in 2016 = FERS\n",
      "Amount of corresponding purpose = $81,451,623.46\n"
     ]
    }
   ],
   "source": [
    "print(\"Purpose of max expenditures in 2016 = {}\".format(purpose_max_expenditures[0]))\n",
    "print(\"Amount of corresponding purpose = ${:,.2f}\".format(purpose_max_expenditures[1]))"
   ]
  },
  {
   "cell_type": "code",
   "execution_count": 41,
   "metadata": {},
   "outputs": [
    {
     "name": "stdout",
     "output_type": "stream",
     "text": [
      "Fraction of 'Max Purpose' of total expenditures = 0.06585479916213956\n"
     ]
    }
   ],
   "source": [
    "#Step 4: Compute fraction of total expenditure\n",
    "print(\"Fraction of 'Max Purpose' of total expenditures = {}\"\\\n",
    "      .format(purpose_max_expenditures[1]/(office_expenditures.sum(axis=0))))"
   ]
  },
  {
   "cell_type": "markdown",
   "metadata": {},
   "source": [
    "### 5. What was the highest average staff salary among all representatives in 2016? Assume staff sizes is equal to the number of unique payees in the 'PERSONNEL COMPENSATION' category for each representative."
   ]
  },
  {
   "cell_type": "code",
   "execution_count": 42,
   "metadata": {},
   "outputs": [],
   "source": [
    "#Step1: Compute a list of all staff salaries\n",
    "def staff_salaries():\n",
    "    list_staff_salaries=[]\n",
    "    for path in paths.values():\n",
    "        df=pd.read_csv(path,engine='python',usecols=['BIOGUIDE_ID','START DATE','AMOUNT','PAYEE','CATEGORY'])\n",
    "        \n",
    "        #filter data by category ('PERSONNEL COMPENSATION')\n",
    "        df=df[df.CATEGORY=='PERSONNEL COMPENSATION'].drop(['CATEGORY'],axis=1)\n",
    "        \n",
    "        #filter data by year (2016)\n",
    "        df=date_converter(df,['START DATE'])\n",
    "        df=df[df['START DATE'].dt.year==2016].drop(['START DATE'],axis=1)\n",
    "        \n",
    "        if df.empty: pass\n",
    "        else:\n",
    "            #drop NaN\n",
    "            df=df.dropna(subset=['BIOGUIDE_ID','PAYEE'])\n",
    "\n",
    "            #Compute payees's salaries from each rep, per df\n",
    "            df['AMOUNT']=amount_numeric_converter(df)\n",
    "            df=df.groupby(['BIOGUIDE_ID','PAYEE']).sum()\n",
    "\n",
    "            list_staff_salaries.append(df)\n",
    "    \n",
    "    return list_staff_salaries\n",
    "        \n",
    "       \n",
    "list_staff_salaries=staff_salaries()\n",
    "list_staff_salaries; "
   ]
  },
  {
   "cell_type": "code",
   "execution_count": 44,
   "metadata": {},
   "outputs": [],
   "source": [
    "#Step2: Find the highest average staff salary among all representatives in 2016\n",
    "def max_avg_staff_salary():\n",
    "    df_total=list_staff_salaries[0]\n",
    "    for i,df in enumerate(list_staff_salaries[1:]):\n",
    "        df.columns=['AMOUNT{}'.format(i+1)]\n",
    "        df_total=pd.merge(df_total,df,left_index=True,right_index=True,how='outer')\n",
    "    series_salaries=df_total.sum(axis=1).groupby(level=0).mean()\n",
    "    \n",
    "    return series_salaries.max()\n"
   ]
  },
  {
   "cell_type": "code",
   "execution_count": 49,
   "metadata": {},
   "outputs": [
    {
     "name": "stdout",
     "output_type": "stream",
     "text": [
      "Highest avg staff salary in 2016 = $34,755.23\n"
     ]
    }
   ],
   "source": [
    "print(\"Highest avg staff salary in 2016 = ${:,.2f}\".format(max_avg_staff_salary()))"
   ]
  }
 ],
 "metadata": {
  "kernelspec": {
   "display_name": "Python 3",
   "language": "python",
   "name": "python3"
  },
  "language_info": {
   "codemirror_mode": {
    "name": "ipython",
    "version": 3
   },
   "file_extension": ".py",
   "mimetype": "text/x-python",
   "name": "python",
   "nbconvert_exporter": "python",
   "pygments_lexer": "ipython3",
   "version": "3.6.5"
  }
 },
 "nbformat": 4,
 "nbformat_minor": 2
}
